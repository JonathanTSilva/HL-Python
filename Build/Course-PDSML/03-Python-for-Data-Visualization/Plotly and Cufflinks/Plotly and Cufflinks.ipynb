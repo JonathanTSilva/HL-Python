{
 "cells": [
  {
   "cell_type": "markdown",
   "metadata": {},
   "source": [
    "___\n",
    "\n",
    "<a href='http://www.pieriandata.com'> <img src='../Pierian_Data_Logo.png' /></a>\n",
    "___\n",
    "# Plotly and Cufflinks"
   ]
  },
  {
   "cell_type": "markdown",
   "metadata": {},
   "source": [
    "Plotly is a library that allows you to create interactive plots that you can use in dashboards or websites (you can save them as html files or static images).\n",
    "\n",
    "## Installation\n",
    "\n",
    "In order for this all to work, you'll need to install plotly and cufflinks to call plots directly off of a pandas dataframe. These libraries are not currently available through **conda** but are available through **pip**. Install the libraries at your command line/terminal using:\n",
    "\n",
    "    pip install plotly\n",
    "    pip install cufflinks\n",
    "\n",
    "** NOTE: Make sure you only have one installation of Python on your computer when you do this, otherwise the installation may not work. **\n",
    "\n",
    "## Imports and Set-up"
   ]
  },
  {
   "cell_type": "code",
   "execution_count": 1,
   "metadata": {
    "collapsed": true
   },
   "outputs": [],
   "source": [
    "import pandas as pd\n",
    "import numpy as np\n",
    "%matplotlib inline"
   ]
  },
  {
   "cell_type": "code",
   "execution_count": 3,
   "metadata": {
    "collapsed": false
   },
   "outputs": [
    {
     "name": "stdout",
     "output_type": "stream",
     "text": [
      "5.10.0\n"
     ]
    }
   ],
   "source": [
    "from plotly import __version__\n",
    "from plotly.offline import download_plotlyjs, init_notebook_mode, plot, iplot\n",
    "\n",
    "print(__version__) # requires version >= 1.9.0"
   ]
  },
  {
   "cell_type": "code",
   "execution_count": 4,
   "metadata": {
    "collapsed": true
   },
   "outputs": [],
   "source": [
    "import cufflinks as cf"
   ]
  },
  {
   "cell_type": "code",
   "execution_count": 5,
   "metadata": {
    "collapsed": false
   },
   "outputs": [
    {
     "data": {
      "text/html": [
       "        <script type=\"text/javascript\">\n",
       "        window.PlotlyConfig = {MathJaxConfig: 'local'};\n",
       "        if (window.MathJax && window.MathJax.Hub && window.MathJax.Hub.Config) {window.MathJax.Hub.Config({SVG: {font: \"STIX-Web\"}});}\n",
       "        if (typeof require !== 'undefined') {\n",
       "        require.undef(\"plotly\");\n",
       "        requirejs.config({\n",
       "            paths: {\n",
       "                'plotly': ['https://cdn.plot.ly/plotly-2.14.0.min']\n",
       "            }\n",
       "        });\n",
       "        require(['plotly'], function(Plotly) {\n",
       "            window._Plotly = Plotly;\n",
       "        });\n",
       "        }\n",
       "        </script>\n",
       "        "
      ]
     },
     "metadata": {},
     "output_type": "display_data"
    }
   ],
   "source": [
    "# For Notebooks\n",
    "init_notebook_mode(connected=True)"
   ]
  },
  {
   "cell_type": "code",
   "execution_count": 6,
   "metadata": {
    "collapsed": false
   },
   "outputs": [
    {
     "data": {
      "text/html": [
       "        <script type=\"text/javascript\">\n",
       "        window.PlotlyConfig = {MathJaxConfig: 'local'};\n",
       "        if (window.MathJax && window.MathJax.Hub && window.MathJax.Hub.Config) {window.MathJax.Hub.Config({SVG: {font: \"STIX-Web\"}});}\n",
       "        if (typeof require !== 'undefined') {\n",
       "        require.undef(\"plotly\");\n",
       "        requirejs.config({\n",
       "            paths: {\n",
       "                'plotly': ['https://cdn.plot.ly/plotly-2.14.0.min']\n",
       "            }\n",
       "        });\n",
       "        require(['plotly'], function(Plotly) {\n",
       "            window._Plotly = Plotly;\n",
       "        });\n",
       "        }\n",
       "        </script>\n",
       "        "
      ]
     },
     "metadata": {},
     "output_type": "display_data"
    }
   ],
   "source": [
    "# For offline use\n",
    "cf.go_offline()"
   ]
  },
  {
   "cell_type": "markdown",
   "metadata": {},
   "source": [
    "### Fake Data"
   ]
  },
  {
   "cell_type": "code",
   "execution_count": 7,
   "metadata": {
    "collapsed": false
   },
   "outputs": [],
   "source": [
    "df = pd.DataFrame(np.random.randn(100,4),columns='A B C D'.split())"
   ]
  },
  {
   "cell_type": "code",
   "execution_count": 8,
   "metadata": {
    "collapsed": false
   },
   "outputs": [
    {
     "data": {
      "text/html": [
       "<div>\n",
       "<style scoped>\n",
       "    .dataframe tbody tr th:only-of-type {\n",
       "        vertical-align: middle;\n",
       "    }\n",
       "\n",
       "    .dataframe tbody tr th {\n",
       "        vertical-align: top;\n",
       "    }\n",
       "\n",
       "    .dataframe thead th {\n",
       "        text-align: right;\n",
       "    }\n",
       "</style>\n",
       "<table border=\"1\" class=\"dataframe\">\n",
       "  <thead>\n",
       "    <tr style=\"text-align: right;\">\n",
       "      <th></th>\n",
       "      <th>A</th>\n",
       "      <th>B</th>\n",
       "      <th>C</th>\n",
       "      <th>D</th>\n",
       "    </tr>\n",
       "  </thead>\n",
       "  <tbody>\n",
       "    <tr>\n",
       "      <th>0</th>\n",
       "      <td>1.180886</td>\n",
       "      <td>1.886977</td>\n",
       "      <td>0.111886</td>\n",
       "      <td>0.168562</td>\n",
       "    </tr>\n",
       "    <tr>\n",
       "      <th>1</th>\n",
       "      <td>-1.009315</td>\n",
       "      <td>-0.151789</td>\n",
       "      <td>1.738432</td>\n",
       "      <td>-0.760971</td>\n",
       "    </tr>\n",
       "    <tr>\n",
       "      <th>2</th>\n",
       "      <td>2.101027</td>\n",
       "      <td>0.492737</td>\n",
       "      <td>0.741178</td>\n",
       "      <td>-0.146629</td>\n",
       "    </tr>\n",
       "    <tr>\n",
       "      <th>3</th>\n",
       "      <td>-1.276111</td>\n",
       "      <td>-1.323250</td>\n",
       "      <td>-1.134095</td>\n",
       "      <td>-0.178951</td>\n",
       "    </tr>\n",
       "    <tr>\n",
       "      <th>4</th>\n",
       "      <td>2.135598</td>\n",
       "      <td>-1.309608</td>\n",
       "      <td>-0.139784</td>\n",
       "      <td>0.710354</td>\n",
       "    </tr>\n",
       "  </tbody>\n",
       "</table>\n",
       "</div>"
      ],
      "text/plain": [
       "          A         B         C         D\n",
       "0  1.180886  1.886977  0.111886  0.168562\n",
       "1 -1.009315 -0.151789  1.738432 -0.760971\n",
       "2  2.101027  0.492737  0.741178 -0.146629\n",
       "3 -1.276111 -1.323250 -1.134095 -0.178951\n",
       "4  2.135598 -1.309608 -0.139784  0.710354"
      ]
     },
     "execution_count": 8,
     "metadata": {},
     "output_type": "execute_result"
    }
   ],
   "source": [
    "df.head()"
   ]
  },
  {
   "cell_type": "code",
   "execution_count": 9,
   "metadata": {
    "collapsed": true
   },
   "outputs": [],
   "source": [
    "df2 = pd.DataFrame({'Category':['A','B','C'],'Values':[32,43,50]})"
   ]
  },
  {
   "cell_type": "code",
   "execution_count": 10,
   "metadata": {
    "collapsed": false
   },
   "outputs": [
    {
     "data": {
      "text/html": [
       "<div>\n",
       "<style scoped>\n",
       "    .dataframe tbody tr th:only-of-type {\n",
       "        vertical-align: middle;\n",
       "    }\n",
       "\n",
       "    .dataframe tbody tr th {\n",
       "        vertical-align: top;\n",
       "    }\n",
       "\n",
       "    .dataframe thead th {\n",
       "        text-align: right;\n",
       "    }\n",
       "</style>\n",
       "<table border=\"1\" class=\"dataframe\">\n",
       "  <thead>\n",
       "    <tr style=\"text-align: right;\">\n",
       "      <th></th>\n",
       "      <th>Category</th>\n",
       "      <th>Values</th>\n",
       "    </tr>\n",
       "  </thead>\n",
       "  <tbody>\n",
       "    <tr>\n",
       "      <th>0</th>\n",
       "      <td>A</td>\n",
       "      <td>32</td>\n",
       "    </tr>\n",
       "    <tr>\n",
       "      <th>1</th>\n",
       "      <td>B</td>\n",
       "      <td>43</td>\n",
       "    </tr>\n",
       "    <tr>\n",
       "      <th>2</th>\n",
       "      <td>C</td>\n",
       "      <td>50</td>\n",
       "    </tr>\n",
       "  </tbody>\n",
       "</table>\n",
       "</div>"
      ],
      "text/plain": [
       "  Category  Values\n",
       "0        A      32\n",
       "1        B      43\n",
       "2        C      50"
      ]
     },
     "execution_count": 10,
     "metadata": {},
     "output_type": "execute_result"
    }
   ],
   "source": [
    "df2.head()"
   ]
  },
  {
   "cell_type": "markdown",
   "metadata": {},
   "source": [
    "## Using Cufflinks and iplot()\n",
    "\n",
    "* scatter\n",
    "* bar\n",
    "* box\n",
    "* spread\n",
    "* ratio\n",
    "* heatmap\n",
    "* surface\n",
    "* histogram\n",
    "* bubble"
   ]
  },
  {
   "cell_type": "markdown",
   "metadata": {},
   "source": [
    "## Scatter"
   ]
  },
  {
   "cell_type": "code",
   "execution_count": 12,
   "metadata": {
    "collapsed": false
   },
   "outputs": [
    {
     "data": {
      "application/vnd.plotly.v1+json": {
       "config": {
        "linkText": "Export to plot.ly",
        "plotlyServerURL": "https://plot.ly",
        "showLink": true
       },
       "data": [
        {
         "line": {
          "color": "rgba(255, 153, 51, 1.0)",
          "dash": "solid",
          "shape": "linear",
          "width": 1.3
         },
         "marker": {
          "size": 10,
          "symbol": "circle"
         },
         "mode": "markers",
         "name": "B",
         "text": "",
         "type": "scatter",
         "x": [
          1.1808861104858086,
          -1.009315475834072,
          2.1010267597285734,
          -1.2761110614656328,
          2.1355984367483503,
          0.45187550757489103,
          0.35575837216877865,
          -0.33192853903028824,
          0.16555430091279025,
          2.0939392840659474,
          3.3046262093131764,
          0.8016652198144762,
          -0.08064663403209753,
          -0.2894576343328641,
          -0.6353852627420068,
          0.06915412092097081,
          0.972353162345244,
          -0.4226617370851711,
          0.44457415032163833,
          1.9306320625284974,
          0.862768413234945,
          -0.07436503288404975,
          -1.3075425798831994,
          0.07488233835490188,
          -0.5383693570233857,
          -1.150895491288997,
          -0.644601767843179,
          -0.3003701225679646,
          -0.6768652099919864,
          0.21410544574864887,
          0.5950296396184611,
          0.26973044921773104,
          -0.7010536597606614,
          -1.3488991119769904,
          0.5735052483541746,
          0.116911756060154,
          -1.384243153289476,
          -1.5122147482705393,
          -2.0490427795777326,
          -0.47086463185893823,
          -1.7115532738390293,
          -0.41926538769302296,
          0.6342347447608379,
          1.0524544462265217,
          0.27116119274636,
          -0.6327759017672793,
          -0.2381293131326908,
          -1.560007071354141,
          0.3564002971081718,
          -0.7431653691129735,
          0.021248317242468076,
          -0.6171074244097834,
          -0.7287550072634262,
          1.1115975878346898,
          -0.0264973903468035,
          -0.39998035014100297,
          0.17090679907552722,
          0.7704465470894409,
          1.3645508989608082,
          0.2736827452554336,
          0.9458706409895032,
          -2.039392752696324,
          0.05308215087500142,
          -1.4223150595751306,
          -0.32401077448582954,
          -1.4858113454908572,
          -1.3260796336088796,
          1.2980796587223302,
          0.7718502322874692,
          0.4027364328411132,
          -0.12487684581340935,
          -0.3734360479494493,
          -0.004287553825357087,
          -0.6221945153849893,
          0.18712560869775033,
          -0.8542025277225092,
          0.2605274316144155,
          0.8065865657559427,
          0.8892694273074893,
          -0.11438673646857235,
          -0.4124256111912983,
          0.362764158444993,
          0.17788406981146257,
          0.25232389432641744,
          -0.7612788204072456,
          0.5135316958636523,
          1.76093782929227,
          -0.23332353476080336,
          -0.963431849581975,
          0.4370139219460403,
          -1.5530042663990145,
          0.01358618685162266,
          1.1281240398709063,
          -0.41511661847317877,
          0.2844084545138961,
          0.07062579562964151,
          0.77115342742805,
          -1.2748891258557924,
          0.7651414902457511,
          1.5399719990359306
         ],
         "y": [
          1.8869774144646363,
          -0.15178939659604912,
          0.49273651175711186,
          -1.323250063279204,
          -1.3096082803841553,
          -1.3849349027148277,
          1.156638863289787,
          -0.9517605210106179,
          0.4107021866605751,
          0.03405599860229291,
          2.082439060515147,
          -0.6632141972130775,
          0.5541718312078655,
          0.19367068612461416,
          2.260149093720149,
          -1.2259061103880828,
          -0.7895331423494181,
          0.7662518068681965,
          1.0247551473290297,
          1.6578485874276878,
          0.3833380944296906,
          0.9354852173085542,
          1.201005381289398,
          1.9991827012969507,
          -0.6687087204962803,
          -0.2889780327683993,
          -1.1867862695251132,
          0.21882396000194415,
          1.2349522356979719,
          -2.2700863402085885,
          0.21154465034024256,
          -2.0375384753026133,
          -0.27323895036263013,
          -0.5022346822859977,
          1.3981296300065187,
          -0.7808568466240103,
          0.07384353772811302,
          0.8108562614778606,
          0.26004090339418573,
          -1.537016362845774,
          -0.08338367129457505,
          -0.2142211275967988,
          -0.9378209276170207,
          -0.6815547301708351,
          -0.8552378052823102,
          -0.1484952070387059,
          -1.4145757942280957,
          -0.366902467981607,
          0.9217146167090984,
          1.3107705120296753,
          -0.7798058588406078,
          0.6927152044770846,
          0.27715215900653895,
          -0.6773501227910225,
          -0.39772212572225923,
          -0.9327902138961053,
          -1.5359943716946074,
          0.05265840173276143,
          -0.49077067967105015,
          0.46340928236261036,
          -2.2641201459935885,
          -0.39308652349632045,
          1.072805319475322,
          -0.7246309842420298,
          -1.7363183613206394,
          1.8964187758108288,
          -0.6087390744568856,
          -2.70414795296228,
          -1.65510169490042,
          0.6659266357370712,
          0.21563454907328639,
          0.9058385938958805,
          0.5298879363128568,
          2.2882030650566865,
          -0.3654187398433885,
          -0.8223437056703111,
          -1.1960008750849571,
          0.998214927884022,
          -0.8224011627610441,
          -0.6283770556295083,
          -0.4566048300151653,
          -0.1673684778572825,
          1.2086066242166869,
          1.271826220581654,
          0.8480941150195749,
          0.40288423807506885,
          0.029759689383405466,
          -0.5287908721090397,
          -0.6426181955756219,
          -1.2020398873408829,
          -0.902931701935573,
          0.7725336591758999,
          -1.0785659218318133,
          0.6226481271010155,
          1.731907502841091,
          -0.9405026151070189,
          -0.3371830830297367,
          -0.19216251774875798,
          0.3868122511782008,
          0.37115889539592906
         ]
        }
       ],
       "layout": {
        "legend": {
         "bgcolor": "#F5F6F9",
         "font": {
          "color": "#4D5663"
         }
        },
        "paper_bgcolor": "#F5F6F9",
        "plot_bgcolor": "#F5F6F9",
        "template": {
         "data": {
          "bar": [
           {
            "error_x": {
             "color": "#2a3f5f"
            },
            "error_y": {
             "color": "#2a3f5f"
            },
            "marker": {
             "line": {
              "color": "#E5ECF6",
              "width": 0.5
             },
             "pattern": {
              "fillmode": "overlay",
              "size": 10,
              "solidity": 0.2
             }
            },
            "type": "bar"
           }
          ],
          "barpolar": [
           {
            "marker": {
             "line": {
              "color": "#E5ECF6",
              "width": 0.5
             },
             "pattern": {
              "fillmode": "overlay",
              "size": 10,
              "solidity": 0.2
             }
            },
            "type": "barpolar"
           }
          ],
          "carpet": [
           {
            "aaxis": {
             "endlinecolor": "#2a3f5f",
             "gridcolor": "white",
             "linecolor": "white",
             "minorgridcolor": "white",
             "startlinecolor": "#2a3f5f"
            },
            "baxis": {
             "endlinecolor": "#2a3f5f",
             "gridcolor": "white",
             "linecolor": "white",
             "minorgridcolor": "white",
             "startlinecolor": "#2a3f5f"
            },
            "type": "carpet"
           }
          ],
          "choropleth": [
           {
            "colorbar": {
             "outlinewidth": 0,
             "ticks": ""
            },
            "type": "choropleth"
           }
          ],
          "contour": [
           {
            "colorbar": {
             "outlinewidth": 0,
             "ticks": ""
            },
            "colorscale": [
             [
              0,
              "#0d0887"
             ],
             [
              0.1111111111111111,
              "#46039f"
             ],
             [
              0.2222222222222222,
              "#7201a8"
             ],
             [
              0.3333333333333333,
              "#9c179e"
             ],
             [
              0.4444444444444444,
              "#bd3786"
             ],
             [
              0.5555555555555556,
              "#d8576b"
             ],
             [
              0.6666666666666666,
              "#ed7953"
             ],
             [
              0.7777777777777778,
              "#fb9f3a"
             ],
             [
              0.8888888888888888,
              "#fdca26"
             ],
             [
              1,
              "#f0f921"
             ]
            ],
            "type": "contour"
           }
          ],
          "contourcarpet": [
           {
            "colorbar": {
             "outlinewidth": 0,
             "ticks": ""
            },
            "type": "contourcarpet"
           }
          ],
          "heatmap": [
           {
            "colorbar": {
             "outlinewidth": 0,
             "ticks": ""
            },
            "colorscale": [
             [
              0,
              "#0d0887"
             ],
             [
              0.1111111111111111,
              "#46039f"
             ],
             [
              0.2222222222222222,
              "#7201a8"
             ],
             [
              0.3333333333333333,
              "#9c179e"
             ],
             [
              0.4444444444444444,
              "#bd3786"
             ],
             [
              0.5555555555555556,
              "#d8576b"
             ],
             [
              0.6666666666666666,
              "#ed7953"
             ],
             [
              0.7777777777777778,
              "#fb9f3a"
             ],
             [
              0.8888888888888888,
              "#fdca26"
             ],
             [
              1,
              "#f0f921"
             ]
            ],
            "type": "heatmap"
           }
          ],
          "heatmapgl": [
           {
            "colorbar": {
             "outlinewidth": 0,
             "ticks": ""
            },
            "colorscale": [
             [
              0,
              "#0d0887"
             ],
             [
              0.1111111111111111,
              "#46039f"
             ],
             [
              0.2222222222222222,
              "#7201a8"
             ],
             [
              0.3333333333333333,
              "#9c179e"
             ],
             [
              0.4444444444444444,
              "#bd3786"
             ],
             [
              0.5555555555555556,
              "#d8576b"
             ],
             [
              0.6666666666666666,
              "#ed7953"
             ],
             [
              0.7777777777777778,
              "#fb9f3a"
             ],
             [
              0.8888888888888888,
              "#fdca26"
             ],
             [
              1,
              "#f0f921"
             ]
            ],
            "type": "heatmapgl"
           }
          ],
          "histogram": [
           {
            "marker": {
             "pattern": {
              "fillmode": "overlay",
              "size": 10,
              "solidity": 0.2
             }
            },
            "type": "histogram"
           }
          ],
          "histogram2d": [
           {
            "colorbar": {
             "outlinewidth": 0,
             "ticks": ""
            },
            "colorscale": [
             [
              0,
              "#0d0887"
             ],
             [
              0.1111111111111111,
              "#46039f"
             ],
             [
              0.2222222222222222,
              "#7201a8"
             ],
             [
              0.3333333333333333,
              "#9c179e"
             ],
             [
              0.4444444444444444,
              "#bd3786"
             ],
             [
              0.5555555555555556,
              "#d8576b"
             ],
             [
              0.6666666666666666,
              "#ed7953"
             ],
             [
              0.7777777777777778,
              "#fb9f3a"
             ],
             [
              0.8888888888888888,
              "#fdca26"
             ],
             [
              1,
              "#f0f921"
             ]
            ],
            "type": "histogram2d"
           }
          ],
          "histogram2dcontour": [
           {
            "colorbar": {
             "outlinewidth": 0,
             "ticks": ""
            },
            "colorscale": [
             [
              0,
              "#0d0887"
             ],
             [
              0.1111111111111111,
              "#46039f"
             ],
             [
              0.2222222222222222,
              "#7201a8"
             ],
             [
              0.3333333333333333,
              "#9c179e"
             ],
             [
              0.4444444444444444,
              "#bd3786"
             ],
             [
              0.5555555555555556,
              "#d8576b"
             ],
             [
              0.6666666666666666,
              "#ed7953"
             ],
             [
              0.7777777777777778,
              "#fb9f3a"
             ],
             [
              0.8888888888888888,
              "#fdca26"
             ],
             [
              1,
              "#f0f921"
             ]
            ],
            "type": "histogram2dcontour"
           }
          ],
          "mesh3d": [
           {
            "colorbar": {
             "outlinewidth": 0,
             "ticks": ""
            },
            "type": "mesh3d"
           }
          ],
          "parcoords": [
           {
            "line": {
             "colorbar": {
              "outlinewidth": 0,
              "ticks": ""
             }
            },
            "type": "parcoords"
           }
          ],
          "pie": [
           {
            "automargin": true,
            "type": "pie"
           }
          ],
          "scatter": [
           {
            "fillpattern": {
             "fillmode": "overlay",
             "size": 10,
             "solidity": 0.2
            },
            "type": "scatter"
           }
          ],
          "scatter3d": [
           {
            "line": {
             "colorbar": {
              "outlinewidth": 0,
              "ticks": ""
             }
            },
            "marker": {
             "colorbar": {
              "outlinewidth": 0,
              "ticks": ""
             }
            },
            "type": "scatter3d"
           }
          ],
          "scattercarpet": [
           {
            "marker": {
             "colorbar": {
              "outlinewidth": 0,
              "ticks": ""
             }
            },
            "type": "scattercarpet"
           }
          ],
          "scattergeo": [
           {
            "marker": {
             "colorbar": {
              "outlinewidth": 0,
              "ticks": ""
             }
            },
            "type": "scattergeo"
           }
          ],
          "scattergl": [
           {
            "marker": {
             "colorbar": {
              "outlinewidth": 0,
              "ticks": ""
             }
            },
            "type": "scattergl"
           }
          ],
          "scattermapbox": [
           {
            "marker": {
             "colorbar": {
              "outlinewidth": 0,
              "ticks": ""
             }
            },
            "type": "scattermapbox"
           }
          ],
          "scatterpolar": [
           {
            "marker": {
             "colorbar": {
              "outlinewidth": 0,
              "ticks": ""
             }
            },
            "type": "scatterpolar"
           }
          ],
          "scatterpolargl": [
           {
            "marker": {
             "colorbar": {
              "outlinewidth": 0,
              "ticks": ""
             }
            },
            "type": "scatterpolargl"
           }
          ],
          "scatterternary": [
           {
            "marker": {
             "colorbar": {
              "outlinewidth": 0,
              "ticks": ""
             }
            },
            "type": "scatterternary"
           }
          ],
          "surface": [
           {
            "colorbar": {
             "outlinewidth": 0,
             "ticks": ""
            },
            "colorscale": [
             [
              0,
              "#0d0887"
             ],
             [
              0.1111111111111111,
              "#46039f"
             ],
             [
              0.2222222222222222,
              "#7201a8"
             ],
             [
              0.3333333333333333,
              "#9c179e"
             ],
             [
              0.4444444444444444,
              "#bd3786"
             ],
             [
              0.5555555555555556,
              "#d8576b"
             ],
             [
              0.6666666666666666,
              "#ed7953"
             ],
             [
              0.7777777777777778,
              "#fb9f3a"
             ],
             [
              0.8888888888888888,
              "#fdca26"
             ],
             [
              1,
              "#f0f921"
             ]
            ],
            "type": "surface"
           }
          ],
          "table": [
           {
            "cells": {
             "fill": {
              "color": "#EBF0F8"
             },
             "line": {
              "color": "white"
             }
            },
            "header": {
             "fill": {
              "color": "#C8D4E3"
             },
             "line": {
              "color": "white"
             }
            },
            "type": "table"
           }
          ]
         },
         "layout": {
          "annotationdefaults": {
           "arrowcolor": "#2a3f5f",
           "arrowhead": 0,
           "arrowwidth": 1
          },
          "autotypenumbers": "strict",
          "coloraxis": {
           "colorbar": {
            "outlinewidth": 0,
            "ticks": ""
           }
          },
          "colorscale": {
           "diverging": [
            [
             0,
             "#8e0152"
            ],
            [
             0.1,
             "#c51b7d"
            ],
            [
             0.2,
             "#de77ae"
            ],
            [
             0.3,
             "#f1b6da"
            ],
            [
             0.4,
             "#fde0ef"
            ],
            [
             0.5,
             "#f7f7f7"
            ],
            [
             0.6,
             "#e6f5d0"
            ],
            [
             0.7,
             "#b8e186"
            ],
            [
             0.8,
             "#7fbc41"
            ],
            [
             0.9,
             "#4d9221"
            ],
            [
             1,
             "#276419"
            ]
           ],
           "sequential": [
            [
             0,
             "#0d0887"
            ],
            [
             0.1111111111111111,
             "#46039f"
            ],
            [
             0.2222222222222222,
             "#7201a8"
            ],
            [
             0.3333333333333333,
             "#9c179e"
            ],
            [
             0.4444444444444444,
             "#bd3786"
            ],
            [
             0.5555555555555556,
             "#d8576b"
            ],
            [
             0.6666666666666666,
             "#ed7953"
            ],
            [
             0.7777777777777778,
             "#fb9f3a"
            ],
            [
             0.8888888888888888,
             "#fdca26"
            ],
            [
             1,
             "#f0f921"
            ]
           ],
           "sequentialminus": [
            [
             0,
             "#0d0887"
            ],
            [
             0.1111111111111111,
             "#46039f"
            ],
            [
             0.2222222222222222,
             "#7201a8"
            ],
            [
             0.3333333333333333,
             "#9c179e"
            ],
            [
             0.4444444444444444,
             "#bd3786"
            ],
            [
             0.5555555555555556,
             "#d8576b"
            ],
            [
             0.6666666666666666,
             "#ed7953"
            ],
            [
             0.7777777777777778,
             "#fb9f3a"
            ],
            [
             0.8888888888888888,
             "#fdca26"
            ],
            [
             1,
             "#f0f921"
            ]
           ]
          },
          "colorway": [
           "#636efa",
           "#EF553B",
           "#00cc96",
           "#ab63fa",
           "#FFA15A",
           "#19d3f3",
           "#FF6692",
           "#B6E880",
           "#FF97FF",
           "#FECB52"
          ],
          "font": {
           "color": "#2a3f5f"
          },
          "geo": {
           "bgcolor": "white",
           "lakecolor": "white",
           "landcolor": "#E5ECF6",
           "showlakes": true,
           "showland": true,
           "subunitcolor": "white"
          },
          "hoverlabel": {
           "align": "left"
          },
          "hovermode": "closest",
          "mapbox": {
           "style": "light"
          },
          "paper_bgcolor": "white",
          "plot_bgcolor": "#E5ECF6",
          "polar": {
           "angularaxis": {
            "gridcolor": "white",
            "linecolor": "white",
            "ticks": ""
           },
           "bgcolor": "#E5ECF6",
           "radialaxis": {
            "gridcolor": "white",
            "linecolor": "white",
            "ticks": ""
           }
          },
          "scene": {
           "xaxis": {
            "backgroundcolor": "#E5ECF6",
            "gridcolor": "white",
            "gridwidth": 2,
            "linecolor": "white",
            "showbackground": true,
            "ticks": "",
            "zerolinecolor": "white"
           },
           "yaxis": {
            "backgroundcolor": "#E5ECF6",
            "gridcolor": "white",
            "gridwidth": 2,
            "linecolor": "white",
            "showbackground": true,
            "ticks": "",
            "zerolinecolor": "white"
           },
           "zaxis": {
            "backgroundcolor": "#E5ECF6",
            "gridcolor": "white",
            "gridwidth": 2,
            "linecolor": "white",
            "showbackground": true,
            "ticks": "",
            "zerolinecolor": "white"
           }
          },
          "shapedefaults": {
           "line": {
            "color": "#2a3f5f"
           }
          },
          "ternary": {
           "aaxis": {
            "gridcolor": "white",
            "linecolor": "white",
            "ticks": ""
           },
           "baxis": {
            "gridcolor": "white",
            "linecolor": "white",
            "ticks": ""
           },
           "bgcolor": "#E5ECF6",
           "caxis": {
            "gridcolor": "white",
            "linecolor": "white",
            "ticks": ""
           }
          },
          "title": {
           "x": 0.05
          },
          "xaxis": {
           "automargin": true,
           "gridcolor": "white",
           "linecolor": "white",
           "ticks": "",
           "title": {
            "standoff": 15
           },
           "zerolinecolor": "white",
           "zerolinewidth": 2
          },
          "yaxis": {
           "automargin": true,
           "gridcolor": "white",
           "linecolor": "white",
           "ticks": "",
           "title": {
            "standoff": 15
           },
           "zerolinecolor": "white",
           "zerolinewidth": 2
          }
         }
        },
        "title": {
         "font": {
          "color": "#4D5663"
         }
        },
        "xaxis": {
         "gridcolor": "#E1E5ED",
         "showgrid": true,
         "tickfont": {
          "color": "#4D5663"
         },
         "title": {
          "font": {
           "color": "#4D5663"
          },
          "text": ""
         },
         "zerolinecolor": "#E1E5ED"
        },
        "yaxis": {
         "gridcolor": "#E1E5ED",
         "showgrid": true,
         "tickfont": {
          "color": "#4D5663"
         },
         "title": {
          "font": {
           "color": "#4D5663"
          },
          "text": ""
         },
         "zerolinecolor": "#E1E5ED"
        }
       }
      },
      "text/html": [
       "<div>                            <div id=\"5d2e352d-3e27-4d59-9e10-d4f86a86b062\" class=\"plotly-graph-div\" style=\"height:525px; width:100%;\"></div>            <script type=\"text/javascript\">                require([\"plotly\"], function(Plotly) {                    window.PLOTLYENV=window.PLOTLYENV || {};\n",
       "                    window.PLOTLYENV.BASE_URL='https://plot.ly';                                    if (document.getElementById(\"5d2e352d-3e27-4d59-9e10-d4f86a86b062\")) {                    Plotly.newPlot(                        \"5d2e352d-3e27-4d59-9e10-d4f86a86b062\",                        [{\"line\":{\"color\":\"rgba(255, 153, 51, 1.0)\",\"dash\":\"solid\",\"shape\":\"linear\",\"width\":1.3},\"marker\":{\"size\":10,\"symbol\":\"circle\"},\"mode\":\"markers\",\"name\":\"B\",\"text\":\"\",\"x\":[1.1808861104858086,-1.009315475834072,2.1010267597285734,-1.2761110614656328,2.1355984367483503,0.45187550757489103,0.35575837216877865,-0.33192853903028824,0.16555430091279025,2.0939392840659474,3.3046262093131764,0.8016652198144762,-0.08064663403209753,-0.2894576343328641,-0.6353852627420068,0.06915412092097081,0.972353162345244,-0.4226617370851711,0.44457415032163833,1.9306320625284974,0.862768413234945,-0.07436503288404975,-1.3075425798831994,0.07488233835490188,-0.5383693570233857,-1.150895491288997,-0.644601767843179,-0.3003701225679646,-0.6768652099919864,0.21410544574864887,0.5950296396184611,0.26973044921773104,-0.7010536597606614,-1.3488991119769904,0.5735052483541746,0.116911756060154,-1.384243153289476,-1.5122147482705393,-2.0490427795777326,-0.47086463185893823,-1.7115532738390293,-0.41926538769302296,0.6342347447608379,1.0524544462265217,0.27116119274636,-0.6327759017672793,-0.2381293131326908,-1.560007071354141,0.3564002971081718,-0.7431653691129735,0.021248317242468076,-0.6171074244097834,-0.7287550072634262,1.1115975878346898,-0.0264973903468035,-0.39998035014100297,0.17090679907552722,0.7704465470894409,1.3645508989608082,0.2736827452554336,0.9458706409895032,-2.039392752696324,0.05308215087500142,-1.4223150595751306,-0.32401077448582954,-1.4858113454908572,-1.3260796336088796,1.2980796587223302,0.7718502322874692,0.4027364328411132,-0.12487684581340935,-0.3734360479494493,-0.004287553825357087,-0.6221945153849893,0.18712560869775033,-0.8542025277225092,0.2605274316144155,0.8065865657559427,0.8892694273074893,-0.11438673646857235,-0.4124256111912983,0.362764158444993,0.17788406981146257,0.25232389432641744,-0.7612788204072456,0.5135316958636523,1.76093782929227,-0.23332353476080336,-0.963431849581975,0.4370139219460403,-1.5530042663990145,0.01358618685162266,1.1281240398709063,-0.41511661847317877,0.2844084545138961,0.07062579562964151,0.77115342742805,-1.2748891258557924,0.7651414902457511,1.5399719990359306],\"y\":[1.8869774144646363,-0.15178939659604912,0.49273651175711186,-1.323250063279204,-1.3096082803841553,-1.3849349027148277,1.156638863289787,-0.9517605210106179,0.4107021866605751,0.03405599860229291,2.082439060515147,-0.6632141972130775,0.5541718312078655,0.19367068612461416,2.260149093720149,-1.2259061103880828,-0.7895331423494181,0.7662518068681965,1.0247551473290297,1.6578485874276878,0.3833380944296906,0.9354852173085542,1.201005381289398,1.9991827012969507,-0.6687087204962803,-0.2889780327683993,-1.1867862695251132,0.21882396000194415,1.2349522356979719,-2.2700863402085885,0.21154465034024256,-2.0375384753026133,-0.27323895036263013,-0.5022346822859977,1.3981296300065187,-0.7808568466240103,0.07384353772811302,0.8108562614778606,0.26004090339418573,-1.537016362845774,-0.08338367129457505,-0.2142211275967988,-0.9378209276170207,-0.6815547301708351,-0.8552378052823102,-0.1484952070387059,-1.4145757942280957,-0.366902467981607,0.9217146167090984,1.3107705120296753,-0.7798058588406078,0.6927152044770846,0.27715215900653895,-0.6773501227910225,-0.39772212572225923,-0.9327902138961053,-1.5359943716946074,0.05265840173276143,-0.49077067967105015,0.46340928236261036,-2.2641201459935885,-0.39308652349632045,1.072805319475322,-0.7246309842420298,-1.7363183613206394,1.8964187758108288,-0.6087390744568856,-2.70414795296228,-1.65510169490042,0.6659266357370712,0.21563454907328639,0.9058385938958805,0.5298879363128568,2.2882030650566865,-0.3654187398433885,-0.8223437056703111,-1.1960008750849571,0.998214927884022,-0.8224011627610441,-0.6283770556295083,-0.4566048300151653,-0.1673684778572825,1.2086066242166869,1.271826220581654,0.8480941150195749,0.40288423807506885,0.029759689383405466,-0.5287908721090397,-0.6426181955756219,-1.2020398873408829,-0.902931701935573,0.7725336591758999,-1.0785659218318133,0.6226481271010155,1.731907502841091,-0.9405026151070189,-0.3371830830297367,-0.19216251774875798,0.3868122511782008,0.37115889539592906],\"type\":\"scatter\"}],                        {\"legend\":{\"bgcolor\":\"#F5F6F9\",\"font\":{\"color\":\"#4D5663\"}},\"paper_bgcolor\":\"#F5F6F9\",\"plot_bgcolor\":\"#F5F6F9\",\"template\":{\"data\":{\"barpolar\":[{\"marker\":{\"line\":{\"color\":\"#E5ECF6\",\"width\":0.5},\"pattern\":{\"fillmode\":\"overlay\",\"size\":10,\"solidity\":0.2}},\"type\":\"barpolar\"}],\"bar\":[{\"error_x\":{\"color\":\"#2a3f5f\"},\"error_y\":{\"color\":\"#2a3f5f\"},\"marker\":{\"line\":{\"color\":\"#E5ECF6\",\"width\":0.5},\"pattern\":{\"fillmode\":\"overlay\",\"size\":10,\"solidity\":0.2}},\"type\":\"bar\"}],\"carpet\":[{\"aaxis\":{\"endlinecolor\":\"#2a3f5f\",\"gridcolor\":\"white\",\"linecolor\":\"white\",\"minorgridcolor\":\"white\",\"startlinecolor\":\"#2a3f5f\"},\"baxis\":{\"endlinecolor\":\"#2a3f5f\",\"gridcolor\":\"white\",\"linecolor\":\"white\",\"minorgridcolor\":\"white\",\"startlinecolor\":\"#2a3f5f\"},\"type\":\"carpet\"}],\"choropleth\":[{\"colorbar\":{\"outlinewidth\":0,\"ticks\":\"\"},\"type\":\"choropleth\"}],\"contourcarpet\":[{\"colorbar\":{\"outlinewidth\":0,\"ticks\":\"\"},\"type\":\"contourcarpet\"}],\"contour\":[{\"colorbar\":{\"outlinewidth\":0,\"ticks\":\"\"},\"colorscale\":[[0.0,\"#0d0887\"],[0.1111111111111111,\"#46039f\"],[0.2222222222222222,\"#7201a8\"],[0.3333333333333333,\"#9c179e\"],[0.4444444444444444,\"#bd3786\"],[0.5555555555555556,\"#d8576b\"],[0.6666666666666666,\"#ed7953\"],[0.7777777777777778,\"#fb9f3a\"],[0.8888888888888888,\"#fdca26\"],[1.0,\"#f0f921\"]],\"type\":\"contour\"}],\"heatmapgl\":[{\"colorbar\":{\"outlinewidth\":0,\"ticks\":\"\"},\"colorscale\":[[0.0,\"#0d0887\"],[0.1111111111111111,\"#46039f\"],[0.2222222222222222,\"#7201a8\"],[0.3333333333333333,\"#9c179e\"],[0.4444444444444444,\"#bd3786\"],[0.5555555555555556,\"#d8576b\"],[0.6666666666666666,\"#ed7953\"],[0.7777777777777778,\"#fb9f3a\"],[0.8888888888888888,\"#fdca26\"],[1.0,\"#f0f921\"]],\"type\":\"heatmapgl\"}],\"heatmap\":[{\"colorbar\":{\"outlinewidth\":0,\"ticks\":\"\"},\"colorscale\":[[0.0,\"#0d0887\"],[0.1111111111111111,\"#46039f\"],[0.2222222222222222,\"#7201a8\"],[0.3333333333333333,\"#9c179e\"],[0.4444444444444444,\"#bd3786\"],[0.5555555555555556,\"#d8576b\"],[0.6666666666666666,\"#ed7953\"],[0.7777777777777778,\"#fb9f3a\"],[0.8888888888888888,\"#fdca26\"],[1.0,\"#f0f921\"]],\"type\":\"heatmap\"}],\"histogram2dcontour\":[{\"colorbar\":{\"outlinewidth\":0,\"ticks\":\"\"},\"colorscale\":[[0.0,\"#0d0887\"],[0.1111111111111111,\"#46039f\"],[0.2222222222222222,\"#7201a8\"],[0.3333333333333333,\"#9c179e\"],[0.4444444444444444,\"#bd3786\"],[0.5555555555555556,\"#d8576b\"],[0.6666666666666666,\"#ed7953\"],[0.7777777777777778,\"#fb9f3a\"],[0.8888888888888888,\"#fdca26\"],[1.0,\"#f0f921\"]],\"type\":\"histogram2dcontour\"}],\"histogram2d\":[{\"colorbar\":{\"outlinewidth\":0,\"ticks\":\"\"},\"colorscale\":[[0.0,\"#0d0887\"],[0.1111111111111111,\"#46039f\"],[0.2222222222222222,\"#7201a8\"],[0.3333333333333333,\"#9c179e\"],[0.4444444444444444,\"#bd3786\"],[0.5555555555555556,\"#d8576b\"],[0.6666666666666666,\"#ed7953\"],[0.7777777777777778,\"#fb9f3a\"],[0.8888888888888888,\"#fdca26\"],[1.0,\"#f0f921\"]],\"type\":\"histogram2d\"}],\"histogram\":[{\"marker\":{\"pattern\":{\"fillmode\":\"overlay\",\"size\":10,\"solidity\":0.2}},\"type\":\"histogram\"}],\"mesh3d\":[{\"colorbar\":{\"outlinewidth\":0,\"ticks\":\"\"},\"type\":\"mesh3d\"}],\"parcoords\":[{\"line\":{\"colorbar\":{\"outlinewidth\":0,\"ticks\":\"\"}},\"type\":\"parcoords\"}],\"pie\":[{\"automargin\":true,\"type\":\"pie\"}],\"scatter3d\":[{\"line\":{\"colorbar\":{\"outlinewidth\":0,\"ticks\":\"\"}},\"marker\":{\"colorbar\":{\"outlinewidth\":0,\"ticks\":\"\"}},\"type\":\"scatter3d\"}],\"scattercarpet\":[{\"marker\":{\"colorbar\":{\"outlinewidth\":0,\"ticks\":\"\"}},\"type\":\"scattercarpet\"}],\"scattergeo\":[{\"marker\":{\"colorbar\":{\"outlinewidth\":0,\"ticks\":\"\"}},\"type\":\"scattergeo\"}],\"scattergl\":[{\"marker\":{\"colorbar\":{\"outlinewidth\":0,\"ticks\":\"\"}},\"type\":\"scattergl\"}],\"scattermapbox\":[{\"marker\":{\"colorbar\":{\"outlinewidth\":0,\"ticks\":\"\"}},\"type\":\"scattermapbox\"}],\"scatterpolargl\":[{\"marker\":{\"colorbar\":{\"outlinewidth\":0,\"ticks\":\"\"}},\"type\":\"scatterpolargl\"}],\"scatterpolar\":[{\"marker\":{\"colorbar\":{\"outlinewidth\":0,\"ticks\":\"\"}},\"type\":\"scatterpolar\"}],\"scatter\":[{\"fillpattern\":{\"fillmode\":\"overlay\",\"size\":10,\"solidity\":0.2},\"type\":\"scatter\"}],\"scatterternary\":[{\"marker\":{\"colorbar\":{\"outlinewidth\":0,\"ticks\":\"\"}},\"type\":\"scatterternary\"}],\"surface\":[{\"colorbar\":{\"outlinewidth\":0,\"ticks\":\"\"},\"colorscale\":[[0.0,\"#0d0887\"],[0.1111111111111111,\"#46039f\"],[0.2222222222222222,\"#7201a8\"],[0.3333333333333333,\"#9c179e\"],[0.4444444444444444,\"#bd3786\"],[0.5555555555555556,\"#d8576b\"],[0.6666666666666666,\"#ed7953\"],[0.7777777777777778,\"#fb9f3a\"],[0.8888888888888888,\"#fdca26\"],[1.0,\"#f0f921\"]],\"type\":\"surface\"}],\"table\":[{\"cells\":{\"fill\":{\"color\":\"#EBF0F8\"},\"line\":{\"color\":\"white\"}},\"header\":{\"fill\":{\"color\":\"#C8D4E3\"},\"line\":{\"color\":\"white\"}},\"type\":\"table\"}]},\"layout\":{\"annotationdefaults\":{\"arrowcolor\":\"#2a3f5f\",\"arrowhead\":0,\"arrowwidth\":1},\"autotypenumbers\":\"strict\",\"coloraxis\":{\"colorbar\":{\"outlinewidth\":0,\"ticks\":\"\"}},\"colorscale\":{\"diverging\":[[0,\"#8e0152\"],[0.1,\"#c51b7d\"],[0.2,\"#de77ae\"],[0.3,\"#f1b6da\"],[0.4,\"#fde0ef\"],[0.5,\"#f7f7f7\"],[0.6,\"#e6f5d0\"],[0.7,\"#b8e186\"],[0.8,\"#7fbc41\"],[0.9,\"#4d9221\"],[1,\"#276419\"]],\"sequential\":[[0.0,\"#0d0887\"],[0.1111111111111111,\"#46039f\"],[0.2222222222222222,\"#7201a8\"],[0.3333333333333333,\"#9c179e\"],[0.4444444444444444,\"#bd3786\"],[0.5555555555555556,\"#d8576b\"],[0.6666666666666666,\"#ed7953\"],[0.7777777777777778,\"#fb9f3a\"],[0.8888888888888888,\"#fdca26\"],[1.0,\"#f0f921\"]],\"sequentialminus\":[[0.0,\"#0d0887\"],[0.1111111111111111,\"#46039f\"],[0.2222222222222222,\"#7201a8\"],[0.3333333333333333,\"#9c179e\"],[0.4444444444444444,\"#bd3786\"],[0.5555555555555556,\"#d8576b\"],[0.6666666666666666,\"#ed7953\"],[0.7777777777777778,\"#fb9f3a\"],[0.8888888888888888,\"#fdca26\"],[1.0,\"#f0f921\"]]},\"colorway\":[\"#636efa\",\"#EF553B\",\"#00cc96\",\"#ab63fa\",\"#FFA15A\",\"#19d3f3\",\"#FF6692\",\"#B6E880\",\"#FF97FF\",\"#FECB52\"],\"font\":{\"color\":\"#2a3f5f\"},\"geo\":{\"bgcolor\":\"white\",\"lakecolor\":\"white\",\"landcolor\":\"#E5ECF6\",\"showlakes\":true,\"showland\":true,\"subunitcolor\":\"white\"},\"hoverlabel\":{\"align\":\"left\"},\"hovermode\":\"closest\",\"mapbox\":{\"style\":\"light\"},\"paper_bgcolor\":\"white\",\"plot_bgcolor\":\"#E5ECF6\",\"polar\":{\"angularaxis\":{\"gridcolor\":\"white\",\"linecolor\":\"white\",\"ticks\":\"\"},\"bgcolor\":\"#E5ECF6\",\"radialaxis\":{\"gridcolor\":\"white\",\"linecolor\":\"white\",\"ticks\":\"\"}},\"scene\":{\"xaxis\":{\"backgroundcolor\":\"#E5ECF6\",\"gridcolor\":\"white\",\"gridwidth\":2,\"linecolor\":\"white\",\"showbackground\":true,\"ticks\":\"\",\"zerolinecolor\":\"white\"},\"yaxis\":{\"backgroundcolor\":\"#E5ECF6\",\"gridcolor\":\"white\",\"gridwidth\":2,\"linecolor\":\"white\",\"showbackground\":true,\"ticks\":\"\",\"zerolinecolor\":\"white\"},\"zaxis\":{\"backgroundcolor\":\"#E5ECF6\",\"gridcolor\":\"white\",\"gridwidth\":2,\"linecolor\":\"white\",\"showbackground\":true,\"ticks\":\"\",\"zerolinecolor\":\"white\"}},\"shapedefaults\":{\"line\":{\"color\":\"#2a3f5f\"}},\"ternary\":{\"aaxis\":{\"gridcolor\":\"white\",\"linecolor\":\"white\",\"ticks\":\"\"},\"baxis\":{\"gridcolor\":\"white\",\"linecolor\":\"white\",\"ticks\":\"\"},\"bgcolor\":\"#E5ECF6\",\"caxis\":{\"gridcolor\":\"white\",\"linecolor\":\"white\",\"ticks\":\"\"}},\"title\":{\"x\":0.05},\"xaxis\":{\"automargin\":true,\"gridcolor\":\"white\",\"linecolor\":\"white\",\"ticks\":\"\",\"title\":{\"standoff\":15},\"zerolinecolor\":\"white\",\"zerolinewidth\":2},\"yaxis\":{\"automargin\":true,\"gridcolor\":\"white\",\"linecolor\":\"white\",\"ticks\":\"\",\"title\":{\"standoff\":15},\"zerolinecolor\":\"white\",\"zerolinewidth\":2}}},\"title\":{\"font\":{\"color\":\"#4D5663\"}},\"xaxis\":{\"gridcolor\":\"#E1E5ED\",\"showgrid\":true,\"tickfont\":{\"color\":\"#4D5663\"},\"title\":{\"font\":{\"color\":\"#4D5663\"},\"text\":\"\"},\"zerolinecolor\":\"#E1E5ED\"},\"yaxis\":{\"gridcolor\":\"#E1E5ED\",\"showgrid\":true,\"tickfont\":{\"color\":\"#4D5663\"},\"title\":{\"font\":{\"color\":\"#4D5663\"},\"text\":\"\"},\"zerolinecolor\":\"#E1E5ED\"}},                        {\"showLink\": true, \"linkText\": \"Export to plot.ly\", \"plotlyServerURL\": \"https://plot.ly\", \"responsive\": true}                    ).then(function(){\n",
       "                            \n",
       "var gd = document.getElementById('5d2e352d-3e27-4d59-9e10-d4f86a86b062');\n",
       "var x = new MutationObserver(function (mutations, observer) {{\n",
       "        var display = window.getComputedStyle(gd).display;\n",
       "        if (!display || display === 'none') {{\n",
       "            console.log([gd, 'removed!']);\n",
       "            Plotly.purge(gd);\n",
       "            observer.disconnect();\n",
       "        }}\n",
       "}});\n",
       "\n",
       "// Listen for the removal of the full notebook cells\n",
       "var notebookContainer = gd.closest('#notebook-container');\n",
       "if (notebookContainer) {{\n",
       "    x.observe(notebookContainer, {childList: true});\n",
       "}}\n",
       "\n",
       "// Listen for the clearing of the current output cell\n",
       "var outputEl = gd.closest('.output');\n",
       "if (outputEl) {{\n",
       "    x.observe(outputEl, {childList: true});\n",
       "}}\n",
       "\n",
       "                        })                };                });            </script>        </div>"
      ]
     },
     "metadata": {},
     "output_type": "display_data"
    }
   ],
   "source": [
    "df.iplot(kind='scatter',x='A',y='B',mode='markers',size=10)"
   ]
  },
  {
   "cell_type": "markdown",
   "metadata": {},
   "source": [
    "## Bar Plots"
   ]
  },
  {
   "cell_type": "code",
   "execution_count": 13,
   "metadata": {
    "collapsed": false
   },
   "outputs": [
    {
     "data": {
      "application/vnd.plotly.v1+json": {
       "config": {
        "linkText": "Export to plot.ly",
        "plotlyServerURL": "https://plot.ly",
        "showLink": true
       },
       "data": [
        {
         "marker": {
          "color": "rgba(255, 153, 51, 0.6)",
          "line": {
           "color": "rgba(255, 153, 51, 1.0)",
           "width": 1
          }
         },
         "name": "Values",
         "orientation": "v",
         "text": "",
         "type": "bar",
         "x": [
          "A",
          "B",
          "C"
         ],
         "y": [
          32,
          43,
          50
         ]
        }
       ],
       "layout": {
        "legend": {
         "bgcolor": "#F5F6F9",
         "font": {
          "color": "#4D5663"
         }
        },
        "paper_bgcolor": "#F5F6F9",
        "plot_bgcolor": "#F5F6F9",
        "template": {
         "data": {
          "bar": [
           {
            "error_x": {
             "color": "#2a3f5f"
            },
            "error_y": {
             "color": "#2a3f5f"
            },
            "marker": {
             "line": {
              "color": "#E5ECF6",
              "width": 0.5
             },
             "pattern": {
              "fillmode": "overlay",
              "size": 10,
              "solidity": 0.2
             }
            },
            "type": "bar"
           }
          ],
          "barpolar": [
           {
            "marker": {
             "line": {
              "color": "#E5ECF6",
              "width": 0.5
             },
             "pattern": {
              "fillmode": "overlay",
              "size": 10,
              "solidity": 0.2
             }
            },
            "type": "barpolar"
           }
          ],
          "carpet": [
           {
            "aaxis": {
             "endlinecolor": "#2a3f5f",
             "gridcolor": "white",
             "linecolor": "white",
             "minorgridcolor": "white",
             "startlinecolor": "#2a3f5f"
            },
            "baxis": {
             "endlinecolor": "#2a3f5f",
             "gridcolor": "white",
             "linecolor": "white",
             "minorgridcolor": "white",
             "startlinecolor": "#2a3f5f"
            },
            "type": "carpet"
           }
          ],
          "choropleth": [
           {
            "colorbar": {
             "outlinewidth": 0,
             "ticks": ""
            },
            "type": "choropleth"
           }
          ],
          "contour": [
           {
            "colorbar": {
             "outlinewidth": 0,
             "ticks": ""
            },
            "colorscale": [
             [
              0,
              "#0d0887"
             ],
             [
              0.1111111111111111,
              "#46039f"
             ],
             [
              0.2222222222222222,
              "#7201a8"
             ],
             [
              0.3333333333333333,
              "#9c179e"
             ],
             [
              0.4444444444444444,
              "#bd3786"
             ],
             [
              0.5555555555555556,
              "#d8576b"
             ],
             [
              0.6666666666666666,
              "#ed7953"
             ],
             [
              0.7777777777777778,
              "#fb9f3a"
             ],
             [
              0.8888888888888888,
              "#fdca26"
             ],
             [
              1,
              "#f0f921"
             ]
            ],
            "type": "contour"
           }
          ],
          "contourcarpet": [
           {
            "colorbar": {
             "outlinewidth": 0,
             "ticks": ""
            },
            "type": "contourcarpet"
           }
          ],
          "heatmap": [
           {
            "colorbar": {
             "outlinewidth": 0,
             "ticks": ""
            },
            "colorscale": [
             [
              0,
              "#0d0887"
             ],
             [
              0.1111111111111111,
              "#46039f"
             ],
             [
              0.2222222222222222,
              "#7201a8"
             ],
             [
              0.3333333333333333,
              "#9c179e"
             ],
             [
              0.4444444444444444,
              "#bd3786"
             ],
             [
              0.5555555555555556,
              "#d8576b"
             ],
             [
              0.6666666666666666,
              "#ed7953"
             ],
             [
              0.7777777777777778,
              "#fb9f3a"
             ],
             [
              0.8888888888888888,
              "#fdca26"
             ],
             [
              1,
              "#f0f921"
             ]
            ],
            "type": "heatmap"
           }
          ],
          "heatmapgl": [
           {
            "colorbar": {
             "outlinewidth": 0,
             "ticks": ""
            },
            "colorscale": [
             [
              0,
              "#0d0887"
             ],
             [
              0.1111111111111111,
              "#46039f"
             ],
             [
              0.2222222222222222,
              "#7201a8"
             ],
             [
              0.3333333333333333,
              "#9c179e"
             ],
             [
              0.4444444444444444,
              "#bd3786"
             ],
             [
              0.5555555555555556,
              "#d8576b"
             ],
             [
              0.6666666666666666,
              "#ed7953"
             ],
             [
              0.7777777777777778,
              "#fb9f3a"
             ],
             [
              0.8888888888888888,
              "#fdca26"
             ],
             [
              1,
              "#f0f921"
             ]
            ],
            "type": "heatmapgl"
           }
          ],
          "histogram": [
           {
            "marker": {
             "pattern": {
              "fillmode": "overlay",
              "size": 10,
              "solidity": 0.2
             }
            },
            "type": "histogram"
           }
          ],
          "histogram2d": [
           {
            "colorbar": {
             "outlinewidth": 0,
             "ticks": ""
            },
            "colorscale": [
             [
              0,
              "#0d0887"
             ],
             [
              0.1111111111111111,
              "#46039f"
             ],
             [
              0.2222222222222222,
              "#7201a8"
             ],
             [
              0.3333333333333333,
              "#9c179e"
             ],
             [
              0.4444444444444444,
              "#bd3786"
             ],
             [
              0.5555555555555556,
              "#d8576b"
             ],
             [
              0.6666666666666666,
              "#ed7953"
             ],
             [
              0.7777777777777778,
              "#fb9f3a"
             ],
             [
              0.8888888888888888,
              "#fdca26"
             ],
             [
              1,
              "#f0f921"
             ]
            ],
            "type": "histogram2d"
           }
          ],
          "histogram2dcontour": [
           {
            "colorbar": {
             "outlinewidth": 0,
             "ticks": ""
            },
            "colorscale": [
             [
              0,
              "#0d0887"
             ],
             [
              0.1111111111111111,
              "#46039f"
             ],
             [
              0.2222222222222222,
              "#7201a8"
             ],
             [
              0.3333333333333333,
              "#9c179e"
             ],
             [
              0.4444444444444444,
              "#bd3786"
             ],
             [
              0.5555555555555556,
              "#d8576b"
             ],
             [
              0.6666666666666666,
              "#ed7953"
             ],
             [
              0.7777777777777778,
              "#fb9f3a"
             ],
             [
              0.8888888888888888,
              "#fdca26"
             ],
             [
              1,
              "#f0f921"
             ]
            ],
            "type": "histogram2dcontour"
           }
          ],
          "mesh3d": [
           {
            "colorbar": {
             "outlinewidth": 0,
             "ticks": ""
            },
            "type": "mesh3d"
           }
          ],
          "parcoords": [
           {
            "line": {
             "colorbar": {
              "outlinewidth": 0,
              "ticks": ""
             }
            },
            "type": "parcoords"
           }
          ],
          "pie": [
           {
            "automargin": true,
            "type": "pie"
           }
          ],
          "scatter": [
           {
            "fillpattern": {
             "fillmode": "overlay",
             "size": 10,
             "solidity": 0.2
            },
            "type": "scatter"
           }
          ],
          "scatter3d": [
           {
            "line": {
             "colorbar": {
              "outlinewidth": 0,
              "ticks": ""
             }
            },
            "marker": {
             "colorbar": {
              "outlinewidth": 0,
              "ticks": ""
             }
            },
            "type": "scatter3d"
           }
          ],
          "scattercarpet": [
           {
            "marker": {
             "colorbar": {
              "outlinewidth": 0,
              "ticks": ""
             }
            },
            "type": "scattercarpet"
           }
          ],
          "scattergeo": [
           {
            "marker": {
             "colorbar": {
              "outlinewidth": 0,
              "ticks": ""
             }
            },
            "type": "scattergeo"
           }
          ],
          "scattergl": [
           {
            "marker": {
             "colorbar": {
              "outlinewidth": 0,
              "ticks": ""
             }
            },
            "type": "scattergl"
           }
          ],
          "scattermapbox": [
           {
            "marker": {
             "colorbar": {
              "outlinewidth": 0,
              "ticks": ""
             }
            },
            "type": "scattermapbox"
           }
          ],
          "scatterpolar": [
           {
            "marker": {
             "colorbar": {
              "outlinewidth": 0,
              "ticks": ""
             }
            },
            "type": "scatterpolar"
           }
          ],
          "scatterpolargl": [
           {
            "marker": {
             "colorbar": {
              "outlinewidth": 0,
              "ticks": ""
             }
            },
            "type": "scatterpolargl"
           }
          ],
          "scatterternary": [
           {
            "marker": {
             "colorbar": {
              "outlinewidth": 0,
              "ticks": ""
             }
            },
            "type": "scatterternary"
           }
          ],
          "surface": [
           {
            "colorbar": {
             "outlinewidth": 0,
             "ticks": ""
            },
            "colorscale": [
             [
              0,
              "#0d0887"
             ],
             [
              0.1111111111111111,
              "#46039f"
             ],
             [
              0.2222222222222222,
              "#7201a8"
             ],
             [
              0.3333333333333333,
              "#9c179e"
             ],
             [
              0.4444444444444444,
              "#bd3786"
             ],
             [
              0.5555555555555556,
              "#d8576b"
             ],
             [
              0.6666666666666666,
              "#ed7953"
             ],
             [
              0.7777777777777778,
              "#fb9f3a"
             ],
             [
              0.8888888888888888,
              "#fdca26"
             ],
             [
              1,
              "#f0f921"
             ]
            ],
            "type": "surface"
           }
          ],
          "table": [
           {
            "cells": {
             "fill": {
              "color": "#EBF0F8"
             },
             "line": {
              "color": "white"
             }
            },
            "header": {
             "fill": {
              "color": "#C8D4E3"
             },
             "line": {
              "color": "white"
             }
            },
            "type": "table"
           }
          ]
         },
         "layout": {
          "annotationdefaults": {
           "arrowcolor": "#2a3f5f",
           "arrowhead": 0,
           "arrowwidth": 1
          },
          "autotypenumbers": "strict",
          "coloraxis": {
           "colorbar": {
            "outlinewidth": 0,
            "ticks": ""
           }
          },
          "colorscale": {
           "diverging": [
            [
             0,
             "#8e0152"
            ],
            [
             0.1,
             "#c51b7d"
            ],
            [
             0.2,
             "#de77ae"
            ],
            [
             0.3,
             "#f1b6da"
            ],
            [
             0.4,
             "#fde0ef"
            ],
            [
             0.5,
             "#f7f7f7"
            ],
            [
             0.6,
             "#e6f5d0"
            ],
            [
             0.7,
             "#b8e186"
            ],
            [
             0.8,
             "#7fbc41"
            ],
            [
             0.9,
             "#4d9221"
            ],
            [
             1,
             "#276419"
            ]
           ],
           "sequential": [
            [
             0,
             "#0d0887"
            ],
            [
             0.1111111111111111,
             "#46039f"
            ],
            [
             0.2222222222222222,
             "#7201a8"
            ],
            [
             0.3333333333333333,
             "#9c179e"
            ],
            [
             0.4444444444444444,
             "#bd3786"
            ],
            [
             0.5555555555555556,
             "#d8576b"
            ],
            [
             0.6666666666666666,
             "#ed7953"
            ],
            [
             0.7777777777777778,
             "#fb9f3a"
            ],
            [
             0.8888888888888888,
             "#fdca26"
            ],
            [
             1,
             "#f0f921"
            ]
           ],
           "sequentialminus": [
            [
             0,
             "#0d0887"
            ],
            [
             0.1111111111111111,
             "#46039f"
            ],
            [
             0.2222222222222222,
             "#7201a8"
            ],
            [
             0.3333333333333333,
             "#9c179e"
            ],
            [
             0.4444444444444444,
             "#bd3786"
            ],
            [
             0.5555555555555556,
             "#d8576b"
            ],
            [
             0.6666666666666666,
             "#ed7953"
            ],
            [
             0.7777777777777778,
             "#fb9f3a"
            ],
            [
             0.8888888888888888,
             "#fdca26"
            ],
            [
             1,
             "#f0f921"
            ]
           ]
          },
          "colorway": [
           "#636efa",
           "#EF553B",
           "#00cc96",
           "#ab63fa",
           "#FFA15A",
           "#19d3f3",
           "#FF6692",
           "#B6E880",
           "#FF97FF",
           "#FECB52"
          ],
          "font": {
           "color": "#2a3f5f"
          },
          "geo": {
           "bgcolor": "white",
           "lakecolor": "white",
           "landcolor": "#E5ECF6",
           "showlakes": true,
           "showland": true,
           "subunitcolor": "white"
          },
          "hoverlabel": {
           "align": "left"
          },
          "hovermode": "closest",
          "mapbox": {
           "style": "light"
          },
          "paper_bgcolor": "white",
          "plot_bgcolor": "#E5ECF6",
          "polar": {
           "angularaxis": {
            "gridcolor": "white",
            "linecolor": "white",
            "ticks": ""
           },
           "bgcolor": "#E5ECF6",
           "radialaxis": {
            "gridcolor": "white",
            "linecolor": "white",
            "ticks": ""
           }
          },
          "scene": {
           "xaxis": {
            "backgroundcolor": "#E5ECF6",
            "gridcolor": "white",
            "gridwidth": 2,
            "linecolor": "white",
            "showbackground": true,
            "ticks": "",
            "zerolinecolor": "white"
           },
           "yaxis": {
            "backgroundcolor": "#E5ECF6",
            "gridcolor": "white",
            "gridwidth": 2,
            "linecolor": "white",
            "showbackground": true,
            "ticks": "",
            "zerolinecolor": "white"
           },
           "zaxis": {
            "backgroundcolor": "#E5ECF6",
            "gridcolor": "white",
            "gridwidth": 2,
            "linecolor": "white",
            "showbackground": true,
            "ticks": "",
            "zerolinecolor": "white"
           }
          },
          "shapedefaults": {
           "line": {
            "color": "#2a3f5f"
           }
          },
          "ternary": {
           "aaxis": {
            "gridcolor": "white",
            "linecolor": "white",
            "ticks": ""
           },
           "baxis": {
            "gridcolor": "white",
            "linecolor": "white",
            "ticks": ""
           },
           "bgcolor": "#E5ECF6",
           "caxis": {
            "gridcolor": "white",
            "linecolor": "white",
            "ticks": ""
           }
          },
          "title": {
           "x": 0.05
          },
          "xaxis": {
           "automargin": true,
           "gridcolor": "white",
           "linecolor": "white",
           "ticks": "",
           "title": {
            "standoff": 15
           },
           "zerolinecolor": "white",
           "zerolinewidth": 2
          },
          "yaxis": {
           "automargin": true,
           "gridcolor": "white",
           "linecolor": "white",
           "ticks": "",
           "title": {
            "standoff": 15
           },
           "zerolinecolor": "white",
           "zerolinewidth": 2
          }
         }
        },
        "title": {
         "font": {
          "color": "#4D5663"
         }
        },
        "xaxis": {
         "gridcolor": "#E1E5ED",
         "showgrid": true,
         "tickfont": {
          "color": "#4D5663"
         },
         "title": {
          "font": {
           "color": "#4D5663"
          },
          "text": ""
         },
         "zerolinecolor": "#E1E5ED"
        },
        "yaxis": {
         "gridcolor": "#E1E5ED",
         "showgrid": true,
         "tickfont": {
          "color": "#4D5663"
         },
         "title": {
          "font": {
           "color": "#4D5663"
          },
          "text": ""
         },
         "zerolinecolor": "#E1E5ED"
        }
       }
      },
      "text/html": [
       "<div>                            <div id=\"b09cf2d9-6ba8-4344-9385-bcab76dd2018\" class=\"plotly-graph-div\" style=\"height:525px; width:100%;\"></div>            <script type=\"text/javascript\">                require([\"plotly\"], function(Plotly) {                    window.PLOTLYENV=window.PLOTLYENV || {};\n",
       "                    window.PLOTLYENV.BASE_URL='https://plot.ly';                                    if (document.getElementById(\"b09cf2d9-6ba8-4344-9385-bcab76dd2018\")) {                    Plotly.newPlot(                        \"b09cf2d9-6ba8-4344-9385-bcab76dd2018\",                        [{\"marker\":{\"color\":\"rgba(255, 153, 51, 0.6)\",\"line\":{\"color\":\"rgba(255, 153, 51, 1.0)\",\"width\":1}},\"name\":\"Values\",\"orientation\":\"v\",\"text\":\"\",\"x\":[\"A\",\"B\",\"C\"],\"y\":[32,43,50],\"type\":\"bar\"}],                        {\"legend\":{\"bgcolor\":\"#F5F6F9\",\"font\":{\"color\":\"#4D5663\"}},\"paper_bgcolor\":\"#F5F6F9\",\"plot_bgcolor\":\"#F5F6F9\",\"template\":{\"data\":{\"barpolar\":[{\"marker\":{\"line\":{\"color\":\"#E5ECF6\",\"width\":0.5},\"pattern\":{\"fillmode\":\"overlay\",\"size\":10,\"solidity\":0.2}},\"type\":\"barpolar\"}],\"bar\":[{\"error_x\":{\"color\":\"#2a3f5f\"},\"error_y\":{\"color\":\"#2a3f5f\"},\"marker\":{\"line\":{\"color\":\"#E5ECF6\",\"width\":0.5},\"pattern\":{\"fillmode\":\"overlay\",\"size\":10,\"solidity\":0.2}},\"type\":\"bar\"}],\"carpet\":[{\"aaxis\":{\"endlinecolor\":\"#2a3f5f\",\"gridcolor\":\"white\",\"linecolor\":\"white\",\"minorgridcolor\":\"white\",\"startlinecolor\":\"#2a3f5f\"},\"baxis\":{\"endlinecolor\":\"#2a3f5f\",\"gridcolor\":\"white\",\"linecolor\":\"white\",\"minorgridcolor\":\"white\",\"startlinecolor\":\"#2a3f5f\"},\"type\":\"carpet\"}],\"choropleth\":[{\"colorbar\":{\"outlinewidth\":0,\"ticks\":\"\"},\"type\":\"choropleth\"}],\"contourcarpet\":[{\"colorbar\":{\"outlinewidth\":0,\"ticks\":\"\"},\"type\":\"contourcarpet\"}],\"contour\":[{\"colorbar\":{\"outlinewidth\":0,\"ticks\":\"\"},\"colorscale\":[[0.0,\"#0d0887\"],[0.1111111111111111,\"#46039f\"],[0.2222222222222222,\"#7201a8\"],[0.3333333333333333,\"#9c179e\"],[0.4444444444444444,\"#bd3786\"],[0.5555555555555556,\"#d8576b\"],[0.6666666666666666,\"#ed7953\"],[0.7777777777777778,\"#fb9f3a\"],[0.8888888888888888,\"#fdca26\"],[1.0,\"#f0f921\"]],\"type\":\"contour\"}],\"heatmapgl\":[{\"colorbar\":{\"outlinewidth\":0,\"ticks\":\"\"},\"colorscale\":[[0.0,\"#0d0887\"],[0.1111111111111111,\"#46039f\"],[0.2222222222222222,\"#7201a8\"],[0.3333333333333333,\"#9c179e\"],[0.4444444444444444,\"#bd3786\"],[0.5555555555555556,\"#d8576b\"],[0.6666666666666666,\"#ed7953\"],[0.7777777777777778,\"#fb9f3a\"],[0.8888888888888888,\"#fdca26\"],[1.0,\"#f0f921\"]],\"type\":\"heatmapgl\"}],\"heatmap\":[{\"colorbar\":{\"outlinewidth\":0,\"ticks\":\"\"},\"colorscale\":[[0.0,\"#0d0887\"],[0.1111111111111111,\"#46039f\"],[0.2222222222222222,\"#7201a8\"],[0.3333333333333333,\"#9c179e\"],[0.4444444444444444,\"#bd3786\"],[0.5555555555555556,\"#d8576b\"],[0.6666666666666666,\"#ed7953\"],[0.7777777777777778,\"#fb9f3a\"],[0.8888888888888888,\"#fdca26\"],[1.0,\"#f0f921\"]],\"type\":\"heatmap\"}],\"histogram2dcontour\":[{\"colorbar\":{\"outlinewidth\":0,\"ticks\":\"\"},\"colorscale\":[[0.0,\"#0d0887\"],[0.1111111111111111,\"#46039f\"],[0.2222222222222222,\"#7201a8\"],[0.3333333333333333,\"#9c179e\"],[0.4444444444444444,\"#bd3786\"],[0.5555555555555556,\"#d8576b\"],[0.6666666666666666,\"#ed7953\"],[0.7777777777777778,\"#fb9f3a\"],[0.8888888888888888,\"#fdca26\"],[1.0,\"#f0f921\"]],\"type\":\"histogram2dcontour\"}],\"histogram2d\":[{\"colorbar\":{\"outlinewidth\":0,\"ticks\":\"\"},\"colorscale\":[[0.0,\"#0d0887\"],[0.1111111111111111,\"#46039f\"],[0.2222222222222222,\"#7201a8\"],[0.3333333333333333,\"#9c179e\"],[0.4444444444444444,\"#bd3786\"],[0.5555555555555556,\"#d8576b\"],[0.6666666666666666,\"#ed7953\"],[0.7777777777777778,\"#fb9f3a\"],[0.8888888888888888,\"#fdca26\"],[1.0,\"#f0f921\"]],\"type\":\"histogram2d\"}],\"histogram\":[{\"marker\":{\"pattern\":{\"fillmode\":\"overlay\",\"size\":10,\"solidity\":0.2}},\"type\":\"histogram\"}],\"mesh3d\":[{\"colorbar\":{\"outlinewidth\":0,\"ticks\":\"\"},\"type\":\"mesh3d\"}],\"parcoords\":[{\"line\":{\"colorbar\":{\"outlinewidth\":0,\"ticks\":\"\"}},\"type\":\"parcoords\"}],\"pie\":[{\"automargin\":true,\"type\":\"pie\"}],\"scatter3d\":[{\"line\":{\"colorbar\":{\"outlinewidth\":0,\"ticks\":\"\"}},\"marker\":{\"colorbar\":{\"outlinewidth\":0,\"ticks\":\"\"}},\"type\":\"scatter3d\"}],\"scattercarpet\":[{\"marker\":{\"colorbar\":{\"outlinewidth\":0,\"ticks\":\"\"}},\"type\":\"scattercarpet\"}],\"scattergeo\":[{\"marker\":{\"colorbar\":{\"outlinewidth\":0,\"ticks\":\"\"}},\"type\":\"scattergeo\"}],\"scattergl\":[{\"marker\":{\"colorbar\":{\"outlinewidth\":0,\"ticks\":\"\"}},\"type\":\"scattergl\"}],\"scattermapbox\":[{\"marker\":{\"colorbar\":{\"outlinewidth\":0,\"ticks\":\"\"}},\"type\":\"scattermapbox\"}],\"scatterpolargl\":[{\"marker\":{\"colorbar\":{\"outlinewidth\":0,\"ticks\":\"\"}},\"type\":\"scatterpolargl\"}],\"scatterpolar\":[{\"marker\":{\"colorbar\":{\"outlinewidth\":0,\"ticks\":\"\"}},\"type\":\"scatterpolar\"}],\"scatter\":[{\"fillpattern\":{\"fillmode\":\"overlay\",\"size\":10,\"solidity\":0.2},\"type\":\"scatter\"}],\"scatterternary\":[{\"marker\":{\"colorbar\":{\"outlinewidth\":0,\"ticks\":\"\"}},\"type\":\"scatterternary\"}],\"surface\":[{\"colorbar\":{\"outlinewidth\":0,\"ticks\":\"\"},\"colorscale\":[[0.0,\"#0d0887\"],[0.1111111111111111,\"#46039f\"],[0.2222222222222222,\"#7201a8\"],[0.3333333333333333,\"#9c179e\"],[0.4444444444444444,\"#bd3786\"],[0.5555555555555556,\"#d8576b\"],[0.6666666666666666,\"#ed7953\"],[0.7777777777777778,\"#fb9f3a\"],[0.8888888888888888,\"#fdca26\"],[1.0,\"#f0f921\"]],\"type\":\"surface\"}],\"table\":[{\"cells\":{\"fill\":{\"color\":\"#EBF0F8\"},\"line\":{\"color\":\"white\"}},\"header\":{\"fill\":{\"color\":\"#C8D4E3\"},\"line\":{\"color\":\"white\"}},\"type\":\"table\"}]},\"layout\":{\"annotationdefaults\":{\"arrowcolor\":\"#2a3f5f\",\"arrowhead\":0,\"arrowwidth\":1},\"autotypenumbers\":\"strict\",\"coloraxis\":{\"colorbar\":{\"outlinewidth\":0,\"ticks\":\"\"}},\"colorscale\":{\"diverging\":[[0,\"#8e0152\"],[0.1,\"#c51b7d\"],[0.2,\"#de77ae\"],[0.3,\"#f1b6da\"],[0.4,\"#fde0ef\"],[0.5,\"#f7f7f7\"],[0.6,\"#e6f5d0\"],[0.7,\"#b8e186\"],[0.8,\"#7fbc41\"],[0.9,\"#4d9221\"],[1,\"#276419\"]],\"sequential\":[[0.0,\"#0d0887\"],[0.1111111111111111,\"#46039f\"],[0.2222222222222222,\"#7201a8\"],[0.3333333333333333,\"#9c179e\"],[0.4444444444444444,\"#bd3786\"],[0.5555555555555556,\"#d8576b\"],[0.6666666666666666,\"#ed7953\"],[0.7777777777777778,\"#fb9f3a\"],[0.8888888888888888,\"#fdca26\"],[1.0,\"#f0f921\"]],\"sequentialminus\":[[0.0,\"#0d0887\"],[0.1111111111111111,\"#46039f\"],[0.2222222222222222,\"#7201a8\"],[0.3333333333333333,\"#9c179e\"],[0.4444444444444444,\"#bd3786\"],[0.5555555555555556,\"#d8576b\"],[0.6666666666666666,\"#ed7953\"],[0.7777777777777778,\"#fb9f3a\"],[0.8888888888888888,\"#fdca26\"],[1.0,\"#f0f921\"]]},\"colorway\":[\"#636efa\",\"#EF553B\",\"#00cc96\",\"#ab63fa\",\"#FFA15A\",\"#19d3f3\",\"#FF6692\",\"#B6E880\",\"#FF97FF\",\"#FECB52\"],\"font\":{\"color\":\"#2a3f5f\"},\"geo\":{\"bgcolor\":\"white\",\"lakecolor\":\"white\",\"landcolor\":\"#E5ECF6\",\"showlakes\":true,\"showland\":true,\"subunitcolor\":\"white\"},\"hoverlabel\":{\"align\":\"left\"},\"hovermode\":\"closest\",\"mapbox\":{\"style\":\"light\"},\"paper_bgcolor\":\"white\",\"plot_bgcolor\":\"#E5ECF6\",\"polar\":{\"angularaxis\":{\"gridcolor\":\"white\",\"linecolor\":\"white\",\"ticks\":\"\"},\"bgcolor\":\"#E5ECF6\",\"radialaxis\":{\"gridcolor\":\"white\",\"linecolor\":\"white\",\"ticks\":\"\"}},\"scene\":{\"xaxis\":{\"backgroundcolor\":\"#E5ECF6\",\"gridcolor\":\"white\",\"gridwidth\":2,\"linecolor\":\"white\",\"showbackground\":true,\"ticks\":\"\",\"zerolinecolor\":\"white\"},\"yaxis\":{\"backgroundcolor\":\"#E5ECF6\",\"gridcolor\":\"white\",\"gridwidth\":2,\"linecolor\":\"white\",\"showbackground\":true,\"ticks\":\"\",\"zerolinecolor\":\"white\"},\"zaxis\":{\"backgroundcolor\":\"#E5ECF6\",\"gridcolor\":\"white\",\"gridwidth\":2,\"linecolor\":\"white\",\"showbackground\":true,\"ticks\":\"\",\"zerolinecolor\":\"white\"}},\"shapedefaults\":{\"line\":{\"color\":\"#2a3f5f\"}},\"ternary\":{\"aaxis\":{\"gridcolor\":\"white\",\"linecolor\":\"white\",\"ticks\":\"\"},\"baxis\":{\"gridcolor\":\"white\",\"linecolor\":\"white\",\"ticks\":\"\"},\"bgcolor\":\"#E5ECF6\",\"caxis\":{\"gridcolor\":\"white\",\"linecolor\":\"white\",\"ticks\":\"\"}},\"title\":{\"x\":0.05},\"xaxis\":{\"automargin\":true,\"gridcolor\":\"white\",\"linecolor\":\"white\",\"ticks\":\"\",\"title\":{\"standoff\":15},\"zerolinecolor\":\"white\",\"zerolinewidth\":2},\"yaxis\":{\"automargin\":true,\"gridcolor\":\"white\",\"linecolor\":\"white\",\"ticks\":\"\",\"title\":{\"standoff\":15},\"zerolinecolor\":\"white\",\"zerolinewidth\":2}}},\"title\":{\"font\":{\"color\":\"#4D5663\"}},\"xaxis\":{\"gridcolor\":\"#E1E5ED\",\"showgrid\":true,\"tickfont\":{\"color\":\"#4D5663\"},\"title\":{\"font\":{\"color\":\"#4D5663\"},\"text\":\"\"},\"zerolinecolor\":\"#E1E5ED\"},\"yaxis\":{\"gridcolor\":\"#E1E5ED\",\"showgrid\":true,\"tickfont\":{\"color\":\"#4D5663\"},\"title\":{\"font\":{\"color\":\"#4D5663\"},\"text\":\"\"},\"zerolinecolor\":\"#E1E5ED\"}},                        {\"showLink\": true, \"linkText\": \"Export to plot.ly\", \"plotlyServerURL\": \"https://plot.ly\", \"responsive\": true}                    ).then(function(){\n",
       "                            \n",
       "var gd = document.getElementById('b09cf2d9-6ba8-4344-9385-bcab76dd2018');\n",
       "var x = new MutationObserver(function (mutations, observer) {{\n",
       "        var display = window.getComputedStyle(gd).display;\n",
       "        if (!display || display === 'none') {{\n",
       "            console.log([gd, 'removed!']);\n",
       "            Plotly.purge(gd);\n",
       "            observer.disconnect();\n",
       "        }}\n",
       "}});\n",
       "\n",
       "// Listen for the removal of the full notebook cells\n",
       "var notebookContainer = gd.closest('#notebook-container');\n",
       "if (notebookContainer) {{\n",
       "    x.observe(notebookContainer, {childList: true});\n",
       "}}\n",
       "\n",
       "// Listen for the clearing of the current output cell\n",
       "var outputEl = gd.closest('.output');\n",
       "if (outputEl) {{\n",
       "    x.observe(outputEl, {childList: true});\n",
       "}}\n",
       "\n",
       "                        })                };                });            </script>        </div>"
      ]
     },
     "metadata": {},
     "output_type": "display_data"
    }
   ],
   "source": [
    "df2.iplot(kind='bar',x='Category',y='Values')"
   ]
  },
  {
   "cell_type": "code",
   "execution_count": 14,
   "metadata": {
    "collapsed": false
   },
   "outputs": [
    {
     "data": {
      "application/vnd.plotly.v1+json": {
       "config": {
        "linkText": "Export to plot.ly",
        "plotlyServerURL": "https://plot.ly",
        "showLink": true
       },
       "data": [
        {
         "marker": {
          "color": "rgba(255, 153, 51, 0.6)",
          "line": {
           "color": "rgba(255, 153, 51, 1.0)",
           "width": 1
          }
         },
         "name": "None",
         "orientation": "v",
         "text": "",
         "type": "bar",
         "x": [
          "A",
          "B",
          "C",
          "D"
         ],
         "y": [
          100,
          100,
          100,
          100
         ]
        }
       ],
       "layout": {
        "legend": {
         "bgcolor": "#F5F6F9",
         "font": {
          "color": "#4D5663"
         }
        },
        "paper_bgcolor": "#F5F6F9",
        "plot_bgcolor": "#F5F6F9",
        "template": {
         "data": {
          "bar": [
           {
            "error_x": {
             "color": "#2a3f5f"
            },
            "error_y": {
             "color": "#2a3f5f"
            },
            "marker": {
             "line": {
              "color": "#E5ECF6",
              "width": 0.5
             },
             "pattern": {
              "fillmode": "overlay",
              "size": 10,
              "solidity": 0.2
             }
            },
            "type": "bar"
           }
          ],
          "barpolar": [
           {
            "marker": {
             "line": {
              "color": "#E5ECF6",
              "width": 0.5
             },
             "pattern": {
              "fillmode": "overlay",
              "size": 10,
              "solidity": 0.2
             }
            },
            "type": "barpolar"
           }
          ],
          "carpet": [
           {
            "aaxis": {
             "endlinecolor": "#2a3f5f",
             "gridcolor": "white",
             "linecolor": "white",
             "minorgridcolor": "white",
             "startlinecolor": "#2a3f5f"
            },
            "baxis": {
             "endlinecolor": "#2a3f5f",
             "gridcolor": "white",
             "linecolor": "white",
             "minorgridcolor": "white",
             "startlinecolor": "#2a3f5f"
            },
            "type": "carpet"
           }
          ],
          "choropleth": [
           {
            "colorbar": {
             "outlinewidth": 0,
             "ticks": ""
            },
            "type": "choropleth"
           }
          ],
          "contour": [
           {
            "colorbar": {
             "outlinewidth": 0,
             "ticks": ""
            },
            "colorscale": [
             [
              0,
              "#0d0887"
             ],
             [
              0.1111111111111111,
              "#46039f"
             ],
             [
              0.2222222222222222,
              "#7201a8"
             ],
             [
              0.3333333333333333,
              "#9c179e"
             ],
             [
              0.4444444444444444,
              "#bd3786"
             ],
             [
              0.5555555555555556,
              "#d8576b"
             ],
             [
              0.6666666666666666,
              "#ed7953"
             ],
             [
              0.7777777777777778,
              "#fb9f3a"
             ],
             [
              0.8888888888888888,
              "#fdca26"
             ],
             [
              1,
              "#f0f921"
             ]
            ],
            "type": "contour"
           }
          ],
          "contourcarpet": [
           {
            "colorbar": {
             "outlinewidth": 0,
             "ticks": ""
            },
            "type": "contourcarpet"
           }
          ],
          "heatmap": [
           {
            "colorbar": {
             "outlinewidth": 0,
             "ticks": ""
            },
            "colorscale": [
             [
              0,
              "#0d0887"
             ],
             [
              0.1111111111111111,
              "#46039f"
             ],
             [
              0.2222222222222222,
              "#7201a8"
             ],
             [
              0.3333333333333333,
              "#9c179e"
             ],
             [
              0.4444444444444444,
              "#bd3786"
             ],
             [
              0.5555555555555556,
              "#d8576b"
             ],
             [
              0.6666666666666666,
              "#ed7953"
             ],
             [
              0.7777777777777778,
              "#fb9f3a"
             ],
             [
              0.8888888888888888,
              "#fdca26"
             ],
             [
              1,
              "#f0f921"
             ]
            ],
            "type": "heatmap"
           }
          ],
          "heatmapgl": [
           {
            "colorbar": {
             "outlinewidth": 0,
             "ticks": ""
            },
            "colorscale": [
             [
              0,
              "#0d0887"
             ],
             [
              0.1111111111111111,
              "#46039f"
             ],
             [
              0.2222222222222222,
              "#7201a8"
             ],
             [
              0.3333333333333333,
              "#9c179e"
             ],
             [
              0.4444444444444444,
              "#bd3786"
             ],
             [
              0.5555555555555556,
              "#d8576b"
             ],
             [
              0.6666666666666666,
              "#ed7953"
             ],
             [
              0.7777777777777778,
              "#fb9f3a"
             ],
             [
              0.8888888888888888,
              "#fdca26"
             ],
             [
              1,
              "#f0f921"
             ]
            ],
            "type": "heatmapgl"
           }
          ],
          "histogram": [
           {
            "marker": {
             "pattern": {
              "fillmode": "overlay",
              "size": 10,
              "solidity": 0.2
             }
            },
            "type": "histogram"
           }
          ],
          "histogram2d": [
           {
            "colorbar": {
             "outlinewidth": 0,
             "ticks": ""
            },
            "colorscale": [
             [
              0,
              "#0d0887"
             ],
             [
              0.1111111111111111,
              "#46039f"
             ],
             [
              0.2222222222222222,
              "#7201a8"
             ],
             [
              0.3333333333333333,
              "#9c179e"
             ],
             [
              0.4444444444444444,
              "#bd3786"
             ],
             [
              0.5555555555555556,
              "#d8576b"
             ],
             [
              0.6666666666666666,
              "#ed7953"
             ],
             [
              0.7777777777777778,
              "#fb9f3a"
             ],
             [
              0.8888888888888888,
              "#fdca26"
             ],
             [
              1,
              "#f0f921"
             ]
            ],
            "type": "histogram2d"
           }
          ],
          "histogram2dcontour": [
           {
            "colorbar": {
             "outlinewidth": 0,
             "ticks": ""
            },
            "colorscale": [
             [
              0,
              "#0d0887"
             ],
             [
              0.1111111111111111,
              "#46039f"
             ],
             [
              0.2222222222222222,
              "#7201a8"
             ],
             [
              0.3333333333333333,
              "#9c179e"
             ],
             [
              0.4444444444444444,
              "#bd3786"
             ],
             [
              0.5555555555555556,
              "#d8576b"
             ],
             [
              0.6666666666666666,
              "#ed7953"
             ],
             [
              0.7777777777777778,
              "#fb9f3a"
             ],
             [
              0.8888888888888888,
              "#fdca26"
             ],
             [
              1,
              "#f0f921"
             ]
            ],
            "type": "histogram2dcontour"
           }
          ],
          "mesh3d": [
           {
            "colorbar": {
             "outlinewidth": 0,
             "ticks": ""
            },
            "type": "mesh3d"
           }
          ],
          "parcoords": [
           {
            "line": {
             "colorbar": {
              "outlinewidth": 0,
              "ticks": ""
             }
            },
            "type": "parcoords"
           }
          ],
          "pie": [
           {
            "automargin": true,
            "type": "pie"
           }
          ],
          "scatter": [
           {
            "fillpattern": {
             "fillmode": "overlay",
             "size": 10,
             "solidity": 0.2
            },
            "type": "scatter"
           }
          ],
          "scatter3d": [
           {
            "line": {
             "colorbar": {
              "outlinewidth": 0,
              "ticks": ""
             }
            },
            "marker": {
             "colorbar": {
              "outlinewidth": 0,
              "ticks": ""
             }
            },
            "type": "scatter3d"
           }
          ],
          "scattercarpet": [
           {
            "marker": {
             "colorbar": {
              "outlinewidth": 0,
              "ticks": ""
             }
            },
            "type": "scattercarpet"
           }
          ],
          "scattergeo": [
           {
            "marker": {
             "colorbar": {
              "outlinewidth": 0,
              "ticks": ""
             }
            },
            "type": "scattergeo"
           }
          ],
          "scattergl": [
           {
            "marker": {
             "colorbar": {
              "outlinewidth": 0,
              "ticks": ""
             }
            },
            "type": "scattergl"
           }
          ],
          "scattermapbox": [
           {
            "marker": {
             "colorbar": {
              "outlinewidth": 0,
              "ticks": ""
             }
            },
            "type": "scattermapbox"
           }
          ],
          "scatterpolar": [
           {
            "marker": {
             "colorbar": {
              "outlinewidth": 0,
              "ticks": ""
             }
            },
            "type": "scatterpolar"
           }
          ],
          "scatterpolargl": [
           {
            "marker": {
             "colorbar": {
              "outlinewidth": 0,
              "ticks": ""
             }
            },
            "type": "scatterpolargl"
           }
          ],
          "scatterternary": [
           {
            "marker": {
             "colorbar": {
              "outlinewidth": 0,
              "ticks": ""
             }
            },
            "type": "scatterternary"
           }
          ],
          "surface": [
           {
            "colorbar": {
             "outlinewidth": 0,
             "ticks": ""
            },
            "colorscale": [
             [
              0,
              "#0d0887"
             ],
             [
              0.1111111111111111,
              "#46039f"
             ],
             [
              0.2222222222222222,
              "#7201a8"
             ],
             [
              0.3333333333333333,
              "#9c179e"
             ],
             [
              0.4444444444444444,
              "#bd3786"
             ],
             [
              0.5555555555555556,
              "#d8576b"
             ],
             [
              0.6666666666666666,
              "#ed7953"
             ],
             [
              0.7777777777777778,
              "#fb9f3a"
             ],
             [
              0.8888888888888888,
              "#fdca26"
             ],
             [
              1,
              "#f0f921"
             ]
            ],
            "type": "surface"
           }
          ],
          "table": [
           {
            "cells": {
             "fill": {
              "color": "#EBF0F8"
             },
             "line": {
              "color": "white"
             }
            },
            "header": {
             "fill": {
              "color": "#C8D4E3"
             },
             "line": {
              "color": "white"
             }
            },
            "type": "table"
           }
          ]
         },
         "layout": {
          "annotationdefaults": {
           "arrowcolor": "#2a3f5f",
           "arrowhead": 0,
           "arrowwidth": 1
          },
          "autotypenumbers": "strict",
          "coloraxis": {
           "colorbar": {
            "outlinewidth": 0,
            "ticks": ""
           }
          },
          "colorscale": {
           "diverging": [
            [
             0,
             "#8e0152"
            ],
            [
             0.1,
             "#c51b7d"
            ],
            [
             0.2,
             "#de77ae"
            ],
            [
             0.3,
             "#f1b6da"
            ],
            [
             0.4,
             "#fde0ef"
            ],
            [
             0.5,
             "#f7f7f7"
            ],
            [
             0.6,
             "#e6f5d0"
            ],
            [
             0.7,
             "#b8e186"
            ],
            [
             0.8,
             "#7fbc41"
            ],
            [
             0.9,
             "#4d9221"
            ],
            [
             1,
             "#276419"
            ]
           ],
           "sequential": [
            [
             0,
             "#0d0887"
            ],
            [
             0.1111111111111111,
             "#46039f"
            ],
            [
             0.2222222222222222,
             "#7201a8"
            ],
            [
             0.3333333333333333,
             "#9c179e"
            ],
            [
             0.4444444444444444,
             "#bd3786"
            ],
            [
             0.5555555555555556,
             "#d8576b"
            ],
            [
             0.6666666666666666,
             "#ed7953"
            ],
            [
             0.7777777777777778,
             "#fb9f3a"
            ],
            [
             0.8888888888888888,
             "#fdca26"
            ],
            [
             1,
             "#f0f921"
            ]
           ],
           "sequentialminus": [
            [
             0,
             "#0d0887"
            ],
            [
             0.1111111111111111,
             "#46039f"
            ],
            [
             0.2222222222222222,
             "#7201a8"
            ],
            [
             0.3333333333333333,
             "#9c179e"
            ],
            [
             0.4444444444444444,
             "#bd3786"
            ],
            [
             0.5555555555555556,
             "#d8576b"
            ],
            [
             0.6666666666666666,
             "#ed7953"
            ],
            [
             0.7777777777777778,
             "#fb9f3a"
            ],
            [
             0.8888888888888888,
             "#fdca26"
            ],
            [
             1,
             "#f0f921"
            ]
           ]
          },
          "colorway": [
           "#636efa",
           "#EF553B",
           "#00cc96",
           "#ab63fa",
           "#FFA15A",
           "#19d3f3",
           "#FF6692",
           "#B6E880",
           "#FF97FF",
           "#FECB52"
          ],
          "font": {
           "color": "#2a3f5f"
          },
          "geo": {
           "bgcolor": "white",
           "lakecolor": "white",
           "landcolor": "#E5ECF6",
           "showlakes": true,
           "showland": true,
           "subunitcolor": "white"
          },
          "hoverlabel": {
           "align": "left"
          },
          "hovermode": "closest",
          "mapbox": {
           "style": "light"
          },
          "paper_bgcolor": "white",
          "plot_bgcolor": "#E5ECF6",
          "polar": {
           "angularaxis": {
            "gridcolor": "white",
            "linecolor": "white",
            "ticks": ""
           },
           "bgcolor": "#E5ECF6",
           "radialaxis": {
            "gridcolor": "white",
            "linecolor": "white",
            "ticks": ""
           }
          },
          "scene": {
           "xaxis": {
            "backgroundcolor": "#E5ECF6",
            "gridcolor": "white",
            "gridwidth": 2,
            "linecolor": "white",
            "showbackground": true,
            "ticks": "",
            "zerolinecolor": "white"
           },
           "yaxis": {
            "backgroundcolor": "#E5ECF6",
            "gridcolor": "white",
            "gridwidth": 2,
            "linecolor": "white",
            "showbackground": true,
            "ticks": "",
            "zerolinecolor": "white"
           },
           "zaxis": {
            "backgroundcolor": "#E5ECF6",
            "gridcolor": "white",
            "gridwidth": 2,
            "linecolor": "white",
            "showbackground": true,
            "ticks": "",
            "zerolinecolor": "white"
           }
          },
          "shapedefaults": {
           "line": {
            "color": "#2a3f5f"
           }
          },
          "ternary": {
           "aaxis": {
            "gridcolor": "white",
            "linecolor": "white",
            "ticks": ""
           },
           "baxis": {
            "gridcolor": "white",
            "linecolor": "white",
            "ticks": ""
           },
           "bgcolor": "#E5ECF6",
           "caxis": {
            "gridcolor": "white",
            "linecolor": "white",
            "ticks": ""
           }
          },
          "title": {
           "x": 0.05
          },
          "xaxis": {
           "automargin": true,
           "gridcolor": "white",
           "linecolor": "white",
           "ticks": "",
           "title": {
            "standoff": 15
           },
           "zerolinecolor": "white",
           "zerolinewidth": 2
          },
          "yaxis": {
           "automargin": true,
           "gridcolor": "white",
           "linecolor": "white",
           "ticks": "",
           "title": {
            "standoff": 15
           },
           "zerolinecolor": "white",
           "zerolinewidth": 2
          }
         }
        },
        "title": {
         "font": {
          "color": "#4D5663"
         }
        },
        "xaxis": {
         "gridcolor": "#E1E5ED",
         "showgrid": true,
         "tickfont": {
          "color": "#4D5663"
         },
         "title": {
          "font": {
           "color": "#4D5663"
          },
          "text": ""
         },
         "zerolinecolor": "#E1E5ED"
        },
        "yaxis": {
         "gridcolor": "#E1E5ED",
         "showgrid": true,
         "tickfont": {
          "color": "#4D5663"
         },
         "title": {
          "font": {
           "color": "#4D5663"
          },
          "text": ""
         },
         "zerolinecolor": "#E1E5ED"
        }
       }
      },
      "text/html": [
       "<div>                            <div id=\"08b4a81b-af49-419e-bc0a-db223ce99c47\" class=\"plotly-graph-div\" style=\"height:525px; width:100%;\"></div>            <script type=\"text/javascript\">                require([\"plotly\"], function(Plotly) {                    window.PLOTLYENV=window.PLOTLYENV || {};\n",
       "                    window.PLOTLYENV.BASE_URL='https://plot.ly';                                    if (document.getElementById(\"08b4a81b-af49-419e-bc0a-db223ce99c47\")) {                    Plotly.newPlot(                        \"08b4a81b-af49-419e-bc0a-db223ce99c47\",                        [{\"marker\":{\"color\":\"rgba(255, 153, 51, 0.6)\",\"line\":{\"color\":\"rgba(255, 153, 51, 1.0)\",\"width\":1}},\"name\":\"None\",\"orientation\":\"v\",\"text\":\"\",\"x\":[\"A\",\"B\",\"C\",\"D\"],\"y\":[100,100,100,100],\"type\":\"bar\"}],                        {\"legend\":{\"bgcolor\":\"#F5F6F9\",\"font\":{\"color\":\"#4D5663\"}},\"paper_bgcolor\":\"#F5F6F9\",\"plot_bgcolor\":\"#F5F6F9\",\"template\":{\"data\":{\"barpolar\":[{\"marker\":{\"line\":{\"color\":\"#E5ECF6\",\"width\":0.5},\"pattern\":{\"fillmode\":\"overlay\",\"size\":10,\"solidity\":0.2}},\"type\":\"barpolar\"}],\"bar\":[{\"error_x\":{\"color\":\"#2a3f5f\"},\"error_y\":{\"color\":\"#2a3f5f\"},\"marker\":{\"line\":{\"color\":\"#E5ECF6\",\"width\":0.5},\"pattern\":{\"fillmode\":\"overlay\",\"size\":10,\"solidity\":0.2}},\"type\":\"bar\"}],\"carpet\":[{\"aaxis\":{\"endlinecolor\":\"#2a3f5f\",\"gridcolor\":\"white\",\"linecolor\":\"white\",\"minorgridcolor\":\"white\",\"startlinecolor\":\"#2a3f5f\"},\"baxis\":{\"endlinecolor\":\"#2a3f5f\",\"gridcolor\":\"white\",\"linecolor\":\"white\",\"minorgridcolor\":\"white\",\"startlinecolor\":\"#2a3f5f\"},\"type\":\"carpet\"}],\"choropleth\":[{\"colorbar\":{\"outlinewidth\":0,\"ticks\":\"\"},\"type\":\"choropleth\"}],\"contourcarpet\":[{\"colorbar\":{\"outlinewidth\":0,\"ticks\":\"\"},\"type\":\"contourcarpet\"}],\"contour\":[{\"colorbar\":{\"outlinewidth\":0,\"ticks\":\"\"},\"colorscale\":[[0.0,\"#0d0887\"],[0.1111111111111111,\"#46039f\"],[0.2222222222222222,\"#7201a8\"],[0.3333333333333333,\"#9c179e\"],[0.4444444444444444,\"#bd3786\"],[0.5555555555555556,\"#d8576b\"],[0.6666666666666666,\"#ed7953\"],[0.7777777777777778,\"#fb9f3a\"],[0.8888888888888888,\"#fdca26\"],[1.0,\"#f0f921\"]],\"type\":\"contour\"}],\"heatmapgl\":[{\"colorbar\":{\"outlinewidth\":0,\"ticks\":\"\"},\"colorscale\":[[0.0,\"#0d0887\"],[0.1111111111111111,\"#46039f\"],[0.2222222222222222,\"#7201a8\"],[0.3333333333333333,\"#9c179e\"],[0.4444444444444444,\"#bd3786\"],[0.5555555555555556,\"#d8576b\"],[0.6666666666666666,\"#ed7953\"],[0.7777777777777778,\"#fb9f3a\"],[0.8888888888888888,\"#fdca26\"],[1.0,\"#f0f921\"]],\"type\":\"heatmapgl\"}],\"heatmap\":[{\"colorbar\":{\"outlinewidth\":0,\"ticks\":\"\"},\"colorscale\":[[0.0,\"#0d0887\"],[0.1111111111111111,\"#46039f\"],[0.2222222222222222,\"#7201a8\"],[0.3333333333333333,\"#9c179e\"],[0.4444444444444444,\"#bd3786\"],[0.5555555555555556,\"#d8576b\"],[0.6666666666666666,\"#ed7953\"],[0.7777777777777778,\"#fb9f3a\"],[0.8888888888888888,\"#fdca26\"],[1.0,\"#f0f921\"]],\"type\":\"heatmap\"}],\"histogram2dcontour\":[{\"colorbar\":{\"outlinewidth\":0,\"ticks\":\"\"},\"colorscale\":[[0.0,\"#0d0887\"],[0.1111111111111111,\"#46039f\"],[0.2222222222222222,\"#7201a8\"],[0.3333333333333333,\"#9c179e\"],[0.4444444444444444,\"#bd3786\"],[0.5555555555555556,\"#d8576b\"],[0.6666666666666666,\"#ed7953\"],[0.7777777777777778,\"#fb9f3a\"],[0.8888888888888888,\"#fdca26\"],[1.0,\"#f0f921\"]],\"type\":\"histogram2dcontour\"}],\"histogram2d\":[{\"colorbar\":{\"outlinewidth\":0,\"ticks\":\"\"},\"colorscale\":[[0.0,\"#0d0887\"],[0.1111111111111111,\"#46039f\"],[0.2222222222222222,\"#7201a8\"],[0.3333333333333333,\"#9c179e\"],[0.4444444444444444,\"#bd3786\"],[0.5555555555555556,\"#d8576b\"],[0.6666666666666666,\"#ed7953\"],[0.7777777777777778,\"#fb9f3a\"],[0.8888888888888888,\"#fdca26\"],[1.0,\"#f0f921\"]],\"type\":\"histogram2d\"}],\"histogram\":[{\"marker\":{\"pattern\":{\"fillmode\":\"overlay\",\"size\":10,\"solidity\":0.2}},\"type\":\"histogram\"}],\"mesh3d\":[{\"colorbar\":{\"outlinewidth\":0,\"ticks\":\"\"},\"type\":\"mesh3d\"}],\"parcoords\":[{\"line\":{\"colorbar\":{\"outlinewidth\":0,\"ticks\":\"\"}},\"type\":\"parcoords\"}],\"pie\":[{\"automargin\":true,\"type\":\"pie\"}],\"scatter3d\":[{\"line\":{\"colorbar\":{\"outlinewidth\":0,\"ticks\":\"\"}},\"marker\":{\"colorbar\":{\"outlinewidth\":0,\"ticks\":\"\"}},\"type\":\"scatter3d\"}],\"scattercarpet\":[{\"marker\":{\"colorbar\":{\"outlinewidth\":0,\"ticks\":\"\"}},\"type\":\"scattercarpet\"}],\"scattergeo\":[{\"marker\":{\"colorbar\":{\"outlinewidth\":0,\"ticks\":\"\"}},\"type\":\"scattergeo\"}],\"scattergl\":[{\"marker\":{\"colorbar\":{\"outlinewidth\":0,\"ticks\":\"\"}},\"type\":\"scattergl\"}],\"scattermapbox\":[{\"marker\":{\"colorbar\":{\"outlinewidth\":0,\"ticks\":\"\"}},\"type\":\"scattermapbox\"}],\"scatterpolargl\":[{\"marker\":{\"colorbar\":{\"outlinewidth\":0,\"ticks\":\"\"}},\"type\":\"scatterpolargl\"}],\"scatterpolar\":[{\"marker\":{\"colorbar\":{\"outlinewidth\":0,\"ticks\":\"\"}},\"type\":\"scatterpolar\"}],\"scatter\":[{\"fillpattern\":{\"fillmode\":\"overlay\",\"size\":10,\"solidity\":0.2},\"type\":\"scatter\"}],\"scatterternary\":[{\"marker\":{\"colorbar\":{\"outlinewidth\":0,\"ticks\":\"\"}},\"type\":\"scatterternary\"}],\"surface\":[{\"colorbar\":{\"outlinewidth\":0,\"ticks\":\"\"},\"colorscale\":[[0.0,\"#0d0887\"],[0.1111111111111111,\"#46039f\"],[0.2222222222222222,\"#7201a8\"],[0.3333333333333333,\"#9c179e\"],[0.4444444444444444,\"#bd3786\"],[0.5555555555555556,\"#d8576b\"],[0.6666666666666666,\"#ed7953\"],[0.7777777777777778,\"#fb9f3a\"],[0.8888888888888888,\"#fdca26\"],[1.0,\"#f0f921\"]],\"type\":\"surface\"}],\"table\":[{\"cells\":{\"fill\":{\"color\":\"#EBF0F8\"},\"line\":{\"color\":\"white\"}},\"header\":{\"fill\":{\"color\":\"#C8D4E3\"},\"line\":{\"color\":\"white\"}},\"type\":\"table\"}]},\"layout\":{\"annotationdefaults\":{\"arrowcolor\":\"#2a3f5f\",\"arrowhead\":0,\"arrowwidth\":1},\"autotypenumbers\":\"strict\",\"coloraxis\":{\"colorbar\":{\"outlinewidth\":0,\"ticks\":\"\"}},\"colorscale\":{\"diverging\":[[0,\"#8e0152\"],[0.1,\"#c51b7d\"],[0.2,\"#de77ae\"],[0.3,\"#f1b6da\"],[0.4,\"#fde0ef\"],[0.5,\"#f7f7f7\"],[0.6,\"#e6f5d0\"],[0.7,\"#b8e186\"],[0.8,\"#7fbc41\"],[0.9,\"#4d9221\"],[1,\"#276419\"]],\"sequential\":[[0.0,\"#0d0887\"],[0.1111111111111111,\"#46039f\"],[0.2222222222222222,\"#7201a8\"],[0.3333333333333333,\"#9c179e\"],[0.4444444444444444,\"#bd3786\"],[0.5555555555555556,\"#d8576b\"],[0.6666666666666666,\"#ed7953\"],[0.7777777777777778,\"#fb9f3a\"],[0.8888888888888888,\"#fdca26\"],[1.0,\"#f0f921\"]],\"sequentialminus\":[[0.0,\"#0d0887\"],[0.1111111111111111,\"#46039f\"],[0.2222222222222222,\"#7201a8\"],[0.3333333333333333,\"#9c179e\"],[0.4444444444444444,\"#bd3786\"],[0.5555555555555556,\"#d8576b\"],[0.6666666666666666,\"#ed7953\"],[0.7777777777777778,\"#fb9f3a\"],[0.8888888888888888,\"#fdca26\"],[1.0,\"#f0f921\"]]},\"colorway\":[\"#636efa\",\"#EF553B\",\"#00cc96\",\"#ab63fa\",\"#FFA15A\",\"#19d3f3\",\"#FF6692\",\"#B6E880\",\"#FF97FF\",\"#FECB52\"],\"font\":{\"color\":\"#2a3f5f\"},\"geo\":{\"bgcolor\":\"white\",\"lakecolor\":\"white\",\"landcolor\":\"#E5ECF6\",\"showlakes\":true,\"showland\":true,\"subunitcolor\":\"white\"},\"hoverlabel\":{\"align\":\"left\"},\"hovermode\":\"closest\",\"mapbox\":{\"style\":\"light\"},\"paper_bgcolor\":\"white\",\"plot_bgcolor\":\"#E5ECF6\",\"polar\":{\"angularaxis\":{\"gridcolor\":\"white\",\"linecolor\":\"white\",\"ticks\":\"\"},\"bgcolor\":\"#E5ECF6\",\"radialaxis\":{\"gridcolor\":\"white\",\"linecolor\":\"white\",\"ticks\":\"\"}},\"scene\":{\"xaxis\":{\"backgroundcolor\":\"#E5ECF6\",\"gridcolor\":\"white\",\"gridwidth\":2,\"linecolor\":\"white\",\"showbackground\":true,\"ticks\":\"\",\"zerolinecolor\":\"white\"},\"yaxis\":{\"backgroundcolor\":\"#E5ECF6\",\"gridcolor\":\"white\",\"gridwidth\":2,\"linecolor\":\"white\",\"showbackground\":true,\"ticks\":\"\",\"zerolinecolor\":\"white\"},\"zaxis\":{\"backgroundcolor\":\"#E5ECF6\",\"gridcolor\":\"white\",\"gridwidth\":2,\"linecolor\":\"white\",\"showbackground\":true,\"ticks\":\"\",\"zerolinecolor\":\"white\"}},\"shapedefaults\":{\"line\":{\"color\":\"#2a3f5f\"}},\"ternary\":{\"aaxis\":{\"gridcolor\":\"white\",\"linecolor\":\"white\",\"ticks\":\"\"},\"baxis\":{\"gridcolor\":\"white\",\"linecolor\":\"white\",\"ticks\":\"\"},\"bgcolor\":\"#E5ECF6\",\"caxis\":{\"gridcolor\":\"white\",\"linecolor\":\"white\",\"ticks\":\"\"}},\"title\":{\"x\":0.05},\"xaxis\":{\"automargin\":true,\"gridcolor\":\"white\",\"linecolor\":\"white\",\"ticks\":\"\",\"title\":{\"standoff\":15},\"zerolinecolor\":\"white\",\"zerolinewidth\":2},\"yaxis\":{\"automargin\":true,\"gridcolor\":\"white\",\"linecolor\":\"white\",\"ticks\":\"\",\"title\":{\"standoff\":15},\"zerolinecolor\":\"white\",\"zerolinewidth\":2}}},\"title\":{\"font\":{\"color\":\"#4D5663\"}},\"xaxis\":{\"gridcolor\":\"#E1E5ED\",\"showgrid\":true,\"tickfont\":{\"color\":\"#4D5663\"},\"title\":{\"font\":{\"color\":\"#4D5663\"},\"text\":\"\"},\"zerolinecolor\":\"#E1E5ED\"},\"yaxis\":{\"gridcolor\":\"#E1E5ED\",\"showgrid\":true,\"tickfont\":{\"color\":\"#4D5663\"},\"title\":{\"font\":{\"color\":\"#4D5663\"},\"text\":\"\"},\"zerolinecolor\":\"#E1E5ED\"}},                        {\"showLink\": true, \"linkText\": \"Export to plot.ly\", \"plotlyServerURL\": \"https://plot.ly\", \"responsive\": true}                    ).then(function(){\n",
       "                            \n",
       "var gd = document.getElementById('08b4a81b-af49-419e-bc0a-db223ce99c47');\n",
       "var x = new MutationObserver(function (mutations, observer) {{\n",
       "        var display = window.getComputedStyle(gd).display;\n",
       "        if (!display || display === 'none') {{\n",
       "            console.log([gd, 'removed!']);\n",
       "            Plotly.purge(gd);\n",
       "            observer.disconnect();\n",
       "        }}\n",
       "}});\n",
       "\n",
       "// Listen for the removal of the full notebook cells\n",
       "var notebookContainer = gd.closest('#notebook-container');\n",
       "if (notebookContainer) {{\n",
       "    x.observe(notebookContainer, {childList: true});\n",
       "}}\n",
       "\n",
       "// Listen for the clearing of the current output cell\n",
       "var outputEl = gd.closest('.output');\n",
       "if (outputEl) {{\n",
       "    x.observe(outputEl, {childList: true});\n",
       "}}\n",
       "\n",
       "                        })                };                });            </script>        </div>"
      ]
     },
     "metadata": {},
     "output_type": "display_data"
    }
   ],
   "source": [
    "df.count().iplot(kind='bar')"
   ]
  },
  {
   "cell_type": "markdown",
   "metadata": {},
   "source": [
    "## Boxplots"
   ]
  },
  {
   "cell_type": "code",
   "execution_count": 15,
   "metadata": {
    "collapsed": false
   },
   "outputs": [
    {
     "data": {
      "application/vnd.plotly.v1+json": {
       "config": {
        "linkText": "Export to plot.ly",
        "plotlyServerURL": "https://plot.ly",
        "showLink": true
       },
       "data": [
        {
         "boxpoints": false,
         "line": {
          "width": 1.3
         },
         "marker": {
          "color": "rgba(255, 153, 51, 1.0)"
         },
         "name": "A",
         "orientation": "v",
         "type": "box",
         "y": [
          1.1808861104858086,
          -1.009315475834072,
          2.1010267597285734,
          -1.2761110614656328,
          2.1355984367483503,
          0.45187550757489103,
          0.35575837216877865,
          -0.33192853903028824,
          0.16555430091279025,
          2.0939392840659474,
          3.3046262093131764,
          0.8016652198144762,
          -0.08064663403209753,
          -0.2894576343328641,
          -0.6353852627420068,
          0.06915412092097081,
          0.972353162345244,
          -0.4226617370851711,
          0.44457415032163833,
          1.9306320625284974,
          0.862768413234945,
          -0.07436503288404975,
          -1.3075425798831994,
          0.07488233835490188,
          -0.5383693570233857,
          -1.150895491288997,
          -0.644601767843179,
          -0.3003701225679646,
          -0.6768652099919864,
          0.21410544574864887,
          0.5950296396184611,
          0.26973044921773104,
          -0.7010536597606614,
          -1.3488991119769904,
          0.5735052483541746,
          0.116911756060154,
          -1.384243153289476,
          -1.5122147482705393,
          -2.0490427795777326,
          -0.47086463185893823,
          -1.7115532738390293,
          -0.41926538769302296,
          0.6342347447608379,
          1.0524544462265217,
          0.27116119274636,
          -0.6327759017672793,
          -0.2381293131326908,
          -1.560007071354141,
          0.3564002971081718,
          -0.7431653691129735,
          0.021248317242468076,
          -0.6171074244097834,
          -0.7287550072634262,
          1.1115975878346898,
          -0.0264973903468035,
          -0.39998035014100297,
          0.17090679907552722,
          0.7704465470894409,
          1.3645508989608082,
          0.2736827452554336,
          0.9458706409895032,
          -2.039392752696324,
          0.05308215087500142,
          -1.4223150595751306,
          -0.32401077448582954,
          -1.4858113454908572,
          -1.3260796336088796,
          1.2980796587223302,
          0.7718502322874692,
          0.4027364328411132,
          -0.12487684581340935,
          -0.3734360479494493,
          -0.004287553825357087,
          -0.6221945153849893,
          0.18712560869775033,
          -0.8542025277225092,
          0.2605274316144155,
          0.8065865657559427,
          0.8892694273074893,
          -0.11438673646857235,
          -0.4124256111912983,
          0.362764158444993,
          0.17788406981146257,
          0.25232389432641744,
          -0.7612788204072456,
          0.5135316958636523,
          1.76093782929227,
          -0.23332353476080336,
          -0.963431849581975,
          0.4370139219460403,
          -1.5530042663990145,
          0.01358618685162266,
          1.1281240398709063,
          -0.41511661847317877,
          0.2844084545138961,
          0.07062579562964151,
          0.77115342742805,
          -1.2748891258557924,
          0.7651414902457511,
          1.5399719990359306
         ]
        },
        {
         "boxpoints": false,
         "line": {
          "width": 1.3
         },
         "marker": {
          "color": "rgba(55, 128, 191, 1.0)"
         },
         "name": "B",
         "orientation": "v",
         "type": "box",
         "y": [
          1.8869774144646363,
          -0.15178939659604912,
          0.49273651175711186,
          -1.323250063279204,
          -1.3096082803841553,
          -1.3849349027148277,
          1.156638863289787,
          -0.9517605210106179,
          0.4107021866605751,
          0.03405599860229291,
          2.082439060515147,
          -0.6632141972130775,
          0.5541718312078655,
          0.19367068612461416,
          2.260149093720149,
          -1.2259061103880828,
          -0.7895331423494181,
          0.7662518068681965,
          1.0247551473290297,
          1.6578485874276878,
          0.3833380944296906,
          0.9354852173085542,
          1.201005381289398,
          1.9991827012969507,
          -0.6687087204962803,
          -0.2889780327683993,
          -1.1867862695251132,
          0.21882396000194415,
          1.2349522356979719,
          -2.2700863402085885,
          0.21154465034024256,
          -2.0375384753026133,
          -0.27323895036263013,
          -0.5022346822859977,
          1.3981296300065187,
          -0.7808568466240103,
          0.07384353772811302,
          0.8108562614778606,
          0.26004090339418573,
          -1.537016362845774,
          -0.08338367129457505,
          -0.2142211275967988,
          -0.9378209276170207,
          -0.6815547301708351,
          -0.8552378052823102,
          -0.1484952070387059,
          -1.4145757942280957,
          -0.366902467981607,
          0.9217146167090984,
          1.3107705120296753,
          -0.7798058588406078,
          0.6927152044770846,
          0.27715215900653895,
          -0.6773501227910225,
          -0.39772212572225923,
          -0.9327902138961053,
          -1.5359943716946074,
          0.05265840173276143,
          -0.49077067967105015,
          0.46340928236261036,
          -2.2641201459935885,
          -0.39308652349632045,
          1.072805319475322,
          -0.7246309842420298,
          -1.7363183613206394,
          1.8964187758108288,
          -0.6087390744568856,
          -2.70414795296228,
          -1.65510169490042,
          0.6659266357370712,
          0.21563454907328639,
          0.9058385938958805,
          0.5298879363128568,
          2.2882030650566865,
          -0.3654187398433885,
          -0.8223437056703111,
          -1.1960008750849571,
          0.998214927884022,
          -0.8224011627610441,
          -0.6283770556295083,
          -0.4566048300151653,
          -0.1673684778572825,
          1.2086066242166869,
          1.271826220581654,
          0.8480941150195749,
          0.40288423807506885,
          0.029759689383405466,
          -0.5287908721090397,
          -0.6426181955756219,
          -1.2020398873408829,
          -0.902931701935573,
          0.7725336591758999,
          -1.0785659218318133,
          0.6226481271010155,
          1.731907502841091,
          -0.9405026151070189,
          -0.3371830830297367,
          -0.19216251774875798,
          0.3868122511782008,
          0.37115889539592906
         ]
        },
        {
         "boxpoints": false,
         "line": {
          "width": 1.3
         },
         "marker": {
          "color": "rgba(50, 171, 96, 1.0)"
         },
         "name": "C",
         "orientation": "v",
         "type": "box",
         "y": [
          0.11188606649864456,
          1.7384324435143512,
          0.7411783758165015,
          -1.134095288548804,
          -0.13978384630778978,
          0.45966943166620244,
          0.26208060757254736,
          -1.5750049328830449,
          -0.6873202542711845,
          1.229722054790922,
          -0.3589095067650245,
          -0.3036513793617774,
          0.030964419656719068,
          0.32952058361271086,
          -0.74180912679076,
          0.4129505422640841,
          0.25136825144020564,
          -0.1892431255482168,
          -0.8385645582584667,
          -0.7244996453511477,
          1.3842433824495262,
          0.8145838377017431,
          1.2057246266423924,
          -0.11377891471384399,
          -1.301995696305911,
          -0.12408305144141546,
          0.7972087763890217,
          -0.3298086170526748,
          -1.7337299706648197,
          1.8775348535262644,
          1.1781034811155568,
          -1.7494345037785481,
          0.2550145380827633,
          -1.025057129671358,
          -0.8307196830358982,
          1.093544626869134,
          -0.5217359278699902,
          -1.0686475237170552,
          0.8346540684791645,
          -0.43526467711297295,
          0.016804925831642222,
          -0.6746869155107326,
          -0.47577923773771547,
          0.6086333158571583,
          0.39569125694490775,
          0.3385377346583987,
          -0.39816391427088854,
          0.9144302212751345,
          -0.49487396712516185,
          -0.7204383730392193,
          -0.25002946200764264,
          -1.2923272733883895,
          0.13452716606098336,
          0.21239343020783746,
          0.40880729368726326,
          -0.6647111367078352,
          -0.573897092303272,
          0.08071802410485815,
          -1.1784561153808597,
          -1.4039073083889357,
          -0.9824550831272723,
          -1.1104512311858905,
          -0.0675388891499401,
          1.5896302972777647,
          -0.9674835668415881,
          2.105269613749711,
          0.19327098942325086,
          -0.6532753378806604,
          0.4925071970006506,
          -0.24483409011284854,
          -0.8062795787140231,
          -0.29748689619101754,
          -0.8692195205472738,
          1.8698985774106767,
          -0.34001311363803577,
          -0.2530795103767499,
          0.5215287563606393,
          0.5531903613871533,
          0.9493002206147947,
          0.5858860866488199,
          1.6645290391869938,
          1.3086798998198044,
          -0.7123947909279804,
          -1.9441280838596608,
          -0.17426003420455827,
          -0.19787798400913428,
          -0.5393386456031131,
          -0.3595785651388336,
          -0.6483160628789227,
          1.5102643471308423,
          0.7295689328149944,
          1.8322379618323328,
          0.2146047463183736,
          2.014848773552964,
          -0.4341850197495636,
          -0.6941338402393462,
          0.4275854395338668,
          0.03522318096973601,
          -0.6904890822679948,
          -0.870310904162906
         ]
        },
        {
         "boxpoints": false,
         "line": {
          "width": 1.3
         },
         "marker": {
          "color": "rgba(128, 0, 128, 1.0)"
         },
         "name": "D",
         "orientation": "v",
         "type": "box",
         "y": [
          0.1685619554964778,
          -0.7609713134670092,
          -0.1466291331614804,
          -0.17895122979561642,
          0.7103539681639598,
          0.13613499440340865,
          -0.7900812551010931,
          -2.1094858303536745,
          0.8282184367124654,
          -0.1667964143098475,
          0.2329432156428893,
          0.3883465602934885,
          -1.0570794346727133,
          0.6038165115527561,
          0.22446091159813772,
          1.5903436762468897,
          1.1057501702113481,
          -0.0459004078076437,
          -2.6688849913407404,
          -1.6284289534076863,
          -1.4382209345617447,
          -1.1065887166962687,
          -1.0543488375800996,
          -0.9803331317572557,
          -0.1269174708958654,
          -0.014895192809223396,
          1.3861535293001108,
          -0.5965642668884196,
          -0.8200078845696744,
          0.5411127966578304,
          0.009367283932259633,
          0.7811046363388392,
          -0.5757711561487673,
          0.18631716453602434,
          1.31206986719528,
          1.639772636147107,
          0.052072269921768596,
          0.0622396876165819,
          0.8393371720057833,
          0.9376379312812728,
          -0.08537153787936122,
          0.22527849967135527,
          -0.7108608218906617,
          1.0090577578693813,
          0.07871380364730061,
          0.8959713114573067,
          0.4804707958371496,
          1.3076685758953284,
          0.8841176853412923,
          -1.262565894253411,
          -0.6294736082052231,
          -0.25670734117002647,
          1.6679991572837634,
          0.7965976101721943,
          -1.1516641384680215,
          1.587013396990483,
          -0.13937771647758937,
          -1.381540318280786,
          0.9454369560727496,
          -0.030341796327105226,
          0.6317697074786647,
          -0.5542059267250673,
          -0.15011765676895186,
          0.07535310303914053,
          0.813300008357076,
          -0.1481891191612101,
          1.2736588787640575,
          -1.887827003992407,
          1.26173935652071,
          0.9375533288617565,
          0.6678368508309261,
          -0.6233544862394212,
          -0.5664886241981897,
          1.9163796399082142,
          0.596173384002522,
          0.276139877578304,
          -0.4316942967573185,
          0.030156655493353425,
          0.5256703255952115,
          -1.0250935604230056,
          -0.872799244717213,
          0.2918088653854339,
          -0.35071954690697527,
          0.8526336802569473,
          0.8770460259892877,
          1.986194606036595,
          0.3343071442662588,
          -0.5315121792270513,
          -0.5505079792326428,
          0.35284647133767666,
          -1.360312751804368,
          0.9100973405782463,
          0.28661857724025086,
          1.4362653862009387,
          0.6854020354942629,
          1.9451401087928437,
          -0.49015836446964395,
          0.9427821631400048,
          0.31591243519429074,
          -0.1061078372545824
         ]
        }
       ],
       "layout": {
        "legend": {
         "bgcolor": "#F5F6F9",
         "font": {
          "color": "#4D5663"
         }
        },
        "paper_bgcolor": "#F5F6F9",
        "plot_bgcolor": "#F5F6F9",
        "template": {
         "data": {
          "bar": [
           {
            "error_x": {
             "color": "#2a3f5f"
            },
            "error_y": {
             "color": "#2a3f5f"
            },
            "marker": {
             "line": {
              "color": "#E5ECF6",
              "width": 0.5
             },
             "pattern": {
              "fillmode": "overlay",
              "size": 10,
              "solidity": 0.2
             }
            },
            "type": "bar"
           }
          ],
          "barpolar": [
           {
            "marker": {
             "line": {
              "color": "#E5ECF6",
              "width": 0.5
             },
             "pattern": {
              "fillmode": "overlay",
              "size": 10,
              "solidity": 0.2
             }
            },
            "type": "barpolar"
           }
          ],
          "carpet": [
           {
            "aaxis": {
             "endlinecolor": "#2a3f5f",
             "gridcolor": "white",
             "linecolor": "white",
             "minorgridcolor": "white",
             "startlinecolor": "#2a3f5f"
            },
            "baxis": {
             "endlinecolor": "#2a3f5f",
             "gridcolor": "white",
             "linecolor": "white",
             "minorgridcolor": "white",
             "startlinecolor": "#2a3f5f"
            },
            "type": "carpet"
           }
          ],
          "choropleth": [
           {
            "colorbar": {
             "outlinewidth": 0,
             "ticks": ""
            },
            "type": "choropleth"
           }
          ],
          "contour": [
           {
            "colorbar": {
             "outlinewidth": 0,
             "ticks": ""
            },
            "colorscale": [
             [
              0,
              "#0d0887"
             ],
             [
              0.1111111111111111,
              "#46039f"
             ],
             [
              0.2222222222222222,
              "#7201a8"
             ],
             [
              0.3333333333333333,
              "#9c179e"
             ],
             [
              0.4444444444444444,
              "#bd3786"
             ],
             [
              0.5555555555555556,
              "#d8576b"
             ],
             [
              0.6666666666666666,
              "#ed7953"
             ],
             [
              0.7777777777777778,
              "#fb9f3a"
             ],
             [
              0.8888888888888888,
              "#fdca26"
             ],
             [
              1,
              "#f0f921"
             ]
            ],
            "type": "contour"
           }
          ],
          "contourcarpet": [
           {
            "colorbar": {
             "outlinewidth": 0,
             "ticks": ""
            },
            "type": "contourcarpet"
           }
          ],
          "heatmap": [
           {
            "colorbar": {
             "outlinewidth": 0,
             "ticks": ""
            },
            "colorscale": [
             [
              0,
              "#0d0887"
             ],
             [
              0.1111111111111111,
              "#46039f"
             ],
             [
              0.2222222222222222,
              "#7201a8"
             ],
             [
              0.3333333333333333,
              "#9c179e"
             ],
             [
              0.4444444444444444,
              "#bd3786"
             ],
             [
              0.5555555555555556,
              "#d8576b"
             ],
             [
              0.6666666666666666,
              "#ed7953"
             ],
             [
              0.7777777777777778,
              "#fb9f3a"
             ],
             [
              0.8888888888888888,
              "#fdca26"
             ],
             [
              1,
              "#f0f921"
             ]
            ],
            "type": "heatmap"
           }
          ],
          "heatmapgl": [
           {
            "colorbar": {
             "outlinewidth": 0,
             "ticks": ""
            },
            "colorscale": [
             [
              0,
              "#0d0887"
             ],
             [
              0.1111111111111111,
              "#46039f"
             ],
             [
              0.2222222222222222,
              "#7201a8"
             ],
             [
              0.3333333333333333,
              "#9c179e"
             ],
             [
              0.4444444444444444,
              "#bd3786"
             ],
             [
              0.5555555555555556,
              "#d8576b"
             ],
             [
              0.6666666666666666,
              "#ed7953"
             ],
             [
              0.7777777777777778,
              "#fb9f3a"
             ],
             [
              0.8888888888888888,
              "#fdca26"
             ],
             [
              1,
              "#f0f921"
             ]
            ],
            "type": "heatmapgl"
           }
          ],
          "histogram": [
           {
            "marker": {
             "pattern": {
              "fillmode": "overlay",
              "size": 10,
              "solidity": 0.2
             }
            },
            "type": "histogram"
           }
          ],
          "histogram2d": [
           {
            "colorbar": {
             "outlinewidth": 0,
             "ticks": ""
            },
            "colorscale": [
             [
              0,
              "#0d0887"
             ],
             [
              0.1111111111111111,
              "#46039f"
             ],
             [
              0.2222222222222222,
              "#7201a8"
             ],
             [
              0.3333333333333333,
              "#9c179e"
             ],
             [
              0.4444444444444444,
              "#bd3786"
             ],
             [
              0.5555555555555556,
              "#d8576b"
             ],
             [
              0.6666666666666666,
              "#ed7953"
             ],
             [
              0.7777777777777778,
              "#fb9f3a"
             ],
             [
              0.8888888888888888,
              "#fdca26"
             ],
             [
              1,
              "#f0f921"
             ]
            ],
            "type": "histogram2d"
           }
          ],
          "histogram2dcontour": [
           {
            "colorbar": {
             "outlinewidth": 0,
             "ticks": ""
            },
            "colorscale": [
             [
              0,
              "#0d0887"
             ],
             [
              0.1111111111111111,
              "#46039f"
             ],
             [
              0.2222222222222222,
              "#7201a8"
             ],
             [
              0.3333333333333333,
              "#9c179e"
             ],
             [
              0.4444444444444444,
              "#bd3786"
             ],
             [
              0.5555555555555556,
              "#d8576b"
             ],
             [
              0.6666666666666666,
              "#ed7953"
             ],
             [
              0.7777777777777778,
              "#fb9f3a"
             ],
             [
              0.8888888888888888,
              "#fdca26"
             ],
             [
              1,
              "#f0f921"
             ]
            ],
            "type": "histogram2dcontour"
           }
          ],
          "mesh3d": [
           {
            "colorbar": {
             "outlinewidth": 0,
             "ticks": ""
            },
            "type": "mesh3d"
           }
          ],
          "parcoords": [
           {
            "line": {
             "colorbar": {
              "outlinewidth": 0,
              "ticks": ""
             }
            },
            "type": "parcoords"
           }
          ],
          "pie": [
           {
            "automargin": true,
            "type": "pie"
           }
          ],
          "scatter": [
           {
            "fillpattern": {
             "fillmode": "overlay",
             "size": 10,
             "solidity": 0.2
            },
            "type": "scatter"
           }
          ],
          "scatter3d": [
           {
            "line": {
             "colorbar": {
              "outlinewidth": 0,
              "ticks": ""
             }
            },
            "marker": {
             "colorbar": {
              "outlinewidth": 0,
              "ticks": ""
             }
            },
            "type": "scatter3d"
           }
          ],
          "scattercarpet": [
           {
            "marker": {
             "colorbar": {
              "outlinewidth": 0,
              "ticks": ""
             }
            },
            "type": "scattercarpet"
           }
          ],
          "scattergeo": [
           {
            "marker": {
             "colorbar": {
              "outlinewidth": 0,
              "ticks": ""
             }
            },
            "type": "scattergeo"
           }
          ],
          "scattergl": [
           {
            "marker": {
             "colorbar": {
              "outlinewidth": 0,
              "ticks": ""
             }
            },
            "type": "scattergl"
           }
          ],
          "scattermapbox": [
           {
            "marker": {
             "colorbar": {
              "outlinewidth": 0,
              "ticks": ""
             }
            },
            "type": "scattermapbox"
           }
          ],
          "scatterpolar": [
           {
            "marker": {
             "colorbar": {
              "outlinewidth": 0,
              "ticks": ""
             }
            },
            "type": "scatterpolar"
           }
          ],
          "scatterpolargl": [
           {
            "marker": {
             "colorbar": {
              "outlinewidth": 0,
              "ticks": ""
             }
            },
            "type": "scatterpolargl"
           }
          ],
          "scatterternary": [
           {
            "marker": {
             "colorbar": {
              "outlinewidth": 0,
              "ticks": ""
             }
            },
            "type": "scatterternary"
           }
          ],
          "surface": [
           {
            "colorbar": {
             "outlinewidth": 0,
             "ticks": ""
            },
            "colorscale": [
             [
              0,
              "#0d0887"
             ],
             [
              0.1111111111111111,
              "#46039f"
             ],
             [
              0.2222222222222222,
              "#7201a8"
             ],
             [
              0.3333333333333333,
              "#9c179e"
             ],
             [
              0.4444444444444444,
              "#bd3786"
             ],
             [
              0.5555555555555556,
              "#d8576b"
             ],
             [
              0.6666666666666666,
              "#ed7953"
             ],
             [
              0.7777777777777778,
              "#fb9f3a"
             ],
             [
              0.8888888888888888,
              "#fdca26"
             ],
             [
              1,
              "#f0f921"
             ]
            ],
            "type": "surface"
           }
          ],
          "table": [
           {
            "cells": {
             "fill": {
              "color": "#EBF0F8"
             },
             "line": {
              "color": "white"
             }
            },
            "header": {
             "fill": {
              "color": "#C8D4E3"
             },
             "line": {
              "color": "white"
             }
            },
            "type": "table"
           }
          ]
         },
         "layout": {
          "annotationdefaults": {
           "arrowcolor": "#2a3f5f",
           "arrowhead": 0,
           "arrowwidth": 1
          },
          "autotypenumbers": "strict",
          "coloraxis": {
           "colorbar": {
            "outlinewidth": 0,
            "ticks": ""
           }
          },
          "colorscale": {
           "diverging": [
            [
             0,
             "#8e0152"
            ],
            [
             0.1,
             "#c51b7d"
            ],
            [
             0.2,
             "#de77ae"
            ],
            [
             0.3,
             "#f1b6da"
            ],
            [
             0.4,
             "#fde0ef"
            ],
            [
             0.5,
             "#f7f7f7"
            ],
            [
             0.6,
             "#e6f5d0"
            ],
            [
             0.7,
             "#b8e186"
            ],
            [
             0.8,
             "#7fbc41"
            ],
            [
             0.9,
             "#4d9221"
            ],
            [
             1,
             "#276419"
            ]
           ],
           "sequential": [
            [
             0,
             "#0d0887"
            ],
            [
             0.1111111111111111,
             "#46039f"
            ],
            [
             0.2222222222222222,
             "#7201a8"
            ],
            [
             0.3333333333333333,
             "#9c179e"
            ],
            [
             0.4444444444444444,
             "#bd3786"
            ],
            [
             0.5555555555555556,
             "#d8576b"
            ],
            [
             0.6666666666666666,
             "#ed7953"
            ],
            [
             0.7777777777777778,
             "#fb9f3a"
            ],
            [
             0.8888888888888888,
             "#fdca26"
            ],
            [
             1,
             "#f0f921"
            ]
           ],
           "sequentialminus": [
            [
             0,
             "#0d0887"
            ],
            [
             0.1111111111111111,
             "#46039f"
            ],
            [
             0.2222222222222222,
             "#7201a8"
            ],
            [
             0.3333333333333333,
             "#9c179e"
            ],
            [
             0.4444444444444444,
             "#bd3786"
            ],
            [
             0.5555555555555556,
             "#d8576b"
            ],
            [
             0.6666666666666666,
             "#ed7953"
            ],
            [
             0.7777777777777778,
             "#fb9f3a"
            ],
            [
             0.8888888888888888,
             "#fdca26"
            ],
            [
             1,
             "#f0f921"
            ]
           ]
          },
          "colorway": [
           "#636efa",
           "#EF553B",
           "#00cc96",
           "#ab63fa",
           "#FFA15A",
           "#19d3f3",
           "#FF6692",
           "#B6E880",
           "#FF97FF",
           "#FECB52"
          ],
          "font": {
           "color": "#2a3f5f"
          },
          "geo": {
           "bgcolor": "white",
           "lakecolor": "white",
           "landcolor": "#E5ECF6",
           "showlakes": true,
           "showland": true,
           "subunitcolor": "white"
          },
          "hoverlabel": {
           "align": "left"
          },
          "hovermode": "closest",
          "mapbox": {
           "style": "light"
          },
          "paper_bgcolor": "white",
          "plot_bgcolor": "#E5ECF6",
          "polar": {
           "angularaxis": {
            "gridcolor": "white",
            "linecolor": "white",
            "ticks": ""
           },
           "bgcolor": "#E5ECF6",
           "radialaxis": {
            "gridcolor": "white",
            "linecolor": "white",
            "ticks": ""
           }
          },
          "scene": {
           "xaxis": {
            "backgroundcolor": "#E5ECF6",
            "gridcolor": "white",
            "gridwidth": 2,
            "linecolor": "white",
            "showbackground": true,
            "ticks": "",
            "zerolinecolor": "white"
           },
           "yaxis": {
            "backgroundcolor": "#E5ECF6",
            "gridcolor": "white",
            "gridwidth": 2,
            "linecolor": "white",
            "showbackground": true,
            "ticks": "",
            "zerolinecolor": "white"
           },
           "zaxis": {
            "backgroundcolor": "#E5ECF6",
            "gridcolor": "white",
            "gridwidth": 2,
            "linecolor": "white",
            "showbackground": true,
            "ticks": "",
            "zerolinecolor": "white"
           }
          },
          "shapedefaults": {
           "line": {
            "color": "#2a3f5f"
           }
          },
          "ternary": {
           "aaxis": {
            "gridcolor": "white",
            "linecolor": "white",
            "ticks": ""
           },
           "baxis": {
            "gridcolor": "white",
            "linecolor": "white",
            "ticks": ""
           },
           "bgcolor": "#E5ECF6",
           "caxis": {
            "gridcolor": "white",
            "linecolor": "white",
            "ticks": ""
           }
          },
          "title": {
           "x": 0.05
          },
          "xaxis": {
           "automargin": true,
           "gridcolor": "white",
           "linecolor": "white",
           "ticks": "",
           "title": {
            "standoff": 15
           },
           "zerolinecolor": "white",
           "zerolinewidth": 2
          },
          "yaxis": {
           "automargin": true,
           "gridcolor": "white",
           "linecolor": "white",
           "ticks": "",
           "title": {
            "standoff": 15
           },
           "zerolinecolor": "white",
           "zerolinewidth": 2
          }
         }
        },
        "title": {
         "font": {
          "color": "#4D5663"
         }
        },
        "xaxis": {
         "gridcolor": "#E1E5ED",
         "showgrid": true,
         "tickfont": {
          "color": "#4D5663"
         },
         "title": {
          "font": {
           "color": "#4D5663"
          },
          "text": ""
         },
         "zerolinecolor": "#E1E5ED"
        },
        "yaxis": {
         "gridcolor": "#E1E5ED",
         "showgrid": true,
         "tickfont": {
          "color": "#4D5663"
         },
         "title": {
          "font": {
           "color": "#4D5663"
          },
          "text": ""
         },
         "zerolinecolor": "#E1E5ED"
        }
       }
      },
      "text/html": [
       "<div>                            <div id=\"d20ec6da-b935-4496-88af-7f2338bbf621\" class=\"plotly-graph-div\" style=\"height:525px; width:100%;\"></div>            <script type=\"text/javascript\">                require([\"plotly\"], function(Plotly) {                    window.PLOTLYENV=window.PLOTLYENV || {};\n",
       "                    window.PLOTLYENV.BASE_URL='https://plot.ly';                                    if (document.getElementById(\"d20ec6da-b935-4496-88af-7f2338bbf621\")) {                    Plotly.newPlot(                        \"d20ec6da-b935-4496-88af-7f2338bbf621\",                        [{\"boxpoints\":false,\"line\":{\"width\":1.3},\"marker\":{\"color\":\"rgba(255, 153, 51, 1.0)\"},\"name\":\"A\",\"orientation\":\"v\",\"y\":[1.1808861104858086,-1.009315475834072,2.1010267597285734,-1.2761110614656328,2.1355984367483503,0.45187550757489103,0.35575837216877865,-0.33192853903028824,0.16555430091279025,2.0939392840659474,3.3046262093131764,0.8016652198144762,-0.08064663403209753,-0.2894576343328641,-0.6353852627420068,0.06915412092097081,0.972353162345244,-0.4226617370851711,0.44457415032163833,1.9306320625284974,0.862768413234945,-0.07436503288404975,-1.3075425798831994,0.07488233835490188,-0.5383693570233857,-1.150895491288997,-0.644601767843179,-0.3003701225679646,-0.6768652099919864,0.21410544574864887,0.5950296396184611,0.26973044921773104,-0.7010536597606614,-1.3488991119769904,0.5735052483541746,0.116911756060154,-1.384243153289476,-1.5122147482705393,-2.0490427795777326,-0.47086463185893823,-1.7115532738390293,-0.41926538769302296,0.6342347447608379,1.0524544462265217,0.27116119274636,-0.6327759017672793,-0.2381293131326908,-1.560007071354141,0.3564002971081718,-0.7431653691129735,0.021248317242468076,-0.6171074244097834,-0.7287550072634262,1.1115975878346898,-0.0264973903468035,-0.39998035014100297,0.17090679907552722,0.7704465470894409,1.3645508989608082,0.2736827452554336,0.9458706409895032,-2.039392752696324,0.05308215087500142,-1.4223150595751306,-0.32401077448582954,-1.4858113454908572,-1.3260796336088796,1.2980796587223302,0.7718502322874692,0.4027364328411132,-0.12487684581340935,-0.3734360479494493,-0.004287553825357087,-0.6221945153849893,0.18712560869775033,-0.8542025277225092,0.2605274316144155,0.8065865657559427,0.8892694273074893,-0.11438673646857235,-0.4124256111912983,0.362764158444993,0.17788406981146257,0.25232389432641744,-0.7612788204072456,0.5135316958636523,1.76093782929227,-0.23332353476080336,-0.963431849581975,0.4370139219460403,-1.5530042663990145,0.01358618685162266,1.1281240398709063,-0.41511661847317877,0.2844084545138961,0.07062579562964151,0.77115342742805,-1.2748891258557924,0.7651414902457511,1.5399719990359306],\"type\":\"box\"},{\"boxpoints\":false,\"line\":{\"width\":1.3},\"marker\":{\"color\":\"rgba(55, 128, 191, 1.0)\"},\"name\":\"B\",\"orientation\":\"v\",\"y\":[1.8869774144646363,-0.15178939659604912,0.49273651175711186,-1.323250063279204,-1.3096082803841553,-1.3849349027148277,1.156638863289787,-0.9517605210106179,0.4107021866605751,0.03405599860229291,2.082439060515147,-0.6632141972130775,0.5541718312078655,0.19367068612461416,2.260149093720149,-1.2259061103880828,-0.7895331423494181,0.7662518068681965,1.0247551473290297,1.6578485874276878,0.3833380944296906,0.9354852173085542,1.201005381289398,1.9991827012969507,-0.6687087204962803,-0.2889780327683993,-1.1867862695251132,0.21882396000194415,1.2349522356979719,-2.2700863402085885,0.21154465034024256,-2.0375384753026133,-0.27323895036263013,-0.5022346822859977,1.3981296300065187,-0.7808568466240103,0.07384353772811302,0.8108562614778606,0.26004090339418573,-1.537016362845774,-0.08338367129457505,-0.2142211275967988,-0.9378209276170207,-0.6815547301708351,-0.8552378052823102,-0.1484952070387059,-1.4145757942280957,-0.366902467981607,0.9217146167090984,1.3107705120296753,-0.7798058588406078,0.6927152044770846,0.27715215900653895,-0.6773501227910225,-0.39772212572225923,-0.9327902138961053,-1.5359943716946074,0.05265840173276143,-0.49077067967105015,0.46340928236261036,-2.2641201459935885,-0.39308652349632045,1.072805319475322,-0.7246309842420298,-1.7363183613206394,1.8964187758108288,-0.6087390744568856,-2.70414795296228,-1.65510169490042,0.6659266357370712,0.21563454907328639,0.9058385938958805,0.5298879363128568,2.2882030650566865,-0.3654187398433885,-0.8223437056703111,-1.1960008750849571,0.998214927884022,-0.8224011627610441,-0.6283770556295083,-0.4566048300151653,-0.1673684778572825,1.2086066242166869,1.271826220581654,0.8480941150195749,0.40288423807506885,0.029759689383405466,-0.5287908721090397,-0.6426181955756219,-1.2020398873408829,-0.902931701935573,0.7725336591758999,-1.0785659218318133,0.6226481271010155,1.731907502841091,-0.9405026151070189,-0.3371830830297367,-0.19216251774875798,0.3868122511782008,0.37115889539592906],\"type\":\"box\"},{\"boxpoints\":false,\"line\":{\"width\":1.3},\"marker\":{\"color\":\"rgba(50, 171, 96, 1.0)\"},\"name\":\"C\",\"orientation\":\"v\",\"y\":[0.11188606649864456,1.7384324435143512,0.7411783758165015,-1.134095288548804,-0.13978384630778978,0.45966943166620244,0.26208060757254736,-1.5750049328830449,-0.6873202542711845,1.229722054790922,-0.3589095067650245,-0.3036513793617774,0.030964419656719068,0.32952058361271086,-0.74180912679076,0.4129505422640841,0.25136825144020564,-0.1892431255482168,-0.8385645582584667,-0.7244996453511477,1.3842433824495262,0.8145838377017431,1.2057246266423924,-0.11377891471384399,-1.301995696305911,-0.12408305144141546,0.7972087763890217,-0.3298086170526748,-1.7337299706648197,1.8775348535262644,1.1781034811155568,-1.7494345037785481,0.2550145380827633,-1.025057129671358,-0.8307196830358982,1.093544626869134,-0.5217359278699902,-1.0686475237170552,0.8346540684791645,-0.43526467711297295,0.016804925831642222,-0.6746869155107326,-0.47577923773771547,0.6086333158571583,0.39569125694490775,0.3385377346583987,-0.39816391427088854,0.9144302212751345,-0.49487396712516185,-0.7204383730392193,-0.25002946200764264,-1.2923272733883895,0.13452716606098336,0.21239343020783746,0.40880729368726326,-0.6647111367078352,-0.573897092303272,0.08071802410485815,-1.1784561153808597,-1.4039073083889357,-0.9824550831272723,-1.1104512311858905,-0.0675388891499401,1.5896302972777647,-0.9674835668415881,2.105269613749711,0.19327098942325086,-0.6532753378806604,0.4925071970006506,-0.24483409011284854,-0.8062795787140231,-0.29748689619101754,-0.8692195205472738,1.8698985774106767,-0.34001311363803577,-0.2530795103767499,0.5215287563606393,0.5531903613871533,0.9493002206147947,0.5858860866488199,1.6645290391869938,1.3086798998198044,-0.7123947909279804,-1.9441280838596608,-0.17426003420455827,-0.19787798400913428,-0.5393386456031131,-0.3595785651388336,-0.6483160628789227,1.5102643471308423,0.7295689328149944,1.8322379618323328,0.2146047463183736,2.014848773552964,-0.4341850197495636,-0.6941338402393462,0.4275854395338668,0.03522318096973601,-0.6904890822679948,-0.870310904162906],\"type\":\"box\"},{\"boxpoints\":false,\"line\":{\"width\":1.3},\"marker\":{\"color\":\"rgba(128, 0, 128, 1.0)\"},\"name\":\"D\",\"orientation\":\"v\",\"y\":[0.1685619554964778,-0.7609713134670092,-0.1466291331614804,-0.17895122979561642,0.7103539681639598,0.13613499440340865,-0.7900812551010931,-2.1094858303536745,0.8282184367124654,-0.1667964143098475,0.2329432156428893,0.3883465602934885,-1.0570794346727133,0.6038165115527561,0.22446091159813772,1.5903436762468897,1.1057501702113481,-0.0459004078076437,-2.6688849913407404,-1.6284289534076863,-1.4382209345617447,-1.1065887166962687,-1.0543488375800996,-0.9803331317572557,-0.1269174708958654,-0.014895192809223396,1.3861535293001108,-0.5965642668884196,-0.8200078845696744,0.5411127966578304,0.009367283932259633,0.7811046363388392,-0.5757711561487673,0.18631716453602434,1.31206986719528,1.639772636147107,0.052072269921768596,0.0622396876165819,0.8393371720057833,0.9376379312812728,-0.08537153787936122,0.22527849967135527,-0.7108608218906617,1.0090577578693813,0.07871380364730061,0.8959713114573067,0.4804707958371496,1.3076685758953284,0.8841176853412923,-1.262565894253411,-0.6294736082052231,-0.25670734117002647,1.6679991572837634,0.7965976101721943,-1.1516641384680215,1.587013396990483,-0.13937771647758937,-1.381540318280786,0.9454369560727496,-0.030341796327105226,0.6317697074786647,-0.5542059267250673,-0.15011765676895186,0.07535310303914053,0.813300008357076,-0.1481891191612101,1.2736588787640575,-1.887827003992407,1.26173935652071,0.9375533288617565,0.6678368508309261,-0.6233544862394212,-0.5664886241981897,1.9163796399082142,0.596173384002522,0.276139877578304,-0.4316942967573185,0.030156655493353425,0.5256703255952115,-1.0250935604230056,-0.872799244717213,0.2918088653854339,-0.35071954690697527,0.8526336802569473,0.8770460259892877,1.986194606036595,0.3343071442662588,-0.5315121792270513,-0.5505079792326428,0.35284647133767666,-1.360312751804368,0.9100973405782463,0.28661857724025086,1.4362653862009387,0.6854020354942629,1.9451401087928437,-0.49015836446964395,0.9427821631400048,0.31591243519429074,-0.1061078372545824],\"type\":\"box\"}],                        {\"legend\":{\"bgcolor\":\"#F5F6F9\",\"font\":{\"color\":\"#4D5663\"}},\"paper_bgcolor\":\"#F5F6F9\",\"plot_bgcolor\":\"#F5F6F9\",\"template\":{\"data\":{\"barpolar\":[{\"marker\":{\"line\":{\"color\":\"#E5ECF6\",\"width\":0.5},\"pattern\":{\"fillmode\":\"overlay\",\"size\":10,\"solidity\":0.2}},\"type\":\"barpolar\"}],\"bar\":[{\"error_x\":{\"color\":\"#2a3f5f\"},\"error_y\":{\"color\":\"#2a3f5f\"},\"marker\":{\"line\":{\"color\":\"#E5ECF6\",\"width\":0.5},\"pattern\":{\"fillmode\":\"overlay\",\"size\":10,\"solidity\":0.2}},\"type\":\"bar\"}],\"carpet\":[{\"aaxis\":{\"endlinecolor\":\"#2a3f5f\",\"gridcolor\":\"white\",\"linecolor\":\"white\",\"minorgridcolor\":\"white\",\"startlinecolor\":\"#2a3f5f\"},\"baxis\":{\"endlinecolor\":\"#2a3f5f\",\"gridcolor\":\"white\",\"linecolor\":\"white\",\"minorgridcolor\":\"white\",\"startlinecolor\":\"#2a3f5f\"},\"type\":\"carpet\"}],\"choropleth\":[{\"colorbar\":{\"outlinewidth\":0,\"ticks\":\"\"},\"type\":\"choropleth\"}],\"contourcarpet\":[{\"colorbar\":{\"outlinewidth\":0,\"ticks\":\"\"},\"type\":\"contourcarpet\"}],\"contour\":[{\"colorbar\":{\"outlinewidth\":0,\"ticks\":\"\"},\"colorscale\":[[0.0,\"#0d0887\"],[0.1111111111111111,\"#46039f\"],[0.2222222222222222,\"#7201a8\"],[0.3333333333333333,\"#9c179e\"],[0.4444444444444444,\"#bd3786\"],[0.5555555555555556,\"#d8576b\"],[0.6666666666666666,\"#ed7953\"],[0.7777777777777778,\"#fb9f3a\"],[0.8888888888888888,\"#fdca26\"],[1.0,\"#f0f921\"]],\"type\":\"contour\"}],\"heatmapgl\":[{\"colorbar\":{\"outlinewidth\":0,\"ticks\":\"\"},\"colorscale\":[[0.0,\"#0d0887\"],[0.1111111111111111,\"#46039f\"],[0.2222222222222222,\"#7201a8\"],[0.3333333333333333,\"#9c179e\"],[0.4444444444444444,\"#bd3786\"],[0.5555555555555556,\"#d8576b\"],[0.6666666666666666,\"#ed7953\"],[0.7777777777777778,\"#fb9f3a\"],[0.8888888888888888,\"#fdca26\"],[1.0,\"#f0f921\"]],\"type\":\"heatmapgl\"}],\"heatmap\":[{\"colorbar\":{\"outlinewidth\":0,\"ticks\":\"\"},\"colorscale\":[[0.0,\"#0d0887\"],[0.1111111111111111,\"#46039f\"],[0.2222222222222222,\"#7201a8\"],[0.3333333333333333,\"#9c179e\"],[0.4444444444444444,\"#bd3786\"],[0.5555555555555556,\"#d8576b\"],[0.6666666666666666,\"#ed7953\"],[0.7777777777777778,\"#fb9f3a\"],[0.8888888888888888,\"#fdca26\"],[1.0,\"#f0f921\"]],\"type\":\"heatmap\"}],\"histogram2dcontour\":[{\"colorbar\":{\"outlinewidth\":0,\"ticks\":\"\"},\"colorscale\":[[0.0,\"#0d0887\"],[0.1111111111111111,\"#46039f\"],[0.2222222222222222,\"#7201a8\"],[0.3333333333333333,\"#9c179e\"],[0.4444444444444444,\"#bd3786\"],[0.5555555555555556,\"#d8576b\"],[0.6666666666666666,\"#ed7953\"],[0.7777777777777778,\"#fb9f3a\"],[0.8888888888888888,\"#fdca26\"],[1.0,\"#f0f921\"]],\"type\":\"histogram2dcontour\"}],\"histogram2d\":[{\"colorbar\":{\"outlinewidth\":0,\"ticks\":\"\"},\"colorscale\":[[0.0,\"#0d0887\"],[0.1111111111111111,\"#46039f\"],[0.2222222222222222,\"#7201a8\"],[0.3333333333333333,\"#9c179e\"],[0.4444444444444444,\"#bd3786\"],[0.5555555555555556,\"#d8576b\"],[0.6666666666666666,\"#ed7953\"],[0.7777777777777778,\"#fb9f3a\"],[0.8888888888888888,\"#fdca26\"],[1.0,\"#f0f921\"]],\"type\":\"histogram2d\"}],\"histogram\":[{\"marker\":{\"pattern\":{\"fillmode\":\"overlay\",\"size\":10,\"solidity\":0.2}},\"type\":\"histogram\"}],\"mesh3d\":[{\"colorbar\":{\"outlinewidth\":0,\"ticks\":\"\"},\"type\":\"mesh3d\"}],\"parcoords\":[{\"line\":{\"colorbar\":{\"outlinewidth\":0,\"ticks\":\"\"}},\"type\":\"parcoords\"}],\"pie\":[{\"automargin\":true,\"type\":\"pie\"}],\"scatter3d\":[{\"line\":{\"colorbar\":{\"outlinewidth\":0,\"ticks\":\"\"}},\"marker\":{\"colorbar\":{\"outlinewidth\":0,\"ticks\":\"\"}},\"type\":\"scatter3d\"}],\"scattercarpet\":[{\"marker\":{\"colorbar\":{\"outlinewidth\":0,\"ticks\":\"\"}},\"type\":\"scattercarpet\"}],\"scattergeo\":[{\"marker\":{\"colorbar\":{\"outlinewidth\":0,\"ticks\":\"\"}},\"type\":\"scattergeo\"}],\"scattergl\":[{\"marker\":{\"colorbar\":{\"outlinewidth\":0,\"ticks\":\"\"}},\"type\":\"scattergl\"}],\"scattermapbox\":[{\"marker\":{\"colorbar\":{\"outlinewidth\":0,\"ticks\":\"\"}},\"type\":\"scattermapbox\"}],\"scatterpolargl\":[{\"marker\":{\"colorbar\":{\"outlinewidth\":0,\"ticks\":\"\"}},\"type\":\"scatterpolargl\"}],\"scatterpolar\":[{\"marker\":{\"colorbar\":{\"outlinewidth\":0,\"ticks\":\"\"}},\"type\":\"scatterpolar\"}],\"scatter\":[{\"fillpattern\":{\"fillmode\":\"overlay\",\"size\":10,\"solidity\":0.2},\"type\":\"scatter\"}],\"scatterternary\":[{\"marker\":{\"colorbar\":{\"outlinewidth\":0,\"ticks\":\"\"}},\"type\":\"scatterternary\"}],\"surface\":[{\"colorbar\":{\"outlinewidth\":0,\"ticks\":\"\"},\"colorscale\":[[0.0,\"#0d0887\"],[0.1111111111111111,\"#46039f\"],[0.2222222222222222,\"#7201a8\"],[0.3333333333333333,\"#9c179e\"],[0.4444444444444444,\"#bd3786\"],[0.5555555555555556,\"#d8576b\"],[0.6666666666666666,\"#ed7953\"],[0.7777777777777778,\"#fb9f3a\"],[0.8888888888888888,\"#fdca26\"],[1.0,\"#f0f921\"]],\"type\":\"surface\"}],\"table\":[{\"cells\":{\"fill\":{\"color\":\"#EBF0F8\"},\"line\":{\"color\":\"white\"}},\"header\":{\"fill\":{\"color\":\"#C8D4E3\"},\"line\":{\"color\":\"white\"}},\"type\":\"table\"}]},\"layout\":{\"annotationdefaults\":{\"arrowcolor\":\"#2a3f5f\",\"arrowhead\":0,\"arrowwidth\":1},\"autotypenumbers\":\"strict\",\"coloraxis\":{\"colorbar\":{\"outlinewidth\":0,\"ticks\":\"\"}},\"colorscale\":{\"diverging\":[[0,\"#8e0152\"],[0.1,\"#c51b7d\"],[0.2,\"#de77ae\"],[0.3,\"#f1b6da\"],[0.4,\"#fde0ef\"],[0.5,\"#f7f7f7\"],[0.6,\"#e6f5d0\"],[0.7,\"#b8e186\"],[0.8,\"#7fbc41\"],[0.9,\"#4d9221\"],[1,\"#276419\"]],\"sequential\":[[0.0,\"#0d0887\"],[0.1111111111111111,\"#46039f\"],[0.2222222222222222,\"#7201a8\"],[0.3333333333333333,\"#9c179e\"],[0.4444444444444444,\"#bd3786\"],[0.5555555555555556,\"#d8576b\"],[0.6666666666666666,\"#ed7953\"],[0.7777777777777778,\"#fb9f3a\"],[0.8888888888888888,\"#fdca26\"],[1.0,\"#f0f921\"]],\"sequentialminus\":[[0.0,\"#0d0887\"],[0.1111111111111111,\"#46039f\"],[0.2222222222222222,\"#7201a8\"],[0.3333333333333333,\"#9c179e\"],[0.4444444444444444,\"#bd3786\"],[0.5555555555555556,\"#d8576b\"],[0.6666666666666666,\"#ed7953\"],[0.7777777777777778,\"#fb9f3a\"],[0.8888888888888888,\"#fdca26\"],[1.0,\"#f0f921\"]]},\"colorway\":[\"#636efa\",\"#EF553B\",\"#00cc96\",\"#ab63fa\",\"#FFA15A\",\"#19d3f3\",\"#FF6692\",\"#B6E880\",\"#FF97FF\",\"#FECB52\"],\"font\":{\"color\":\"#2a3f5f\"},\"geo\":{\"bgcolor\":\"white\",\"lakecolor\":\"white\",\"landcolor\":\"#E5ECF6\",\"showlakes\":true,\"showland\":true,\"subunitcolor\":\"white\"},\"hoverlabel\":{\"align\":\"left\"},\"hovermode\":\"closest\",\"mapbox\":{\"style\":\"light\"},\"paper_bgcolor\":\"white\",\"plot_bgcolor\":\"#E5ECF6\",\"polar\":{\"angularaxis\":{\"gridcolor\":\"white\",\"linecolor\":\"white\",\"ticks\":\"\"},\"bgcolor\":\"#E5ECF6\",\"radialaxis\":{\"gridcolor\":\"white\",\"linecolor\":\"white\",\"ticks\":\"\"}},\"scene\":{\"xaxis\":{\"backgroundcolor\":\"#E5ECF6\",\"gridcolor\":\"white\",\"gridwidth\":2,\"linecolor\":\"white\",\"showbackground\":true,\"ticks\":\"\",\"zerolinecolor\":\"white\"},\"yaxis\":{\"backgroundcolor\":\"#E5ECF6\",\"gridcolor\":\"white\",\"gridwidth\":2,\"linecolor\":\"white\",\"showbackground\":true,\"ticks\":\"\",\"zerolinecolor\":\"white\"},\"zaxis\":{\"backgroundcolor\":\"#E5ECF6\",\"gridcolor\":\"white\",\"gridwidth\":2,\"linecolor\":\"white\",\"showbackground\":true,\"ticks\":\"\",\"zerolinecolor\":\"white\"}},\"shapedefaults\":{\"line\":{\"color\":\"#2a3f5f\"}},\"ternary\":{\"aaxis\":{\"gridcolor\":\"white\",\"linecolor\":\"white\",\"ticks\":\"\"},\"baxis\":{\"gridcolor\":\"white\",\"linecolor\":\"white\",\"ticks\":\"\"},\"bgcolor\":\"#E5ECF6\",\"caxis\":{\"gridcolor\":\"white\",\"linecolor\":\"white\",\"ticks\":\"\"}},\"title\":{\"x\":0.05},\"xaxis\":{\"automargin\":true,\"gridcolor\":\"white\",\"linecolor\":\"white\",\"ticks\":\"\",\"title\":{\"standoff\":15},\"zerolinecolor\":\"white\",\"zerolinewidth\":2},\"yaxis\":{\"automargin\":true,\"gridcolor\":\"white\",\"linecolor\":\"white\",\"ticks\":\"\",\"title\":{\"standoff\":15},\"zerolinecolor\":\"white\",\"zerolinewidth\":2}}},\"title\":{\"font\":{\"color\":\"#4D5663\"}},\"xaxis\":{\"gridcolor\":\"#E1E5ED\",\"showgrid\":true,\"tickfont\":{\"color\":\"#4D5663\"},\"title\":{\"font\":{\"color\":\"#4D5663\"},\"text\":\"\"},\"zerolinecolor\":\"#E1E5ED\"},\"yaxis\":{\"gridcolor\":\"#E1E5ED\",\"showgrid\":true,\"tickfont\":{\"color\":\"#4D5663\"},\"title\":{\"font\":{\"color\":\"#4D5663\"},\"text\":\"\"},\"zerolinecolor\":\"#E1E5ED\"}},                        {\"showLink\": true, \"linkText\": \"Export to plot.ly\", \"plotlyServerURL\": \"https://plot.ly\", \"responsive\": true}                    ).then(function(){\n",
       "                            \n",
       "var gd = document.getElementById('d20ec6da-b935-4496-88af-7f2338bbf621');\n",
       "var x = new MutationObserver(function (mutations, observer) {{\n",
       "        var display = window.getComputedStyle(gd).display;\n",
       "        if (!display || display === 'none') {{\n",
       "            console.log([gd, 'removed!']);\n",
       "            Plotly.purge(gd);\n",
       "            observer.disconnect();\n",
       "        }}\n",
       "}});\n",
       "\n",
       "// Listen for the removal of the full notebook cells\n",
       "var notebookContainer = gd.closest('#notebook-container');\n",
       "if (notebookContainer) {{\n",
       "    x.observe(notebookContainer, {childList: true});\n",
       "}}\n",
       "\n",
       "// Listen for the clearing of the current output cell\n",
       "var outputEl = gd.closest('.output');\n",
       "if (outputEl) {{\n",
       "    x.observe(outputEl, {childList: true});\n",
       "}}\n",
       "\n",
       "                        })                };                });            </script>        </div>"
      ]
     },
     "metadata": {},
     "output_type": "display_data"
    }
   ],
   "source": [
    "df.iplot(kind='box')"
   ]
  },
  {
   "cell_type": "markdown",
   "metadata": {},
   "source": [
    "## 3d Surface"
   ]
  },
  {
   "cell_type": "code",
   "execution_count": 16,
   "metadata": {
    "collapsed": false
   },
   "outputs": [
    {
     "data": {
      "application/vnd.plotly.v1+json": {
       "config": {
        "linkText": "Export to plot.ly",
        "plotlyServerURL": "https://plot.ly",
        "showLink": true
       },
       "data": [
        {
         "colorscale": [
          [
           0,
           "rgb(165,0,38)"
          ],
          [
           0.1,
           "rgb(215,48,39)"
          ],
          [
           0.2,
           "rgb(244,109,67)"
          ],
          [
           0.3,
           "rgb(253,174,97)"
          ],
          [
           0.4,
           "rgb(254,224,144)"
          ],
          [
           0.5,
           "rgb(255,255,191)"
          ],
          [
           0.6,
           "rgb(224,243,248)"
          ],
          [
           0.7,
           "rgb(171,217,233)"
          ],
          [
           0.8,
           "rgb(116,173,209)"
          ],
          [
           0.9,
           "rgb(69,117,180)"
          ],
          [
           1,
           "rgb(49,54,149)"
          ]
         ],
         "type": "surface",
         "x": [
          0,
          1,
          2,
          3,
          4
         ],
         "y": [
          "x",
          "y",
          "z"
         ],
         "z": [
          [
           1,
           2,
           3,
           4,
           5
          ],
          [
           10,
           20,
           30,
           20,
           10
          ],
          [
           5,
           4,
           3,
           2,
           1
          ]
         ]
        }
       ],
       "layout": {
        "legend": {
         "bgcolor": "#F5F6F9",
         "font": {
          "color": "#4D5663"
         }
        },
        "paper_bgcolor": "#F5F6F9",
        "plot_bgcolor": "#F5F6F9",
        "template": {
         "data": {
          "bar": [
           {
            "error_x": {
             "color": "#2a3f5f"
            },
            "error_y": {
             "color": "#2a3f5f"
            },
            "marker": {
             "line": {
              "color": "#E5ECF6",
              "width": 0.5
             },
             "pattern": {
              "fillmode": "overlay",
              "size": 10,
              "solidity": 0.2
             }
            },
            "type": "bar"
           }
          ],
          "barpolar": [
           {
            "marker": {
             "line": {
              "color": "#E5ECF6",
              "width": 0.5
             },
             "pattern": {
              "fillmode": "overlay",
              "size": 10,
              "solidity": 0.2
             }
            },
            "type": "barpolar"
           }
          ],
          "carpet": [
           {
            "aaxis": {
             "endlinecolor": "#2a3f5f",
             "gridcolor": "white",
             "linecolor": "white",
             "minorgridcolor": "white",
             "startlinecolor": "#2a3f5f"
            },
            "baxis": {
             "endlinecolor": "#2a3f5f",
             "gridcolor": "white",
             "linecolor": "white",
             "minorgridcolor": "white",
             "startlinecolor": "#2a3f5f"
            },
            "type": "carpet"
           }
          ],
          "choropleth": [
           {
            "colorbar": {
             "outlinewidth": 0,
             "ticks": ""
            },
            "type": "choropleth"
           }
          ],
          "contour": [
           {
            "colorbar": {
             "outlinewidth": 0,
             "ticks": ""
            },
            "colorscale": [
             [
              0,
              "#0d0887"
             ],
             [
              0.1111111111111111,
              "#46039f"
             ],
             [
              0.2222222222222222,
              "#7201a8"
             ],
             [
              0.3333333333333333,
              "#9c179e"
             ],
             [
              0.4444444444444444,
              "#bd3786"
             ],
             [
              0.5555555555555556,
              "#d8576b"
             ],
             [
              0.6666666666666666,
              "#ed7953"
             ],
             [
              0.7777777777777778,
              "#fb9f3a"
             ],
             [
              0.8888888888888888,
              "#fdca26"
             ],
             [
              1,
              "#f0f921"
             ]
            ],
            "type": "contour"
           }
          ],
          "contourcarpet": [
           {
            "colorbar": {
             "outlinewidth": 0,
             "ticks": ""
            },
            "type": "contourcarpet"
           }
          ],
          "heatmap": [
           {
            "colorbar": {
             "outlinewidth": 0,
             "ticks": ""
            },
            "colorscale": [
             [
              0,
              "#0d0887"
             ],
             [
              0.1111111111111111,
              "#46039f"
             ],
             [
              0.2222222222222222,
              "#7201a8"
             ],
             [
              0.3333333333333333,
              "#9c179e"
             ],
             [
              0.4444444444444444,
              "#bd3786"
             ],
             [
              0.5555555555555556,
              "#d8576b"
             ],
             [
              0.6666666666666666,
              "#ed7953"
             ],
             [
              0.7777777777777778,
              "#fb9f3a"
             ],
             [
              0.8888888888888888,
              "#fdca26"
             ],
             [
              1,
              "#f0f921"
             ]
            ],
            "type": "heatmap"
           }
          ],
          "heatmapgl": [
           {
            "colorbar": {
             "outlinewidth": 0,
             "ticks": ""
            },
            "colorscale": [
             [
              0,
              "#0d0887"
             ],
             [
              0.1111111111111111,
              "#46039f"
             ],
             [
              0.2222222222222222,
              "#7201a8"
             ],
             [
              0.3333333333333333,
              "#9c179e"
             ],
             [
              0.4444444444444444,
              "#bd3786"
             ],
             [
              0.5555555555555556,
              "#d8576b"
             ],
             [
              0.6666666666666666,
              "#ed7953"
             ],
             [
              0.7777777777777778,
              "#fb9f3a"
             ],
             [
              0.8888888888888888,
              "#fdca26"
             ],
             [
              1,
              "#f0f921"
             ]
            ],
            "type": "heatmapgl"
           }
          ],
          "histogram": [
           {
            "marker": {
             "pattern": {
              "fillmode": "overlay",
              "size": 10,
              "solidity": 0.2
             }
            },
            "type": "histogram"
           }
          ],
          "histogram2d": [
           {
            "colorbar": {
             "outlinewidth": 0,
             "ticks": ""
            },
            "colorscale": [
             [
              0,
              "#0d0887"
             ],
             [
              0.1111111111111111,
              "#46039f"
             ],
             [
              0.2222222222222222,
              "#7201a8"
             ],
             [
              0.3333333333333333,
              "#9c179e"
             ],
             [
              0.4444444444444444,
              "#bd3786"
             ],
             [
              0.5555555555555556,
              "#d8576b"
             ],
             [
              0.6666666666666666,
              "#ed7953"
             ],
             [
              0.7777777777777778,
              "#fb9f3a"
             ],
             [
              0.8888888888888888,
              "#fdca26"
             ],
             [
              1,
              "#f0f921"
             ]
            ],
            "type": "histogram2d"
           }
          ],
          "histogram2dcontour": [
           {
            "colorbar": {
             "outlinewidth": 0,
             "ticks": ""
            },
            "colorscale": [
             [
              0,
              "#0d0887"
             ],
             [
              0.1111111111111111,
              "#46039f"
             ],
             [
              0.2222222222222222,
              "#7201a8"
             ],
             [
              0.3333333333333333,
              "#9c179e"
             ],
             [
              0.4444444444444444,
              "#bd3786"
             ],
             [
              0.5555555555555556,
              "#d8576b"
             ],
             [
              0.6666666666666666,
              "#ed7953"
             ],
             [
              0.7777777777777778,
              "#fb9f3a"
             ],
             [
              0.8888888888888888,
              "#fdca26"
             ],
             [
              1,
              "#f0f921"
             ]
            ],
            "type": "histogram2dcontour"
           }
          ],
          "mesh3d": [
           {
            "colorbar": {
             "outlinewidth": 0,
             "ticks": ""
            },
            "type": "mesh3d"
           }
          ],
          "parcoords": [
           {
            "line": {
             "colorbar": {
              "outlinewidth": 0,
              "ticks": ""
             }
            },
            "type": "parcoords"
           }
          ],
          "pie": [
           {
            "automargin": true,
            "type": "pie"
           }
          ],
          "scatter": [
           {
            "fillpattern": {
             "fillmode": "overlay",
             "size": 10,
             "solidity": 0.2
            },
            "type": "scatter"
           }
          ],
          "scatter3d": [
           {
            "line": {
             "colorbar": {
              "outlinewidth": 0,
              "ticks": ""
             }
            },
            "marker": {
             "colorbar": {
              "outlinewidth": 0,
              "ticks": ""
             }
            },
            "type": "scatter3d"
           }
          ],
          "scattercarpet": [
           {
            "marker": {
             "colorbar": {
              "outlinewidth": 0,
              "ticks": ""
             }
            },
            "type": "scattercarpet"
           }
          ],
          "scattergeo": [
           {
            "marker": {
             "colorbar": {
              "outlinewidth": 0,
              "ticks": ""
             }
            },
            "type": "scattergeo"
           }
          ],
          "scattergl": [
           {
            "marker": {
             "colorbar": {
              "outlinewidth": 0,
              "ticks": ""
             }
            },
            "type": "scattergl"
           }
          ],
          "scattermapbox": [
           {
            "marker": {
             "colorbar": {
              "outlinewidth": 0,
              "ticks": ""
             }
            },
            "type": "scattermapbox"
           }
          ],
          "scatterpolar": [
           {
            "marker": {
             "colorbar": {
              "outlinewidth": 0,
              "ticks": ""
             }
            },
            "type": "scatterpolar"
           }
          ],
          "scatterpolargl": [
           {
            "marker": {
             "colorbar": {
              "outlinewidth": 0,
              "ticks": ""
             }
            },
            "type": "scatterpolargl"
           }
          ],
          "scatterternary": [
           {
            "marker": {
             "colorbar": {
              "outlinewidth": 0,
              "ticks": ""
             }
            },
            "type": "scatterternary"
           }
          ],
          "surface": [
           {
            "colorbar": {
             "outlinewidth": 0,
             "ticks": ""
            },
            "colorscale": [
             [
              0,
              "#0d0887"
             ],
             [
              0.1111111111111111,
              "#46039f"
             ],
             [
              0.2222222222222222,
              "#7201a8"
             ],
             [
              0.3333333333333333,
              "#9c179e"
             ],
             [
              0.4444444444444444,
              "#bd3786"
             ],
             [
              0.5555555555555556,
              "#d8576b"
             ],
             [
              0.6666666666666666,
              "#ed7953"
             ],
             [
              0.7777777777777778,
              "#fb9f3a"
             ],
             [
              0.8888888888888888,
              "#fdca26"
             ],
             [
              1,
              "#f0f921"
             ]
            ],
            "type": "surface"
           }
          ],
          "table": [
           {
            "cells": {
             "fill": {
              "color": "#EBF0F8"
             },
             "line": {
              "color": "white"
             }
            },
            "header": {
             "fill": {
              "color": "#C8D4E3"
             },
             "line": {
              "color": "white"
             }
            },
            "type": "table"
           }
          ]
         },
         "layout": {
          "annotationdefaults": {
           "arrowcolor": "#2a3f5f",
           "arrowhead": 0,
           "arrowwidth": 1
          },
          "autotypenumbers": "strict",
          "coloraxis": {
           "colorbar": {
            "outlinewidth": 0,
            "ticks": ""
           }
          },
          "colorscale": {
           "diverging": [
            [
             0,
             "#8e0152"
            ],
            [
             0.1,
             "#c51b7d"
            ],
            [
             0.2,
             "#de77ae"
            ],
            [
             0.3,
             "#f1b6da"
            ],
            [
             0.4,
             "#fde0ef"
            ],
            [
             0.5,
             "#f7f7f7"
            ],
            [
             0.6,
             "#e6f5d0"
            ],
            [
             0.7,
             "#b8e186"
            ],
            [
             0.8,
             "#7fbc41"
            ],
            [
             0.9,
             "#4d9221"
            ],
            [
             1,
             "#276419"
            ]
           ],
           "sequential": [
            [
             0,
             "#0d0887"
            ],
            [
             0.1111111111111111,
             "#46039f"
            ],
            [
             0.2222222222222222,
             "#7201a8"
            ],
            [
             0.3333333333333333,
             "#9c179e"
            ],
            [
             0.4444444444444444,
             "#bd3786"
            ],
            [
             0.5555555555555556,
             "#d8576b"
            ],
            [
             0.6666666666666666,
             "#ed7953"
            ],
            [
             0.7777777777777778,
             "#fb9f3a"
            ],
            [
             0.8888888888888888,
             "#fdca26"
            ],
            [
             1,
             "#f0f921"
            ]
           ],
           "sequentialminus": [
            [
             0,
             "#0d0887"
            ],
            [
             0.1111111111111111,
             "#46039f"
            ],
            [
             0.2222222222222222,
             "#7201a8"
            ],
            [
             0.3333333333333333,
             "#9c179e"
            ],
            [
             0.4444444444444444,
             "#bd3786"
            ],
            [
             0.5555555555555556,
             "#d8576b"
            ],
            [
             0.6666666666666666,
             "#ed7953"
            ],
            [
             0.7777777777777778,
             "#fb9f3a"
            ],
            [
             0.8888888888888888,
             "#fdca26"
            ],
            [
             1,
             "#f0f921"
            ]
           ]
          },
          "colorway": [
           "#636efa",
           "#EF553B",
           "#00cc96",
           "#ab63fa",
           "#FFA15A",
           "#19d3f3",
           "#FF6692",
           "#B6E880",
           "#FF97FF",
           "#FECB52"
          ],
          "font": {
           "color": "#2a3f5f"
          },
          "geo": {
           "bgcolor": "white",
           "lakecolor": "white",
           "landcolor": "#E5ECF6",
           "showlakes": true,
           "showland": true,
           "subunitcolor": "white"
          },
          "hoverlabel": {
           "align": "left"
          },
          "hovermode": "closest",
          "mapbox": {
           "style": "light"
          },
          "paper_bgcolor": "white",
          "plot_bgcolor": "#E5ECF6",
          "polar": {
           "angularaxis": {
            "gridcolor": "white",
            "linecolor": "white",
            "ticks": ""
           },
           "bgcolor": "#E5ECF6",
           "radialaxis": {
            "gridcolor": "white",
            "linecolor": "white",
            "ticks": ""
           }
          },
          "scene": {
           "xaxis": {
            "backgroundcolor": "#E5ECF6",
            "gridcolor": "white",
            "gridwidth": 2,
            "linecolor": "white",
            "showbackground": true,
            "ticks": "",
            "zerolinecolor": "white"
           },
           "yaxis": {
            "backgroundcolor": "#E5ECF6",
            "gridcolor": "white",
            "gridwidth": 2,
            "linecolor": "white",
            "showbackground": true,
            "ticks": "",
            "zerolinecolor": "white"
           },
           "zaxis": {
            "backgroundcolor": "#E5ECF6",
            "gridcolor": "white",
            "gridwidth": 2,
            "linecolor": "white",
            "showbackground": true,
            "ticks": "",
            "zerolinecolor": "white"
           }
          },
          "shapedefaults": {
           "line": {
            "color": "#2a3f5f"
           }
          },
          "ternary": {
           "aaxis": {
            "gridcolor": "white",
            "linecolor": "white",
            "ticks": ""
           },
           "baxis": {
            "gridcolor": "white",
            "linecolor": "white",
            "ticks": ""
           },
           "bgcolor": "#E5ECF6",
           "caxis": {
            "gridcolor": "white",
            "linecolor": "white",
            "ticks": ""
           }
          },
          "title": {
           "x": 0.05
          },
          "xaxis": {
           "automargin": true,
           "gridcolor": "white",
           "linecolor": "white",
           "ticks": "",
           "title": {
            "standoff": 15
           },
           "zerolinecolor": "white",
           "zerolinewidth": 2
          },
          "yaxis": {
           "automargin": true,
           "gridcolor": "white",
           "linecolor": "white",
           "ticks": "",
           "title": {
            "standoff": 15
           },
           "zerolinecolor": "white",
           "zerolinewidth": 2
          }
         }
        },
        "title": {
         "font": {
          "color": "#4D5663"
         }
        },
        "xaxis": {
         "gridcolor": "#E1E5ED",
         "showgrid": true,
         "tickfont": {
          "color": "#4D5663"
         },
         "title": {
          "font": {
           "color": "#4D5663"
          },
          "text": ""
         },
         "zerolinecolor": "#E1E5ED"
        },
        "yaxis": {
         "gridcolor": "#E1E5ED",
         "showgrid": true,
         "tickfont": {
          "color": "#4D5663"
         },
         "title": {
          "font": {
           "color": "#4D5663"
          },
          "text": ""
         },
         "zerolinecolor": "#E1E5ED"
        }
       }
      },
      "text/html": [
       "<div>                            <div id=\"f0bf6ca7-e7f2-412f-a333-9e52e8b13293\" class=\"plotly-graph-div\" style=\"height:525px; width:100%;\"></div>            <script type=\"text/javascript\">                require([\"plotly\"], function(Plotly) {                    window.PLOTLYENV=window.PLOTLYENV || {};\n",
       "                    window.PLOTLYENV.BASE_URL='https://plot.ly';                                    if (document.getElementById(\"f0bf6ca7-e7f2-412f-a333-9e52e8b13293\")) {                    Plotly.newPlot(                        \"f0bf6ca7-e7f2-412f-a333-9e52e8b13293\",                        [{\"colorscale\":[[0.0,\"rgb(165,0,38)\"],[0.1,\"rgb(215,48,39)\"],[0.2,\"rgb(244,109,67)\"],[0.3,\"rgb(253,174,97)\"],[0.4,\"rgb(254,224,144)\"],[0.5,\"rgb(255,255,191)\"],[0.6,\"rgb(224,243,248)\"],[0.7,\"rgb(171,217,233)\"],[0.8,\"rgb(116,173,209)\"],[0.9,\"rgb(69,117,180)\"],[1.0,\"rgb(49,54,149)\"]],\"x\":[0,1,2,3,4],\"y\":[\"x\",\"y\",\"z\"],\"z\":[[1,2,3,4,5],[10,20,30,20,10],[5,4,3,2,1]],\"type\":\"surface\"}],                        {\"legend\":{\"bgcolor\":\"#F5F6F9\",\"font\":{\"color\":\"#4D5663\"}},\"paper_bgcolor\":\"#F5F6F9\",\"plot_bgcolor\":\"#F5F6F9\",\"template\":{\"data\":{\"barpolar\":[{\"marker\":{\"line\":{\"color\":\"#E5ECF6\",\"width\":0.5},\"pattern\":{\"fillmode\":\"overlay\",\"size\":10,\"solidity\":0.2}},\"type\":\"barpolar\"}],\"bar\":[{\"error_x\":{\"color\":\"#2a3f5f\"},\"error_y\":{\"color\":\"#2a3f5f\"},\"marker\":{\"line\":{\"color\":\"#E5ECF6\",\"width\":0.5},\"pattern\":{\"fillmode\":\"overlay\",\"size\":10,\"solidity\":0.2}},\"type\":\"bar\"}],\"carpet\":[{\"aaxis\":{\"endlinecolor\":\"#2a3f5f\",\"gridcolor\":\"white\",\"linecolor\":\"white\",\"minorgridcolor\":\"white\",\"startlinecolor\":\"#2a3f5f\"},\"baxis\":{\"endlinecolor\":\"#2a3f5f\",\"gridcolor\":\"white\",\"linecolor\":\"white\",\"minorgridcolor\":\"white\",\"startlinecolor\":\"#2a3f5f\"},\"type\":\"carpet\"}],\"choropleth\":[{\"colorbar\":{\"outlinewidth\":0,\"ticks\":\"\"},\"type\":\"choropleth\"}],\"contourcarpet\":[{\"colorbar\":{\"outlinewidth\":0,\"ticks\":\"\"},\"type\":\"contourcarpet\"}],\"contour\":[{\"colorbar\":{\"outlinewidth\":0,\"ticks\":\"\"},\"colorscale\":[[0.0,\"#0d0887\"],[0.1111111111111111,\"#46039f\"],[0.2222222222222222,\"#7201a8\"],[0.3333333333333333,\"#9c179e\"],[0.4444444444444444,\"#bd3786\"],[0.5555555555555556,\"#d8576b\"],[0.6666666666666666,\"#ed7953\"],[0.7777777777777778,\"#fb9f3a\"],[0.8888888888888888,\"#fdca26\"],[1.0,\"#f0f921\"]],\"type\":\"contour\"}],\"heatmapgl\":[{\"colorbar\":{\"outlinewidth\":0,\"ticks\":\"\"},\"colorscale\":[[0.0,\"#0d0887\"],[0.1111111111111111,\"#46039f\"],[0.2222222222222222,\"#7201a8\"],[0.3333333333333333,\"#9c179e\"],[0.4444444444444444,\"#bd3786\"],[0.5555555555555556,\"#d8576b\"],[0.6666666666666666,\"#ed7953\"],[0.7777777777777778,\"#fb9f3a\"],[0.8888888888888888,\"#fdca26\"],[1.0,\"#f0f921\"]],\"type\":\"heatmapgl\"}],\"heatmap\":[{\"colorbar\":{\"outlinewidth\":0,\"ticks\":\"\"},\"colorscale\":[[0.0,\"#0d0887\"],[0.1111111111111111,\"#46039f\"],[0.2222222222222222,\"#7201a8\"],[0.3333333333333333,\"#9c179e\"],[0.4444444444444444,\"#bd3786\"],[0.5555555555555556,\"#d8576b\"],[0.6666666666666666,\"#ed7953\"],[0.7777777777777778,\"#fb9f3a\"],[0.8888888888888888,\"#fdca26\"],[1.0,\"#f0f921\"]],\"type\":\"heatmap\"}],\"histogram2dcontour\":[{\"colorbar\":{\"outlinewidth\":0,\"ticks\":\"\"},\"colorscale\":[[0.0,\"#0d0887\"],[0.1111111111111111,\"#46039f\"],[0.2222222222222222,\"#7201a8\"],[0.3333333333333333,\"#9c179e\"],[0.4444444444444444,\"#bd3786\"],[0.5555555555555556,\"#d8576b\"],[0.6666666666666666,\"#ed7953\"],[0.7777777777777778,\"#fb9f3a\"],[0.8888888888888888,\"#fdca26\"],[1.0,\"#f0f921\"]],\"type\":\"histogram2dcontour\"}],\"histogram2d\":[{\"colorbar\":{\"outlinewidth\":0,\"ticks\":\"\"},\"colorscale\":[[0.0,\"#0d0887\"],[0.1111111111111111,\"#46039f\"],[0.2222222222222222,\"#7201a8\"],[0.3333333333333333,\"#9c179e\"],[0.4444444444444444,\"#bd3786\"],[0.5555555555555556,\"#d8576b\"],[0.6666666666666666,\"#ed7953\"],[0.7777777777777778,\"#fb9f3a\"],[0.8888888888888888,\"#fdca26\"],[1.0,\"#f0f921\"]],\"type\":\"histogram2d\"}],\"histogram\":[{\"marker\":{\"pattern\":{\"fillmode\":\"overlay\",\"size\":10,\"solidity\":0.2}},\"type\":\"histogram\"}],\"mesh3d\":[{\"colorbar\":{\"outlinewidth\":0,\"ticks\":\"\"},\"type\":\"mesh3d\"}],\"parcoords\":[{\"line\":{\"colorbar\":{\"outlinewidth\":0,\"ticks\":\"\"}},\"type\":\"parcoords\"}],\"pie\":[{\"automargin\":true,\"type\":\"pie\"}],\"scatter3d\":[{\"line\":{\"colorbar\":{\"outlinewidth\":0,\"ticks\":\"\"}},\"marker\":{\"colorbar\":{\"outlinewidth\":0,\"ticks\":\"\"}},\"type\":\"scatter3d\"}],\"scattercarpet\":[{\"marker\":{\"colorbar\":{\"outlinewidth\":0,\"ticks\":\"\"}},\"type\":\"scattercarpet\"}],\"scattergeo\":[{\"marker\":{\"colorbar\":{\"outlinewidth\":0,\"ticks\":\"\"}},\"type\":\"scattergeo\"}],\"scattergl\":[{\"marker\":{\"colorbar\":{\"outlinewidth\":0,\"ticks\":\"\"}},\"type\":\"scattergl\"}],\"scattermapbox\":[{\"marker\":{\"colorbar\":{\"outlinewidth\":0,\"ticks\":\"\"}},\"type\":\"scattermapbox\"}],\"scatterpolargl\":[{\"marker\":{\"colorbar\":{\"outlinewidth\":0,\"ticks\":\"\"}},\"type\":\"scatterpolargl\"}],\"scatterpolar\":[{\"marker\":{\"colorbar\":{\"outlinewidth\":0,\"ticks\":\"\"}},\"type\":\"scatterpolar\"}],\"scatter\":[{\"fillpattern\":{\"fillmode\":\"overlay\",\"size\":10,\"solidity\":0.2},\"type\":\"scatter\"}],\"scatterternary\":[{\"marker\":{\"colorbar\":{\"outlinewidth\":0,\"ticks\":\"\"}},\"type\":\"scatterternary\"}],\"surface\":[{\"colorbar\":{\"outlinewidth\":0,\"ticks\":\"\"},\"colorscale\":[[0.0,\"#0d0887\"],[0.1111111111111111,\"#46039f\"],[0.2222222222222222,\"#7201a8\"],[0.3333333333333333,\"#9c179e\"],[0.4444444444444444,\"#bd3786\"],[0.5555555555555556,\"#d8576b\"],[0.6666666666666666,\"#ed7953\"],[0.7777777777777778,\"#fb9f3a\"],[0.8888888888888888,\"#fdca26\"],[1.0,\"#f0f921\"]],\"type\":\"surface\"}],\"table\":[{\"cells\":{\"fill\":{\"color\":\"#EBF0F8\"},\"line\":{\"color\":\"white\"}},\"header\":{\"fill\":{\"color\":\"#C8D4E3\"},\"line\":{\"color\":\"white\"}},\"type\":\"table\"}]},\"layout\":{\"annotationdefaults\":{\"arrowcolor\":\"#2a3f5f\",\"arrowhead\":0,\"arrowwidth\":1},\"autotypenumbers\":\"strict\",\"coloraxis\":{\"colorbar\":{\"outlinewidth\":0,\"ticks\":\"\"}},\"colorscale\":{\"diverging\":[[0,\"#8e0152\"],[0.1,\"#c51b7d\"],[0.2,\"#de77ae\"],[0.3,\"#f1b6da\"],[0.4,\"#fde0ef\"],[0.5,\"#f7f7f7\"],[0.6,\"#e6f5d0\"],[0.7,\"#b8e186\"],[0.8,\"#7fbc41\"],[0.9,\"#4d9221\"],[1,\"#276419\"]],\"sequential\":[[0.0,\"#0d0887\"],[0.1111111111111111,\"#46039f\"],[0.2222222222222222,\"#7201a8\"],[0.3333333333333333,\"#9c179e\"],[0.4444444444444444,\"#bd3786\"],[0.5555555555555556,\"#d8576b\"],[0.6666666666666666,\"#ed7953\"],[0.7777777777777778,\"#fb9f3a\"],[0.8888888888888888,\"#fdca26\"],[1.0,\"#f0f921\"]],\"sequentialminus\":[[0.0,\"#0d0887\"],[0.1111111111111111,\"#46039f\"],[0.2222222222222222,\"#7201a8\"],[0.3333333333333333,\"#9c179e\"],[0.4444444444444444,\"#bd3786\"],[0.5555555555555556,\"#d8576b\"],[0.6666666666666666,\"#ed7953\"],[0.7777777777777778,\"#fb9f3a\"],[0.8888888888888888,\"#fdca26\"],[1.0,\"#f0f921\"]]},\"colorway\":[\"#636efa\",\"#EF553B\",\"#00cc96\",\"#ab63fa\",\"#FFA15A\",\"#19d3f3\",\"#FF6692\",\"#B6E880\",\"#FF97FF\",\"#FECB52\"],\"font\":{\"color\":\"#2a3f5f\"},\"geo\":{\"bgcolor\":\"white\",\"lakecolor\":\"white\",\"landcolor\":\"#E5ECF6\",\"showlakes\":true,\"showland\":true,\"subunitcolor\":\"white\"},\"hoverlabel\":{\"align\":\"left\"},\"hovermode\":\"closest\",\"mapbox\":{\"style\":\"light\"},\"paper_bgcolor\":\"white\",\"plot_bgcolor\":\"#E5ECF6\",\"polar\":{\"angularaxis\":{\"gridcolor\":\"white\",\"linecolor\":\"white\",\"ticks\":\"\"},\"bgcolor\":\"#E5ECF6\",\"radialaxis\":{\"gridcolor\":\"white\",\"linecolor\":\"white\",\"ticks\":\"\"}},\"scene\":{\"xaxis\":{\"backgroundcolor\":\"#E5ECF6\",\"gridcolor\":\"white\",\"gridwidth\":2,\"linecolor\":\"white\",\"showbackground\":true,\"ticks\":\"\",\"zerolinecolor\":\"white\"},\"yaxis\":{\"backgroundcolor\":\"#E5ECF6\",\"gridcolor\":\"white\",\"gridwidth\":2,\"linecolor\":\"white\",\"showbackground\":true,\"ticks\":\"\",\"zerolinecolor\":\"white\"},\"zaxis\":{\"backgroundcolor\":\"#E5ECF6\",\"gridcolor\":\"white\",\"gridwidth\":2,\"linecolor\":\"white\",\"showbackground\":true,\"ticks\":\"\",\"zerolinecolor\":\"white\"}},\"shapedefaults\":{\"line\":{\"color\":\"#2a3f5f\"}},\"ternary\":{\"aaxis\":{\"gridcolor\":\"white\",\"linecolor\":\"white\",\"ticks\":\"\"},\"baxis\":{\"gridcolor\":\"white\",\"linecolor\":\"white\",\"ticks\":\"\"},\"bgcolor\":\"#E5ECF6\",\"caxis\":{\"gridcolor\":\"white\",\"linecolor\":\"white\",\"ticks\":\"\"}},\"title\":{\"x\":0.05},\"xaxis\":{\"automargin\":true,\"gridcolor\":\"white\",\"linecolor\":\"white\",\"ticks\":\"\",\"title\":{\"standoff\":15},\"zerolinecolor\":\"white\",\"zerolinewidth\":2},\"yaxis\":{\"automargin\":true,\"gridcolor\":\"white\",\"linecolor\":\"white\",\"ticks\":\"\",\"title\":{\"standoff\":15},\"zerolinecolor\":\"white\",\"zerolinewidth\":2}}},\"title\":{\"font\":{\"color\":\"#4D5663\"}},\"xaxis\":{\"gridcolor\":\"#E1E5ED\",\"showgrid\":true,\"tickfont\":{\"color\":\"#4D5663\"},\"title\":{\"font\":{\"color\":\"#4D5663\"},\"text\":\"\"},\"zerolinecolor\":\"#E1E5ED\"},\"yaxis\":{\"gridcolor\":\"#E1E5ED\",\"showgrid\":true,\"tickfont\":{\"color\":\"#4D5663\"},\"title\":{\"font\":{\"color\":\"#4D5663\"},\"text\":\"\"},\"zerolinecolor\":\"#E1E5ED\"}},                        {\"showLink\": true, \"linkText\": \"Export to plot.ly\", \"plotlyServerURL\": \"https://plot.ly\", \"responsive\": true}                    ).then(function(){\n",
       "                            \n",
       "var gd = document.getElementById('f0bf6ca7-e7f2-412f-a333-9e52e8b13293');\n",
       "var x = new MutationObserver(function (mutations, observer) {{\n",
       "        var display = window.getComputedStyle(gd).display;\n",
       "        if (!display || display === 'none') {{\n",
       "            console.log([gd, 'removed!']);\n",
       "            Plotly.purge(gd);\n",
       "            observer.disconnect();\n",
       "        }}\n",
       "}});\n",
       "\n",
       "// Listen for the removal of the full notebook cells\n",
       "var notebookContainer = gd.closest('#notebook-container');\n",
       "if (notebookContainer) {{\n",
       "    x.observe(notebookContainer, {childList: true});\n",
       "}}\n",
       "\n",
       "// Listen for the clearing of the current output cell\n",
       "var outputEl = gd.closest('.output');\n",
       "if (outputEl) {{\n",
       "    x.observe(outputEl, {childList: true});\n",
       "}}\n",
       "\n",
       "                        })                };                });            </script>        </div>"
      ]
     },
     "metadata": {},
     "output_type": "display_data"
    }
   ],
   "source": [
    "df3 = pd.DataFrame({'x':[1,2,3,4,5],'y':[10,20,30,20,10],'z':[5,4,3,2,1]})\n",
    "df3.iplot(kind='surface',colorscale='rdylbu')"
   ]
  },
  {
   "cell_type": "markdown",
   "metadata": {},
   "source": [
    "## Spread"
   ]
  },
  {
   "cell_type": "code",
   "execution_count": 17,
   "metadata": {
    "collapsed": false
   },
   "outputs": [
    {
     "name": "stderr",
     "output_type": "stream",
     "text": [
      "/home/jonathan/.asdf/installs/python/3.10.7/lib/python3.10/site-packages/cufflinks/plotlytools.py:849: FutureWarning:\n",
      "\n",
      "The pandas.np module is deprecated and will be removed from pandas in a future version. Import numpy directly instead.\n",
      "\n",
      "/home/jonathan/.asdf/installs/python/3.10.7/lib/python3.10/site-packages/cufflinks/plotlytools.py:850: FutureWarning:\n",
      "\n",
      "The pandas.np module is deprecated and will be removed from pandas in a future version. Import numpy directly instead.\n",
      "\n"
     ]
    },
    {
     "data": {
      "application/vnd.plotly.v1+json": {
       "config": {
        "linkText": "Export to plot.ly",
        "plotlyServerURL": "https://plot.ly",
        "showLink": true
       },
       "data": [
        {
         "line": {
          "color": "rgba(255, 153, 51, 1.0)",
          "dash": "solid",
          "shape": "linear",
          "width": 1.3
         },
         "mode": "lines",
         "name": "A",
         "text": "",
         "type": "scatter",
         "x": [
          0,
          1,
          2,
          3,
          4,
          5,
          6,
          7,
          8,
          9,
          10,
          11,
          12,
          13,
          14,
          15,
          16,
          17,
          18,
          19,
          20,
          21,
          22,
          23,
          24,
          25,
          26,
          27,
          28,
          29,
          30,
          31,
          32,
          33,
          34,
          35,
          36,
          37,
          38,
          39,
          40,
          41,
          42,
          43,
          44,
          45,
          46,
          47,
          48,
          49,
          50,
          51,
          52,
          53,
          54,
          55,
          56,
          57,
          58,
          59,
          60,
          61,
          62,
          63,
          64,
          65,
          66,
          67,
          68,
          69,
          70,
          71,
          72,
          73,
          74,
          75,
          76,
          77,
          78,
          79,
          80,
          81,
          82,
          83,
          84,
          85,
          86,
          87,
          88,
          89,
          90,
          91,
          92,
          93,
          94,
          95,
          96,
          97,
          98,
          99
         ],
         "y": [
          1.1808861104858086,
          -1.009315475834072,
          2.1010267597285734,
          -1.2761110614656328,
          2.1355984367483503,
          0.45187550757489103,
          0.35575837216877865,
          -0.33192853903028824,
          0.16555430091279025,
          2.0939392840659474,
          3.3046262093131764,
          0.8016652198144762,
          -0.08064663403209753,
          -0.2894576343328641,
          -0.6353852627420068,
          0.06915412092097081,
          0.972353162345244,
          -0.4226617370851711,
          0.44457415032163833,
          1.9306320625284974,
          0.862768413234945,
          -0.07436503288404975,
          -1.3075425798831994,
          0.07488233835490188,
          -0.5383693570233857,
          -1.150895491288997,
          -0.644601767843179,
          -0.3003701225679646,
          -0.6768652099919864,
          0.21410544574864887,
          0.5950296396184611,
          0.26973044921773104,
          -0.7010536597606614,
          -1.3488991119769904,
          0.5735052483541746,
          0.116911756060154,
          -1.384243153289476,
          -1.5122147482705393,
          -2.0490427795777326,
          -0.47086463185893823,
          -1.7115532738390293,
          -0.41926538769302296,
          0.6342347447608379,
          1.0524544462265217,
          0.27116119274636,
          -0.6327759017672793,
          -0.2381293131326908,
          -1.560007071354141,
          0.3564002971081718,
          -0.7431653691129735,
          0.021248317242468076,
          -0.6171074244097834,
          -0.7287550072634262,
          1.1115975878346898,
          -0.0264973903468035,
          -0.39998035014100297,
          0.17090679907552722,
          0.7704465470894409,
          1.3645508989608082,
          0.2736827452554336,
          0.9458706409895032,
          -2.039392752696324,
          0.05308215087500142,
          -1.4223150595751306,
          -0.32401077448582954,
          -1.4858113454908572,
          -1.3260796336088796,
          1.2980796587223302,
          0.7718502322874692,
          0.4027364328411132,
          -0.12487684581340935,
          -0.3734360479494493,
          -0.004287553825357087,
          -0.6221945153849893,
          0.18712560869775033,
          -0.8542025277225092,
          0.2605274316144155,
          0.8065865657559427,
          0.8892694273074893,
          -0.11438673646857235,
          -0.4124256111912983,
          0.362764158444993,
          0.17788406981146257,
          0.25232389432641744,
          -0.7612788204072456,
          0.5135316958636523,
          1.76093782929227,
          -0.23332353476080336,
          -0.963431849581975,
          0.4370139219460403,
          -1.5530042663990145,
          0.01358618685162266,
          1.1281240398709063,
          -0.41511661847317877,
          0.2844084545138961,
          0.07062579562964151,
          0.77115342742805,
          -1.2748891258557924,
          0.7651414902457511,
          1.5399719990359306
         ]
        },
        {
         "line": {
          "color": "rgba(55, 128, 191, 1.0)",
          "dash": "solid",
          "shape": "linear",
          "width": 1.3
         },
         "mode": "lines",
         "name": "B",
         "text": "",
         "type": "scatter",
         "x": [
          0,
          1,
          2,
          3,
          4,
          5,
          6,
          7,
          8,
          9,
          10,
          11,
          12,
          13,
          14,
          15,
          16,
          17,
          18,
          19,
          20,
          21,
          22,
          23,
          24,
          25,
          26,
          27,
          28,
          29,
          30,
          31,
          32,
          33,
          34,
          35,
          36,
          37,
          38,
          39,
          40,
          41,
          42,
          43,
          44,
          45,
          46,
          47,
          48,
          49,
          50,
          51,
          52,
          53,
          54,
          55,
          56,
          57,
          58,
          59,
          60,
          61,
          62,
          63,
          64,
          65,
          66,
          67,
          68,
          69,
          70,
          71,
          72,
          73,
          74,
          75,
          76,
          77,
          78,
          79,
          80,
          81,
          82,
          83,
          84,
          85,
          86,
          87,
          88,
          89,
          90,
          91,
          92,
          93,
          94,
          95,
          96,
          97,
          98,
          99
         ],
         "y": [
          1.8869774144646363,
          -0.15178939659604912,
          0.49273651175711186,
          -1.323250063279204,
          -1.3096082803841553,
          -1.3849349027148277,
          1.156638863289787,
          -0.9517605210106179,
          0.4107021866605751,
          0.03405599860229291,
          2.082439060515147,
          -0.6632141972130775,
          0.5541718312078655,
          0.19367068612461416,
          2.260149093720149,
          -1.2259061103880828,
          -0.7895331423494181,
          0.7662518068681965,
          1.0247551473290297,
          1.6578485874276878,
          0.3833380944296906,
          0.9354852173085542,
          1.201005381289398,
          1.9991827012969507,
          -0.6687087204962803,
          -0.2889780327683993,
          -1.1867862695251132,
          0.21882396000194415,
          1.2349522356979719,
          -2.2700863402085885,
          0.21154465034024256,
          -2.0375384753026133,
          -0.27323895036263013,
          -0.5022346822859977,
          1.3981296300065187,
          -0.7808568466240103,
          0.07384353772811302,
          0.8108562614778606,
          0.26004090339418573,
          -1.537016362845774,
          -0.08338367129457505,
          -0.2142211275967988,
          -0.9378209276170207,
          -0.6815547301708351,
          -0.8552378052823102,
          -0.1484952070387059,
          -1.4145757942280957,
          -0.366902467981607,
          0.9217146167090984,
          1.3107705120296753,
          -0.7798058588406078,
          0.6927152044770846,
          0.27715215900653895,
          -0.6773501227910225,
          -0.39772212572225923,
          -0.9327902138961053,
          -1.5359943716946074,
          0.05265840173276143,
          -0.49077067967105015,
          0.46340928236261036,
          -2.2641201459935885,
          -0.39308652349632045,
          1.072805319475322,
          -0.7246309842420298,
          -1.7363183613206394,
          1.8964187758108288,
          -0.6087390744568856,
          -2.70414795296228,
          -1.65510169490042,
          0.6659266357370712,
          0.21563454907328639,
          0.9058385938958805,
          0.5298879363128568,
          2.2882030650566865,
          -0.3654187398433885,
          -0.8223437056703111,
          -1.1960008750849571,
          0.998214927884022,
          -0.8224011627610441,
          -0.6283770556295083,
          -0.4566048300151653,
          -0.1673684778572825,
          1.2086066242166869,
          1.271826220581654,
          0.8480941150195749,
          0.40288423807506885,
          0.029759689383405466,
          -0.5287908721090397,
          -0.6426181955756219,
          -1.2020398873408829,
          -0.902931701935573,
          0.7725336591758999,
          -1.0785659218318133,
          0.6226481271010155,
          1.731907502841091,
          -0.9405026151070189,
          -0.3371830830297367,
          -0.19216251774875798,
          0.3868122511782008,
          0.37115889539592906
         ]
        },
        {
         "connectgaps": false,
         "fill": "tozeroy",
         "line": {
          "color": "green",
          "dash": "solid",
          "shape": "linear",
          "width": 0.5
         },
         "mode": "lines",
         "name": "Spread",
         "showlegend": false,
         "type": "scatter",
         "x": [
          0,
          1,
          2,
          3,
          4,
          5,
          6,
          7,
          8,
          9,
          10,
          11,
          12,
          13,
          14,
          15,
          16,
          17,
          18,
          19,
          20,
          21,
          22,
          23,
          24,
          25,
          26,
          27,
          28,
          29,
          30,
          31,
          32,
          33,
          34,
          35,
          36,
          37,
          38,
          39,
          40,
          41,
          42,
          43,
          44,
          45,
          46,
          47,
          48,
          49,
          50,
          51,
          52,
          53,
          54,
          55,
          56,
          57,
          58,
          59,
          60,
          61,
          62,
          63,
          64,
          65,
          66,
          67,
          68,
          69,
          70,
          71,
          72,
          73,
          74,
          75,
          76,
          77,
          78,
          79,
          80,
          81,
          82,
          83,
          84,
          85,
          86,
          87,
          88,
          89,
          90,
          91,
          92,
          93,
          94,
          95,
          96,
          97,
          98,
          99
         ],
         "xaxis": "x2",
         "y": [
          "",
          "",
          1.6082902479714616,
          0.04713900181357111,
          3.4452067171325056,
          1.8368104102897187,
          "",
          0.6198319819803297,
          "",
          2.0598832854636546,
          1.2221871487980294,
          1.4648794170275536,
          "",
          "",
          "",
          1.2950602313090536,
          1.761886304694662,
          "",
          "",
          0.2727834751008096,
          0.47943031880525444,
          "",
          "",
          "",
          0.13033936347289454,
          "",
          0.5421845016819342,
          "",
          "",
          2.484191785957237,
          0.38348498927821856,
          2.3072689245203444,
          "",
          "",
          "",
          0.8977686026841644,
          "",
          "",
          "",
          1.0661517309868358,
          "",
          "",
          1.5720556723778585,
          1.7340091763973569,
          1.1263989980286702,
          "",
          1.1764464810954047,
          "",
          "",
          "",
          0.8010541760830759,
          "",
          "",
          1.7889477106257123,
          0.37122473537545575,
          0.5328098637551023,
          1.7069011707701347,
          0.7177881453566795,
          1.8553215786318584,
          "",
          3.2099907869830915,
          "",
          "",
          "",
          1.4123075868348098,
          "",
          "",
          4.00222761168461,
          2.426951927187889,
          "",
          "",
          "",
          "",
          "",
          0.5525443485411389,
          "",
          1.4565283066993726,
          "",
          1.7116705900685334,
          0.513990319160936,
          0.044179218823866995,
          0.5301326363022755,
          "",
          "",
          "",
          0.11064745778858348,
          1.7311781399088644,
          0.2954673373482364,
          "",
          1.6390538092869231,
          "",
          "",
          2.2066899617027196,
          "",
          "",
          1.0111284107366605,
          1.1083365104577867,
          "",
          0.3783292390675503,
          1.1688131036400016
         ],
         "yaxis": "y2"
        },
        {
         "connectgaps": false,
         "fill": "tozeroy",
         "line": {
          "color": "red",
          "dash": "solid",
          "shape": "linear",
          "width": 0.5
         },
         "mode": "lines",
         "name": "Spread",
         "showlegend": false,
         "type": "scatter",
         "x": [
          0,
          1,
          2,
          3,
          4,
          5,
          6,
          7,
          8,
          9,
          10,
          11,
          12,
          13,
          14,
          15,
          16,
          17,
          18,
          19,
          20,
          21,
          22,
          23,
          24,
          25,
          26,
          27,
          28,
          29,
          30,
          31,
          32,
          33,
          34,
          35,
          36,
          37,
          38,
          39,
          40,
          41,
          42,
          43,
          44,
          45,
          46,
          47,
          48,
          49,
          50,
          51,
          52,
          53,
          54,
          55,
          56,
          57,
          58,
          59,
          60,
          61,
          62,
          63,
          64,
          65,
          66,
          67,
          68,
          69,
          70,
          71,
          72,
          73,
          74,
          75,
          76,
          77,
          78,
          79,
          80,
          81,
          82,
          83,
          84,
          85,
          86,
          87,
          88,
          89,
          90,
          91,
          92,
          93,
          94,
          95,
          96,
          97,
          98,
          99
         ],
         "xaxis": "x2",
         "y": [
          -0.7060913039788277,
          -0.857526079238023,
          "",
          "",
          "",
          "",
          -0.8008804911210083,
          "",
          -0.24514788574778487,
          "",
          "",
          "",
          -0.634818465239963,
          -0.4831283204574782,
          -2.895534356462156,
          "",
          "",
          -1.1889135439533676,
          -0.5801809970073915,
          "",
          "",
          -1.0098502501926039,
          -2.5085479611725976,
          -1.924300362942049,
          "",
          -0.8619174585205978,
          "",
          -0.5191940825699087,
          -1.9118174456899584,
          "",
          "",
          "",
          -0.42781470939803123,
          -0.8466644296909928,
          -0.8246243816523441,
          "",
          -1.458086691017589,
          -2.3230710097484,
          -2.3090836829719183,
          "",
          -1.6281696025444543,
          -0.20504426009622417,
          "",
          "",
          "",
          -0.4842806947285734,
          "",
          -1.193104603372534,
          -0.5653143196009266,
          -2.0539358811426487,
          "",
          -1.309822628886868,
          -1.0059071662699652,
          "",
          "",
          "",
          "",
          "",
          "",
          -0.18972653710717674,
          "",
          -1.6463062292000035,
          -1.0197231686003205,
          -0.6976840753331008,
          "",
          -3.382230121301686,
          -0.717340559151994,
          "",
          "",
          -0.263190202895958,
          -0.34051139488669574,
          -1.2792746418453298,
          -0.5341754901382139,
          -2.9103975804416757,
          "",
          -0.03185882205219803,
          "",
          -0.19162836212807932,
          "",
          "",
          "",
          "",
          -1.0307225544052243,
          -1.0195023262552365,
          -1.6093729354268205,
          "",
          "",
          "",
          -0.3208136540063531,
          "",
          -0.6500725644634414,
          -0.7589474723242773,
          "",
          -1.0377647455741943,
          -1.447499048327195,
          "",
          "",
          -1.0827266081070344,
          "",
          ""
         ],
         "yaxis": "y2"
        }
       ],
       "layout": {
        "hovermode": "x",
        "legend": {
         "bgcolor": "#F5F6F9",
         "font": {
          "color": "#4D5663"
         }
        },
        "paper_bgcolor": "#F5F6F9",
        "plot_bgcolor": "#F5F6F9",
        "template": {
         "data": {
          "bar": [
           {
            "error_x": {
             "color": "#2a3f5f"
            },
            "error_y": {
             "color": "#2a3f5f"
            },
            "marker": {
             "line": {
              "color": "#E5ECF6",
              "width": 0.5
             },
             "pattern": {
              "fillmode": "overlay",
              "size": 10,
              "solidity": 0.2
             }
            },
            "type": "bar"
           }
          ],
          "barpolar": [
           {
            "marker": {
             "line": {
              "color": "#E5ECF6",
              "width": 0.5
             },
             "pattern": {
              "fillmode": "overlay",
              "size": 10,
              "solidity": 0.2
             }
            },
            "type": "barpolar"
           }
          ],
          "carpet": [
           {
            "aaxis": {
             "endlinecolor": "#2a3f5f",
             "gridcolor": "white",
             "linecolor": "white",
             "minorgridcolor": "white",
             "startlinecolor": "#2a3f5f"
            },
            "baxis": {
             "endlinecolor": "#2a3f5f",
             "gridcolor": "white",
             "linecolor": "white",
             "minorgridcolor": "white",
             "startlinecolor": "#2a3f5f"
            },
            "type": "carpet"
           }
          ],
          "choropleth": [
           {
            "colorbar": {
             "outlinewidth": 0,
             "ticks": ""
            },
            "type": "choropleth"
           }
          ],
          "contour": [
           {
            "colorbar": {
             "outlinewidth": 0,
             "ticks": ""
            },
            "colorscale": [
             [
              0,
              "#0d0887"
             ],
             [
              0.1111111111111111,
              "#46039f"
             ],
             [
              0.2222222222222222,
              "#7201a8"
             ],
             [
              0.3333333333333333,
              "#9c179e"
             ],
             [
              0.4444444444444444,
              "#bd3786"
             ],
             [
              0.5555555555555556,
              "#d8576b"
             ],
             [
              0.6666666666666666,
              "#ed7953"
             ],
             [
              0.7777777777777778,
              "#fb9f3a"
             ],
             [
              0.8888888888888888,
              "#fdca26"
             ],
             [
              1,
              "#f0f921"
             ]
            ],
            "type": "contour"
           }
          ],
          "contourcarpet": [
           {
            "colorbar": {
             "outlinewidth": 0,
             "ticks": ""
            },
            "type": "contourcarpet"
           }
          ],
          "heatmap": [
           {
            "colorbar": {
             "outlinewidth": 0,
             "ticks": ""
            },
            "colorscale": [
             [
              0,
              "#0d0887"
             ],
             [
              0.1111111111111111,
              "#46039f"
             ],
             [
              0.2222222222222222,
              "#7201a8"
             ],
             [
              0.3333333333333333,
              "#9c179e"
             ],
             [
              0.4444444444444444,
              "#bd3786"
             ],
             [
              0.5555555555555556,
              "#d8576b"
             ],
             [
              0.6666666666666666,
              "#ed7953"
             ],
             [
              0.7777777777777778,
              "#fb9f3a"
             ],
             [
              0.8888888888888888,
              "#fdca26"
             ],
             [
              1,
              "#f0f921"
             ]
            ],
            "type": "heatmap"
           }
          ],
          "heatmapgl": [
           {
            "colorbar": {
             "outlinewidth": 0,
             "ticks": ""
            },
            "colorscale": [
             [
              0,
              "#0d0887"
             ],
             [
              0.1111111111111111,
              "#46039f"
             ],
             [
              0.2222222222222222,
              "#7201a8"
             ],
             [
              0.3333333333333333,
              "#9c179e"
             ],
             [
              0.4444444444444444,
              "#bd3786"
             ],
             [
              0.5555555555555556,
              "#d8576b"
             ],
             [
              0.6666666666666666,
              "#ed7953"
             ],
             [
              0.7777777777777778,
              "#fb9f3a"
             ],
             [
              0.8888888888888888,
              "#fdca26"
             ],
             [
              1,
              "#f0f921"
             ]
            ],
            "type": "heatmapgl"
           }
          ],
          "histogram": [
           {
            "marker": {
             "pattern": {
              "fillmode": "overlay",
              "size": 10,
              "solidity": 0.2
             }
            },
            "type": "histogram"
           }
          ],
          "histogram2d": [
           {
            "colorbar": {
             "outlinewidth": 0,
             "ticks": ""
            },
            "colorscale": [
             [
              0,
              "#0d0887"
             ],
             [
              0.1111111111111111,
              "#46039f"
             ],
             [
              0.2222222222222222,
              "#7201a8"
             ],
             [
              0.3333333333333333,
              "#9c179e"
             ],
             [
              0.4444444444444444,
              "#bd3786"
             ],
             [
              0.5555555555555556,
              "#d8576b"
             ],
             [
              0.6666666666666666,
              "#ed7953"
             ],
             [
              0.7777777777777778,
              "#fb9f3a"
             ],
             [
              0.8888888888888888,
              "#fdca26"
             ],
             [
              1,
              "#f0f921"
             ]
            ],
            "type": "histogram2d"
           }
          ],
          "histogram2dcontour": [
           {
            "colorbar": {
             "outlinewidth": 0,
             "ticks": ""
            },
            "colorscale": [
             [
              0,
              "#0d0887"
             ],
             [
              0.1111111111111111,
              "#46039f"
             ],
             [
              0.2222222222222222,
              "#7201a8"
             ],
             [
              0.3333333333333333,
              "#9c179e"
             ],
             [
              0.4444444444444444,
              "#bd3786"
             ],
             [
              0.5555555555555556,
              "#d8576b"
             ],
             [
              0.6666666666666666,
              "#ed7953"
             ],
             [
              0.7777777777777778,
              "#fb9f3a"
             ],
             [
              0.8888888888888888,
              "#fdca26"
             ],
             [
              1,
              "#f0f921"
             ]
            ],
            "type": "histogram2dcontour"
           }
          ],
          "mesh3d": [
           {
            "colorbar": {
             "outlinewidth": 0,
             "ticks": ""
            },
            "type": "mesh3d"
           }
          ],
          "parcoords": [
           {
            "line": {
             "colorbar": {
              "outlinewidth": 0,
              "ticks": ""
             }
            },
            "type": "parcoords"
           }
          ],
          "pie": [
           {
            "automargin": true,
            "type": "pie"
           }
          ],
          "scatter": [
           {
            "fillpattern": {
             "fillmode": "overlay",
             "size": 10,
             "solidity": 0.2
            },
            "type": "scatter"
           }
          ],
          "scatter3d": [
           {
            "line": {
             "colorbar": {
              "outlinewidth": 0,
              "ticks": ""
             }
            },
            "marker": {
             "colorbar": {
              "outlinewidth": 0,
              "ticks": ""
             }
            },
            "type": "scatter3d"
           }
          ],
          "scattercarpet": [
           {
            "marker": {
             "colorbar": {
              "outlinewidth": 0,
              "ticks": ""
             }
            },
            "type": "scattercarpet"
           }
          ],
          "scattergeo": [
           {
            "marker": {
             "colorbar": {
              "outlinewidth": 0,
              "ticks": ""
             }
            },
            "type": "scattergeo"
           }
          ],
          "scattergl": [
           {
            "marker": {
             "colorbar": {
              "outlinewidth": 0,
              "ticks": ""
             }
            },
            "type": "scattergl"
           }
          ],
          "scattermapbox": [
           {
            "marker": {
             "colorbar": {
              "outlinewidth": 0,
              "ticks": ""
             }
            },
            "type": "scattermapbox"
           }
          ],
          "scatterpolar": [
           {
            "marker": {
             "colorbar": {
              "outlinewidth": 0,
              "ticks": ""
             }
            },
            "type": "scatterpolar"
           }
          ],
          "scatterpolargl": [
           {
            "marker": {
             "colorbar": {
              "outlinewidth": 0,
              "ticks": ""
             }
            },
            "type": "scatterpolargl"
           }
          ],
          "scatterternary": [
           {
            "marker": {
             "colorbar": {
              "outlinewidth": 0,
              "ticks": ""
             }
            },
            "type": "scatterternary"
           }
          ],
          "surface": [
           {
            "colorbar": {
             "outlinewidth": 0,
             "ticks": ""
            },
            "colorscale": [
             [
              0,
              "#0d0887"
             ],
             [
              0.1111111111111111,
              "#46039f"
             ],
             [
              0.2222222222222222,
              "#7201a8"
             ],
             [
              0.3333333333333333,
              "#9c179e"
             ],
             [
              0.4444444444444444,
              "#bd3786"
             ],
             [
              0.5555555555555556,
              "#d8576b"
             ],
             [
              0.6666666666666666,
              "#ed7953"
             ],
             [
              0.7777777777777778,
              "#fb9f3a"
             ],
             [
              0.8888888888888888,
              "#fdca26"
             ],
             [
              1,
              "#f0f921"
             ]
            ],
            "type": "surface"
           }
          ],
          "table": [
           {
            "cells": {
             "fill": {
              "color": "#EBF0F8"
             },
             "line": {
              "color": "white"
             }
            },
            "header": {
             "fill": {
              "color": "#C8D4E3"
             },
             "line": {
              "color": "white"
             }
            },
            "type": "table"
           }
          ]
         },
         "layout": {
          "annotationdefaults": {
           "arrowcolor": "#2a3f5f",
           "arrowhead": 0,
           "arrowwidth": 1
          },
          "autotypenumbers": "strict",
          "coloraxis": {
           "colorbar": {
            "outlinewidth": 0,
            "ticks": ""
           }
          },
          "colorscale": {
           "diverging": [
            [
             0,
             "#8e0152"
            ],
            [
             0.1,
             "#c51b7d"
            ],
            [
             0.2,
             "#de77ae"
            ],
            [
             0.3,
             "#f1b6da"
            ],
            [
             0.4,
             "#fde0ef"
            ],
            [
             0.5,
             "#f7f7f7"
            ],
            [
             0.6,
             "#e6f5d0"
            ],
            [
             0.7,
             "#b8e186"
            ],
            [
             0.8,
             "#7fbc41"
            ],
            [
             0.9,
             "#4d9221"
            ],
            [
             1,
             "#276419"
            ]
           ],
           "sequential": [
            [
             0,
             "#0d0887"
            ],
            [
             0.1111111111111111,
             "#46039f"
            ],
            [
             0.2222222222222222,
             "#7201a8"
            ],
            [
             0.3333333333333333,
             "#9c179e"
            ],
            [
             0.4444444444444444,
             "#bd3786"
            ],
            [
             0.5555555555555556,
             "#d8576b"
            ],
            [
             0.6666666666666666,
             "#ed7953"
            ],
            [
             0.7777777777777778,
             "#fb9f3a"
            ],
            [
             0.8888888888888888,
             "#fdca26"
            ],
            [
             1,
             "#f0f921"
            ]
           ],
           "sequentialminus": [
            [
             0,
             "#0d0887"
            ],
            [
             0.1111111111111111,
             "#46039f"
            ],
            [
             0.2222222222222222,
             "#7201a8"
            ],
            [
             0.3333333333333333,
             "#9c179e"
            ],
            [
             0.4444444444444444,
             "#bd3786"
            ],
            [
             0.5555555555555556,
             "#d8576b"
            ],
            [
             0.6666666666666666,
             "#ed7953"
            ],
            [
             0.7777777777777778,
             "#fb9f3a"
            ],
            [
             0.8888888888888888,
             "#fdca26"
            ],
            [
             1,
             "#f0f921"
            ]
           ]
          },
          "colorway": [
           "#636efa",
           "#EF553B",
           "#00cc96",
           "#ab63fa",
           "#FFA15A",
           "#19d3f3",
           "#FF6692",
           "#B6E880",
           "#FF97FF",
           "#FECB52"
          ],
          "font": {
           "color": "#2a3f5f"
          },
          "geo": {
           "bgcolor": "white",
           "lakecolor": "white",
           "landcolor": "#E5ECF6",
           "showlakes": true,
           "showland": true,
           "subunitcolor": "white"
          },
          "hoverlabel": {
           "align": "left"
          },
          "hovermode": "closest",
          "mapbox": {
           "style": "light"
          },
          "paper_bgcolor": "white",
          "plot_bgcolor": "#E5ECF6",
          "polar": {
           "angularaxis": {
            "gridcolor": "white",
            "linecolor": "white",
            "ticks": ""
           },
           "bgcolor": "#E5ECF6",
           "radialaxis": {
            "gridcolor": "white",
            "linecolor": "white",
            "ticks": ""
           }
          },
          "scene": {
           "xaxis": {
            "backgroundcolor": "#E5ECF6",
            "gridcolor": "white",
            "gridwidth": 2,
            "linecolor": "white",
            "showbackground": true,
            "ticks": "",
            "zerolinecolor": "white"
           },
           "yaxis": {
            "backgroundcolor": "#E5ECF6",
            "gridcolor": "white",
            "gridwidth": 2,
            "linecolor": "white",
            "showbackground": true,
            "ticks": "",
            "zerolinecolor": "white"
           },
           "zaxis": {
            "backgroundcolor": "#E5ECF6",
            "gridcolor": "white",
            "gridwidth": 2,
            "linecolor": "white",
            "showbackground": true,
            "ticks": "",
            "zerolinecolor": "white"
           }
          },
          "shapedefaults": {
           "line": {
            "color": "#2a3f5f"
           }
          },
          "ternary": {
           "aaxis": {
            "gridcolor": "white",
            "linecolor": "white",
            "ticks": ""
           },
           "baxis": {
            "gridcolor": "white",
            "linecolor": "white",
            "ticks": ""
           },
           "bgcolor": "#E5ECF6",
           "caxis": {
            "gridcolor": "white",
            "linecolor": "white",
            "ticks": ""
           }
          },
          "title": {
           "x": 0.05
          },
          "xaxis": {
           "automargin": true,
           "gridcolor": "white",
           "linecolor": "white",
           "ticks": "",
           "title": {
            "standoff": 15
           },
           "zerolinecolor": "white",
           "zerolinewidth": 2
          },
          "yaxis": {
           "automargin": true,
           "gridcolor": "white",
           "linecolor": "white",
           "ticks": "",
           "title": {
            "standoff": 15
           },
           "zerolinecolor": "white",
           "zerolinewidth": 2
          }
         }
        },
        "title": {
         "font": {
          "color": "#4D5663"
         }
        },
        "xaxis": {
         "gridcolor": "#E1E5ED",
         "showgrid": true,
         "tickfont": {
          "color": "#4D5663"
         },
         "title": {
          "font": {
           "color": "#4D5663"
          },
          "text": ""
         },
         "zerolinecolor": "#E1E5ED"
        },
        "xaxis2": {
         "anchor": "y2",
         "gridcolor": "#E1E5ED",
         "showgrid": true,
         "showticklabels": false,
         "tickfont": {
          "color": "#4D5663"
         },
         "title": {
          "font": {
           "color": "#4D5663"
          },
          "text": ""
         },
         "zerolinecolor": "#E1E5ED"
        },
        "yaxis": {
         "domain": [
          0.3,
          1
         ],
         "gridcolor": "#E1E5ED",
         "showgrid": true,
         "tickfont": {
          "color": "#4D5663"
         },
         "title": {
          "font": {
           "color": "#4D5663"
          },
          "text": ""
         },
         "zerolinecolor": "#E1E5ED"
        },
        "yaxis2": {
         "domain": [
          0,
          0.25
         ],
         "gridcolor": "#E1E5ED",
         "showgrid": true,
         "tickfont": {
          "color": "#4D5663"
         },
         "title": {
          "font": {
           "color": "#4D5663"
          },
          "text": "Spread"
         },
         "zerolinecolor": "#E1E5ED"
        }
       }
      },
      "text/html": [
       "<div>                            <div id=\"0ccadbfb-e22b-4761-94d6-ff49b56b12e6\" class=\"plotly-graph-div\" style=\"height:525px; width:100%;\"></div>            <script type=\"text/javascript\">                require([\"plotly\"], function(Plotly) {                    window.PLOTLYENV=window.PLOTLYENV || {};\n",
       "                    window.PLOTLYENV.BASE_URL='https://plot.ly';                                    if (document.getElementById(\"0ccadbfb-e22b-4761-94d6-ff49b56b12e6\")) {                    Plotly.newPlot(                        \"0ccadbfb-e22b-4761-94d6-ff49b56b12e6\",                        [{\"line\":{\"color\":\"rgba(255, 153, 51, 1.0)\",\"dash\":\"solid\",\"shape\":\"linear\",\"width\":1.3},\"mode\":\"lines\",\"name\":\"A\",\"text\":\"\",\"x\":[0,1,2,3,4,5,6,7,8,9,10,11,12,13,14,15,16,17,18,19,20,21,22,23,24,25,26,27,28,29,30,31,32,33,34,35,36,37,38,39,40,41,42,43,44,45,46,47,48,49,50,51,52,53,54,55,56,57,58,59,60,61,62,63,64,65,66,67,68,69,70,71,72,73,74,75,76,77,78,79,80,81,82,83,84,85,86,87,88,89,90,91,92,93,94,95,96,97,98,99],\"y\":[1.1808861104858086,-1.009315475834072,2.1010267597285734,-1.2761110614656328,2.1355984367483503,0.45187550757489103,0.35575837216877865,-0.33192853903028824,0.16555430091279025,2.0939392840659474,3.3046262093131764,0.8016652198144762,-0.08064663403209753,-0.2894576343328641,-0.6353852627420068,0.06915412092097081,0.972353162345244,-0.4226617370851711,0.44457415032163833,1.9306320625284974,0.862768413234945,-0.07436503288404975,-1.3075425798831994,0.07488233835490188,-0.5383693570233857,-1.150895491288997,-0.644601767843179,-0.3003701225679646,-0.6768652099919864,0.21410544574864887,0.5950296396184611,0.26973044921773104,-0.7010536597606614,-1.3488991119769904,0.5735052483541746,0.116911756060154,-1.384243153289476,-1.5122147482705393,-2.0490427795777326,-0.47086463185893823,-1.7115532738390293,-0.41926538769302296,0.6342347447608379,1.0524544462265217,0.27116119274636,-0.6327759017672793,-0.2381293131326908,-1.560007071354141,0.3564002971081718,-0.7431653691129735,0.021248317242468076,-0.6171074244097834,-0.7287550072634262,1.1115975878346898,-0.0264973903468035,-0.39998035014100297,0.17090679907552722,0.7704465470894409,1.3645508989608082,0.2736827452554336,0.9458706409895032,-2.039392752696324,0.05308215087500142,-1.4223150595751306,-0.32401077448582954,-1.4858113454908572,-1.3260796336088796,1.2980796587223302,0.7718502322874692,0.4027364328411132,-0.12487684581340935,-0.3734360479494493,-0.004287553825357087,-0.6221945153849893,0.18712560869775033,-0.8542025277225092,0.2605274316144155,0.8065865657559427,0.8892694273074893,-0.11438673646857235,-0.4124256111912983,0.362764158444993,0.17788406981146257,0.25232389432641744,-0.7612788204072456,0.5135316958636523,1.76093782929227,-0.23332353476080336,-0.963431849581975,0.4370139219460403,-1.5530042663990145,0.01358618685162266,1.1281240398709063,-0.41511661847317877,0.2844084545138961,0.07062579562964151,0.77115342742805,-1.2748891258557924,0.7651414902457511,1.5399719990359306],\"type\":\"scatter\"},{\"line\":{\"color\":\"rgba(55, 128, 191, 1.0)\",\"dash\":\"solid\",\"shape\":\"linear\",\"width\":1.3},\"mode\":\"lines\",\"name\":\"B\",\"text\":\"\",\"x\":[0,1,2,3,4,5,6,7,8,9,10,11,12,13,14,15,16,17,18,19,20,21,22,23,24,25,26,27,28,29,30,31,32,33,34,35,36,37,38,39,40,41,42,43,44,45,46,47,48,49,50,51,52,53,54,55,56,57,58,59,60,61,62,63,64,65,66,67,68,69,70,71,72,73,74,75,76,77,78,79,80,81,82,83,84,85,86,87,88,89,90,91,92,93,94,95,96,97,98,99],\"y\":[1.8869774144646363,-0.15178939659604912,0.49273651175711186,-1.323250063279204,-1.3096082803841553,-1.3849349027148277,1.156638863289787,-0.9517605210106179,0.4107021866605751,0.03405599860229291,2.082439060515147,-0.6632141972130775,0.5541718312078655,0.19367068612461416,2.260149093720149,-1.2259061103880828,-0.7895331423494181,0.7662518068681965,1.0247551473290297,1.6578485874276878,0.3833380944296906,0.9354852173085542,1.201005381289398,1.9991827012969507,-0.6687087204962803,-0.2889780327683993,-1.1867862695251132,0.21882396000194415,1.2349522356979719,-2.2700863402085885,0.21154465034024256,-2.0375384753026133,-0.27323895036263013,-0.5022346822859977,1.3981296300065187,-0.7808568466240103,0.07384353772811302,0.8108562614778606,0.26004090339418573,-1.537016362845774,-0.08338367129457505,-0.2142211275967988,-0.9378209276170207,-0.6815547301708351,-0.8552378052823102,-0.1484952070387059,-1.4145757942280957,-0.366902467981607,0.9217146167090984,1.3107705120296753,-0.7798058588406078,0.6927152044770846,0.27715215900653895,-0.6773501227910225,-0.39772212572225923,-0.9327902138961053,-1.5359943716946074,0.05265840173276143,-0.49077067967105015,0.46340928236261036,-2.2641201459935885,-0.39308652349632045,1.072805319475322,-0.7246309842420298,-1.7363183613206394,1.8964187758108288,-0.6087390744568856,-2.70414795296228,-1.65510169490042,0.6659266357370712,0.21563454907328639,0.9058385938958805,0.5298879363128568,2.2882030650566865,-0.3654187398433885,-0.8223437056703111,-1.1960008750849571,0.998214927884022,-0.8224011627610441,-0.6283770556295083,-0.4566048300151653,-0.1673684778572825,1.2086066242166869,1.271826220581654,0.8480941150195749,0.40288423807506885,0.029759689383405466,-0.5287908721090397,-0.6426181955756219,-1.2020398873408829,-0.902931701935573,0.7725336591758999,-1.0785659218318133,0.6226481271010155,1.731907502841091,-0.9405026151070189,-0.3371830830297367,-0.19216251774875798,0.3868122511782008,0.37115889539592906],\"type\":\"scatter\"},{\"connectgaps\":false,\"fill\":\"tozeroy\",\"line\":{\"color\":\"green\",\"dash\":\"solid\",\"shape\":\"linear\",\"width\":0.5},\"mode\":\"lines\",\"name\":\"Spread\",\"showlegend\":false,\"x\":[0,1,2,3,4,5,6,7,8,9,10,11,12,13,14,15,16,17,18,19,20,21,22,23,24,25,26,27,28,29,30,31,32,33,34,35,36,37,38,39,40,41,42,43,44,45,46,47,48,49,50,51,52,53,54,55,56,57,58,59,60,61,62,63,64,65,66,67,68,69,70,71,72,73,74,75,76,77,78,79,80,81,82,83,84,85,86,87,88,89,90,91,92,93,94,95,96,97,98,99],\"xaxis\":\"x2\",\"y\":[\"\",\"\",1.6082902479714616,0.04713900181357111,3.4452067171325056,1.8368104102897187,\"\",0.6198319819803297,\"\",2.0598832854636546,1.2221871487980294,1.4648794170275536,\"\",\"\",\"\",1.2950602313090536,1.761886304694662,\"\",\"\",0.2727834751008096,0.47943031880525444,\"\",\"\",\"\",0.13033936347289454,\"\",0.5421845016819342,\"\",\"\",2.484191785957237,0.38348498927821856,2.3072689245203444,\"\",\"\",\"\",0.8977686026841644,\"\",\"\",\"\",1.0661517309868358,\"\",\"\",1.5720556723778585,1.7340091763973569,1.1263989980286702,\"\",1.1764464810954047,\"\",\"\",\"\",0.8010541760830759,\"\",\"\",1.7889477106257123,0.37122473537545575,0.5328098637551023,1.7069011707701347,0.7177881453566795,1.8553215786318584,\"\",3.2099907869830915,\"\",\"\",\"\",1.4123075868348098,\"\",\"\",4.00222761168461,2.426951927187889,\"\",\"\",\"\",\"\",\"\",0.5525443485411389,\"\",1.4565283066993726,\"\",1.7116705900685334,0.513990319160936,0.044179218823866995,0.5301326363022755,\"\",\"\",\"\",0.11064745778858348,1.7311781399088644,0.2954673373482364,\"\",1.6390538092869231,\"\",\"\",2.2066899617027196,\"\",\"\",1.0111284107366605,1.1083365104577867,\"\",0.3783292390675503,1.1688131036400016],\"yaxis\":\"y2\",\"type\":\"scatter\"},{\"connectgaps\":false,\"fill\":\"tozeroy\",\"line\":{\"color\":\"red\",\"dash\":\"solid\",\"shape\":\"linear\",\"width\":0.5},\"mode\":\"lines\",\"name\":\"Spread\",\"showlegend\":false,\"x\":[0,1,2,3,4,5,6,7,8,9,10,11,12,13,14,15,16,17,18,19,20,21,22,23,24,25,26,27,28,29,30,31,32,33,34,35,36,37,38,39,40,41,42,43,44,45,46,47,48,49,50,51,52,53,54,55,56,57,58,59,60,61,62,63,64,65,66,67,68,69,70,71,72,73,74,75,76,77,78,79,80,81,82,83,84,85,86,87,88,89,90,91,92,93,94,95,96,97,98,99],\"xaxis\":\"x2\",\"y\":[-0.7060913039788277,-0.857526079238023,\"\",\"\",\"\",\"\",-0.8008804911210083,\"\",-0.24514788574778487,\"\",\"\",\"\",-0.634818465239963,-0.4831283204574782,-2.895534356462156,\"\",\"\",-1.1889135439533676,-0.5801809970073915,\"\",\"\",-1.0098502501926039,-2.5085479611725976,-1.924300362942049,\"\",-0.8619174585205978,\"\",-0.5191940825699087,-1.9118174456899584,\"\",\"\",\"\",-0.42781470939803123,-0.8466644296909928,-0.8246243816523441,\"\",-1.458086691017589,-2.3230710097484,-2.3090836829719183,\"\",-1.6281696025444543,-0.20504426009622417,\"\",\"\",\"\",-0.4842806947285734,\"\",-1.193104603372534,-0.5653143196009266,-2.0539358811426487,\"\",-1.309822628886868,-1.0059071662699652,\"\",\"\",\"\",\"\",\"\",\"\",-0.18972653710717674,\"\",-1.6463062292000035,-1.0197231686003205,-0.6976840753331008,\"\",-3.382230121301686,-0.717340559151994,\"\",\"\",-0.263190202895958,-0.34051139488669574,-1.2792746418453298,-0.5341754901382139,-2.9103975804416757,\"\",-0.03185882205219803,\"\",-0.19162836212807932,\"\",\"\",\"\",\"\",-1.0307225544052243,-1.0195023262552365,-1.6093729354268205,\"\",\"\",\"\",-0.3208136540063531,\"\",-0.6500725644634414,-0.7589474723242773,\"\",-1.0377647455741943,-1.447499048327195,\"\",\"\",-1.0827266081070344,\"\",\"\"],\"yaxis\":\"y2\",\"type\":\"scatter\"}],                        {\"hovermode\":\"x\",\"legend\":{\"bgcolor\":\"#F5F6F9\",\"font\":{\"color\":\"#4D5663\"}},\"paper_bgcolor\":\"#F5F6F9\",\"plot_bgcolor\":\"#F5F6F9\",\"template\":{\"data\":{\"barpolar\":[{\"marker\":{\"line\":{\"color\":\"#E5ECF6\",\"width\":0.5},\"pattern\":{\"fillmode\":\"overlay\",\"size\":10,\"solidity\":0.2}},\"type\":\"barpolar\"}],\"bar\":[{\"error_x\":{\"color\":\"#2a3f5f\"},\"error_y\":{\"color\":\"#2a3f5f\"},\"marker\":{\"line\":{\"color\":\"#E5ECF6\",\"width\":0.5},\"pattern\":{\"fillmode\":\"overlay\",\"size\":10,\"solidity\":0.2}},\"type\":\"bar\"}],\"carpet\":[{\"aaxis\":{\"endlinecolor\":\"#2a3f5f\",\"gridcolor\":\"white\",\"linecolor\":\"white\",\"minorgridcolor\":\"white\",\"startlinecolor\":\"#2a3f5f\"},\"baxis\":{\"endlinecolor\":\"#2a3f5f\",\"gridcolor\":\"white\",\"linecolor\":\"white\",\"minorgridcolor\":\"white\",\"startlinecolor\":\"#2a3f5f\"},\"type\":\"carpet\"}],\"choropleth\":[{\"colorbar\":{\"outlinewidth\":0,\"ticks\":\"\"},\"type\":\"choropleth\"}],\"contourcarpet\":[{\"colorbar\":{\"outlinewidth\":0,\"ticks\":\"\"},\"type\":\"contourcarpet\"}],\"contour\":[{\"colorbar\":{\"outlinewidth\":0,\"ticks\":\"\"},\"colorscale\":[[0.0,\"#0d0887\"],[0.1111111111111111,\"#46039f\"],[0.2222222222222222,\"#7201a8\"],[0.3333333333333333,\"#9c179e\"],[0.4444444444444444,\"#bd3786\"],[0.5555555555555556,\"#d8576b\"],[0.6666666666666666,\"#ed7953\"],[0.7777777777777778,\"#fb9f3a\"],[0.8888888888888888,\"#fdca26\"],[1.0,\"#f0f921\"]],\"type\":\"contour\"}],\"heatmapgl\":[{\"colorbar\":{\"outlinewidth\":0,\"ticks\":\"\"},\"colorscale\":[[0.0,\"#0d0887\"],[0.1111111111111111,\"#46039f\"],[0.2222222222222222,\"#7201a8\"],[0.3333333333333333,\"#9c179e\"],[0.4444444444444444,\"#bd3786\"],[0.5555555555555556,\"#d8576b\"],[0.6666666666666666,\"#ed7953\"],[0.7777777777777778,\"#fb9f3a\"],[0.8888888888888888,\"#fdca26\"],[1.0,\"#f0f921\"]],\"type\":\"heatmapgl\"}],\"heatmap\":[{\"colorbar\":{\"outlinewidth\":0,\"ticks\":\"\"},\"colorscale\":[[0.0,\"#0d0887\"],[0.1111111111111111,\"#46039f\"],[0.2222222222222222,\"#7201a8\"],[0.3333333333333333,\"#9c179e\"],[0.4444444444444444,\"#bd3786\"],[0.5555555555555556,\"#d8576b\"],[0.6666666666666666,\"#ed7953\"],[0.7777777777777778,\"#fb9f3a\"],[0.8888888888888888,\"#fdca26\"],[1.0,\"#f0f921\"]],\"type\":\"heatmap\"}],\"histogram2dcontour\":[{\"colorbar\":{\"outlinewidth\":0,\"ticks\":\"\"},\"colorscale\":[[0.0,\"#0d0887\"],[0.1111111111111111,\"#46039f\"],[0.2222222222222222,\"#7201a8\"],[0.3333333333333333,\"#9c179e\"],[0.4444444444444444,\"#bd3786\"],[0.5555555555555556,\"#d8576b\"],[0.6666666666666666,\"#ed7953\"],[0.7777777777777778,\"#fb9f3a\"],[0.8888888888888888,\"#fdca26\"],[1.0,\"#f0f921\"]],\"type\":\"histogram2dcontour\"}],\"histogram2d\":[{\"colorbar\":{\"outlinewidth\":0,\"ticks\":\"\"},\"colorscale\":[[0.0,\"#0d0887\"],[0.1111111111111111,\"#46039f\"],[0.2222222222222222,\"#7201a8\"],[0.3333333333333333,\"#9c179e\"],[0.4444444444444444,\"#bd3786\"],[0.5555555555555556,\"#d8576b\"],[0.6666666666666666,\"#ed7953\"],[0.7777777777777778,\"#fb9f3a\"],[0.8888888888888888,\"#fdca26\"],[1.0,\"#f0f921\"]],\"type\":\"histogram2d\"}],\"histogram\":[{\"marker\":{\"pattern\":{\"fillmode\":\"overlay\",\"size\":10,\"solidity\":0.2}},\"type\":\"histogram\"}],\"mesh3d\":[{\"colorbar\":{\"outlinewidth\":0,\"ticks\":\"\"},\"type\":\"mesh3d\"}],\"parcoords\":[{\"line\":{\"colorbar\":{\"outlinewidth\":0,\"ticks\":\"\"}},\"type\":\"parcoords\"}],\"pie\":[{\"automargin\":true,\"type\":\"pie\"}],\"scatter3d\":[{\"line\":{\"colorbar\":{\"outlinewidth\":0,\"ticks\":\"\"}},\"marker\":{\"colorbar\":{\"outlinewidth\":0,\"ticks\":\"\"}},\"type\":\"scatter3d\"}],\"scattercarpet\":[{\"marker\":{\"colorbar\":{\"outlinewidth\":0,\"ticks\":\"\"}},\"type\":\"scattercarpet\"}],\"scattergeo\":[{\"marker\":{\"colorbar\":{\"outlinewidth\":0,\"ticks\":\"\"}},\"type\":\"scattergeo\"}],\"scattergl\":[{\"marker\":{\"colorbar\":{\"outlinewidth\":0,\"ticks\":\"\"}},\"type\":\"scattergl\"}],\"scattermapbox\":[{\"marker\":{\"colorbar\":{\"outlinewidth\":0,\"ticks\":\"\"}},\"type\":\"scattermapbox\"}],\"scatterpolargl\":[{\"marker\":{\"colorbar\":{\"outlinewidth\":0,\"ticks\":\"\"}},\"type\":\"scatterpolargl\"}],\"scatterpolar\":[{\"marker\":{\"colorbar\":{\"outlinewidth\":0,\"ticks\":\"\"}},\"type\":\"scatterpolar\"}],\"scatter\":[{\"fillpattern\":{\"fillmode\":\"overlay\",\"size\":10,\"solidity\":0.2},\"type\":\"scatter\"}],\"scatterternary\":[{\"marker\":{\"colorbar\":{\"outlinewidth\":0,\"ticks\":\"\"}},\"type\":\"scatterternary\"}],\"surface\":[{\"colorbar\":{\"outlinewidth\":0,\"ticks\":\"\"},\"colorscale\":[[0.0,\"#0d0887\"],[0.1111111111111111,\"#46039f\"],[0.2222222222222222,\"#7201a8\"],[0.3333333333333333,\"#9c179e\"],[0.4444444444444444,\"#bd3786\"],[0.5555555555555556,\"#d8576b\"],[0.6666666666666666,\"#ed7953\"],[0.7777777777777778,\"#fb9f3a\"],[0.8888888888888888,\"#fdca26\"],[1.0,\"#f0f921\"]],\"type\":\"surface\"}],\"table\":[{\"cells\":{\"fill\":{\"color\":\"#EBF0F8\"},\"line\":{\"color\":\"white\"}},\"header\":{\"fill\":{\"color\":\"#C8D4E3\"},\"line\":{\"color\":\"white\"}},\"type\":\"table\"}]},\"layout\":{\"annotationdefaults\":{\"arrowcolor\":\"#2a3f5f\",\"arrowhead\":0,\"arrowwidth\":1},\"autotypenumbers\":\"strict\",\"coloraxis\":{\"colorbar\":{\"outlinewidth\":0,\"ticks\":\"\"}},\"colorscale\":{\"diverging\":[[0,\"#8e0152\"],[0.1,\"#c51b7d\"],[0.2,\"#de77ae\"],[0.3,\"#f1b6da\"],[0.4,\"#fde0ef\"],[0.5,\"#f7f7f7\"],[0.6,\"#e6f5d0\"],[0.7,\"#b8e186\"],[0.8,\"#7fbc41\"],[0.9,\"#4d9221\"],[1,\"#276419\"]],\"sequential\":[[0.0,\"#0d0887\"],[0.1111111111111111,\"#46039f\"],[0.2222222222222222,\"#7201a8\"],[0.3333333333333333,\"#9c179e\"],[0.4444444444444444,\"#bd3786\"],[0.5555555555555556,\"#d8576b\"],[0.6666666666666666,\"#ed7953\"],[0.7777777777777778,\"#fb9f3a\"],[0.8888888888888888,\"#fdca26\"],[1.0,\"#f0f921\"]],\"sequentialminus\":[[0.0,\"#0d0887\"],[0.1111111111111111,\"#46039f\"],[0.2222222222222222,\"#7201a8\"],[0.3333333333333333,\"#9c179e\"],[0.4444444444444444,\"#bd3786\"],[0.5555555555555556,\"#d8576b\"],[0.6666666666666666,\"#ed7953\"],[0.7777777777777778,\"#fb9f3a\"],[0.8888888888888888,\"#fdca26\"],[1.0,\"#f0f921\"]]},\"colorway\":[\"#636efa\",\"#EF553B\",\"#00cc96\",\"#ab63fa\",\"#FFA15A\",\"#19d3f3\",\"#FF6692\",\"#B6E880\",\"#FF97FF\",\"#FECB52\"],\"font\":{\"color\":\"#2a3f5f\"},\"geo\":{\"bgcolor\":\"white\",\"lakecolor\":\"white\",\"landcolor\":\"#E5ECF6\",\"showlakes\":true,\"showland\":true,\"subunitcolor\":\"white\"},\"hoverlabel\":{\"align\":\"left\"},\"hovermode\":\"closest\",\"mapbox\":{\"style\":\"light\"},\"paper_bgcolor\":\"white\",\"plot_bgcolor\":\"#E5ECF6\",\"polar\":{\"angularaxis\":{\"gridcolor\":\"white\",\"linecolor\":\"white\",\"ticks\":\"\"},\"bgcolor\":\"#E5ECF6\",\"radialaxis\":{\"gridcolor\":\"white\",\"linecolor\":\"white\",\"ticks\":\"\"}},\"scene\":{\"xaxis\":{\"backgroundcolor\":\"#E5ECF6\",\"gridcolor\":\"white\",\"gridwidth\":2,\"linecolor\":\"white\",\"showbackground\":true,\"ticks\":\"\",\"zerolinecolor\":\"white\"},\"yaxis\":{\"backgroundcolor\":\"#E5ECF6\",\"gridcolor\":\"white\",\"gridwidth\":2,\"linecolor\":\"white\",\"showbackground\":true,\"ticks\":\"\",\"zerolinecolor\":\"white\"},\"zaxis\":{\"backgroundcolor\":\"#E5ECF6\",\"gridcolor\":\"white\",\"gridwidth\":2,\"linecolor\":\"white\",\"showbackground\":true,\"ticks\":\"\",\"zerolinecolor\":\"white\"}},\"shapedefaults\":{\"line\":{\"color\":\"#2a3f5f\"}},\"ternary\":{\"aaxis\":{\"gridcolor\":\"white\",\"linecolor\":\"white\",\"ticks\":\"\"},\"baxis\":{\"gridcolor\":\"white\",\"linecolor\":\"white\",\"ticks\":\"\"},\"bgcolor\":\"#E5ECF6\",\"caxis\":{\"gridcolor\":\"white\",\"linecolor\":\"white\",\"ticks\":\"\"}},\"title\":{\"x\":0.05},\"xaxis\":{\"automargin\":true,\"gridcolor\":\"white\",\"linecolor\":\"white\",\"ticks\":\"\",\"title\":{\"standoff\":15},\"zerolinecolor\":\"white\",\"zerolinewidth\":2},\"yaxis\":{\"automargin\":true,\"gridcolor\":\"white\",\"linecolor\":\"white\",\"ticks\":\"\",\"title\":{\"standoff\":15},\"zerolinecolor\":\"white\",\"zerolinewidth\":2}}},\"title\":{\"font\":{\"color\":\"#4D5663\"}},\"xaxis\":{\"gridcolor\":\"#E1E5ED\",\"showgrid\":true,\"tickfont\":{\"color\":\"#4D5663\"},\"title\":{\"font\":{\"color\":\"#4D5663\"},\"text\":\"\"},\"zerolinecolor\":\"#E1E5ED\"},\"yaxis\":{\"domain\":[0.3,1],\"gridcolor\":\"#E1E5ED\",\"showgrid\":true,\"tickfont\":{\"color\":\"#4D5663\"},\"title\":{\"font\":{\"color\":\"#4D5663\"},\"text\":\"\"},\"zerolinecolor\":\"#E1E5ED\"},\"yaxis2\":{\"domain\":[0,0.25],\"gridcolor\":\"#E1E5ED\",\"showgrid\":true,\"tickfont\":{\"color\":\"#4D5663\"},\"title\":{\"font\":{\"color\":\"#4D5663\"},\"text\":\"Spread\"},\"zerolinecolor\":\"#E1E5ED\"},\"xaxis2\":{\"anchor\":\"y2\",\"gridcolor\":\"#E1E5ED\",\"showgrid\":true,\"showticklabels\":false,\"tickfont\":{\"color\":\"#4D5663\"},\"title\":{\"font\":{\"color\":\"#4D5663\"},\"text\":\"\"},\"zerolinecolor\":\"#E1E5ED\"}},                        {\"showLink\": true, \"linkText\": \"Export to plot.ly\", \"plotlyServerURL\": \"https://plot.ly\", \"responsive\": true}                    ).then(function(){\n",
       "                            \n",
       "var gd = document.getElementById('0ccadbfb-e22b-4761-94d6-ff49b56b12e6');\n",
       "var x = new MutationObserver(function (mutations, observer) {{\n",
       "        var display = window.getComputedStyle(gd).display;\n",
       "        if (!display || display === 'none') {{\n",
       "            console.log([gd, 'removed!']);\n",
       "            Plotly.purge(gd);\n",
       "            observer.disconnect();\n",
       "        }}\n",
       "}});\n",
       "\n",
       "// Listen for the removal of the full notebook cells\n",
       "var notebookContainer = gd.closest('#notebook-container');\n",
       "if (notebookContainer) {{\n",
       "    x.observe(notebookContainer, {childList: true});\n",
       "}}\n",
       "\n",
       "// Listen for the clearing of the current output cell\n",
       "var outputEl = gd.closest('.output');\n",
       "if (outputEl) {{\n",
       "    x.observe(outputEl, {childList: true});\n",
       "}}\n",
       "\n",
       "                        })                };                });            </script>        </div>"
      ]
     },
     "metadata": {},
     "output_type": "display_data"
    }
   ],
   "source": [
    "df[['A','B']].iplot(kind='spread')"
   ]
  },
  {
   "cell_type": "markdown",
   "metadata": {},
   "source": [
    "## histogram"
   ]
  },
  {
   "cell_type": "code",
   "execution_count": 18,
   "metadata": {
    "collapsed": false
   },
   "outputs": [
    {
     "data": {
      "application/vnd.plotly.v1+json": {
       "config": {
        "linkText": "Export to plot.ly",
        "plotlyServerURL": "https://plot.ly",
        "showLink": true
       },
       "data": [
        {
         "histfunc": "count",
         "histnorm": "",
         "marker": {
          "color": "rgba(255, 153, 51, 1.0)",
          "line": {
           "color": "#4D5663",
           "width": 1.3
          }
         },
         "name": "A",
         "nbinsx": 25,
         "opacity": 0.8,
         "orientation": "v",
         "type": "histogram",
         "x": [
          1.1808861104858086,
          -1.009315475834072,
          2.1010267597285734,
          -1.2761110614656328,
          2.1355984367483503,
          0.45187550757489103,
          0.35575837216877865,
          -0.33192853903028824,
          0.16555430091279025,
          2.0939392840659474,
          3.3046262093131764,
          0.8016652198144762,
          -0.08064663403209753,
          -0.2894576343328641,
          -0.6353852627420068,
          0.06915412092097081,
          0.972353162345244,
          -0.4226617370851711,
          0.44457415032163833,
          1.9306320625284974,
          0.862768413234945,
          -0.07436503288404975,
          -1.3075425798831994,
          0.07488233835490188,
          -0.5383693570233857,
          -1.150895491288997,
          -0.644601767843179,
          -0.3003701225679646,
          -0.6768652099919864,
          0.21410544574864887,
          0.5950296396184611,
          0.26973044921773104,
          -0.7010536597606614,
          -1.3488991119769904,
          0.5735052483541746,
          0.116911756060154,
          -1.384243153289476,
          -1.5122147482705393,
          -2.0490427795777326,
          -0.47086463185893823,
          -1.7115532738390293,
          -0.41926538769302296,
          0.6342347447608379,
          1.0524544462265217,
          0.27116119274636,
          -0.6327759017672793,
          -0.2381293131326908,
          -1.560007071354141,
          0.3564002971081718,
          -0.7431653691129735,
          0.021248317242468076,
          -0.6171074244097834,
          -0.7287550072634262,
          1.1115975878346898,
          -0.0264973903468035,
          -0.39998035014100297,
          0.17090679907552722,
          0.7704465470894409,
          1.3645508989608082,
          0.2736827452554336,
          0.9458706409895032,
          -2.039392752696324,
          0.05308215087500142,
          -1.4223150595751306,
          -0.32401077448582954,
          -1.4858113454908572,
          -1.3260796336088796,
          1.2980796587223302,
          0.7718502322874692,
          0.4027364328411132,
          -0.12487684581340935,
          -0.3734360479494493,
          -0.004287553825357087,
          -0.6221945153849893,
          0.18712560869775033,
          -0.8542025277225092,
          0.2605274316144155,
          0.8065865657559427,
          0.8892694273074893,
          -0.11438673646857235,
          -0.4124256111912983,
          0.362764158444993,
          0.17788406981146257,
          0.25232389432641744,
          -0.7612788204072456,
          0.5135316958636523,
          1.76093782929227,
          -0.23332353476080336,
          -0.963431849581975,
          0.4370139219460403,
          -1.5530042663990145,
          0.01358618685162266,
          1.1281240398709063,
          -0.41511661847317877,
          0.2844084545138961,
          0.07062579562964151,
          0.77115342742805,
          -1.2748891258557924,
          0.7651414902457511,
          1.5399719990359306
         ]
        }
       ],
       "layout": {
        "barmode": "overlay",
        "legend": {
         "bgcolor": "#F5F6F9",
         "font": {
          "color": "#4D5663"
         }
        },
        "paper_bgcolor": "#F5F6F9",
        "plot_bgcolor": "#F5F6F9",
        "template": {
         "data": {
          "bar": [
           {
            "error_x": {
             "color": "#2a3f5f"
            },
            "error_y": {
             "color": "#2a3f5f"
            },
            "marker": {
             "line": {
              "color": "#E5ECF6",
              "width": 0.5
             },
             "pattern": {
              "fillmode": "overlay",
              "size": 10,
              "solidity": 0.2
             }
            },
            "type": "bar"
           }
          ],
          "barpolar": [
           {
            "marker": {
             "line": {
              "color": "#E5ECF6",
              "width": 0.5
             },
             "pattern": {
              "fillmode": "overlay",
              "size": 10,
              "solidity": 0.2
             }
            },
            "type": "barpolar"
           }
          ],
          "carpet": [
           {
            "aaxis": {
             "endlinecolor": "#2a3f5f",
             "gridcolor": "white",
             "linecolor": "white",
             "minorgridcolor": "white",
             "startlinecolor": "#2a3f5f"
            },
            "baxis": {
             "endlinecolor": "#2a3f5f",
             "gridcolor": "white",
             "linecolor": "white",
             "minorgridcolor": "white",
             "startlinecolor": "#2a3f5f"
            },
            "type": "carpet"
           }
          ],
          "choropleth": [
           {
            "colorbar": {
             "outlinewidth": 0,
             "ticks": ""
            },
            "type": "choropleth"
           }
          ],
          "contour": [
           {
            "colorbar": {
             "outlinewidth": 0,
             "ticks": ""
            },
            "colorscale": [
             [
              0,
              "#0d0887"
             ],
             [
              0.1111111111111111,
              "#46039f"
             ],
             [
              0.2222222222222222,
              "#7201a8"
             ],
             [
              0.3333333333333333,
              "#9c179e"
             ],
             [
              0.4444444444444444,
              "#bd3786"
             ],
             [
              0.5555555555555556,
              "#d8576b"
             ],
             [
              0.6666666666666666,
              "#ed7953"
             ],
             [
              0.7777777777777778,
              "#fb9f3a"
             ],
             [
              0.8888888888888888,
              "#fdca26"
             ],
             [
              1,
              "#f0f921"
             ]
            ],
            "type": "contour"
           }
          ],
          "contourcarpet": [
           {
            "colorbar": {
             "outlinewidth": 0,
             "ticks": ""
            },
            "type": "contourcarpet"
           }
          ],
          "heatmap": [
           {
            "colorbar": {
             "outlinewidth": 0,
             "ticks": ""
            },
            "colorscale": [
             [
              0,
              "#0d0887"
             ],
             [
              0.1111111111111111,
              "#46039f"
             ],
             [
              0.2222222222222222,
              "#7201a8"
             ],
             [
              0.3333333333333333,
              "#9c179e"
             ],
             [
              0.4444444444444444,
              "#bd3786"
             ],
             [
              0.5555555555555556,
              "#d8576b"
             ],
             [
              0.6666666666666666,
              "#ed7953"
             ],
             [
              0.7777777777777778,
              "#fb9f3a"
             ],
             [
              0.8888888888888888,
              "#fdca26"
             ],
             [
              1,
              "#f0f921"
             ]
            ],
            "type": "heatmap"
           }
          ],
          "heatmapgl": [
           {
            "colorbar": {
             "outlinewidth": 0,
             "ticks": ""
            },
            "colorscale": [
             [
              0,
              "#0d0887"
             ],
             [
              0.1111111111111111,
              "#46039f"
             ],
             [
              0.2222222222222222,
              "#7201a8"
             ],
             [
              0.3333333333333333,
              "#9c179e"
             ],
             [
              0.4444444444444444,
              "#bd3786"
             ],
             [
              0.5555555555555556,
              "#d8576b"
             ],
             [
              0.6666666666666666,
              "#ed7953"
             ],
             [
              0.7777777777777778,
              "#fb9f3a"
             ],
             [
              0.8888888888888888,
              "#fdca26"
             ],
             [
              1,
              "#f0f921"
             ]
            ],
            "type": "heatmapgl"
           }
          ],
          "histogram": [
           {
            "marker": {
             "pattern": {
              "fillmode": "overlay",
              "size": 10,
              "solidity": 0.2
             }
            },
            "type": "histogram"
           }
          ],
          "histogram2d": [
           {
            "colorbar": {
             "outlinewidth": 0,
             "ticks": ""
            },
            "colorscale": [
             [
              0,
              "#0d0887"
             ],
             [
              0.1111111111111111,
              "#46039f"
             ],
             [
              0.2222222222222222,
              "#7201a8"
             ],
             [
              0.3333333333333333,
              "#9c179e"
             ],
             [
              0.4444444444444444,
              "#bd3786"
             ],
             [
              0.5555555555555556,
              "#d8576b"
             ],
             [
              0.6666666666666666,
              "#ed7953"
             ],
             [
              0.7777777777777778,
              "#fb9f3a"
             ],
             [
              0.8888888888888888,
              "#fdca26"
             ],
             [
              1,
              "#f0f921"
             ]
            ],
            "type": "histogram2d"
           }
          ],
          "histogram2dcontour": [
           {
            "colorbar": {
             "outlinewidth": 0,
             "ticks": ""
            },
            "colorscale": [
             [
              0,
              "#0d0887"
             ],
             [
              0.1111111111111111,
              "#46039f"
             ],
             [
              0.2222222222222222,
              "#7201a8"
             ],
             [
              0.3333333333333333,
              "#9c179e"
             ],
             [
              0.4444444444444444,
              "#bd3786"
             ],
             [
              0.5555555555555556,
              "#d8576b"
             ],
             [
              0.6666666666666666,
              "#ed7953"
             ],
             [
              0.7777777777777778,
              "#fb9f3a"
             ],
             [
              0.8888888888888888,
              "#fdca26"
             ],
             [
              1,
              "#f0f921"
             ]
            ],
            "type": "histogram2dcontour"
           }
          ],
          "mesh3d": [
           {
            "colorbar": {
             "outlinewidth": 0,
             "ticks": ""
            },
            "type": "mesh3d"
           }
          ],
          "parcoords": [
           {
            "line": {
             "colorbar": {
              "outlinewidth": 0,
              "ticks": ""
             }
            },
            "type": "parcoords"
           }
          ],
          "pie": [
           {
            "automargin": true,
            "type": "pie"
           }
          ],
          "scatter": [
           {
            "fillpattern": {
             "fillmode": "overlay",
             "size": 10,
             "solidity": 0.2
            },
            "type": "scatter"
           }
          ],
          "scatter3d": [
           {
            "line": {
             "colorbar": {
              "outlinewidth": 0,
              "ticks": ""
             }
            },
            "marker": {
             "colorbar": {
              "outlinewidth": 0,
              "ticks": ""
             }
            },
            "type": "scatter3d"
           }
          ],
          "scattercarpet": [
           {
            "marker": {
             "colorbar": {
              "outlinewidth": 0,
              "ticks": ""
             }
            },
            "type": "scattercarpet"
           }
          ],
          "scattergeo": [
           {
            "marker": {
             "colorbar": {
              "outlinewidth": 0,
              "ticks": ""
             }
            },
            "type": "scattergeo"
           }
          ],
          "scattergl": [
           {
            "marker": {
             "colorbar": {
              "outlinewidth": 0,
              "ticks": ""
             }
            },
            "type": "scattergl"
           }
          ],
          "scattermapbox": [
           {
            "marker": {
             "colorbar": {
              "outlinewidth": 0,
              "ticks": ""
             }
            },
            "type": "scattermapbox"
           }
          ],
          "scatterpolar": [
           {
            "marker": {
             "colorbar": {
              "outlinewidth": 0,
              "ticks": ""
             }
            },
            "type": "scatterpolar"
           }
          ],
          "scatterpolargl": [
           {
            "marker": {
             "colorbar": {
              "outlinewidth": 0,
              "ticks": ""
             }
            },
            "type": "scatterpolargl"
           }
          ],
          "scatterternary": [
           {
            "marker": {
             "colorbar": {
              "outlinewidth": 0,
              "ticks": ""
             }
            },
            "type": "scatterternary"
           }
          ],
          "surface": [
           {
            "colorbar": {
             "outlinewidth": 0,
             "ticks": ""
            },
            "colorscale": [
             [
              0,
              "#0d0887"
             ],
             [
              0.1111111111111111,
              "#46039f"
             ],
             [
              0.2222222222222222,
              "#7201a8"
             ],
             [
              0.3333333333333333,
              "#9c179e"
             ],
             [
              0.4444444444444444,
              "#bd3786"
             ],
             [
              0.5555555555555556,
              "#d8576b"
             ],
             [
              0.6666666666666666,
              "#ed7953"
             ],
             [
              0.7777777777777778,
              "#fb9f3a"
             ],
             [
              0.8888888888888888,
              "#fdca26"
             ],
             [
              1,
              "#f0f921"
             ]
            ],
            "type": "surface"
           }
          ],
          "table": [
           {
            "cells": {
             "fill": {
              "color": "#EBF0F8"
             },
             "line": {
              "color": "white"
             }
            },
            "header": {
             "fill": {
              "color": "#C8D4E3"
             },
             "line": {
              "color": "white"
             }
            },
            "type": "table"
           }
          ]
         },
         "layout": {
          "annotationdefaults": {
           "arrowcolor": "#2a3f5f",
           "arrowhead": 0,
           "arrowwidth": 1
          },
          "autotypenumbers": "strict",
          "coloraxis": {
           "colorbar": {
            "outlinewidth": 0,
            "ticks": ""
           }
          },
          "colorscale": {
           "diverging": [
            [
             0,
             "#8e0152"
            ],
            [
             0.1,
             "#c51b7d"
            ],
            [
             0.2,
             "#de77ae"
            ],
            [
             0.3,
             "#f1b6da"
            ],
            [
             0.4,
             "#fde0ef"
            ],
            [
             0.5,
             "#f7f7f7"
            ],
            [
             0.6,
             "#e6f5d0"
            ],
            [
             0.7,
             "#b8e186"
            ],
            [
             0.8,
             "#7fbc41"
            ],
            [
             0.9,
             "#4d9221"
            ],
            [
             1,
             "#276419"
            ]
           ],
           "sequential": [
            [
             0,
             "#0d0887"
            ],
            [
             0.1111111111111111,
             "#46039f"
            ],
            [
             0.2222222222222222,
             "#7201a8"
            ],
            [
             0.3333333333333333,
             "#9c179e"
            ],
            [
             0.4444444444444444,
             "#bd3786"
            ],
            [
             0.5555555555555556,
             "#d8576b"
            ],
            [
             0.6666666666666666,
             "#ed7953"
            ],
            [
             0.7777777777777778,
             "#fb9f3a"
            ],
            [
             0.8888888888888888,
             "#fdca26"
            ],
            [
             1,
             "#f0f921"
            ]
           ],
           "sequentialminus": [
            [
             0,
             "#0d0887"
            ],
            [
             0.1111111111111111,
             "#46039f"
            ],
            [
             0.2222222222222222,
             "#7201a8"
            ],
            [
             0.3333333333333333,
             "#9c179e"
            ],
            [
             0.4444444444444444,
             "#bd3786"
            ],
            [
             0.5555555555555556,
             "#d8576b"
            ],
            [
             0.6666666666666666,
             "#ed7953"
            ],
            [
             0.7777777777777778,
             "#fb9f3a"
            ],
            [
             0.8888888888888888,
             "#fdca26"
            ],
            [
             1,
             "#f0f921"
            ]
           ]
          },
          "colorway": [
           "#636efa",
           "#EF553B",
           "#00cc96",
           "#ab63fa",
           "#FFA15A",
           "#19d3f3",
           "#FF6692",
           "#B6E880",
           "#FF97FF",
           "#FECB52"
          ],
          "font": {
           "color": "#2a3f5f"
          },
          "geo": {
           "bgcolor": "white",
           "lakecolor": "white",
           "landcolor": "#E5ECF6",
           "showlakes": true,
           "showland": true,
           "subunitcolor": "white"
          },
          "hoverlabel": {
           "align": "left"
          },
          "hovermode": "closest",
          "mapbox": {
           "style": "light"
          },
          "paper_bgcolor": "white",
          "plot_bgcolor": "#E5ECF6",
          "polar": {
           "angularaxis": {
            "gridcolor": "white",
            "linecolor": "white",
            "ticks": ""
           },
           "bgcolor": "#E5ECF6",
           "radialaxis": {
            "gridcolor": "white",
            "linecolor": "white",
            "ticks": ""
           }
          },
          "scene": {
           "xaxis": {
            "backgroundcolor": "#E5ECF6",
            "gridcolor": "white",
            "gridwidth": 2,
            "linecolor": "white",
            "showbackground": true,
            "ticks": "",
            "zerolinecolor": "white"
           },
           "yaxis": {
            "backgroundcolor": "#E5ECF6",
            "gridcolor": "white",
            "gridwidth": 2,
            "linecolor": "white",
            "showbackground": true,
            "ticks": "",
            "zerolinecolor": "white"
           },
           "zaxis": {
            "backgroundcolor": "#E5ECF6",
            "gridcolor": "white",
            "gridwidth": 2,
            "linecolor": "white",
            "showbackground": true,
            "ticks": "",
            "zerolinecolor": "white"
           }
          },
          "shapedefaults": {
           "line": {
            "color": "#2a3f5f"
           }
          },
          "ternary": {
           "aaxis": {
            "gridcolor": "white",
            "linecolor": "white",
            "ticks": ""
           },
           "baxis": {
            "gridcolor": "white",
            "linecolor": "white",
            "ticks": ""
           },
           "bgcolor": "#E5ECF6",
           "caxis": {
            "gridcolor": "white",
            "linecolor": "white",
            "ticks": ""
           }
          },
          "title": {
           "x": 0.05
          },
          "xaxis": {
           "automargin": true,
           "gridcolor": "white",
           "linecolor": "white",
           "ticks": "",
           "title": {
            "standoff": 15
           },
           "zerolinecolor": "white",
           "zerolinewidth": 2
          },
          "yaxis": {
           "automargin": true,
           "gridcolor": "white",
           "linecolor": "white",
           "ticks": "",
           "title": {
            "standoff": 15
           },
           "zerolinecolor": "white",
           "zerolinewidth": 2
          }
         }
        },
        "title": {
         "font": {
          "color": "#4D5663"
         }
        },
        "xaxis": {
         "gridcolor": "#E1E5ED",
         "showgrid": true,
         "tickfont": {
          "color": "#4D5663"
         },
         "title": {
          "font": {
           "color": "#4D5663"
          },
          "text": ""
         },
         "zerolinecolor": "#E1E5ED"
        },
        "yaxis": {
         "gridcolor": "#E1E5ED",
         "showgrid": true,
         "tickfont": {
          "color": "#4D5663"
         },
         "title": {
          "font": {
           "color": "#4D5663"
          },
          "text": ""
         },
         "zerolinecolor": "#E1E5ED"
        }
       }
      },
      "text/html": [
       "<div>                            <div id=\"f4d9c87e-ab8c-4f75-9f6c-9951ad2e86d5\" class=\"plotly-graph-div\" style=\"height:525px; width:100%;\"></div>            <script type=\"text/javascript\">                require([\"plotly\"], function(Plotly) {                    window.PLOTLYENV=window.PLOTLYENV || {};\n",
       "                    window.PLOTLYENV.BASE_URL='https://plot.ly';                                    if (document.getElementById(\"f4d9c87e-ab8c-4f75-9f6c-9951ad2e86d5\")) {                    Plotly.newPlot(                        \"f4d9c87e-ab8c-4f75-9f6c-9951ad2e86d5\",                        [{\"histfunc\":\"count\",\"histnorm\":\"\",\"marker\":{\"color\":\"rgba(255, 153, 51, 1.0)\",\"line\":{\"color\":\"#4D5663\",\"width\":1.3}},\"name\":\"A\",\"nbinsx\":25,\"opacity\":0.8,\"orientation\":\"v\",\"x\":[1.1808861104858086,-1.009315475834072,2.1010267597285734,-1.2761110614656328,2.1355984367483503,0.45187550757489103,0.35575837216877865,-0.33192853903028824,0.16555430091279025,2.0939392840659474,3.3046262093131764,0.8016652198144762,-0.08064663403209753,-0.2894576343328641,-0.6353852627420068,0.06915412092097081,0.972353162345244,-0.4226617370851711,0.44457415032163833,1.9306320625284974,0.862768413234945,-0.07436503288404975,-1.3075425798831994,0.07488233835490188,-0.5383693570233857,-1.150895491288997,-0.644601767843179,-0.3003701225679646,-0.6768652099919864,0.21410544574864887,0.5950296396184611,0.26973044921773104,-0.7010536597606614,-1.3488991119769904,0.5735052483541746,0.116911756060154,-1.384243153289476,-1.5122147482705393,-2.0490427795777326,-0.47086463185893823,-1.7115532738390293,-0.41926538769302296,0.6342347447608379,1.0524544462265217,0.27116119274636,-0.6327759017672793,-0.2381293131326908,-1.560007071354141,0.3564002971081718,-0.7431653691129735,0.021248317242468076,-0.6171074244097834,-0.7287550072634262,1.1115975878346898,-0.0264973903468035,-0.39998035014100297,0.17090679907552722,0.7704465470894409,1.3645508989608082,0.2736827452554336,0.9458706409895032,-2.039392752696324,0.05308215087500142,-1.4223150595751306,-0.32401077448582954,-1.4858113454908572,-1.3260796336088796,1.2980796587223302,0.7718502322874692,0.4027364328411132,-0.12487684581340935,-0.3734360479494493,-0.004287553825357087,-0.6221945153849893,0.18712560869775033,-0.8542025277225092,0.2605274316144155,0.8065865657559427,0.8892694273074893,-0.11438673646857235,-0.4124256111912983,0.362764158444993,0.17788406981146257,0.25232389432641744,-0.7612788204072456,0.5135316958636523,1.76093782929227,-0.23332353476080336,-0.963431849581975,0.4370139219460403,-1.5530042663990145,0.01358618685162266,1.1281240398709063,-0.41511661847317877,0.2844084545138961,0.07062579562964151,0.77115342742805,-1.2748891258557924,0.7651414902457511,1.5399719990359306],\"type\":\"histogram\"}],                        {\"barmode\":\"overlay\",\"legend\":{\"bgcolor\":\"#F5F6F9\",\"font\":{\"color\":\"#4D5663\"}},\"paper_bgcolor\":\"#F5F6F9\",\"plot_bgcolor\":\"#F5F6F9\",\"template\":{\"data\":{\"barpolar\":[{\"marker\":{\"line\":{\"color\":\"#E5ECF6\",\"width\":0.5},\"pattern\":{\"fillmode\":\"overlay\",\"size\":10,\"solidity\":0.2}},\"type\":\"barpolar\"}],\"bar\":[{\"error_x\":{\"color\":\"#2a3f5f\"},\"error_y\":{\"color\":\"#2a3f5f\"},\"marker\":{\"line\":{\"color\":\"#E5ECF6\",\"width\":0.5},\"pattern\":{\"fillmode\":\"overlay\",\"size\":10,\"solidity\":0.2}},\"type\":\"bar\"}],\"carpet\":[{\"aaxis\":{\"endlinecolor\":\"#2a3f5f\",\"gridcolor\":\"white\",\"linecolor\":\"white\",\"minorgridcolor\":\"white\",\"startlinecolor\":\"#2a3f5f\"},\"baxis\":{\"endlinecolor\":\"#2a3f5f\",\"gridcolor\":\"white\",\"linecolor\":\"white\",\"minorgridcolor\":\"white\",\"startlinecolor\":\"#2a3f5f\"},\"type\":\"carpet\"}],\"choropleth\":[{\"colorbar\":{\"outlinewidth\":0,\"ticks\":\"\"},\"type\":\"choropleth\"}],\"contourcarpet\":[{\"colorbar\":{\"outlinewidth\":0,\"ticks\":\"\"},\"type\":\"contourcarpet\"}],\"contour\":[{\"colorbar\":{\"outlinewidth\":0,\"ticks\":\"\"},\"colorscale\":[[0.0,\"#0d0887\"],[0.1111111111111111,\"#46039f\"],[0.2222222222222222,\"#7201a8\"],[0.3333333333333333,\"#9c179e\"],[0.4444444444444444,\"#bd3786\"],[0.5555555555555556,\"#d8576b\"],[0.6666666666666666,\"#ed7953\"],[0.7777777777777778,\"#fb9f3a\"],[0.8888888888888888,\"#fdca26\"],[1.0,\"#f0f921\"]],\"type\":\"contour\"}],\"heatmapgl\":[{\"colorbar\":{\"outlinewidth\":0,\"ticks\":\"\"},\"colorscale\":[[0.0,\"#0d0887\"],[0.1111111111111111,\"#46039f\"],[0.2222222222222222,\"#7201a8\"],[0.3333333333333333,\"#9c179e\"],[0.4444444444444444,\"#bd3786\"],[0.5555555555555556,\"#d8576b\"],[0.6666666666666666,\"#ed7953\"],[0.7777777777777778,\"#fb9f3a\"],[0.8888888888888888,\"#fdca26\"],[1.0,\"#f0f921\"]],\"type\":\"heatmapgl\"}],\"heatmap\":[{\"colorbar\":{\"outlinewidth\":0,\"ticks\":\"\"},\"colorscale\":[[0.0,\"#0d0887\"],[0.1111111111111111,\"#46039f\"],[0.2222222222222222,\"#7201a8\"],[0.3333333333333333,\"#9c179e\"],[0.4444444444444444,\"#bd3786\"],[0.5555555555555556,\"#d8576b\"],[0.6666666666666666,\"#ed7953\"],[0.7777777777777778,\"#fb9f3a\"],[0.8888888888888888,\"#fdca26\"],[1.0,\"#f0f921\"]],\"type\":\"heatmap\"}],\"histogram2dcontour\":[{\"colorbar\":{\"outlinewidth\":0,\"ticks\":\"\"},\"colorscale\":[[0.0,\"#0d0887\"],[0.1111111111111111,\"#46039f\"],[0.2222222222222222,\"#7201a8\"],[0.3333333333333333,\"#9c179e\"],[0.4444444444444444,\"#bd3786\"],[0.5555555555555556,\"#d8576b\"],[0.6666666666666666,\"#ed7953\"],[0.7777777777777778,\"#fb9f3a\"],[0.8888888888888888,\"#fdca26\"],[1.0,\"#f0f921\"]],\"type\":\"histogram2dcontour\"}],\"histogram2d\":[{\"colorbar\":{\"outlinewidth\":0,\"ticks\":\"\"},\"colorscale\":[[0.0,\"#0d0887\"],[0.1111111111111111,\"#46039f\"],[0.2222222222222222,\"#7201a8\"],[0.3333333333333333,\"#9c179e\"],[0.4444444444444444,\"#bd3786\"],[0.5555555555555556,\"#d8576b\"],[0.6666666666666666,\"#ed7953\"],[0.7777777777777778,\"#fb9f3a\"],[0.8888888888888888,\"#fdca26\"],[1.0,\"#f0f921\"]],\"type\":\"histogram2d\"}],\"histogram\":[{\"marker\":{\"pattern\":{\"fillmode\":\"overlay\",\"size\":10,\"solidity\":0.2}},\"type\":\"histogram\"}],\"mesh3d\":[{\"colorbar\":{\"outlinewidth\":0,\"ticks\":\"\"},\"type\":\"mesh3d\"}],\"parcoords\":[{\"line\":{\"colorbar\":{\"outlinewidth\":0,\"ticks\":\"\"}},\"type\":\"parcoords\"}],\"pie\":[{\"automargin\":true,\"type\":\"pie\"}],\"scatter3d\":[{\"line\":{\"colorbar\":{\"outlinewidth\":0,\"ticks\":\"\"}},\"marker\":{\"colorbar\":{\"outlinewidth\":0,\"ticks\":\"\"}},\"type\":\"scatter3d\"}],\"scattercarpet\":[{\"marker\":{\"colorbar\":{\"outlinewidth\":0,\"ticks\":\"\"}},\"type\":\"scattercarpet\"}],\"scattergeo\":[{\"marker\":{\"colorbar\":{\"outlinewidth\":0,\"ticks\":\"\"}},\"type\":\"scattergeo\"}],\"scattergl\":[{\"marker\":{\"colorbar\":{\"outlinewidth\":0,\"ticks\":\"\"}},\"type\":\"scattergl\"}],\"scattermapbox\":[{\"marker\":{\"colorbar\":{\"outlinewidth\":0,\"ticks\":\"\"}},\"type\":\"scattermapbox\"}],\"scatterpolargl\":[{\"marker\":{\"colorbar\":{\"outlinewidth\":0,\"ticks\":\"\"}},\"type\":\"scatterpolargl\"}],\"scatterpolar\":[{\"marker\":{\"colorbar\":{\"outlinewidth\":0,\"ticks\":\"\"}},\"type\":\"scatterpolar\"}],\"scatter\":[{\"fillpattern\":{\"fillmode\":\"overlay\",\"size\":10,\"solidity\":0.2},\"type\":\"scatter\"}],\"scatterternary\":[{\"marker\":{\"colorbar\":{\"outlinewidth\":0,\"ticks\":\"\"}},\"type\":\"scatterternary\"}],\"surface\":[{\"colorbar\":{\"outlinewidth\":0,\"ticks\":\"\"},\"colorscale\":[[0.0,\"#0d0887\"],[0.1111111111111111,\"#46039f\"],[0.2222222222222222,\"#7201a8\"],[0.3333333333333333,\"#9c179e\"],[0.4444444444444444,\"#bd3786\"],[0.5555555555555556,\"#d8576b\"],[0.6666666666666666,\"#ed7953\"],[0.7777777777777778,\"#fb9f3a\"],[0.8888888888888888,\"#fdca26\"],[1.0,\"#f0f921\"]],\"type\":\"surface\"}],\"table\":[{\"cells\":{\"fill\":{\"color\":\"#EBF0F8\"},\"line\":{\"color\":\"white\"}},\"header\":{\"fill\":{\"color\":\"#C8D4E3\"},\"line\":{\"color\":\"white\"}},\"type\":\"table\"}]},\"layout\":{\"annotationdefaults\":{\"arrowcolor\":\"#2a3f5f\",\"arrowhead\":0,\"arrowwidth\":1},\"autotypenumbers\":\"strict\",\"coloraxis\":{\"colorbar\":{\"outlinewidth\":0,\"ticks\":\"\"}},\"colorscale\":{\"diverging\":[[0,\"#8e0152\"],[0.1,\"#c51b7d\"],[0.2,\"#de77ae\"],[0.3,\"#f1b6da\"],[0.4,\"#fde0ef\"],[0.5,\"#f7f7f7\"],[0.6,\"#e6f5d0\"],[0.7,\"#b8e186\"],[0.8,\"#7fbc41\"],[0.9,\"#4d9221\"],[1,\"#276419\"]],\"sequential\":[[0.0,\"#0d0887\"],[0.1111111111111111,\"#46039f\"],[0.2222222222222222,\"#7201a8\"],[0.3333333333333333,\"#9c179e\"],[0.4444444444444444,\"#bd3786\"],[0.5555555555555556,\"#d8576b\"],[0.6666666666666666,\"#ed7953\"],[0.7777777777777778,\"#fb9f3a\"],[0.8888888888888888,\"#fdca26\"],[1.0,\"#f0f921\"]],\"sequentialminus\":[[0.0,\"#0d0887\"],[0.1111111111111111,\"#46039f\"],[0.2222222222222222,\"#7201a8\"],[0.3333333333333333,\"#9c179e\"],[0.4444444444444444,\"#bd3786\"],[0.5555555555555556,\"#d8576b\"],[0.6666666666666666,\"#ed7953\"],[0.7777777777777778,\"#fb9f3a\"],[0.8888888888888888,\"#fdca26\"],[1.0,\"#f0f921\"]]},\"colorway\":[\"#636efa\",\"#EF553B\",\"#00cc96\",\"#ab63fa\",\"#FFA15A\",\"#19d3f3\",\"#FF6692\",\"#B6E880\",\"#FF97FF\",\"#FECB52\"],\"font\":{\"color\":\"#2a3f5f\"},\"geo\":{\"bgcolor\":\"white\",\"lakecolor\":\"white\",\"landcolor\":\"#E5ECF6\",\"showlakes\":true,\"showland\":true,\"subunitcolor\":\"white\"},\"hoverlabel\":{\"align\":\"left\"},\"hovermode\":\"closest\",\"mapbox\":{\"style\":\"light\"},\"paper_bgcolor\":\"white\",\"plot_bgcolor\":\"#E5ECF6\",\"polar\":{\"angularaxis\":{\"gridcolor\":\"white\",\"linecolor\":\"white\",\"ticks\":\"\"},\"bgcolor\":\"#E5ECF6\",\"radialaxis\":{\"gridcolor\":\"white\",\"linecolor\":\"white\",\"ticks\":\"\"}},\"scene\":{\"xaxis\":{\"backgroundcolor\":\"#E5ECF6\",\"gridcolor\":\"white\",\"gridwidth\":2,\"linecolor\":\"white\",\"showbackground\":true,\"ticks\":\"\",\"zerolinecolor\":\"white\"},\"yaxis\":{\"backgroundcolor\":\"#E5ECF6\",\"gridcolor\":\"white\",\"gridwidth\":2,\"linecolor\":\"white\",\"showbackground\":true,\"ticks\":\"\",\"zerolinecolor\":\"white\"},\"zaxis\":{\"backgroundcolor\":\"#E5ECF6\",\"gridcolor\":\"white\",\"gridwidth\":2,\"linecolor\":\"white\",\"showbackground\":true,\"ticks\":\"\",\"zerolinecolor\":\"white\"}},\"shapedefaults\":{\"line\":{\"color\":\"#2a3f5f\"}},\"ternary\":{\"aaxis\":{\"gridcolor\":\"white\",\"linecolor\":\"white\",\"ticks\":\"\"},\"baxis\":{\"gridcolor\":\"white\",\"linecolor\":\"white\",\"ticks\":\"\"},\"bgcolor\":\"#E5ECF6\",\"caxis\":{\"gridcolor\":\"white\",\"linecolor\":\"white\",\"ticks\":\"\"}},\"title\":{\"x\":0.05},\"xaxis\":{\"automargin\":true,\"gridcolor\":\"white\",\"linecolor\":\"white\",\"ticks\":\"\",\"title\":{\"standoff\":15},\"zerolinecolor\":\"white\",\"zerolinewidth\":2},\"yaxis\":{\"automargin\":true,\"gridcolor\":\"white\",\"linecolor\":\"white\",\"ticks\":\"\",\"title\":{\"standoff\":15},\"zerolinecolor\":\"white\",\"zerolinewidth\":2}}},\"title\":{\"font\":{\"color\":\"#4D5663\"}},\"xaxis\":{\"gridcolor\":\"#E1E5ED\",\"showgrid\":true,\"tickfont\":{\"color\":\"#4D5663\"},\"title\":{\"font\":{\"color\":\"#4D5663\"},\"text\":\"\"},\"zerolinecolor\":\"#E1E5ED\"},\"yaxis\":{\"gridcolor\":\"#E1E5ED\",\"showgrid\":true,\"tickfont\":{\"color\":\"#4D5663\"},\"title\":{\"font\":{\"color\":\"#4D5663\"},\"text\":\"\"},\"zerolinecolor\":\"#E1E5ED\"}},                        {\"showLink\": true, \"linkText\": \"Export to plot.ly\", \"plotlyServerURL\": \"https://plot.ly\", \"responsive\": true}                    ).then(function(){\n",
       "                            \n",
       "var gd = document.getElementById('f4d9c87e-ab8c-4f75-9f6c-9951ad2e86d5');\n",
       "var x = new MutationObserver(function (mutations, observer) {{\n",
       "        var display = window.getComputedStyle(gd).display;\n",
       "        if (!display || display === 'none') {{\n",
       "            console.log([gd, 'removed!']);\n",
       "            Plotly.purge(gd);\n",
       "            observer.disconnect();\n",
       "        }}\n",
       "}});\n",
       "\n",
       "// Listen for the removal of the full notebook cells\n",
       "var notebookContainer = gd.closest('#notebook-container');\n",
       "if (notebookContainer) {{\n",
       "    x.observe(notebookContainer, {childList: true});\n",
       "}}\n",
       "\n",
       "// Listen for the clearing of the current output cell\n",
       "var outputEl = gd.closest('.output');\n",
       "if (outputEl) {{\n",
       "    x.observe(outputEl, {childList: true});\n",
       "}}\n",
       "\n",
       "                        })                };                });            </script>        </div>"
      ]
     },
     "metadata": {},
     "output_type": "display_data"
    }
   ],
   "source": [
    "df['A'].iplot(kind='hist',bins=25)"
   ]
  },
  {
   "cell_type": "code",
   "execution_count": 23,
   "metadata": {
    "collapsed": false
   },
   "outputs": [
    {
     "data": {
      "application/vnd.plotly.v1+json": {
       "config": {
        "linkText": "Export to plot.ly",
        "plotlyServerURL": "https://plot.ly",
        "showLink": true
       },
       "data": [
        {
         "marker": {
          "color": [
           "rgb(255, 153, 51)",
           "rgb(55, 128, 191)",
           "rgb(50, 171, 96)",
           "rgb(128, 0, 128)",
           "rgb(219, 64, 82)",
           "rgb(0, 128, 128)",
           "rgb(255, 255, 51)",
           "rgb(128, 128, 0)",
           "rgb(251, 128, 114)",
           "rgb(128, 177, 211)"
          ],
          "line": {
           "width": 1.3
          },
          "size": [
           62,
           102,
           78,
           32,
           56,
           71,
           66,
           21,
           43,
           90,
           51,
           52,
           60,
           68,
           41,
           70,
           66,
           55,
           39,
           42,
           94,
           80,
           89,
           57,
           27,
           56,
           79,
           51,
           17,
           106,
           89,
           16,
           66,
           34,
           39,
           87,
           47,
           33,
           80,
           49,
           60,
           43,
           48,
           75,
           69,
           68,
           50,
           82,
           47,
           42,
           53,
           28,
           63,
           65,
           70,
           43,
           45,
           62,
           30,
           25,
           35,
           32,
           58,
           99,
           36,
           112,
           64,
           43,
           72,
           53,
           40,
           52,
           38,
           106,
           51,
           53,
           72,
           73,
           83,
           74,
           101,
           92,
           42,
           12,
           55,
           55,
           46,
           51,
           44,
           97,
           78,
           105,
           65,
           109,
           49,
           42,
           70,
           60,
           42,
           38
          ],
          "symbol": "circle"
         },
         "mode": "markers",
         "text": "",
         "type": "scatter",
         "x": [
          1.1808861104858086,
          -1.009315475834072,
          2.1010267597285734,
          -1.2761110614656328,
          2.1355984367483503,
          0.45187550757489103,
          0.35575837216877865,
          -0.33192853903028824,
          0.16555430091279025,
          2.0939392840659474,
          3.3046262093131764,
          0.8016652198144762,
          -0.08064663403209753,
          -0.2894576343328641,
          -0.6353852627420068,
          0.06915412092097081,
          0.972353162345244,
          -0.4226617370851711,
          0.44457415032163833,
          1.9306320625284974,
          0.862768413234945,
          -0.07436503288404975,
          -1.3075425798831994,
          0.07488233835490188,
          -0.5383693570233857,
          -1.150895491288997,
          -0.644601767843179,
          -0.3003701225679646,
          -0.6768652099919864,
          0.21410544574864887,
          0.5950296396184611,
          0.26973044921773104,
          -0.7010536597606614,
          -1.3488991119769904,
          0.5735052483541746,
          0.116911756060154,
          -1.384243153289476,
          -1.5122147482705393,
          -2.0490427795777326,
          -0.47086463185893823,
          -1.7115532738390293,
          -0.41926538769302296,
          0.6342347447608379,
          1.0524544462265217,
          0.27116119274636,
          -0.6327759017672793,
          -0.2381293131326908,
          -1.560007071354141,
          0.3564002971081718,
          -0.7431653691129735,
          0.021248317242468076,
          -0.6171074244097834,
          -0.7287550072634262,
          1.1115975878346898,
          -0.0264973903468035,
          -0.39998035014100297,
          0.17090679907552722,
          0.7704465470894409,
          1.3645508989608082,
          0.2736827452554336,
          0.9458706409895032,
          -2.039392752696324,
          0.05308215087500142,
          -1.4223150595751306,
          -0.32401077448582954,
          -1.4858113454908572,
          -1.3260796336088796,
          1.2980796587223302,
          0.7718502322874692,
          0.4027364328411132,
          -0.12487684581340935,
          -0.3734360479494493,
          -0.004287553825357087,
          -0.6221945153849893,
          0.18712560869775033,
          -0.8542025277225092,
          0.2605274316144155,
          0.8065865657559427,
          0.8892694273074893,
          -0.11438673646857235,
          -0.4124256111912983,
          0.362764158444993,
          0.17788406981146257,
          0.25232389432641744,
          -0.7612788204072456,
          0.5135316958636523,
          1.76093782929227,
          -0.23332353476080336,
          -0.963431849581975,
          0.4370139219460403,
          -1.5530042663990145,
          0.01358618685162266,
          1.1281240398709063,
          -0.41511661847317877,
          0.2844084545138961,
          0.07062579562964151,
          0.77115342742805,
          -1.2748891258557924,
          0.7651414902457511,
          1.5399719990359306
         ],
         "y": [
          1.8869774144646363,
          -0.15178939659604912,
          0.49273651175711186,
          -1.323250063279204,
          -1.3096082803841553,
          -1.3849349027148277,
          1.156638863289787,
          -0.9517605210106179,
          0.4107021866605751,
          0.03405599860229291,
          2.082439060515147,
          -0.6632141972130775,
          0.5541718312078655,
          0.19367068612461416,
          2.260149093720149,
          -1.2259061103880828,
          -0.7895331423494181,
          0.7662518068681965,
          1.0247551473290297,
          1.6578485874276878,
          0.3833380944296906,
          0.9354852173085542,
          1.201005381289398,
          1.9991827012969507,
          -0.6687087204962803,
          -0.2889780327683993,
          -1.1867862695251132,
          0.21882396000194415,
          1.2349522356979719,
          -2.2700863402085885,
          0.21154465034024256,
          -2.0375384753026133,
          -0.27323895036263013,
          -0.5022346822859977,
          1.3981296300065187,
          -0.7808568466240103,
          0.07384353772811302,
          0.8108562614778606,
          0.26004090339418573,
          -1.537016362845774,
          -0.08338367129457505,
          -0.2142211275967988,
          -0.9378209276170207,
          -0.6815547301708351,
          -0.8552378052823102,
          -0.1484952070387059,
          -1.4145757942280957,
          -0.366902467981607,
          0.9217146167090984,
          1.3107705120296753,
          -0.7798058588406078,
          0.6927152044770846,
          0.27715215900653895,
          -0.6773501227910225,
          -0.39772212572225923,
          -0.9327902138961053,
          -1.5359943716946074,
          0.05265840173276143,
          -0.49077067967105015,
          0.46340928236261036,
          -2.2641201459935885,
          -0.39308652349632045,
          1.072805319475322,
          -0.7246309842420298,
          -1.7363183613206394,
          1.8964187758108288,
          -0.6087390744568856,
          -2.70414795296228,
          -1.65510169490042,
          0.6659266357370712,
          0.21563454907328639,
          0.9058385938958805,
          0.5298879363128568,
          2.2882030650566865,
          -0.3654187398433885,
          -0.8223437056703111,
          -1.1960008750849571,
          0.998214927884022,
          -0.8224011627610441,
          -0.6283770556295083,
          -0.4566048300151653,
          -0.1673684778572825,
          1.2086066242166869,
          1.271826220581654,
          0.8480941150195749,
          0.40288423807506885,
          0.029759689383405466,
          -0.5287908721090397,
          -0.6426181955756219,
          -1.2020398873408829,
          -0.902931701935573,
          0.7725336591758999,
          -1.0785659218318133,
          0.6226481271010155,
          1.731907502841091,
          -0.9405026151070189,
          -0.3371830830297367,
          -0.19216251774875798,
          0.3868122511782008,
          0.37115889539592906
         ]
        }
       ],
       "layout": {
        "legend": {
         "bgcolor": "#F5F6F9",
         "font": {
          "color": "#4D5663"
         }
        },
        "paper_bgcolor": "#F5F6F9",
        "plot_bgcolor": "#F5F6F9",
        "template": {
         "data": {
          "bar": [
           {
            "error_x": {
             "color": "#2a3f5f"
            },
            "error_y": {
             "color": "#2a3f5f"
            },
            "marker": {
             "line": {
              "color": "#E5ECF6",
              "width": 0.5
             },
             "pattern": {
              "fillmode": "overlay",
              "size": 10,
              "solidity": 0.2
             }
            },
            "type": "bar"
           }
          ],
          "barpolar": [
           {
            "marker": {
             "line": {
              "color": "#E5ECF6",
              "width": 0.5
             },
             "pattern": {
              "fillmode": "overlay",
              "size": 10,
              "solidity": 0.2
             }
            },
            "type": "barpolar"
           }
          ],
          "carpet": [
           {
            "aaxis": {
             "endlinecolor": "#2a3f5f",
             "gridcolor": "white",
             "linecolor": "white",
             "minorgridcolor": "white",
             "startlinecolor": "#2a3f5f"
            },
            "baxis": {
             "endlinecolor": "#2a3f5f",
             "gridcolor": "white",
             "linecolor": "white",
             "minorgridcolor": "white",
             "startlinecolor": "#2a3f5f"
            },
            "type": "carpet"
           }
          ],
          "choropleth": [
           {
            "colorbar": {
             "outlinewidth": 0,
             "ticks": ""
            },
            "type": "choropleth"
           }
          ],
          "contour": [
           {
            "colorbar": {
             "outlinewidth": 0,
             "ticks": ""
            },
            "colorscale": [
             [
              0,
              "#0d0887"
             ],
             [
              0.1111111111111111,
              "#46039f"
             ],
             [
              0.2222222222222222,
              "#7201a8"
             ],
             [
              0.3333333333333333,
              "#9c179e"
             ],
             [
              0.4444444444444444,
              "#bd3786"
             ],
             [
              0.5555555555555556,
              "#d8576b"
             ],
             [
              0.6666666666666666,
              "#ed7953"
             ],
             [
              0.7777777777777778,
              "#fb9f3a"
             ],
             [
              0.8888888888888888,
              "#fdca26"
             ],
             [
              1,
              "#f0f921"
             ]
            ],
            "type": "contour"
           }
          ],
          "contourcarpet": [
           {
            "colorbar": {
             "outlinewidth": 0,
             "ticks": ""
            },
            "type": "contourcarpet"
           }
          ],
          "heatmap": [
           {
            "colorbar": {
             "outlinewidth": 0,
             "ticks": ""
            },
            "colorscale": [
             [
              0,
              "#0d0887"
             ],
             [
              0.1111111111111111,
              "#46039f"
             ],
             [
              0.2222222222222222,
              "#7201a8"
             ],
             [
              0.3333333333333333,
              "#9c179e"
             ],
             [
              0.4444444444444444,
              "#bd3786"
             ],
             [
              0.5555555555555556,
              "#d8576b"
             ],
             [
              0.6666666666666666,
              "#ed7953"
             ],
             [
              0.7777777777777778,
              "#fb9f3a"
             ],
             [
              0.8888888888888888,
              "#fdca26"
             ],
             [
              1,
              "#f0f921"
             ]
            ],
            "type": "heatmap"
           }
          ],
          "heatmapgl": [
           {
            "colorbar": {
             "outlinewidth": 0,
             "ticks": ""
            },
            "colorscale": [
             [
              0,
              "#0d0887"
             ],
             [
              0.1111111111111111,
              "#46039f"
             ],
             [
              0.2222222222222222,
              "#7201a8"
             ],
             [
              0.3333333333333333,
              "#9c179e"
             ],
             [
              0.4444444444444444,
              "#bd3786"
             ],
             [
              0.5555555555555556,
              "#d8576b"
             ],
             [
              0.6666666666666666,
              "#ed7953"
             ],
             [
              0.7777777777777778,
              "#fb9f3a"
             ],
             [
              0.8888888888888888,
              "#fdca26"
             ],
             [
              1,
              "#f0f921"
             ]
            ],
            "type": "heatmapgl"
           }
          ],
          "histogram": [
           {
            "marker": {
             "pattern": {
              "fillmode": "overlay",
              "size": 10,
              "solidity": 0.2
             }
            },
            "type": "histogram"
           }
          ],
          "histogram2d": [
           {
            "colorbar": {
             "outlinewidth": 0,
             "ticks": ""
            },
            "colorscale": [
             [
              0,
              "#0d0887"
             ],
             [
              0.1111111111111111,
              "#46039f"
             ],
             [
              0.2222222222222222,
              "#7201a8"
             ],
             [
              0.3333333333333333,
              "#9c179e"
             ],
             [
              0.4444444444444444,
              "#bd3786"
             ],
             [
              0.5555555555555556,
              "#d8576b"
             ],
             [
              0.6666666666666666,
              "#ed7953"
             ],
             [
              0.7777777777777778,
              "#fb9f3a"
             ],
             [
              0.8888888888888888,
              "#fdca26"
             ],
             [
              1,
              "#f0f921"
             ]
            ],
            "type": "histogram2d"
           }
          ],
          "histogram2dcontour": [
           {
            "colorbar": {
             "outlinewidth": 0,
             "ticks": ""
            },
            "colorscale": [
             [
              0,
              "#0d0887"
             ],
             [
              0.1111111111111111,
              "#46039f"
             ],
             [
              0.2222222222222222,
              "#7201a8"
             ],
             [
              0.3333333333333333,
              "#9c179e"
             ],
             [
              0.4444444444444444,
              "#bd3786"
             ],
             [
              0.5555555555555556,
              "#d8576b"
             ],
             [
              0.6666666666666666,
              "#ed7953"
             ],
             [
              0.7777777777777778,
              "#fb9f3a"
             ],
             [
              0.8888888888888888,
              "#fdca26"
             ],
             [
              1,
              "#f0f921"
             ]
            ],
            "type": "histogram2dcontour"
           }
          ],
          "mesh3d": [
           {
            "colorbar": {
             "outlinewidth": 0,
             "ticks": ""
            },
            "type": "mesh3d"
           }
          ],
          "parcoords": [
           {
            "line": {
             "colorbar": {
              "outlinewidth": 0,
              "ticks": ""
             }
            },
            "type": "parcoords"
           }
          ],
          "pie": [
           {
            "automargin": true,
            "type": "pie"
           }
          ],
          "scatter": [
           {
            "fillpattern": {
             "fillmode": "overlay",
             "size": 10,
             "solidity": 0.2
            },
            "type": "scatter"
           }
          ],
          "scatter3d": [
           {
            "line": {
             "colorbar": {
              "outlinewidth": 0,
              "ticks": ""
             }
            },
            "marker": {
             "colorbar": {
              "outlinewidth": 0,
              "ticks": ""
             }
            },
            "type": "scatter3d"
           }
          ],
          "scattercarpet": [
           {
            "marker": {
             "colorbar": {
              "outlinewidth": 0,
              "ticks": ""
             }
            },
            "type": "scattercarpet"
           }
          ],
          "scattergeo": [
           {
            "marker": {
             "colorbar": {
              "outlinewidth": 0,
              "ticks": ""
             }
            },
            "type": "scattergeo"
           }
          ],
          "scattergl": [
           {
            "marker": {
             "colorbar": {
              "outlinewidth": 0,
              "ticks": ""
             }
            },
            "type": "scattergl"
           }
          ],
          "scattermapbox": [
           {
            "marker": {
             "colorbar": {
              "outlinewidth": 0,
              "ticks": ""
             }
            },
            "type": "scattermapbox"
           }
          ],
          "scatterpolar": [
           {
            "marker": {
             "colorbar": {
              "outlinewidth": 0,
              "ticks": ""
             }
            },
            "type": "scatterpolar"
           }
          ],
          "scatterpolargl": [
           {
            "marker": {
             "colorbar": {
              "outlinewidth": 0,
              "ticks": ""
             }
            },
            "type": "scatterpolargl"
           }
          ],
          "scatterternary": [
           {
            "marker": {
             "colorbar": {
              "outlinewidth": 0,
              "ticks": ""
             }
            },
            "type": "scatterternary"
           }
          ],
          "surface": [
           {
            "colorbar": {
             "outlinewidth": 0,
             "ticks": ""
            },
            "colorscale": [
             [
              0,
              "#0d0887"
             ],
             [
              0.1111111111111111,
              "#46039f"
             ],
             [
              0.2222222222222222,
              "#7201a8"
             ],
             [
              0.3333333333333333,
              "#9c179e"
             ],
             [
              0.4444444444444444,
              "#bd3786"
             ],
             [
              0.5555555555555556,
              "#d8576b"
             ],
             [
              0.6666666666666666,
              "#ed7953"
             ],
             [
              0.7777777777777778,
              "#fb9f3a"
             ],
             [
              0.8888888888888888,
              "#fdca26"
             ],
             [
              1,
              "#f0f921"
             ]
            ],
            "type": "surface"
           }
          ],
          "table": [
           {
            "cells": {
             "fill": {
              "color": "#EBF0F8"
             },
             "line": {
              "color": "white"
             }
            },
            "header": {
             "fill": {
              "color": "#C8D4E3"
             },
             "line": {
              "color": "white"
             }
            },
            "type": "table"
           }
          ]
         },
         "layout": {
          "annotationdefaults": {
           "arrowcolor": "#2a3f5f",
           "arrowhead": 0,
           "arrowwidth": 1
          },
          "autotypenumbers": "strict",
          "coloraxis": {
           "colorbar": {
            "outlinewidth": 0,
            "ticks": ""
           }
          },
          "colorscale": {
           "diverging": [
            [
             0,
             "#8e0152"
            ],
            [
             0.1,
             "#c51b7d"
            ],
            [
             0.2,
             "#de77ae"
            ],
            [
             0.3,
             "#f1b6da"
            ],
            [
             0.4,
             "#fde0ef"
            ],
            [
             0.5,
             "#f7f7f7"
            ],
            [
             0.6,
             "#e6f5d0"
            ],
            [
             0.7,
             "#b8e186"
            ],
            [
             0.8,
             "#7fbc41"
            ],
            [
             0.9,
             "#4d9221"
            ],
            [
             1,
             "#276419"
            ]
           ],
           "sequential": [
            [
             0,
             "#0d0887"
            ],
            [
             0.1111111111111111,
             "#46039f"
            ],
            [
             0.2222222222222222,
             "#7201a8"
            ],
            [
             0.3333333333333333,
             "#9c179e"
            ],
            [
             0.4444444444444444,
             "#bd3786"
            ],
            [
             0.5555555555555556,
             "#d8576b"
            ],
            [
             0.6666666666666666,
             "#ed7953"
            ],
            [
             0.7777777777777778,
             "#fb9f3a"
            ],
            [
             0.8888888888888888,
             "#fdca26"
            ],
            [
             1,
             "#f0f921"
            ]
           ],
           "sequentialminus": [
            [
             0,
             "#0d0887"
            ],
            [
             0.1111111111111111,
             "#46039f"
            ],
            [
             0.2222222222222222,
             "#7201a8"
            ],
            [
             0.3333333333333333,
             "#9c179e"
            ],
            [
             0.4444444444444444,
             "#bd3786"
            ],
            [
             0.5555555555555556,
             "#d8576b"
            ],
            [
             0.6666666666666666,
             "#ed7953"
            ],
            [
             0.7777777777777778,
             "#fb9f3a"
            ],
            [
             0.8888888888888888,
             "#fdca26"
            ],
            [
             1,
             "#f0f921"
            ]
           ]
          },
          "colorway": [
           "#636efa",
           "#EF553B",
           "#00cc96",
           "#ab63fa",
           "#FFA15A",
           "#19d3f3",
           "#FF6692",
           "#B6E880",
           "#FF97FF",
           "#FECB52"
          ],
          "font": {
           "color": "#2a3f5f"
          },
          "geo": {
           "bgcolor": "white",
           "lakecolor": "white",
           "landcolor": "#E5ECF6",
           "showlakes": true,
           "showland": true,
           "subunitcolor": "white"
          },
          "hoverlabel": {
           "align": "left"
          },
          "hovermode": "closest",
          "mapbox": {
           "style": "light"
          },
          "paper_bgcolor": "white",
          "plot_bgcolor": "#E5ECF6",
          "polar": {
           "angularaxis": {
            "gridcolor": "white",
            "linecolor": "white",
            "ticks": ""
           },
           "bgcolor": "#E5ECF6",
           "radialaxis": {
            "gridcolor": "white",
            "linecolor": "white",
            "ticks": ""
           }
          },
          "scene": {
           "xaxis": {
            "backgroundcolor": "#E5ECF6",
            "gridcolor": "white",
            "gridwidth": 2,
            "linecolor": "white",
            "showbackground": true,
            "ticks": "",
            "zerolinecolor": "white"
           },
           "yaxis": {
            "backgroundcolor": "#E5ECF6",
            "gridcolor": "white",
            "gridwidth": 2,
            "linecolor": "white",
            "showbackground": true,
            "ticks": "",
            "zerolinecolor": "white"
           },
           "zaxis": {
            "backgroundcolor": "#E5ECF6",
            "gridcolor": "white",
            "gridwidth": 2,
            "linecolor": "white",
            "showbackground": true,
            "ticks": "",
            "zerolinecolor": "white"
           }
          },
          "shapedefaults": {
           "line": {
            "color": "#2a3f5f"
           }
          },
          "ternary": {
           "aaxis": {
            "gridcolor": "white",
            "linecolor": "white",
            "ticks": ""
           },
           "baxis": {
            "gridcolor": "white",
            "linecolor": "white",
            "ticks": ""
           },
           "bgcolor": "#E5ECF6",
           "caxis": {
            "gridcolor": "white",
            "linecolor": "white",
            "ticks": ""
           }
          },
          "title": {
           "x": 0.05
          },
          "xaxis": {
           "automargin": true,
           "gridcolor": "white",
           "linecolor": "white",
           "ticks": "",
           "title": {
            "standoff": 15
           },
           "zerolinecolor": "white",
           "zerolinewidth": 2
          },
          "yaxis": {
           "automargin": true,
           "gridcolor": "white",
           "linecolor": "white",
           "ticks": "",
           "title": {
            "standoff": 15
           },
           "zerolinecolor": "white",
           "zerolinewidth": 2
          }
         }
        },
        "title": {
         "font": {
          "color": "#4D5663"
         }
        },
        "xaxis": {
         "gridcolor": "#E1E5ED",
         "showgrid": true,
         "tickfont": {
          "color": "#4D5663"
         },
         "title": {
          "font": {
           "color": "#4D5663"
          },
          "text": ""
         },
         "zerolinecolor": "#E1E5ED"
        },
        "yaxis": {
         "gridcolor": "#E1E5ED",
         "showgrid": true,
         "tickfont": {
          "color": "#4D5663"
         },
         "title": {
          "font": {
           "color": "#4D5663"
          },
          "text": ""
         },
         "zerolinecolor": "#E1E5ED"
        }
       }
      },
      "text/html": [
       "<div>                            <div id=\"992a182d-09aa-46df-bb8d-1ca99eaea75a\" class=\"plotly-graph-div\" style=\"height:525px; width:100%;\"></div>            <script type=\"text/javascript\">                require([\"plotly\"], function(Plotly) {                    window.PLOTLYENV=window.PLOTLYENV || {};\n",
       "                    window.PLOTLYENV.BASE_URL='https://plot.ly';                                    if (document.getElementById(\"992a182d-09aa-46df-bb8d-1ca99eaea75a\")) {                    Plotly.newPlot(                        \"992a182d-09aa-46df-bb8d-1ca99eaea75a\",                        [{\"marker\":{\"color\":[\"rgb(255, 153, 51)\",\"rgb(55, 128, 191)\",\"rgb(50, 171, 96)\",\"rgb(128, 0, 128)\",\"rgb(219, 64, 82)\",\"rgb(0, 128, 128)\",\"rgb(255, 255, 51)\",\"rgb(128, 128, 0)\",\"rgb(251, 128, 114)\",\"rgb(128, 177, 211)\"],\"line\":{\"width\":1.3},\"size\":[62,102,78,32,56,71,66,21,43,90,51,52,60,68,41,70,66,55,39,42,94,80,89,57,27,56,79,51,17,106,89,16,66,34,39,87,47,33,80,49,60,43,48,75,69,68,50,82,47,42,53,28,63,65,70,43,45,62,30,25,35,32,58,99,36,112,64,43,72,53,40,52,38,106,51,53,72,73,83,74,101,92,42,12,55,55,46,51,44,97,78,105,65,109,49,42,70,60,42,38],\"symbol\":\"circle\"},\"mode\":\"markers\",\"text\":\"\",\"x\":[1.1808861104858086,-1.009315475834072,2.1010267597285734,-1.2761110614656328,2.1355984367483503,0.45187550757489103,0.35575837216877865,-0.33192853903028824,0.16555430091279025,2.0939392840659474,3.3046262093131764,0.8016652198144762,-0.08064663403209753,-0.2894576343328641,-0.6353852627420068,0.06915412092097081,0.972353162345244,-0.4226617370851711,0.44457415032163833,1.9306320625284974,0.862768413234945,-0.07436503288404975,-1.3075425798831994,0.07488233835490188,-0.5383693570233857,-1.150895491288997,-0.644601767843179,-0.3003701225679646,-0.6768652099919864,0.21410544574864887,0.5950296396184611,0.26973044921773104,-0.7010536597606614,-1.3488991119769904,0.5735052483541746,0.116911756060154,-1.384243153289476,-1.5122147482705393,-2.0490427795777326,-0.47086463185893823,-1.7115532738390293,-0.41926538769302296,0.6342347447608379,1.0524544462265217,0.27116119274636,-0.6327759017672793,-0.2381293131326908,-1.560007071354141,0.3564002971081718,-0.7431653691129735,0.021248317242468076,-0.6171074244097834,-0.7287550072634262,1.1115975878346898,-0.0264973903468035,-0.39998035014100297,0.17090679907552722,0.7704465470894409,1.3645508989608082,0.2736827452554336,0.9458706409895032,-2.039392752696324,0.05308215087500142,-1.4223150595751306,-0.32401077448582954,-1.4858113454908572,-1.3260796336088796,1.2980796587223302,0.7718502322874692,0.4027364328411132,-0.12487684581340935,-0.3734360479494493,-0.004287553825357087,-0.6221945153849893,0.18712560869775033,-0.8542025277225092,0.2605274316144155,0.8065865657559427,0.8892694273074893,-0.11438673646857235,-0.4124256111912983,0.362764158444993,0.17788406981146257,0.25232389432641744,-0.7612788204072456,0.5135316958636523,1.76093782929227,-0.23332353476080336,-0.963431849581975,0.4370139219460403,-1.5530042663990145,0.01358618685162266,1.1281240398709063,-0.41511661847317877,0.2844084545138961,0.07062579562964151,0.77115342742805,-1.2748891258557924,0.7651414902457511,1.5399719990359306],\"y\":[1.8869774144646363,-0.15178939659604912,0.49273651175711186,-1.323250063279204,-1.3096082803841553,-1.3849349027148277,1.156638863289787,-0.9517605210106179,0.4107021866605751,0.03405599860229291,2.082439060515147,-0.6632141972130775,0.5541718312078655,0.19367068612461416,2.260149093720149,-1.2259061103880828,-0.7895331423494181,0.7662518068681965,1.0247551473290297,1.6578485874276878,0.3833380944296906,0.9354852173085542,1.201005381289398,1.9991827012969507,-0.6687087204962803,-0.2889780327683993,-1.1867862695251132,0.21882396000194415,1.2349522356979719,-2.2700863402085885,0.21154465034024256,-2.0375384753026133,-0.27323895036263013,-0.5022346822859977,1.3981296300065187,-0.7808568466240103,0.07384353772811302,0.8108562614778606,0.26004090339418573,-1.537016362845774,-0.08338367129457505,-0.2142211275967988,-0.9378209276170207,-0.6815547301708351,-0.8552378052823102,-0.1484952070387059,-1.4145757942280957,-0.366902467981607,0.9217146167090984,1.3107705120296753,-0.7798058588406078,0.6927152044770846,0.27715215900653895,-0.6773501227910225,-0.39772212572225923,-0.9327902138961053,-1.5359943716946074,0.05265840173276143,-0.49077067967105015,0.46340928236261036,-2.2641201459935885,-0.39308652349632045,1.072805319475322,-0.7246309842420298,-1.7363183613206394,1.8964187758108288,-0.6087390744568856,-2.70414795296228,-1.65510169490042,0.6659266357370712,0.21563454907328639,0.9058385938958805,0.5298879363128568,2.2882030650566865,-0.3654187398433885,-0.8223437056703111,-1.1960008750849571,0.998214927884022,-0.8224011627610441,-0.6283770556295083,-0.4566048300151653,-0.1673684778572825,1.2086066242166869,1.271826220581654,0.8480941150195749,0.40288423807506885,0.029759689383405466,-0.5287908721090397,-0.6426181955756219,-1.2020398873408829,-0.902931701935573,0.7725336591758999,-1.0785659218318133,0.6226481271010155,1.731907502841091,-0.9405026151070189,-0.3371830830297367,-0.19216251774875798,0.3868122511782008,0.37115889539592906],\"type\":\"scatter\"}],                        {\"legend\":{\"bgcolor\":\"#F5F6F9\",\"font\":{\"color\":\"#4D5663\"}},\"paper_bgcolor\":\"#F5F6F9\",\"plot_bgcolor\":\"#F5F6F9\",\"template\":{\"data\":{\"barpolar\":[{\"marker\":{\"line\":{\"color\":\"#E5ECF6\",\"width\":0.5},\"pattern\":{\"fillmode\":\"overlay\",\"size\":10,\"solidity\":0.2}},\"type\":\"barpolar\"}],\"bar\":[{\"error_x\":{\"color\":\"#2a3f5f\"},\"error_y\":{\"color\":\"#2a3f5f\"},\"marker\":{\"line\":{\"color\":\"#E5ECF6\",\"width\":0.5},\"pattern\":{\"fillmode\":\"overlay\",\"size\":10,\"solidity\":0.2}},\"type\":\"bar\"}],\"carpet\":[{\"aaxis\":{\"endlinecolor\":\"#2a3f5f\",\"gridcolor\":\"white\",\"linecolor\":\"white\",\"minorgridcolor\":\"white\",\"startlinecolor\":\"#2a3f5f\"},\"baxis\":{\"endlinecolor\":\"#2a3f5f\",\"gridcolor\":\"white\",\"linecolor\":\"white\",\"minorgridcolor\":\"white\",\"startlinecolor\":\"#2a3f5f\"},\"type\":\"carpet\"}],\"choropleth\":[{\"colorbar\":{\"outlinewidth\":0,\"ticks\":\"\"},\"type\":\"choropleth\"}],\"contourcarpet\":[{\"colorbar\":{\"outlinewidth\":0,\"ticks\":\"\"},\"type\":\"contourcarpet\"}],\"contour\":[{\"colorbar\":{\"outlinewidth\":0,\"ticks\":\"\"},\"colorscale\":[[0.0,\"#0d0887\"],[0.1111111111111111,\"#46039f\"],[0.2222222222222222,\"#7201a8\"],[0.3333333333333333,\"#9c179e\"],[0.4444444444444444,\"#bd3786\"],[0.5555555555555556,\"#d8576b\"],[0.6666666666666666,\"#ed7953\"],[0.7777777777777778,\"#fb9f3a\"],[0.8888888888888888,\"#fdca26\"],[1.0,\"#f0f921\"]],\"type\":\"contour\"}],\"heatmapgl\":[{\"colorbar\":{\"outlinewidth\":0,\"ticks\":\"\"},\"colorscale\":[[0.0,\"#0d0887\"],[0.1111111111111111,\"#46039f\"],[0.2222222222222222,\"#7201a8\"],[0.3333333333333333,\"#9c179e\"],[0.4444444444444444,\"#bd3786\"],[0.5555555555555556,\"#d8576b\"],[0.6666666666666666,\"#ed7953\"],[0.7777777777777778,\"#fb9f3a\"],[0.8888888888888888,\"#fdca26\"],[1.0,\"#f0f921\"]],\"type\":\"heatmapgl\"}],\"heatmap\":[{\"colorbar\":{\"outlinewidth\":0,\"ticks\":\"\"},\"colorscale\":[[0.0,\"#0d0887\"],[0.1111111111111111,\"#46039f\"],[0.2222222222222222,\"#7201a8\"],[0.3333333333333333,\"#9c179e\"],[0.4444444444444444,\"#bd3786\"],[0.5555555555555556,\"#d8576b\"],[0.6666666666666666,\"#ed7953\"],[0.7777777777777778,\"#fb9f3a\"],[0.8888888888888888,\"#fdca26\"],[1.0,\"#f0f921\"]],\"type\":\"heatmap\"}],\"histogram2dcontour\":[{\"colorbar\":{\"outlinewidth\":0,\"ticks\":\"\"},\"colorscale\":[[0.0,\"#0d0887\"],[0.1111111111111111,\"#46039f\"],[0.2222222222222222,\"#7201a8\"],[0.3333333333333333,\"#9c179e\"],[0.4444444444444444,\"#bd3786\"],[0.5555555555555556,\"#d8576b\"],[0.6666666666666666,\"#ed7953\"],[0.7777777777777778,\"#fb9f3a\"],[0.8888888888888888,\"#fdca26\"],[1.0,\"#f0f921\"]],\"type\":\"histogram2dcontour\"}],\"histogram2d\":[{\"colorbar\":{\"outlinewidth\":0,\"ticks\":\"\"},\"colorscale\":[[0.0,\"#0d0887\"],[0.1111111111111111,\"#46039f\"],[0.2222222222222222,\"#7201a8\"],[0.3333333333333333,\"#9c179e\"],[0.4444444444444444,\"#bd3786\"],[0.5555555555555556,\"#d8576b\"],[0.6666666666666666,\"#ed7953\"],[0.7777777777777778,\"#fb9f3a\"],[0.8888888888888888,\"#fdca26\"],[1.0,\"#f0f921\"]],\"type\":\"histogram2d\"}],\"histogram\":[{\"marker\":{\"pattern\":{\"fillmode\":\"overlay\",\"size\":10,\"solidity\":0.2}},\"type\":\"histogram\"}],\"mesh3d\":[{\"colorbar\":{\"outlinewidth\":0,\"ticks\":\"\"},\"type\":\"mesh3d\"}],\"parcoords\":[{\"line\":{\"colorbar\":{\"outlinewidth\":0,\"ticks\":\"\"}},\"type\":\"parcoords\"}],\"pie\":[{\"automargin\":true,\"type\":\"pie\"}],\"scatter3d\":[{\"line\":{\"colorbar\":{\"outlinewidth\":0,\"ticks\":\"\"}},\"marker\":{\"colorbar\":{\"outlinewidth\":0,\"ticks\":\"\"}},\"type\":\"scatter3d\"}],\"scattercarpet\":[{\"marker\":{\"colorbar\":{\"outlinewidth\":0,\"ticks\":\"\"}},\"type\":\"scattercarpet\"}],\"scattergeo\":[{\"marker\":{\"colorbar\":{\"outlinewidth\":0,\"ticks\":\"\"}},\"type\":\"scattergeo\"}],\"scattergl\":[{\"marker\":{\"colorbar\":{\"outlinewidth\":0,\"ticks\":\"\"}},\"type\":\"scattergl\"}],\"scattermapbox\":[{\"marker\":{\"colorbar\":{\"outlinewidth\":0,\"ticks\":\"\"}},\"type\":\"scattermapbox\"}],\"scatterpolargl\":[{\"marker\":{\"colorbar\":{\"outlinewidth\":0,\"ticks\":\"\"}},\"type\":\"scatterpolargl\"}],\"scatterpolar\":[{\"marker\":{\"colorbar\":{\"outlinewidth\":0,\"ticks\":\"\"}},\"type\":\"scatterpolar\"}],\"scatter\":[{\"fillpattern\":{\"fillmode\":\"overlay\",\"size\":10,\"solidity\":0.2},\"type\":\"scatter\"}],\"scatterternary\":[{\"marker\":{\"colorbar\":{\"outlinewidth\":0,\"ticks\":\"\"}},\"type\":\"scatterternary\"}],\"surface\":[{\"colorbar\":{\"outlinewidth\":0,\"ticks\":\"\"},\"colorscale\":[[0.0,\"#0d0887\"],[0.1111111111111111,\"#46039f\"],[0.2222222222222222,\"#7201a8\"],[0.3333333333333333,\"#9c179e\"],[0.4444444444444444,\"#bd3786\"],[0.5555555555555556,\"#d8576b\"],[0.6666666666666666,\"#ed7953\"],[0.7777777777777778,\"#fb9f3a\"],[0.8888888888888888,\"#fdca26\"],[1.0,\"#f0f921\"]],\"type\":\"surface\"}],\"table\":[{\"cells\":{\"fill\":{\"color\":\"#EBF0F8\"},\"line\":{\"color\":\"white\"}},\"header\":{\"fill\":{\"color\":\"#C8D4E3\"},\"line\":{\"color\":\"white\"}},\"type\":\"table\"}]},\"layout\":{\"annotationdefaults\":{\"arrowcolor\":\"#2a3f5f\",\"arrowhead\":0,\"arrowwidth\":1},\"autotypenumbers\":\"strict\",\"coloraxis\":{\"colorbar\":{\"outlinewidth\":0,\"ticks\":\"\"}},\"colorscale\":{\"diverging\":[[0,\"#8e0152\"],[0.1,\"#c51b7d\"],[0.2,\"#de77ae\"],[0.3,\"#f1b6da\"],[0.4,\"#fde0ef\"],[0.5,\"#f7f7f7\"],[0.6,\"#e6f5d0\"],[0.7,\"#b8e186\"],[0.8,\"#7fbc41\"],[0.9,\"#4d9221\"],[1,\"#276419\"]],\"sequential\":[[0.0,\"#0d0887\"],[0.1111111111111111,\"#46039f\"],[0.2222222222222222,\"#7201a8\"],[0.3333333333333333,\"#9c179e\"],[0.4444444444444444,\"#bd3786\"],[0.5555555555555556,\"#d8576b\"],[0.6666666666666666,\"#ed7953\"],[0.7777777777777778,\"#fb9f3a\"],[0.8888888888888888,\"#fdca26\"],[1.0,\"#f0f921\"]],\"sequentialminus\":[[0.0,\"#0d0887\"],[0.1111111111111111,\"#46039f\"],[0.2222222222222222,\"#7201a8\"],[0.3333333333333333,\"#9c179e\"],[0.4444444444444444,\"#bd3786\"],[0.5555555555555556,\"#d8576b\"],[0.6666666666666666,\"#ed7953\"],[0.7777777777777778,\"#fb9f3a\"],[0.8888888888888888,\"#fdca26\"],[1.0,\"#f0f921\"]]},\"colorway\":[\"#636efa\",\"#EF553B\",\"#00cc96\",\"#ab63fa\",\"#FFA15A\",\"#19d3f3\",\"#FF6692\",\"#B6E880\",\"#FF97FF\",\"#FECB52\"],\"font\":{\"color\":\"#2a3f5f\"},\"geo\":{\"bgcolor\":\"white\",\"lakecolor\":\"white\",\"landcolor\":\"#E5ECF6\",\"showlakes\":true,\"showland\":true,\"subunitcolor\":\"white\"},\"hoverlabel\":{\"align\":\"left\"},\"hovermode\":\"closest\",\"mapbox\":{\"style\":\"light\"},\"paper_bgcolor\":\"white\",\"plot_bgcolor\":\"#E5ECF6\",\"polar\":{\"angularaxis\":{\"gridcolor\":\"white\",\"linecolor\":\"white\",\"ticks\":\"\"},\"bgcolor\":\"#E5ECF6\",\"radialaxis\":{\"gridcolor\":\"white\",\"linecolor\":\"white\",\"ticks\":\"\"}},\"scene\":{\"xaxis\":{\"backgroundcolor\":\"#E5ECF6\",\"gridcolor\":\"white\",\"gridwidth\":2,\"linecolor\":\"white\",\"showbackground\":true,\"ticks\":\"\",\"zerolinecolor\":\"white\"},\"yaxis\":{\"backgroundcolor\":\"#E5ECF6\",\"gridcolor\":\"white\",\"gridwidth\":2,\"linecolor\":\"white\",\"showbackground\":true,\"ticks\":\"\",\"zerolinecolor\":\"white\"},\"zaxis\":{\"backgroundcolor\":\"#E5ECF6\",\"gridcolor\":\"white\",\"gridwidth\":2,\"linecolor\":\"white\",\"showbackground\":true,\"ticks\":\"\",\"zerolinecolor\":\"white\"}},\"shapedefaults\":{\"line\":{\"color\":\"#2a3f5f\"}},\"ternary\":{\"aaxis\":{\"gridcolor\":\"white\",\"linecolor\":\"white\",\"ticks\":\"\"},\"baxis\":{\"gridcolor\":\"white\",\"linecolor\":\"white\",\"ticks\":\"\"},\"bgcolor\":\"#E5ECF6\",\"caxis\":{\"gridcolor\":\"white\",\"linecolor\":\"white\",\"ticks\":\"\"}},\"title\":{\"x\":0.05},\"xaxis\":{\"automargin\":true,\"gridcolor\":\"white\",\"linecolor\":\"white\",\"ticks\":\"\",\"title\":{\"standoff\":15},\"zerolinecolor\":\"white\",\"zerolinewidth\":2},\"yaxis\":{\"automargin\":true,\"gridcolor\":\"white\",\"linecolor\":\"white\",\"ticks\":\"\",\"title\":{\"standoff\":15},\"zerolinecolor\":\"white\",\"zerolinewidth\":2}}},\"title\":{\"font\":{\"color\":\"#4D5663\"}},\"xaxis\":{\"gridcolor\":\"#E1E5ED\",\"showgrid\":true,\"tickfont\":{\"color\":\"#4D5663\"},\"title\":{\"font\":{\"color\":\"#4D5663\"},\"text\":\"\"},\"zerolinecolor\":\"#E1E5ED\"},\"yaxis\":{\"gridcolor\":\"#E1E5ED\",\"showgrid\":true,\"tickfont\":{\"color\":\"#4D5663\"},\"title\":{\"font\":{\"color\":\"#4D5663\"},\"text\":\"\"},\"zerolinecolor\":\"#E1E5ED\"}},                        {\"showLink\": true, \"linkText\": \"Export to plot.ly\", \"plotlyServerURL\": \"https://plot.ly\", \"responsive\": true}                    ).then(function(){\n",
       "                            \n",
       "var gd = document.getElementById('992a182d-09aa-46df-bb8d-1ca99eaea75a');\n",
       "var x = new MutationObserver(function (mutations, observer) {{\n",
       "        var display = window.getComputedStyle(gd).display;\n",
       "        if (!display || display === 'none') {{\n",
       "            console.log([gd, 'removed!']);\n",
       "            Plotly.purge(gd);\n",
       "            observer.disconnect();\n",
       "        }}\n",
       "}});\n",
       "\n",
       "// Listen for the removal of the full notebook cells\n",
       "var notebookContainer = gd.closest('#notebook-container');\n",
       "if (notebookContainer) {{\n",
       "    x.observe(notebookContainer, {childList: true});\n",
       "}}\n",
       "\n",
       "// Listen for the clearing of the current output cell\n",
       "var outputEl = gd.closest('.output');\n",
       "if (outputEl) {{\n",
       "    x.observe(outputEl, {childList: true});\n",
       "}}\n",
       "\n",
       "                        })                };                });            </script>        </div>"
      ]
     },
     "metadata": {},
     "output_type": "display_data"
    }
   ],
   "source": [
    "df.iplot(kind='bubble',x='A',y='B',size='C')"
   ]
  },
  {
   "cell_type": "markdown",
   "metadata": {},
   "source": [
    "## scatter_matrix()\n",
    "\n",
    "Similar to sns.pairplot()"
   ]
  },
  {
   "cell_type": "code",
   "execution_count": 24,
   "metadata": {
    "collapsed": false
   },
   "outputs": [
    {
     "data": {
      "application/vnd.plotly.v1+json": {
       "config": {
        "linkText": "Export to plot.ly",
        "plotlyServerURL": "https://plot.ly",
        "showLink": true
       },
       "data": [
        {
         "histfunc": "count",
         "histnorm": "",
         "marker": {
          "color": "rgba(255, 153, 51, 1.0)",
          "line": {
           "color": "#4D5663",
           "width": 1.3
          }
         },
         "name": "A",
         "nbinsx": 10,
         "opacity": 0.8,
         "orientation": "v",
         "type": "histogram",
         "x": [
          1.1808861104858086,
          -1.009315475834072,
          2.1010267597285734,
          -1.2761110614656328,
          2.1355984367483503,
          0.45187550757489103,
          0.35575837216877865,
          -0.33192853903028824,
          0.16555430091279025,
          2.0939392840659474,
          3.3046262093131764,
          0.8016652198144762,
          -0.08064663403209753,
          -0.2894576343328641,
          -0.6353852627420068,
          0.06915412092097081,
          0.972353162345244,
          -0.4226617370851711,
          0.44457415032163833,
          1.9306320625284974,
          0.862768413234945,
          -0.07436503288404975,
          -1.3075425798831994,
          0.07488233835490188,
          -0.5383693570233857,
          -1.150895491288997,
          -0.644601767843179,
          -0.3003701225679646,
          -0.6768652099919864,
          0.21410544574864887,
          0.5950296396184611,
          0.26973044921773104,
          -0.7010536597606614,
          -1.3488991119769904,
          0.5735052483541746,
          0.116911756060154,
          -1.384243153289476,
          -1.5122147482705393,
          -2.0490427795777326,
          -0.47086463185893823,
          -1.7115532738390293,
          -0.41926538769302296,
          0.6342347447608379,
          1.0524544462265217,
          0.27116119274636,
          -0.6327759017672793,
          -0.2381293131326908,
          -1.560007071354141,
          0.3564002971081718,
          -0.7431653691129735,
          0.021248317242468076,
          -0.6171074244097834,
          -0.7287550072634262,
          1.1115975878346898,
          -0.0264973903468035,
          -0.39998035014100297,
          0.17090679907552722,
          0.7704465470894409,
          1.3645508989608082,
          0.2736827452554336,
          0.9458706409895032,
          -2.039392752696324,
          0.05308215087500142,
          -1.4223150595751306,
          -0.32401077448582954,
          -1.4858113454908572,
          -1.3260796336088796,
          1.2980796587223302,
          0.7718502322874692,
          0.4027364328411132,
          -0.12487684581340935,
          -0.3734360479494493,
          -0.004287553825357087,
          -0.6221945153849893,
          0.18712560869775033,
          -0.8542025277225092,
          0.2605274316144155,
          0.8065865657559427,
          0.8892694273074893,
          -0.11438673646857235,
          -0.4124256111912983,
          0.362764158444993,
          0.17788406981146257,
          0.25232389432641744,
          -0.7612788204072456,
          0.5135316958636523,
          1.76093782929227,
          -0.23332353476080336,
          -0.963431849581975,
          0.4370139219460403,
          -1.5530042663990145,
          0.01358618685162266,
          1.1281240398709063,
          -0.41511661847317877,
          0.2844084545138961,
          0.07062579562964151,
          0.77115342742805,
          -1.2748891258557924,
          0.7651414902457511,
          1.5399719990359306
         ],
         "xaxis": "x",
         "yaxis": "y"
        },
        {
         "line": {
          "color": "rgba(128, 128, 128, 1.0)",
          "dash": "solid",
          "shape": "linear",
          "width": 1.3
         },
         "marker": {
          "size": 2,
          "symbol": "circle"
         },
         "mode": "markers",
         "name": "A",
         "text": "",
         "type": "scatter",
         "x": [
          1.8869774144646363,
          -0.15178939659604912,
          0.49273651175711186,
          -1.323250063279204,
          -1.3096082803841553,
          -1.3849349027148277,
          1.156638863289787,
          -0.9517605210106179,
          0.4107021866605751,
          0.03405599860229291,
          2.082439060515147,
          -0.6632141972130775,
          0.5541718312078655,
          0.19367068612461416,
          2.260149093720149,
          -1.2259061103880828,
          -0.7895331423494181,
          0.7662518068681965,
          1.0247551473290297,
          1.6578485874276878,
          0.3833380944296906,
          0.9354852173085542,
          1.201005381289398,
          1.9991827012969507,
          -0.6687087204962803,
          -0.2889780327683993,
          -1.1867862695251132,
          0.21882396000194415,
          1.2349522356979719,
          -2.2700863402085885,
          0.21154465034024256,
          -2.0375384753026133,
          -0.27323895036263013,
          -0.5022346822859977,
          1.3981296300065187,
          -0.7808568466240103,
          0.07384353772811302,
          0.8108562614778606,
          0.26004090339418573,
          -1.537016362845774,
          -0.08338367129457505,
          -0.2142211275967988,
          -0.9378209276170207,
          -0.6815547301708351,
          -0.8552378052823102,
          -0.1484952070387059,
          -1.4145757942280957,
          -0.366902467981607,
          0.9217146167090984,
          1.3107705120296753,
          -0.7798058588406078,
          0.6927152044770846,
          0.27715215900653895,
          -0.6773501227910225,
          -0.39772212572225923,
          -0.9327902138961053,
          -1.5359943716946074,
          0.05265840173276143,
          -0.49077067967105015,
          0.46340928236261036,
          -2.2641201459935885,
          -0.39308652349632045,
          1.072805319475322,
          -0.7246309842420298,
          -1.7363183613206394,
          1.8964187758108288,
          -0.6087390744568856,
          -2.70414795296228,
          -1.65510169490042,
          0.6659266357370712,
          0.21563454907328639,
          0.9058385938958805,
          0.5298879363128568,
          2.2882030650566865,
          -0.3654187398433885,
          -0.8223437056703111,
          -1.1960008750849571,
          0.998214927884022,
          -0.8224011627610441,
          -0.6283770556295083,
          -0.4566048300151653,
          -0.1673684778572825,
          1.2086066242166869,
          1.271826220581654,
          0.8480941150195749,
          0.40288423807506885,
          0.029759689383405466,
          -0.5287908721090397,
          -0.6426181955756219,
          -1.2020398873408829,
          -0.902931701935573,
          0.7725336591758999,
          -1.0785659218318133,
          0.6226481271010155,
          1.731907502841091,
          -0.9405026151070189,
          -0.3371830830297367,
          -0.19216251774875798,
          0.3868122511782008,
          0.37115889539592906
         ],
         "xaxis": "x2",
         "y": [
          1.1808861104858086,
          -1.009315475834072,
          2.1010267597285734,
          -1.2761110614656328,
          2.1355984367483503,
          0.45187550757489103,
          0.35575837216877865,
          -0.33192853903028824,
          0.16555430091279025,
          2.0939392840659474,
          3.3046262093131764,
          0.8016652198144762,
          -0.08064663403209753,
          -0.2894576343328641,
          -0.6353852627420068,
          0.06915412092097081,
          0.972353162345244,
          -0.4226617370851711,
          0.44457415032163833,
          1.9306320625284974,
          0.862768413234945,
          -0.07436503288404975,
          -1.3075425798831994,
          0.07488233835490188,
          -0.5383693570233857,
          -1.150895491288997,
          -0.644601767843179,
          -0.3003701225679646,
          -0.6768652099919864,
          0.21410544574864887,
          0.5950296396184611,
          0.26973044921773104,
          -0.7010536597606614,
          -1.3488991119769904,
          0.5735052483541746,
          0.116911756060154,
          -1.384243153289476,
          -1.5122147482705393,
          -2.0490427795777326,
          -0.47086463185893823,
          -1.7115532738390293,
          -0.41926538769302296,
          0.6342347447608379,
          1.0524544462265217,
          0.27116119274636,
          -0.6327759017672793,
          -0.2381293131326908,
          -1.560007071354141,
          0.3564002971081718,
          -0.7431653691129735,
          0.021248317242468076,
          -0.6171074244097834,
          -0.7287550072634262,
          1.1115975878346898,
          -0.0264973903468035,
          -0.39998035014100297,
          0.17090679907552722,
          0.7704465470894409,
          1.3645508989608082,
          0.2736827452554336,
          0.9458706409895032,
          -2.039392752696324,
          0.05308215087500142,
          -1.4223150595751306,
          -0.32401077448582954,
          -1.4858113454908572,
          -1.3260796336088796,
          1.2980796587223302,
          0.7718502322874692,
          0.4027364328411132,
          -0.12487684581340935,
          -0.3734360479494493,
          -0.004287553825357087,
          -0.6221945153849893,
          0.18712560869775033,
          -0.8542025277225092,
          0.2605274316144155,
          0.8065865657559427,
          0.8892694273074893,
          -0.11438673646857235,
          -0.4124256111912983,
          0.362764158444993,
          0.17788406981146257,
          0.25232389432641744,
          -0.7612788204072456,
          0.5135316958636523,
          1.76093782929227,
          -0.23332353476080336,
          -0.963431849581975,
          0.4370139219460403,
          -1.5530042663990145,
          0.01358618685162266,
          1.1281240398709063,
          -0.41511661847317877,
          0.2844084545138961,
          0.07062579562964151,
          0.77115342742805,
          -1.2748891258557924,
          0.7651414902457511,
          1.5399719990359306
         ],
         "yaxis": "y2"
        },
        {
         "line": {
          "color": "rgba(128, 128, 128, 1.0)",
          "dash": "solid",
          "shape": "linear",
          "width": 1.3
         },
         "marker": {
          "size": 2,
          "symbol": "circle"
         },
         "mode": "markers",
         "name": "A",
         "text": "",
         "type": "scatter",
         "x": [
          0.11188606649864456,
          1.7384324435143512,
          0.7411783758165015,
          -1.134095288548804,
          -0.13978384630778978,
          0.45966943166620244,
          0.26208060757254736,
          -1.5750049328830449,
          -0.6873202542711845,
          1.229722054790922,
          -0.3589095067650245,
          -0.3036513793617774,
          0.030964419656719068,
          0.32952058361271086,
          -0.74180912679076,
          0.4129505422640841,
          0.25136825144020564,
          -0.1892431255482168,
          -0.8385645582584667,
          -0.7244996453511477,
          1.3842433824495262,
          0.8145838377017431,
          1.2057246266423924,
          -0.11377891471384399,
          -1.301995696305911,
          -0.12408305144141546,
          0.7972087763890217,
          -0.3298086170526748,
          -1.7337299706648197,
          1.8775348535262644,
          1.1781034811155568,
          -1.7494345037785481,
          0.2550145380827633,
          -1.025057129671358,
          -0.8307196830358982,
          1.093544626869134,
          -0.5217359278699902,
          -1.0686475237170552,
          0.8346540684791645,
          -0.43526467711297295,
          0.016804925831642222,
          -0.6746869155107326,
          -0.47577923773771547,
          0.6086333158571583,
          0.39569125694490775,
          0.3385377346583987,
          -0.39816391427088854,
          0.9144302212751345,
          -0.49487396712516185,
          -0.7204383730392193,
          -0.25002946200764264,
          -1.2923272733883895,
          0.13452716606098336,
          0.21239343020783746,
          0.40880729368726326,
          -0.6647111367078352,
          -0.573897092303272,
          0.08071802410485815,
          -1.1784561153808597,
          -1.4039073083889357,
          -0.9824550831272723,
          -1.1104512311858905,
          -0.0675388891499401,
          1.5896302972777647,
          -0.9674835668415881,
          2.105269613749711,
          0.19327098942325086,
          -0.6532753378806604,
          0.4925071970006506,
          -0.24483409011284854,
          -0.8062795787140231,
          -0.29748689619101754,
          -0.8692195205472738,
          1.8698985774106767,
          -0.34001311363803577,
          -0.2530795103767499,
          0.5215287563606393,
          0.5531903613871533,
          0.9493002206147947,
          0.5858860866488199,
          1.6645290391869938,
          1.3086798998198044,
          -0.7123947909279804,
          -1.9441280838596608,
          -0.17426003420455827,
          -0.19787798400913428,
          -0.5393386456031131,
          -0.3595785651388336,
          -0.6483160628789227,
          1.5102643471308423,
          0.7295689328149944,
          1.8322379618323328,
          0.2146047463183736,
          2.014848773552964,
          -0.4341850197495636,
          -0.6941338402393462,
          0.4275854395338668,
          0.03522318096973601,
          -0.6904890822679948,
          -0.870310904162906
         ],
         "xaxis": "x3",
         "y": [
          1.1808861104858086,
          -1.009315475834072,
          2.1010267597285734,
          -1.2761110614656328,
          2.1355984367483503,
          0.45187550757489103,
          0.35575837216877865,
          -0.33192853903028824,
          0.16555430091279025,
          2.0939392840659474,
          3.3046262093131764,
          0.8016652198144762,
          -0.08064663403209753,
          -0.2894576343328641,
          -0.6353852627420068,
          0.06915412092097081,
          0.972353162345244,
          -0.4226617370851711,
          0.44457415032163833,
          1.9306320625284974,
          0.862768413234945,
          -0.07436503288404975,
          -1.3075425798831994,
          0.07488233835490188,
          -0.5383693570233857,
          -1.150895491288997,
          -0.644601767843179,
          -0.3003701225679646,
          -0.6768652099919864,
          0.21410544574864887,
          0.5950296396184611,
          0.26973044921773104,
          -0.7010536597606614,
          -1.3488991119769904,
          0.5735052483541746,
          0.116911756060154,
          -1.384243153289476,
          -1.5122147482705393,
          -2.0490427795777326,
          -0.47086463185893823,
          -1.7115532738390293,
          -0.41926538769302296,
          0.6342347447608379,
          1.0524544462265217,
          0.27116119274636,
          -0.6327759017672793,
          -0.2381293131326908,
          -1.560007071354141,
          0.3564002971081718,
          -0.7431653691129735,
          0.021248317242468076,
          -0.6171074244097834,
          -0.7287550072634262,
          1.1115975878346898,
          -0.0264973903468035,
          -0.39998035014100297,
          0.17090679907552722,
          0.7704465470894409,
          1.3645508989608082,
          0.2736827452554336,
          0.9458706409895032,
          -2.039392752696324,
          0.05308215087500142,
          -1.4223150595751306,
          -0.32401077448582954,
          -1.4858113454908572,
          -1.3260796336088796,
          1.2980796587223302,
          0.7718502322874692,
          0.4027364328411132,
          -0.12487684581340935,
          -0.3734360479494493,
          -0.004287553825357087,
          -0.6221945153849893,
          0.18712560869775033,
          -0.8542025277225092,
          0.2605274316144155,
          0.8065865657559427,
          0.8892694273074893,
          -0.11438673646857235,
          -0.4124256111912983,
          0.362764158444993,
          0.17788406981146257,
          0.25232389432641744,
          -0.7612788204072456,
          0.5135316958636523,
          1.76093782929227,
          -0.23332353476080336,
          -0.963431849581975,
          0.4370139219460403,
          -1.5530042663990145,
          0.01358618685162266,
          1.1281240398709063,
          -0.41511661847317877,
          0.2844084545138961,
          0.07062579562964151,
          0.77115342742805,
          -1.2748891258557924,
          0.7651414902457511,
          1.5399719990359306
         ],
         "yaxis": "y3"
        },
        {
         "line": {
          "color": "rgba(128, 128, 128, 1.0)",
          "dash": "solid",
          "shape": "linear",
          "width": 1.3
         },
         "marker": {
          "size": 2,
          "symbol": "circle"
         },
         "mode": "markers",
         "name": "A",
         "text": "",
         "type": "scatter",
         "x": [
          0.1685619554964778,
          -0.7609713134670092,
          -0.1466291331614804,
          -0.17895122979561642,
          0.7103539681639598,
          0.13613499440340865,
          -0.7900812551010931,
          -2.1094858303536745,
          0.8282184367124654,
          -0.1667964143098475,
          0.2329432156428893,
          0.3883465602934885,
          -1.0570794346727133,
          0.6038165115527561,
          0.22446091159813772,
          1.5903436762468897,
          1.1057501702113481,
          -0.0459004078076437,
          -2.6688849913407404,
          -1.6284289534076863,
          -1.4382209345617447,
          -1.1065887166962687,
          -1.0543488375800996,
          -0.9803331317572557,
          -0.1269174708958654,
          -0.014895192809223396,
          1.3861535293001108,
          -0.5965642668884196,
          -0.8200078845696744,
          0.5411127966578304,
          0.009367283932259633,
          0.7811046363388392,
          -0.5757711561487673,
          0.18631716453602434,
          1.31206986719528,
          1.639772636147107,
          0.052072269921768596,
          0.0622396876165819,
          0.8393371720057833,
          0.9376379312812728,
          -0.08537153787936122,
          0.22527849967135527,
          -0.7108608218906617,
          1.0090577578693813,
          0.07871380364730061,
          0.8959713114573067,
          0.4804707958371496,
          1.3076685758953284,
          0.8841176853412923,
          -1.262565894253411,
          -0.6294736082052231,
          -0.25670734117002647,
          1.6679991572837634,
          0.7965976101721943,
          -1.1516641384680215,
          1.587013396990483,
          -0.13937771647758937,
          -1.381540318280786,
          0.9454369560727496,
          -0.030341796327105226,
          0.6317697074786647,
          -0.5542059267250673,
          -0.15011765676895186,
          0.07535310303914053,
          0.813300008357076,
          -0.1481891191612101,
          1.2736588787640575,
          -1.887827003992407,
          1.26173935652071,
          0.9375533288617565,
          0.6678368508309261,
          -0.6233544862394212,
          -0.5664886241981897,
          1.9163796399082142,
          0.596173384002522,
          0.276139877578304,
          -0.4316942967573185,
          0.030156655493353425,
          0.5256703255952115,
          -1.0250935604230056,
          -0.872799244717213,
          0.2918088653854339,
          -0.35071954690697527,
          0.8526336802569473,
          0.8770460259892877,
          1.986194606036595,
          0.3343071442662588,
          -0.5315121792270513,
          -0.5505079792326428,
          0.35284647133767666,
          -1.360312751804368,
          0.9100973405782463,
          0.28661857724025086,
          1.4362653862009387,
          0.6854020354942629,
          1.9451401087928437,
          -0.49015836446964395,
          0.9427821631400048,
          0.31591243519429074,
          -0.1061078372545824
         ],
         "xaxis": "x4",
         "y": [
          1.1808861104858086,
          -1.009315475834072,
          2.1010267597285734,
          -1.2761110614656328,
          2.1355984367483503,
          0.45187550757489103,
          0.35575837216877865,
          -0.33192853903028824,
          0.16555430091279025,
          2.0939392840659474,
          3.3046262093131764,
          0.8016652198144762,
          -0.08064663403209753,
          -0.2894576343328641,
          -0.6353852627420068,
          0.06915412092097081,
          0.972353162345244,
          -0.4226617370851711,
          0.44457415032163833,
          1.9306320625284974,
          0.862768413234945,
          -0.07436503288404975,
          -1.3075425798831994,
          0.07488233835490188,
          -0.5383693570233857,
          -1.150895491288997,
          -0.644601767843179,
          -0.3003701225679646,
          -0.6768652099919864,
          0.21410544574864887,
          0.5950296396184611,
          0.26973044921773104,
          -0.7010536597606614,
          -1.3488991119769904,
          0.5735052483541746,
          0.116911756060154,
          -1.384243153289476,
          -1.5122147482705393,
          -2.0490427795777326,
          -0.47086463185893823,
          -1.7115532738390293,
          -0.41926538769302296,
          0.6342347447608379,
          1.0524544462265217,
          0.27116119274636,
          -0.6327759017672793,
          -0.2381293131326908,
          -1.560007071354141,
          0.3564002971081718,
          -0.7431653691129735,
          0.021248317242468076,
          -0.6171074244097834,
          -0.7287550072634262,
          1.1115975878346898,
          -0.0264973903468035,
          -0.39998035014100297,
          0.17090679907552722,
          0.7704465470894409,
          1.3645508989608082,
          0.2736827452554336,
          0.9458706409895032,
          -2.039392752696324,
          0.05308215087500142,
          -1.4223150595751306,
          -0.32401077448582954,
          -1.4858113454908572,
          -1.3260796336088796,
          1.2980796587223302,
          0.7718502322874692,
          0.4027364328411132,
          -0.12487684581340935,
          -0.3734360479494493,
          -0.004287553825357087,
          -0.6221945153849893,
          0.18712560869775033,
          -0.8542025277225092,
          0.2605274316144155,
          0.8065865657559427,
          0.8892694273074893,
          -0.11438673646857235,
          -0.4124256111912983,
          0.362764158444993,
          0.17788406981146257,
          0.25232389432641744,
          -0.7612788204072456,
          0.5135316958636523,
          1.76093782929227,
          -0.23332353476080336,
          -0.963431849581975,
          0.4370139219460403,
          -1.5530042663990145,
          0.01358618685162266,
          1.1281240398709063,
          -0.41511661847317877,
          0.2844084545138961,
          0.07062579562964151,
          0.77115342742805,
          -1.2748891258557924,
          0.7651414902457511,
          1.5399719990359306
         ],
         "yaxis": "y4"
        },
        {
         "line": {
          "color": "rgba(128, 128, 128, 1.0)",
          "dash": "solid",
          "shape": "linear",
          "width": 1.3
         },
         "marker": {
          "size": 2,
          "symbol": "circle"
         },
         "mode": "markers",
         "name": "B",
         "text": "",
         "type": "scatter",
         "x": [
          1.1808861104858086,
          -1.009315475834072,
          2.1010267597285734,
          -1.2761110614656328,
          2.1355984367483503,
          0.45187550757489103,
          0.35575837216877865,
          -0.33192853903028824,
          0.16555430091279025,
          2.0939392840659474,
          3.3046262093131764,
          0.8016652198144762,
          -0.08064663403209753,
          -0.2894576343328641,
          -0.6353852627420068,
          0.06915412092097081,
          0.972353162345244,
          -0.4226617370851711,
          0.44457415032163833,
          1.9306320625284974,
          0.862768413234945,
          -0.07436503288404975,
          -1.3075425798831994,
          0.07488233835490188,
          -0.5383693570233857,
          -1.150895491288997,
          -0.644601767843179,
          -0.3003701225679646,
          -0.6768652099919864,
          0.21410544574864887,
          0.5950296396184611,
          0.26973044921773104,
          -0.7010536597606614,
          -1.3488991119769904,
          0.5735052483541746,
          0.116911756060154,
          -1.384243153289476,
          -1.5122147482705393,
          -2.0490427795777326,
          -0.47086463185893823,
          -1.7115532738390293,
          -0.41926538769302296,
          0.6342347447608379,
          1.0524544462265217,
          0.27116119274636,
          -0.6327759017672793,
          -0.2381293131326908,
          -1.560007071354141,
          0.3564002971081718,
          -0.7431653691129735,
          0.021248317242468076,
          -0.6171074244097834,
          -0.7287550072634262,
          1.1115975878346898,
          -0.0264973903468035,
          -0.39998035014100297,
          0.17090679907552722,
          0.7704465470894409,
          1.3645508989608082,
          0.2736827452554336,
          0.9458706409895032,
          -2.039392752696324,
          0.05308215087500142,
          -1.4223150595751306,
          -0.32401077448582954,
          -1.4858113454908572,
          -1.3260796336088796,
          1.2980796587223302,
          0.7718502322874692,
          0.4027364328411132,
          -0.12487684581340935,
          -0.3734360479494493,
          -0.004287553825357087,
          -0.6221945153849893,
          0.18712560869775033,
          -0.8542025277225092,
          0.2605274316144155,
          0.8065865657559427,
          0.8892694273074893,
          -0.11438673646857235,
          -0.4124256111912983,
          0.362764158444993,
          0.17788406981146257,
          0.25232389432641744,
          -0.7612788204072456,
          0.5135316958636523,
          1.76093782929227,
          -0.23332353476080336,
          -0.963431849581975,
          0.4370139219460403,
          -1.5530042663990145,
          0.01358618685162266,
          1.1281240398709063,
          -0.41511661847317877,
          0.2844084545138961,
          0.07062579562964151,
          0.77115342742805,
          -1.2748891258557924,
          0.7651414902457511,
          1.5399719990359306
         ],
         "xaxis": "x5",
         "y": [
          1.8869774144646363,
          -0.15178939659604912,
          0.49273651175711186,
          -1.323250063279204,
          -1.3096082803841553,
          -1.3849349027148277,
          1.156638863289787,
          -0.9517605210106179,
          0.4107021866605751,
          0.03405599860229291,
          2.082439060515147,
          -0.6632141972130775,
          0.5541718312078655,
          0.19367068612461416,
          2.260149093720149,
          -1.2259061103880828,
          -0.7895331423494181,
          0.7662518068681965,
          1.0247551473290297,
          1.6578485874276878,
          0.3833380944296906,
          0.9354852173085542,
          1.201005381289398,
          1.9991827012969507,
          -0.6687087204962803,
          -0.2889780327683993,
          -1.1867862695251132,
          0.21882396000194415,
          1.2349522356979719,
          -2.2700863402085885,
          0.21154465034024256,
          -2.0375384753026133,
          -0.27323895036263013,
          -0.5022346822859977,
          1.3981296300065187,
          -0.7808568466240103,
          0.07384353772811302,
          0.8108562614778606,
          0.26004090339418573,
          -1.537016362845774,
          -0.08338367129457505,
          -0.2142211275967988,
          -0.9378209276170207,
          -0.6815547301708351,
          -0.8552378052823102,
          -0.1484952070387059,
          -1.4145757942280957,
          -0.366902467981607,
          0.9217146167090984,
          1.3107705120296753,
          -0.7798058588406078,
          0.6927152044770846,
          0.27715215900653895,
          -0.6773501227910225,
          -0.39772212572225923,
          -0.9327902138961053,
          -1.5359943716946074,
          0.05265840173276143,
          -0.49077067967105015,
          0.46340928236261036,
          -2.2641201459935885,
          -0.39308652349632045,
          1.072805319475322,
          -0.7246309842420298,
          -1.7363183613206394,
          1.8964187758108288,
          -0.6087390744568856,
          -2.70414795296228,
          -1.65510169490042,
          0.6659266357370712,
          0.21563454907328639,
          0.9058385938958805,
          0.5298879363128568,
          2.2882030650566865,
          -0.3654187398433885,
          -0.8223437056703111,
          -1.1960008750849571,
          0.998214927884022,
          -0.8224011627610441,
          -0.6283770556295083,
          -0.4566048300151653,
          -0.1673684778572825,
          1.2086066242166869,
          1.271826220581654,
          0.8480941150195749,
          0.40288423807506885,
          0.029759689383405466,
          -0.5287908721090397,
          -0.6426181955756219,
          -1.2020398873408829,
          -0.902931701935573,
          0.7725336591758999,
          -1.0785659218318133,
          0.6226481271010155,
          1.731907502841091,
          -0.9405026151070189,
          -0.3371830830297367,
          -0.19216251774875798,
          0.3868122511782008,
          0.37115889539592906
         ],
         "yaxis": "y5"
        },
        {
         "histfunc": "count",
         "histnorm": "",
         "marker": {
          "color": "rgba(55, 128, 191, 1.0)",
          "line": {
           "color": "#4D5663",
           "width": 1.3
          }
         },
         "name": "B",
         "nbinsx": 10,
         "opacity": 0.8,
         "orientation": "v",
         "type": "histogram",
         "x": [
          1.8869774144646363,
          -0.15178939659604912,
          0.49273651175711186,
          -1.323250063279204,
          -1.3096082803841553,
          -1.3849349027148277,
          1.156638863289787,
          -0.9517605210106179,
          0.4107021866605751,
          0.03405599860229291,
          2.082439060515147,
          -0.6632141972130775,
          0.5541718312078655,
          0.19367068612461416,
          2.260149093720149,
          -1.2259061103880828,
          -0.7895331423494181,
          0.7662518068681965,
          1.0247551473290297,
          1.6578485874276878,
          0.3833380944296906,
          0.9354852173085542,
          1.201005381289398,
          1.9991827012969507,
          -0.6687087204962803,
          -0.2889780327683993,
          -1.1867862695251132,
          0.21882396000194415,
          1.2349522356979719,
          -2.2700863402085885,
          0.21154465034024256,
          -2.0375384753026133,
          -0.27323895036263013,
          -0.5022346822859977,
          1.3981296300065187,
          -0.7808568466240103,
          0.07384353772811302,
          0.8108562614778606,
          0.26004090339418573,
          -1.537016362845774,
          -0.08338367129457505,
          -0.2142211275967988,
          -0.9378209276170207,
          -0.6815547301708351,
          -0.8552378052823102,
          -0.1484952070387059,
          -1.4145757942280957,
          -0.366902467981607,
          0.9217146167090984,
          1.3107705120296753,
          -0.7798058588406078,
          0.6927152044770846,
          0.27715215900653895,
          -0.6773501227910225,
          -0.39772212572225923,
          -0.9327902138961053,
          -1.5359943716946074,
          0.05265840173276143,
          -0.49077067967105015,
          0.46340928236261036,
          -2.2641201459935885,
          -0.39308652349632045,
          1.072805319475322,
          -0.7246309842420298,
          -1.7363183613206394,
          1.8964187758108288,
          -0.6087390744568856,
          -2.70414795296228,
          -1.65510169490042,
          0.6659266357370712,
          0.21563454907328639,
          0.9058385938958805,
          0.5298879363128568,
          2.2882030650566865,
          -0.3654187398433885,
          -0.8223437056703111,
          -1.1960008750849571,
          0.998214927884022,
          -0.8224011627610441,
          -0.6283770556295083,
          -0.4566048300151653,
          -0.1673684778572825,
          1.2086066242166869,
          1.271826220581654,
          0.8480941150195749,
          0.40288423807506885,
          0.029759689383405466,
          -0.5287908721090397,
          -0.6426181955756219,
          -1.2020398873408829,
          -0.902931701935573,
          0.7725336591758999,
          -1.0785659218318133,
          0.6226481271010155,
          1.731907502841091,
          -0.9405026151070189,
          -0.3371830830297367,
          -0.19216251774875798,
          0.3868122511782008,
          0.37115889539592906
         ],
         "xaxis": "x6",
         "yaxis": "y6"
        },
        {
         "line": {
          "color": "rgba(128, 128, 128, 1.0)",
          "dash": "solid",
          "shape": "linear",
          "width": 1.3
         },
         "marker": {
          "size": 2,
          "symbol": "circle"
         },
         "mode": "markers",
         "name": "B",
         "text": "",
         "type": "scatter",
         "x": [
          0.11188606649864456,
          1.7384324435143512,
          0.7411783758165015,
          -1.134095288548804,
          -0.13978384630778978,
          0.45966943166620244,
          0.26208060757254736,
          -1.5750049328830449,
          -0.6873202542711845,
          1.229722054790922,
          -0.3589095067650245,
          -0.3036513793617774,
          0.030964419656719068,
          0.32952058361271086,
          -0.74180912679076,
          0.4129505422640841,
          0.25136825144020564,
          -0.1892431255482168,
          -0.8385645582584667,
          -0.7244996453511477,
          1.3842433824495262,
          0.8145838377017431,
          1.2057246266423924,
          -0.11377891471384399,
          -1.301995696305911,
          -0.12408305144141546,
          0.7972087763890217,
          -0.3298086170526748,
          -1.7337299706648197,
          1.8775348535262644,
          1.1781034811155568,
          -1.7494345037785481,
          0.2550145380827633,
          -1.025057129671358,
          -0.8307196830358982,
          1.093544626869134,
          -0.5217359278699902,
          -1.0686475237170552,
          0.8346540684791645,
          -0.43526467711297295,
          0.016804925831642222,
          -0.6746869155107326,
          -0.47577923773771547,
          0.6086333158571583,
          0.39569125694490775,
          0.3385377346583987,
          -0.39816391427088854,
          0.9144302212751345,
          -0.49487396712516185,
          -0.7204383730392193,
          -0.25002946200764264,
          -1.2923272733883895,
          0.13452716606098336,
          0.21239343020783746,
          0.40880729368726326,
          -0.6647111367078352,
          -0.573897092303272,
          0.08071802410485815,
          -1.1784561153808597,
          -1.4039073083889357,
          -0.9824550831272723,
          -1.1104512311858905,
          -0.0675388891499401,
          1.5896302972777647,
          -0.9674835668415881,
          2.105269613749711,
          0.19327098942325086,
          -0.6532753378806604,
          0.4925071970006506,
          -0.24483409011284854,
          -0.8062795787140231,
          -0.29748689619101754,
          -0.8692195205472738,
          1.8698985774106767,
          -0.34001311363803577,
          -0.2530795103767499,
          0.5215287563606393,
          0.5531903613871533,
          0.9493002206147947,
          0.5858860866488199,
          1.6645290391869938,
          1.3086798998198044,
          -0.7123947909279804,
          -1.9441280838596608,
          -0.17426003420455827,
          -0.19787798400913428,
          -0.5393386456031131,
          -0.3595785651388336,
          -0.6483160628789227,
          1.5102643471308423,
          0.7295689328149944,
          1.8322379618323328,
          0.2146047463183736,
          2.014848773552964,
          -0.4341850197495636,
          -0.6941338402393462,
          0.4275854395338668,
          0.03522318096973601,
          -0.6904890822679948,
          -0.870310904162906
         ],
         "xaxis": "x7",
         "y": [
          1.8869774144646363,
          -0.15178939659604912,
          0.49273651175711186,
          -1.323250063279204,
          -1.3096082803841553,
          -1.3849349027148277,
          1.156638863289787,
          -0.9517605210106179,
          0.4107021866605751,
          0.03405599860229291,
          2.082439060515147,
          -0.6632141972130775,
          0.5541718312078655,
          0.19367068612461416,
          2.260149093720149,
          -1.2259061103880828,
          -0.7895331423494181,
          0.7662518068681965,
          1.0247551473290297,
          1.6578485874276878,
          0.3833380944296906,
          0.9354852173085542,
          1.201005381289398,
          1.9991827012969507,
          -0.6687087204962803,
          -0.2889780327683993,
          -1.1867862695251132,
          0.21882396000194415,
          1.2349522356979719,
          -2.2700863402085885,
          0.21154465034024256,
          -2.0375384753026133,
          -0.27323895036263013,
          -0.5022346822859977,
          1.3981296300065187,
          -0.7808568466240103,
          0.07384353772811302,
          0.8108562614778606,
          0.26004090339418573,
          -1.537016362845774,
          -0.08338367129457505,
          -0.2142211275967988,
          -0.9378209276170207,
          -0.6815547301708351,
          -0.8552378052823102,
          -0.1484952070387059,
          -1.4145757942280957,
          -0.366902467981607,
          0.9217146167090984,
          1.3107705120296753,
          -0.7798058588406078,
          0.6927152044770846,
          0.27715215900653895,
          -0.6773501227910225,
          -0.39772212572225923,
          -0.9327902138961053,
          -1.5359943716946074,
          0.05265840173276143,
          -0.49077067967105015,
          0.46340928236261036,
          -2.2641201459935885,
          -0.39308652349632045,
          1.072805319475322,
          -0.7246309842420298,
          -1.7363183613206394,
          1.8964187758108288,
          -0.6087390744568856,
          -2.70414795296228,
          -1.65510169490042,
          0.6659266357370712,
          0.21563454907328639,
          0.9058385938958805,
          0.5298879363128568,
          2.2882030650566865,
          -0.3654187398433885,
          -0.8223437056703111,
          -1.1960008750849571,
          0.998214927884022,
          -0.8224011627610441,
          -0.6283770556295083,
          -0.4566048300151653,
          -0.1673684778572825,
          1.2086066242166869,
          1.271826220581654,
          0.8480941150195749,
          0.40288423807506885,
          0.029759689383405466,
          -0.5287908721090397,
          -0.6426181955756219,
          -1.2020398873408829,
          -0.902931701935573,
          0.7725336591758999,
          -1.0785659218318133,
          0.6226481271010155,
          1.731907502841091,
          -0.9405026151070189,
          -0.3371830830297367,
          -0.19216251774875798,
          0.3868122511782008,
          0.37115889539592906
         ],
         "yaxis": "y7"
        },
        {
         "line": {
          "color": "rgba(128, 128, 128, 1.0)",
          "dash": "solid",
          "shape": "linear",
          "width": 1.3
         },
         "marker": {
          "size": 2,
          "symbol": "circle"
         },
         "mode": "markers",
         "name": "B",
         "text": "",
         "type": "scatter",
         "x": [
          0.1685619554964778,
          -0.7609713134670092,
          -0.1466291331614804,
          -0.17895122979561642,
          0.7103539681639598,
          0.13613499440340865,
          -0.7900812551010931,
          -2.1094858303536745,
          0.8282184367124654,
          -0.1667964143098475,
          0.2329432156428893,
          0.3883465602934885,
          -1.0570794346727133,
          0.6038165115527561,
          0.22446091159813772,
          1.5903436762468897,
          1.1057501702113481,
          -0.0459004078076437,
          -2.6688849913407404,
          -1.6284289534076863,
          -1.4382209345617447,
          -1.1065887166962687,
          -1.0543488375800996,
          -0.9803331317572557,
          -0.1269174708958654,
          -0.014895192809223396,
          1.3861535293001108,
          -0.5965642668884196,
          -0.8200078845696744,
          0.5411127966578304,
          0.009367283932259633,
          0.7811046363388392,
          -0.5757711561487673,
          0.18631716453602434,
          1.31206986719528,
          1.639772636147107,
          0.052072269921768596,
          0.0622396876165819,
          0.8393371720057833,
          0.9376379312812728,
          -0.08537153787936122,
          0.22527849967135527,
          -0.7108608218906617,
          1.0090577578693813,
          0.07871380364730061,
          0.8959713114573067,
          0.4804707958371496,
          1.3076685758953284,
          0.8841176853412923,
          -1.262565894253411,
          -0.6294736082052231,
          -0.25670734117002647,
          1.6679991572837634,
          0.7965976101721943,
          -1.1516641384680215,
          1.587013396990483,
          -0.13937771647758937,
          -1.381540318280786,
          0.9454369560727496,
          -0.030341796327105226,
          0.6317697074786647,
          -0.5542059267250673,
          -0.15011765676895186,
          0.07535310303914053,
          0.813300008357076,
          -0.1481891191612101,
          1.2736588787640575,
          -1.887827003992407,
          1.26173935652071,
          0.9375533288617565,
          0.6678368508309261,
          -0.6233544862394212,
          -0.5664886241981897,
          1.9163796399082142,
          0.596173384002522,
          0.276139877578304,
          -0.4316942967573185,
          0.030156655493353425,
          0.5256703255952115,
          -1.0250935604230056,
          -0.872799244717213,
          0.2918088653854339,
          -0.35071954690697527,
          0.8526336802569473,
          0.8770460259892877,
          1.986194606036595,
          0.3343071442662588,
          -0.5315121792270513,
          -0.5505079792326428,
          0.35284647133767666,
          -1.360312751804368,
          0.9100973405782463,
          0.28661857724025086,
          1.4362653862009387,
          0.6854020354942629,
          1.9451401087928437,
          -0.49015836446964395,
          0.9427821631400048,
          0.31591243519429074,
          -0.1061078372545824
         ],
         "xaxis": "x8",
         "y": [
          1.8869774144646363,
          -0.15178939659604912,
          0.49273651175711186,
          -1.323250063279204,
          -1.3096082803841553,
          -1.3849349027148277,
          1.156638863289787,
          -0.9517605210106179,
          0.4107021866605751,
          0.03405599860229291,
          2.082439060515147,
          -0.6632141972130775,
          0.5541718312078655,
          0.19367068612461416,
          2.260149093720149,
          -1.2259061103880828,
          -0.7895331423494181,
          0.7662518068681965,
          1.0247551473290297,
          1.6578485874276878,
          0.3833380944296906,
          0.9354852173085542,
          1.201005381289398,
          1.9991827012969507,
          -0.6687087204962803,
          -0.2889780327683993,
          -1.1867862695251132,
          0.21882396000194415,
          1.2349522356979719,
          -2.2700863402085885,
          0.21154465034024256,
          -2.0375384753026133,
          -0.27323895036263013,
          -0.5022346822859977,
          1.3981296300065187,
          -0.7808568466240103,
          0.07384353772811302,
          0.8108562614778606,
          0.26004090339418573,
          -1.537016362845774,
          -0.08338367129457505,
          -0.2142211275967988,
          -0.9378209276170207,
          -0.6815547301708351,
          -0.8552378052823102,
          -0.1484952070387059,
          -1.4145757942280957,
          -0.366902467981607,
          0.9217146167090984,
          1.3107705120296753,
          -0.7798058588406078,
          0.6927152044770846,
          0.27715215900653895,
          -0.6773501227910225,
          -0.39772212572225923,
          -0.9327902138961053,
          -1.5359943716946074,
          0.05265840173276143,
          -0.49077067967105015,
          0.46340928236261036,
          -2.2641201459935885,
          -0.39308652349632045,
          1.072805319475322,
          -0.7246309842420298,
          -1.7363183613206394,
          1.8964187758108288,
          -0.6087390744568856,
          -2.70414795296228,
          -1.65510169490042,
          0.6659266357370712,
          0.21563454907328639,
          0.9058385938958805,
          0.5298879363128568,
          2.2882030650566865,
          -0.3654187398433885,
          -0.8223437056703111,
          -1.1960008750849571,
          0.998214927884022,
          -0.8224011627610441,
          -0.6283770556295083,
          -0.4566048300151653,
          -0.1673684778572825,
          1.2086066242166869,
          1.271826220581654,
          0.8480941150195749,
          0.40288423807506885,
          0.029759689383405466,
          -0.5287908721090397,
          -0.6426181955756219,
          -1.2020398873408829,
          -0.902931701935573,
          0.7725336591758999,
          -1.0785659218318133,
          0.6226481271010155,
          1.731907502841091,
          -0.9405026151070189,
          -0.3371830830297367,
          -0.19216251774875798,
          0.3868122511782008,
          0.37115889539592906
         ],
         "yaxis": "y8"
        },
        {
         "line": {
          "color": "rgba(128, 128, 128, 1.0)",
          "dash": "solid",
          "shape": "linear",
          "width": 1.3
         },
         "marker": {
          "size": 2,
          "symbol": "circle"
         },
         "mode": "markers",
         "name": "C",
         "text": "",
         "type": "scatter",
         "x": [
          1.1808861104858086,
          -1.009315475834072,
          2.1010267597285734,
          -1.2761110614656328,
          2.1355984367483503,
          0.45187550757489103,
          0.35575837216877865,
          -0.33192853903028824,
          0.16555430091279025,
          2.0939392840659474,
          3.3046262093131764,
          0.8016652198144762,
          -0.08064663403209753,
          -0.2894576343328641,
          -0.6353852627420068,
          0.06915412092097081,
          0.972353162345244,
          -0.4226617370851711,
          0.44457415032163833,
          1.9306320625284974,
          0.862768413234945,
          -0.07436503288404975,
          -1.3075425798831994,
          0.07488233835490188,
          -0.5383693570233857,
          -1.150895491288997,
          -0.644601767843179,
          -0.3003701225679646,
          -0.6768652099919864,
          0.21410544574864887,
          0.5950296396184611,
          0.26973044921773104,
          -0.7010536597606614,
          -1.3488991119769904,
          0.5735052483541746,
          0.116911756060154,
          -1.384243153289476,
          -1.5122147482705393,
          -2.0490427795777326,
          -0.47086463185893823,
          -1.7115532738390293,
          -0.41926538769302296,
          0.6342347447608379,
          1.0524544462265217,
          0.27116119274636,
          -0.6327759017672793,
          -0.2381293131326908,
          -1.560007071354141,
          0.3564002971081718,
          -0.7431653691129735,
          0.021248317242468076,
          -0.6171074244097834,
          -0.7287550072634262,
          1.1115975878346898,
          -0.0264973903468035,
          -0.39998035014100297,
          0.17090679907552722,
          0.7704465470894409,
          1.3645508989608082,
          0.2736827452554336,
          0.9458706409895032,
          -2.039392752696324,
          0.05308215087500142,
          -1.4223150595751306,
          -0.32401077448582954,
          -1.4858113454908572,
          -1.3260796336088796,
          1.2980796587223302,
          0.7718502322874692,
          0.4027364328411132,
          -0.12487684581340935,
          -0.3734360479494493,
          -0.004287553825357087,
          -0.6221945153849893,
          0.18712560869775033,
          -0.8542025277225092,
          0.2605274316144155,
          0.8065865657559427,
          0.8892694273074893,
          -0.11438673646857235,
          -0.4124256111912983,
          0.362764158444993,
          0.17788406981146257,
          0.25232389432641744,
          -0.7612788204072456,
          0.5135316958636523,
          1.76093782929227,
          -0.23332353476080336,
          -0.963431849581975,
          0.4370139219460403,
          -1.5530042663990145,
          0.01358618685162266,
          1.1281240398709063,
          -0.41511661847317877,
          0.2844084545138961,
          0.07062579562964151,
          0.77115342742805,
          -1.2748891258557924,
          0.7651414902457511,
          1.5399719990359306
         ],
         "xaxis": "x9",
         "y": [
          0.11188606649864456,
          1.7384324435143512,
          0.7411783758165015,
          -1.134095288548804,
          -0.13978384630778978,
          0.45966943166620244,
          0.26208060757254736,
          -1.5750049328830449,
          -0.6873202542711845,
          1.229722054790922,
          -0.3589095067650245,
          -0.3036513793617774,
          0.030964419656719068,
          0.32952058361271086,
          -0.74180912679076,
          0.4129505422640841,
          0.25136825144020564,
          -0.1892431255482168,
          -0.8385645582584667,
          -0.7244996453511477,
          1.3842433824495262,
          0.8145838377017431,
          1.2057246266423924,
          -0.11377891471384399,
          -1.301995696305911,
          -0.12408305144141546,
          0.7972087763890217,
          -0.3298086170526748,
          -1.7337299706648197,
          1.8775348535262644,
          1.1781034811155568,
          -1.7494345037785481,
          0.2550145380827633,
          -1.025057129671358,
          -0.8307196830358982,
          1.093544626869134,
          -0.5217359278699902,
          -1.0686475237170552,
          0.8346540684791645,
          -0.43526467711297295,
          0.016804925831642222,
          -0.6746869155107326,
          -0.47577923773771547,
          0.6086333158571583,
          0.39569125694490775,
          0.3385377346583987,
          -0.39816391427088854,
          0.9144302212751345,
          -0.49487396712516185,
          -0.7204383730392193,
          -0.25002946200764264,
          -1.2923272733883895,
          0.13452716606098336,
          0.21239343020783746,
          0.40880729368726326,
          -0.6647111367078352,
          -0.573897092303272,
          0.08071802410485815,
          -1.1784561153808597,
          -1.4039073083889357,
          -0.9824550831272723,
          -1.1104512311858905,
          -0.0675388891499401,
          1.5896302972777647,
          -0.9674835668415881,
          2.105269613749711,
          0.19327098942325086,
          -0.6532753378806604,
          0.4925071970006506,
          -0.24483409011284854,
          -0.8062795787140231,
          -0.29748689619101754,
          -0.8692195205472738,
          1.8698985774106767,
          -0.34001311363803577,
          -0.2530795103767499,
          0.5215287563606393,
          0.5531903613871533,
          0.9493002206147947,
          0.5858860866488199,
          1.6645290391869938,
          1.3086798998198044,
          -0.7123947909279804,
          -1.9441280838596608,
          -0.17426003420455827,
          -0.19787798400913428,
          -0.5393386456031131,
          -0.3595785651388336,
          -0.6483160628789227,
          1.5102643471308423,
          0.7295689328149944,
          1.8322379618323328,
          0.2146047463183736,
          2.014848773552964,
          -0.4341850197495636,
          -0.6941338402393462,
          0.4275854395338668,
          0.03522318096973601,
          -0.6904890822679948,
          -0.870310904162906
         ],
         "yaxis": "y9"
        },
        {
         "line": {
          "color": "rgba(128, 128, 128, 1.0)",
          "dash": "solid",
          "shape": "linear",
          "width": 1.3
         },
         "marker": {
          "size": 2,
          "symbol": "circle"
         },
         "mode": "markers",
         "name": "C",
         "text": "",
         "type": "scatter",
         "x": [
          1.8869774144646363,
          -0.15178939659604912,
          0.49273651175711186,
          -1.323250063279204,
          -1.3096082803841553,
          -1.3849349027148277,
          1.156638863289787,
          -0.9517605210106179,
          0.4107021866605751,
          0.03405599860229291,
          2.082439060515147,
          -0.6632141972130775,
          0.5541718312078655,
          0.19367068612461416,
          2.260149093720149,
          -1.2259061103880828,
          -0.7895331423494181,
          0.7662518068681965,
          1.0247551473290297,
          1.6578485874276878,
          0.3833380944296906,
          0.9354852173085542,
          1.201005381289398,
          1.9991827012969507,
          -0.6687087204962803,
          -0.2889780327683993,
          -1.1867862695251132,
          0.21882396000194415,
          1.2349522356979719,
          -2.2700863402085885,
          0.21154465034024256,
          -2.0375384753026133,
          -0.27323895036263013,
          -0.5022346822859977,
          1.3981296300065187,
          -0.7808568466240103,
          0.07384353772811302,
          0.8108562614778606,
          0.26004090339418573,
          -1.537016362845774,
          -0.08338367129457505,
          -0.2142211275967988,
          -0.9378209276170207,
          -0.6815547301708351,
          -0.8552378052823102,
          -0.1484952070387059,
          -1.4145757942280957,
          -0.366902467981607,
          0.9217146167090984,
          1.3107705120296753,
          -0.7798058588406078,
          0.6927152044770846,
          0.27715215900653895,
          -0.6773501227910225,
          -0.39772212572225923,
          -0.9327902138961053,
          -1.5359943716946074,
          0.05265840173276143,
          -0.49077067967105015,
          0.46340928236261036,
          -2.2641201459935885,
          -0.39308652349632045,
          1.072805319475322,
          -0.7246309842420298,
          -1.7363183613206394,
          1.8964187758108288,
          -0.6087390744568856,
          -2.70414795296228,
          -1.65510169490042,
          0.6659266357370712,
          0.21563454907328639,
          0.9058385938958805,
          0.5298879363128568,
          2.2882030650566865,
          -0.3654187398433885,
          -0.8223437056703111,
          -1.1960008750849571,
          0.998214927884022,
          -0.8224011627610441,
          -0.6283770556295083,
          -0.4566048300151653,
          -0.1673684778572825,
          1.2086066242166869,
          1.271826220581654,
          0.8480941150195749,
          0.40288423807506885,
          0.029759689383405466,
          -0.5287908721090397,
          -0.6426181955756219,
          -1.2020398873408829,
          -0.902931701935573,
          0.7725336591758999,
          -1.0785659218318133,
          0.6226481271010155,
          1.731907502841091,
          -0.9405026151070189,
          -0.3371830830297367,
          -0.19216251774875798,
          0.3868122511782008,
          0.37115889539592906
         ],
         "xaxis": "x10",
         "y": [
          0.11188606649864456,
          1.7384324435143512,
          0.7411783758165015,
          -1.134095288548804,
          -0.13978384630778978,
          0.45966943166620244,
          0.26208060757254736,
          -1.5750049328830449,
          -0.6873202542711845,
          1.229722054790922,
          -0.3589095067650245,
          -0.3036513793617774,
          0.030964419656719068,
          0.32952058361271086,
          -0.74180912679076,
          0.4129505422640841,
          0.25136825144020564,
          -0.1892431255482168,
          -0.8385645582584667,
          -0.7244996453511477,
          1.3842433824495262,
          0.8145838377017431,
          1.2057246266423924,
          -0.11377891471384399,
          -1.301995696305911,
          -0.12408305144141546,
          0.7972087763890217,
          -0.3298086170526748,
          -1.7337299706648197,
          1.8775348535262644,
          1.1781034811155568,
          -1.7494345037785481,
          0.2550145380827633,
          -1.025057129671358,
          -0.8307196830358982,
          1.093544626869134,
          -0.5217359278699902,
          -1.0686475237170552,
          0.8346540684791645,
          -0.43526467711297295,
          0.016804925831642222,
          -0.6746869155107326,
          -0.47577923773771547,
          0.6086333158571583,
          0.39569125694490775,
          0.3385377346583987,
          -0.39816391427088854,
          0.9144302212751345,
          -0.49487396712516185,
          -0.7204383730392193,
          -0.25002946200764264,
          -1.2923272733883895,
          0.13452716606098336,
          0.21239343020783746,
          0.40880729368726326,
          -0.6647111367078352,
          -0.573897092303272,
          0.08071802410485815,
          -1.1784561153808597,
          -1.4039073083889357,
          -0.9824550831272723,
          -1.1104512311858905,
          -0.0675388891499401,
          1.5896302972777647,
          -0.9674835668415881,
          2.105269613749711,
          0.19327098942325086,
          -0.6532753378806604,
          0.4925071970006506,
          -0.24483409011284854,
          -0.8062795787140231,
          -0.29748689619101754,
          -0.8692195205472738,
          1.8698985774106767,
          -0.34001311363803577,
          -0.2530795103767499,
          0.5215287563606393,
          0.5531903613871533,
          0.9493002206147947,
          0.5858860866488199,
          1.6645290391869938,
          1.3086798998198044,
          -0.7123947909279804,
          -1.9441280838596608,
          -0.17426003420455827,
          -0.19787798400913428,
          -0.5393386456031131,
          -0.3595785651388336,
          -0.6483160628789227,
          1.5102643471308423,
          0.7295689328149944,
          1.8322379618323328,
          0.2146047463183736,
          2.014848773552964,
          -0.4341850197495636,
          -0.6941338402393462,
          0.4275854395338668,
          0.03522318096973601,
          -0.6904890822679948,
          -0.870310904162906
         ],
         "yaxis": "y10"
        },
        {
         "histfunc": "count",
         "histnorm": "",
         "marker": {
          "color": "rgba(50, 171, 96, 1.0)",
          "line": {
           "color": "#4D5663",
           "width": 1.3
          }
         },
         "name": "C",
         "nbinsx": 10,
         "opacity": 0.8,
         "orientation": "v",
         "type": "histogram",
         "x": [
          0.11188606649864456,
          1.7384324435143512,
          0.7411783758165015,
          -1.134095288548804,
          -0.13978384630778978,
          0.45966943166620244,
          0.26208060757254736,
          -1.5750049328830449,
          -0.6873202542711845,
          1.229722054790922,
          -0.3589095067650245,
          -0.3036513793617774,
          0.030964419656719068,
          0.32952058361271086,
          -0.74180912679076,
          0.4129505422640841,
          0.25136825144020564,
          -0.1892431255482168,
          -0.8385645582584667,
          -0.7244996453511477,
          1.3842433824495262,
          0.8145838377017431,
          1.2057246266423924,
          -0.11377891471384399,
          -1.301995696305911,
          -0.12408305144141546,
          0.7972087763890217,
          -0.3298086170526748,
          -1.7337299706648197,
          1.8775348535262644,
          1.1781034811155568,
          -1.7494345037785481,
          0.2550145380827633,
          -1.025057129671358,
          -0.8307196830358982,
          1.093544626869134,
          -0.5217359278699902,
          -1.0686475237170552,
          0.8346540684791645,
          -0.43526467711297295,
          0.016804925831642222,
          -0.6746869155107326,
          -0.47577923773771547,
          0.6086333158571583,
          0.39569125694490775,
          0.3385377346583987,
          -0.39816391427088854,
          0.9144302212751345,
          -0.49487396712516185,
          -0.7204383730392193,
          -0.25002946200764264,
          -1.2923272733883895,
          0.13452716606098336,
          0.21239343020783746,
          0.40880729368726326,
          -0.6647111367078352,
          -0.573897092303272,
          0.08071802410485815,
          -1.1784561153808597,
          -1.4039073083889357,
          -0.9824550831272723,
          -1.1104512311858905,
          -0.0675388891499401,
          1.5896302972777647,
          -0.9674835668415881,
          2.105269613749711,
          0.19327098942325086,
          -0.6532753378806604,
          0.4925071970006506,
          -0.24483409011284854,
          -0.8062795787140231,
          -0.29748689619101754,
          -0.8692195205472738,
          1.8698985774106767,
          -0.34001311363803577,
          -0.2530795103767499,
          0.5215287563606393,
          0.5531903613871533,
          0.9493002206147947,
          0.5858860866488199,
          1.6645290391869938,
          1.3086798998198044,
          -0.7123947909279804,
          -1.9441280838596608,
          -0.17426003420455827,
          -0.19787798400913428,
          -0.5393386456031131,
          -0.3595785651388336,
          -0.6483160628789227,
          1.5102643471308423,
          0.7295689328149944,
          1.8322379618323328,
          0.2146047463183736,
          2.014848773552964,
          -0.4341850197495636,
          -0.6941338402393462,
          0.4275854395338668,
          0.03522318096973601,
          -0.6904890822679948,
          -0.870310904162906
         ],
         "xaxis": "x11",
         "yaxis": "y11"
        },
        {
         "line": {
          "color": "rgba(128, 128, 128, 1.0)",
          "dash": "solid",
          "shape": "linear",
          "width": 1.3
         },
         "marker": {
          "size": 2,
          "symbol": "circle"
         },
         "mode": "markers",
         "name": "C",
         "text": "",
         "type": "scatter",
         "x": [
          0.1685619554964778,
          -0.7609713134670092,
          -0.1466291331614804,
          -0.17895122979561642,
          0.7103539681639598,
          0.13613499440340865,
          -0.7900812551010931,
          -2.1094858303536745,
          0.8282184367124654,
          -0.1667964143098475,
          0.2329432156428893,
          0.3883465602934885,
          -1.0570794346727133,
          0.6038165115527561,
          0.22446091159813772,
          1.5903436762468897,
          1.1057501702113481,
          -0.0459004078076437,
          -2.6688849913407404,
          -1.6284289534076863,
          -1.4382209345617447,
          -1.1065887166962687,
          -1.0543488375800996,
          -0.9803331317572557,
          -0.1269174708958654,
          -0.014895192809223396,
          1.3861535293001108,
          -0.5965642668884196,
          -0.8200078845696744,
          0.5411127966578304,
          0.009367283932259633,
          0.7811046363388392,
          -0.5757711561487673,
          0.18631716453602434,
          1.31206986719528,
          1.639772636147107,
          0.052072269921768596,
          0.0622396876165819,
          0.8393371720057833,
          0.9376379312812728,
          -0.08537153787936122,
          0.22527849967135527,
          -0.7108608218906617,
          1.0090577578693813,
          0.07871380364730061,
          0.8959713114573067,
          0.4804707958371496,
          1.3076685758953284,
          0.8841176853412923,
          -1.262565894253411,
          -0.6294736082052231,
          -0.25670734117002647,
          1.6679991572837634,
          0.7965976101721943,
          -1.1516641384680215,
          1.587013396990483,
          -0.13937771647758937,
          -1.381540318280786,
          0.9454369560727496,
          -0.030341796327105226,
          0.6317697074786647,
          -0.5542059267250673,
          -0.15011765676895186,
          0.07535310303914053,
          0.813300008357076,
          -0.1481891191612101,
          1.2736588787640575,
          -1.887827003992407,
          1.26173935652071,
          0.9375533288617565,
          0.6678368508309261,
          -0.6233544862394212,
          -0.5664886241981897,
          1.9163796399082142,
          0.596173384002522,
          0.276139877578304,
          -0.4316942967573185,
          0.030156655493353425,
          0.5256703255952115,
          -1.0250935604230056,
          -0.872799244717213,
          0.2918088653854339,
          -0.35071954690697527,
          0.8526336802569473,
          0.8770460259892877,
          1.986194606036595,
          0.3343071442662588,
          -0.5315121792270513,
          -0.5505079792326428,
          0.35284647133767666,
          -1.360312751804368,
          0.9100973405782463,
          0.28661857724025086,
          1.4362653862009387,
          0.6854020354942629,
          1.9451401087928437,
          -0.49015836446964395,
          0.9427821631400048,
          0.31591243519429074,
          -0.1061078372545824
         ],
         "xaxis": "x12",
         "y": [
          0.11188606649864456,
          1.7384324435143512,
          0.7411783758165015,
          -1.134095288548804,
          -0.13978384630778978,
          0.45966943166620244,
          0.26208060757254736,
          -1.5750049328830449,
          -0.6873202542711845,
          1.229722054790922,
          -0.3589095067650245,
          -0.3036513793617774,
          0.030964419656719068,
          0.32952058361271086,
          -0.74180912679076,
          0.4129505422640841,
          0.25136825144020564,
          -0.1892431255482168,
          -0.8385645582584667,
          -0.7244996453511477,
          1.3842433824495262,
          0.8145838377017431,
          1.2057246266423924,
          -0.11377891471384399,
          -1.301995696305911,
          -0.12408305144141546,
          0.7972087763890217,
          -0.3298086170526748,
          -1.7337299706648197,
          1.8775348535262644,
          1.1781034811155568,
          -1.7494345037785481,
          0.2550145380827633,
          -1.025057129671358,
          -0.8307196830358982,
          1.093544626869134,
          -0.5217359278699902,
          -1.0686475237170552,
          0.8346540684791645,
          -0.43526467711297295,
          0.016804925831642222,
          -0.6746869155107326,
          -0.47577923773771547,
          0.6086333158571583,
          0.39569125694490775,
          0.3385377346583987,
          -0.39816391427088854,
          0.9144302212751345,
          -0.49487396712516185,
          -0.7204383730392193,
          -0.25002946200764264,
          -1.2923272733883895,
          0.13452716606098336,
          0.21239343020783746,
          0.40880729368726326,
          -0.6647111367078352,
          -0.573897092303272,
          0.08071802410485815,
          -1.1784561153808597,
          -1.4039073083889357,
          -0.9824550831272723,
          -1.1104512311858905,
          -0.0675388891499401,
          1.5896302972777647,
          -0.9674835668415881,
          2.105269613749711,
          0.19327098942325086,
          -0.6532753378806604,
          0.4925071970006506,
          -0.24483409011284854,
          -0.8062795787140231,
          -0.29748689619101754,
          -0.8692195205472738,
          1.8698985774106767,
          -0.34001311363803577,
          -0.2530795103767499,
          0.5215287563606393,
          0.5531903613871533,
          0.9493002206147947,
          0.5858860866488199,
          1.6645290391869938,
          1.3086798998198044,
          -0.7123947909279804,
          -1.9441280838596608,
          -0.17426003420455827,
          -0.19787798400913428,
          -0.5393386456031131,
          -0.3595785651388336,
          -0.6483160628789227,
          1.5102643471308423,
          0.7295689328149944,
          1.8322379618323328,
          0.2146047463183736,
          2.014848773552964,
          -0.4341850197495636,
          -0.6941338402393462,
          0.4275854395338668,
          0.03522318096973601,
          -0.6904890822679948,
          -0.870310904162906
         ],
         "yaxis": "y12"
        },
        {
         "line": {
          "color": "rgba(128, 128, 128, 1.0)",
          "dash": "solid",
          "shape": "linear",
          "width": 1.3
         },
         "marker": {
          "size": 2,
          "symbol": "circle"
         },
         "mode": "markers",
         "name": "D",
         "text": "",
         "type": "scatter",
         "x": [
          1.1808861104858086,
          -1.009315475834072,
          2.1010267597285734,
          -1.2761110614656328,
          2.1355984367483503,
          0.45187550757489103,
          0.35575837216877865,
          -0.33192853903028824,
          0.16555430091279025,
          2.0939392840659474,
          3.3046262093131764,
          0.8016652198144762,
          -0.08064663403209753,
          -0.2894576343328641,
          -0.6353852627420068,
          0.06915412092097081,
          0.972353162345244,
          -0.4226617370851711,
          0.44457415032163833,
          1.9306320625284974,
          0.862768413234945,
          -0.07436503288404975,
          -1.3075425798831994,
          0.07488233835490188,
          -0.5383693570233857,
          -1.150895491288997,
          -0.644601767843179,
          -0.3003701225679646,
          -0.6768652099919864,
          0.21410544574864887,
          0.5950296396184611,
          0.26973044921773104,
          -0.7010536597606614,
          -1.3488991119769904,
          0.5735052483541746,
          0.116911756060154,
          -1.384243153289476,
          -1.5122147482705393,
          -2.0490427795777326,
          -0.47086463185893823,
          -1.7115532738390293,
          -0.41926538769302296,
          0.6342347447608379,
          1.0524544462265217,
          0.27116119274636,
          -0.6327759017672793,
          -0.2381293131326908,
          -1.560007071354141,
          0.3564002971081718,
          -0.7431653691129735,
          0.021248317242468076,
          -0.6171074244097834,
          -0.7287550072634262,
          1.1115975878346898,
          -0.0264973903468035,
          -0.39998035014100297,
          0.17090679907552722,
          0.7704465470894409,
          1.3645508989608082,
          0.2736827452554336,
          0.9458706409895032,
          -2.039392752696324,
          0.05308215087500142,
          -1.4223150595751306,
          -0.32401077448582954,
          -1.4858113454908572,
          -1.3260796336088796,
          1.2980796587223302,
          0.7718502322874692,
          0.4027364328411132,
          -0.12487684581340935,
          -0.3734360479494493,
          -0.004287553825357087,
          -0.6221945153849893,
          0.18712560869775033,
          -0.8542025277225092,
          0.2605274316144155,
          0.8065865657559427,
          0.8892694273074893,
          -0.11438673646857235,
          -0.4124256111912983,
          0.362764158444993,
          0.17788406981146257,
          0.25232389432641744,
          -0.7612788204072456,
          0.5135316958636523,
          1.76093782929227,
          -0.23332353476080336,
          -0.963431849581975,
          0.4370139219460403,
          -1.5530042663990145,
          0.01358618685162266,
          1.1281240398709063,
          -0.41511661847317877,
          0.2844084545138961,
          0.07062579562964151,
          0.77115342742805,
          -1.2748891258557924,
          0.7651414902457511,
          1.5399719990359306
         ],
         "xaxis": "x13",
         "y": [
          0.1685619554964778,
          -0.7609713134670092,
          -0.1466291331614804,
          -0.17895122979561642,
          0.7103539681639598,
          0.13613499440340865,
          -0.7900812551010931,
          -2.1094858303536745,
          0.8282184367124654,
          -0.1667964143098475,
          0.2329432156428893,
          0.3883465602934885,
          -1.0570794346727133,
          0.6038165115527561,
          0.22446091159813772,
          1.5903436762468897,
          1.1057501702113481,
          -0.0459004078076437,
          -2.6688849913407404,
          -1.6284289534076863,
          -1.4382209345617447,
          -1.1065887166962687,
          -1.0543488375800996,
          -0.9803331317572557,
          -0.1269174708958654,
          -0.014895192809223396,
          1.3861535293001108,
          -0.5965642668884196,
          -0.8200078845696744,
          0.5411127966578304,
          0.009367283932259633,
          0.7811046363388392,
          -0.5757711561487673,
          0.18631716453602434,
          1.31206986719528,
          1.639772636147107,
          0.052072269921768596,
          0.0622396876165819,
          0.8393371720057833,
          0.9376379312812728,
          -0.08537153787936122,
          0.22527849967135527,
          -0.7108608218906617,
          1.0090577578693813,
          0.07871380364730061,
          0.8959713114573067,
          0.4804707958371496,
          1.3076685758953284,
          0.8841176853412923,
          -1.262565894253411,
          -0.6294736082052231,
          -0.25670734117002647,
          1.6679991572837634,
          0.7965976101721943,
          -1.1516641384680215,
          1.587013396990483,
          -0.13937771647758937,
          -1.381540318280786,
          0.9454369560727496,
          -0.030341796327105226,
          0.6317697074786647,
          -0.5542059267250673,
          -0.15011765676895186,
          0.07535310303914053,
          0.813300008357076,
          -0.1481891191612101,
          1.2736588787640575,
          -1.887827003992407,
          1.26173935652071,
          0.9375533288617565,
          0.6678368508309261,
          -0.6233544862394212,
          -0.5664886241981897,
          1.9163796399082142,
          0.596173384002522,
          0.276139877578304,
          -0.4316942967573185,
          0.030156655493353425,
          0.5256703255952115,
          -1.0250935604230056,
          -0.872799244717213,
          0.2918088653854339,
          -0.35071954690697527,
          0.8526336802569473,
          0.8770460259892877,
          1.986194606036595,
          0.3343071442662588,
          -0.5315121792270513,
          -0.5505079792326428,
          0.35284647133767666,
          -1.360312751804368,
          0.9100973405782463,
          0.28661857724025086,
          1.4362653862009387,
          0.6854020354942629,
          1.9451401087928437,
          -0.49015836446964395,
          0.9427821631400048,
          0.31591243519429074,
          -0.1061078372545824
         ],
         "yaxis": "y13"
        },
        {
         "line": {
          "color": "rgba(128, 128, 128, 1.0)",
          "dash": "solid",
          "shape": "linear",
          "width": 1.3
         },
         "marker": {
          "size": 2,
          "symbol": "circle"
         },
         "mode": "markers",
         "name": "D",
         "text": "",
         "type": "scatter",
         "x": [
          1.8869774144646363,
          -0.15178939659604912,
          0.49273651175711186,
          -1.323250063279204,
          -1.3096082803841553,
          -1.3849349027148277,
          1.156638863289787,
          -0.9517605210106179,
          0.4107021866605751,
          0.03405599860229291,
          2.082439060515147,
          -0.6632141972130775,
          0.5541718312078655,
          0.19367068612461416,
          2.260149093720149,
          -1.2259061103880828,
          -0.7895331423494181,
          0.7662518068681965,
          1.0247551473290297,
          1.6578485874276878,
          0.3833380944296906,
          0.9354852173085542,
          1.201005381289398,
          1.9991827012969507,
          -0.6687087204962803,
          -0.2889780327683993,
          -1.1867862695251132,
          0.21882396000194415,
          1.2349522356979719,
          -2.2700863402085885,
          0.21154465034024256,
          -2.0375384753026133,
          -0.27323895036263013,
          -0.5022346822859977,
          1.3981296300065187,
          -0.7808568466240103,
          0.07384353772811302,
          0.8108562614778606,
          0.26004090339418573,
          -1.537016362845774,
          -0.08338367129457505,
          -0.2142211275967988,
          -0.9378209276170207,
          -0.6815547301708351,
          -0.8552378052823102,
          -0.1484952070387059,
          -1.4145757942280957,
          -0.366902467981607,
          0.9217146167090984,
          1.3107705120296753,
          -0.7798058588406078,
          0.6927152044770846,
          0.27715215900653895,
          -0.6773501227910225,
          -0.39772212572225923,
          -0.9327902138961053,
          -1.5359943716946074,
          0.05265840173276143,
          -0.49077067967105015,
          0.46340928236261036,
          -2.2641201459935885,
          -0.39308652349632045,
          1.072805319475322,
          -0.7246309842420298,
          -1.7363183613206394,
          1.8964187758108288,
          -0.6087390744568856,
          -2.70414795296228,
          -1.65510169490042,
          0.6659266357370712,
          0.21563454907328639,
          0.9058385938958805,
          0.5298879363128568,
          2.2882030650566865,
          -0.3654187398433885,
          -0.8223437056703111,
          -1.1960008750849571,
          0.998214927884022,
          -0.8224011627610441,
          -0.6283770556295083,
          -0.4566048300151653,
          -0.1673684778572825,
          1.2086066242166869,
          1.271826220581654,
          0.8480941150195749,
          0.40288423807506885,
          0.029759689383405466,
          -0.5287908721090397,
          -0.6426181955756219,
          -1.2020398873408829,
          -0.902931701935573,
          0.7725336591758999,
          -1.0785659218318133,
          0.6226481271010155,
          1.731907502841091,
          -0.9405026151070189,
          -0.3371830830297367,
          -0.19216251774875798,
          0.3868122511782008,
          0.37115889539592906
         ],
         "xaxis": "x14",
         "y": [
          0.1685619554964778,
          -0.7609713134670092,
          -0.1466291331614804,
          -0.17895122979561642,
          0.7103539681639598,
          0.13613499440340865,
          -0.7900812551010931,
          -2.1094858303536745,
          0.8282184367124654,
          -0.1667964143098475,
          0.2329432156428893,
          0.3883465602934885,
          -1.0570794346727133,
          0.6038165115527561,
          0.22446091159813772,
          1.5903436762468897,
          1.1057501702113481,
          -0.0459004078076437,
          -2.6688849913407404,
          -1.6284289534076863,
          -1.4382209345617447,
          -1.1065887166962687,
          -1.0543488375800996,
          -0.9803331317572557,
          -0.1269174708958654,
          -0.014895192809223396,
          1.3861535293001108,
          -0.5965642668884196,
          -0.8200078845696744,
          0.5411127966578304,
          0.009367283932259633,
          0.7811046363388392,
          -0.5757711561487673,
          0.18631716453602434,
          1.31206986719528,
          1.639772636147107,
          0.052072269921768596,
          0.0622396876165819,
          0.8393371720057833,
          0.9376379312812728,
          -0.08537153787936122,
          0.22527849967135527,
          -0.7108608218906617,
          1.0090577578693813,
          0.07871380364730061,
          0.8959713114573067,
          0.4804707958371496,
          1.3076685758953284,
          0.8841176853412923,
          -1.262565894253411,
          -0.6294736082052231,
          -0.25670734117002647,
          1.6679991572837634,
          0.7965976101721943,
          -1.1516641384680215,
          1.587013396990483,
          -0.13937771647758937,
          -1.381540318280786,
          0.9454369560727496,
          -0.030341796327105226,
          0.6317697074786647,
          -0.5542059267250673,
          -0.15011765676895186,
          0.07535310303914053,
          0.813300008357076,
          -0.1481891191612101,
          1.2736588787640575,
          -1.887827003992407,
          1.26173935652071,
          0.9375533288617565,
          0.6678368508309261,
          -0.6233544862394212,
          -0.5664886241981897,
          1.9163796399082142,
          0.596173384002522,
          0.276139877578304,
          -0.4316942967573185,
          0.030156655493353425,
          0.5256703255952115,
          -1.0250935604230056,
          -0.872799244717213,
          0.2918088653854339,
          -0.35071954690697527,
          0.8526336802569473,
          0.8770460259892877,
          1.986194606036595,
          0.3343071442662588,
          -0.5315121792270513,
          -0.5505079792326428,
          0.35284647133767666,
          -1.360312751804368,
          0.9100973405782463,
          0.28661857724025086,
          1.4362653862009387,
          0.6854020354942629,
          1.9451401087928437,
          -0.49015836446964395,
          0.9427821631400048,
          0.31591243519429074,
          -0.1061078372545824
         ],
         "yaxis": "y14"
        },
        {
         "line": {
          "color": "rgba(128, 128, 128, 1.0)",
          "dash": "solid",
          "shape": "linear",
          "width": 1.3
         },
         "marker": {
          "size": 2,
          "symbol": "circle"
         },
         "mode": "markers",
         "name": "D",
         "text": "",
         "type": "scatter",
         "x": [
          0.11188606649864456,
          1.7384324435143512,
          0.7411783758165015,
          -1.134095288548804,
          -0.13978384630778978,
          0.45966943166620244,
          0.26208060757254736,
          -1.5750049328830449,
          -0.6873202542711845,
          1.229722054790922,
          -0.3589095067650245,
          -0.3036513793617774,
          0.030964419656719068,
          0.32952058361271086,
          -0.74180912679076,
          0.4129505422640841,
          0.25136825144020564,
          -0.1892431255482168,
          -0.8385645582584667,
          -0.7244996453511477,
          1.3842433824495262,
          0.8145838377017431,
          1.2057246266423924,
          -0.11377891471384399,
          -1.301995696305911,
          -0.12408305144141546,
          0.7972087763890217,
          -0.3298086170526748,
          -1.7337299706648197,
          1.8775348535262644,
          1.1781034811155568,
          -1.7494345037785481,
          0.2550145380827633,
          -1.025057129671358,
          -0.8307196830358982,
          1.093544626869134,
          -0.5217359278699902,
          -1.0686475237170552,
          0.8346540684791645,
          -0.43526467711297295,
          0.016804925831642222,
          -0.6746869155107326,
          -0.47577923773771547,
          0.6086333158571583,
          0.39569125694490775,
          0.3385377346583987,
          -0.39816391427088854,
          0.9144302212751345,
          -0.49487396712516185,
          -0.7204383730392193,
          -0.25002946200764264,
          -1.2923272733883895,
          0.13452716606098336,
          0.21239343020783746,
          0.40880729368726326,
          -0.6647111367078352,
          -0.573897092303272,
          0.08071802410485815,
          -1.1784561153808597,
          -1.4039073083889357,
          -0.9824550831272723,
          -1.1104512311858905,
          -0.0675388891499401,
          1.5896302972777647,
          -0.9674835668415881,
          2.105269613749711,
          0.19327098942325086,
          -0.6532753378806604,
          0.4925071970006506,
          -0.24483409011284854,
          -0.8062795787140231,
          -0.29748689619101754,
          -0.8692195205472738,
          1.8698985774106767,
          -0.34001311363803577,
          -0.2530795103767499,
          0.5215287563606393,
          0.5531903613871533,
          0.9493002206147947,
          0.5858860866488199,
          1.6645290391869938,
          1.3086798998198044,
          -0.7123947909279804,
          -1.9441280838596608,
          -0.17426003420455827,
          -0.19787798400913428,
          -0.5393386456031131,
          -0.3595785651388336,
          -0.6483160628789227,
          1.5102643471308423,
          0.7295689328149944,
          1.8322379618323328,
          0.2146047463183736,
          2.014848773552964,
          -0.4341850197495636,
          -0.6941338402393462,
          0.4275854395338668,
          0.03522318096973601,
          -0.6904890822679948,
          -0.870310904162906
         ],
         "xaxis": "x15",
         "y": [
          0.1685619554964778,
          -0.7609713134670092,
          -0.1466291331614804,
          -0.17895122979561642,
          0.7103539681639598,
          0.13613499440340865,
          -0.7900812551010931,
          -2.1094858303536745,
          0.8282184367124654,
          -0.1667964143098475,
          0.2329432156428893,
          0.3883465602934885,
          -1.0570794346727133,
          0.6038165115527561,
          0.22446091159813772,
          1.5903436762468897,
          1.1057501702113481,
          -0.0459004078076437,
          -2.6688849913407404,
          -1.6284289534076863,
          -1.4382209345617447,
          -1.1065887166962687,
          -1.0543488375800996,
          -0.9803331317572557,
          -0.1269174708958654,
          -0.014895192809223396,
          1.3861535293001108,
          -0.5965642668884196,
          -0.8200078845696744,
          0.5411127966578304,
          0.009367283932259633,
          0.7811046363388392,
          -0.5757711561487673,
          0.18631716453602434,
          1.31206986719528,
          1.639772636147107,
          0.052072269921768596,
          0.0622396876165819,
          0.8393371720057833,
          0.9376379312812728,
          -0.08537153787936122,
          0.22527849967135527,
          -0.7108608218906617,
          1.0090577578693813,
          0.07871380364730061,
          0.8959713114573067,
          0.4804707958371496,
          1.3076685758953284,
          0.8841176853412923,
          -1.262565894253411,
          -0.6294736082052231,
          -0.25670734117002647,
          1.6679991572837634,
          0.7965976101721943,
          -1.1516641384680215,
          1.587013396990483,
          -0.13937771647758937,
          -1.381540318280786,
          0.9454369560727496,
          -0.030341796327105226,
          0.6317697074786647,
          -0.5542059267250673,
          -0.15011765676895186,
          0.07535310303914053,
          0.813300008357076,
          -0.1481891191612101,
          1.2736588787640575,
          -1.887827003992407,
          1.26173935652071,
          0.9375533288617565,
          0.6678368508309261,
          -0.6233544862394212,
          -0.5664886241981897,
          1.9163796399082142,
          0.596173384002522,
          0.276139877578304,
          -0.4316942967573185,
          0.030156655493353425,
          0.5256703255952115,
          -1.0250935604230056,
          -0.872799244717213,
          0.2918088653854339,
          -0.35071954690697527,
          0.8526336802569473,
          0.8770460259892877,
          1.986194606036595,
          0.3343071442662588,
          -0.5315121792270513,
          -0.5505079792326428,
          0.35284647133767666,
          -1.360312751804368,
          0.9100973405782463,
          0.28661857724025086,
          1.4362653862009387,
          0.6854020354942629,
          1.9451401087928437,
          -0.49015836446964395,
          0.9427821631400048,
          0.31591243519429074,
          -0.1061078372545824
         ],
         "yaxis": "y15"
        },
        {
         "histfunc": "count",
         "histnorm": "",
         "marker": {
          "color": "rgba(128, 0, 128, 1.0)",
          "line": {
           "color": "#4D5663",
           "width": 1.3
          }
         },
         "name": "D",
         "nbinsx": 10,
         "opacity": 0.8,
         "orientation": "v",
         "type": "histogram",
         "x": [
          0.1685619554964778,
          -0.7609713134670092,
          -0.1466291331614804,
          -0.17895122979561642,
          0.7103539681639598,
          0.13613499440340865,
          -0.7900812551010931,
          -2.1094858303536745,
          0.8282184367124654,
          -0.1667964143098475,
          0.2329432156428893,
          0.3883465602934885,
          -1.0570794346727133,
          0.6038165115527561,
          0.22446091159813772,
          1.5903436762468897,
          1.1057501702113481,
          -0.0459004078076437,
          -2.6688849913407404,
          -1.6284289534076863,
          -1.4382209345617447,
          -1.1065887166962687,
          -1.0543488375800996,
          -0.9803331317572557,
          -0.1269174708958654,
          -0.014895192809223396,
          1.3861535293001108,
          -0.5965642668884196,
          -0.8200078845696744,
          0.5411127966578304,
          0.009367283932259633,
          0.7811046363388392,
          -0.5757711561487673,
          0.18631716453602434,
          1.31206986719528,
          1.639772636147107,
          0.052072269921768596,
          0.0622396876165819,
          0.8393371720057833,
          0.9376379312812728,
          -0.08537153787936122,
          0.22527849967135527,
          -0.7108608218906617,
          1.0090577578693813,
          0.07871380364730061,
          0.8959713114573067,
          0.4804707958371496,
          1.3076685758953284,
          0.8841176853412923,
          -1.262565894253411,
          -0.6294736082052231,
          -0.25670734117002647,
          1.6679991572837634,
          0.7965976101721943,
          -1.1516641384680215,
          1.587013396990483,
          -0.13937771647758937,
          -1.381540318280786,
          0.9454369560727496,
          -0.030341796327105226,
          0.6317697074786647,
          -0.5542059267250673,
          -0.15011765676895186,
          0.07535310303914053,
          0.813300008357076,
          -0.1481891191612101,
          1.2736588787640575,
          -1.887827003992407,
          1.26173935652071,
          0.9375533288617565,
          0.6678368508309261,
          -0.6233544862394212,
          -0.5664886241981897,
          1.9163796399082142,
          0.596173384002522,
          0.276139877578304,
          -0.4316942967573185,
          0.030156655493353425,
          0.5256703255952115,
          -1.0250935604230056,
          -0.872799244717213,
          0.2918088653854339,
          -0.35071954690697527,
          0.8526336802569473,
          0.8770460259892877,
          1.986194606036595,
          0.3343071442662588,
          -0.5315121792270513,
          -0.5505079792326428,
          0.35284647133767666,
          -1.360312751804368,
          0.9100973405782463,
          0.28661857724025086,
          1.4362653862009387,
          0.6854020354942629,
          1.9451401087928437,
          -0.49015836446964395,
          0.9427821631400048,
          0.31591243519429074,
          -0.1061078372545824
         ],
         "xaxis": "x16",
         "yaxis": "y16"
        }
       ],
       "layout": {
        "bargap": 0.02,
        "legend": {
         "bgcolor": "#F5F6F9",
         "font": {
          "color": "#4D5663"
         }
        },
        "paper_bgcolor": "#F5F6F9",
        "plot_bgcolor": "#F5F6F9",
        "showlegend": false,
        "template": {
         "data": {
          "bar": [
           {
            "error_x": {
             "color": "#2a3f5f"
            },
            "error_y": {
             "color": "#2a3f5f"
            },
            "marker": {
             "line": {
              "color": "#E5ECF6",
              "width": 0.5
             },
             "pattern": {
              "fillmode": "overlay",
              "size": 10,
              "solidity": 0.2
             }
            },
            "type": "bar"
           }
          ],
          "barpolar": [
           {
            "marker": {
             "line": {
              "color": "#E5ECF6",
              "width": 0.5
             },
             "pattern": {
              "fillmode": "overlay",
              "size": 10,
              "solidity": 0.2
             }
            },
            "type": "barpolar"
           }
          ],
          "carpet": [
           {
            "aaxis": {
             "endlinecolor": "#2a3f5f",
             "gridcolor": "white",
             "linecolor": "white",
             "minorgridcolor": "white",
             "startlinecolor": "#2a3f5f"
            },
            "baxis": {
             "endlinecolor": "#2a3f5f",
             "gridcolor": "white",
             "linecolor": "white",
             "minorgridcolor": "white",
             "startlinecolor": "#2a3f5f"
            },
            "type": "carpet"
           }
          ],
          "choropleth": [
           {
            "colorbar": {
             "outlinewidth": 0,
             "ticks": ""
            },
            "type": "choropleth"
           }
          ],
          "contour": [
           {
            "colorbar": {
             "outlinewidth": 0,
             "ticks": ""
            },
            "colorscale": [
             [
              0,
              "#0d0887"
             ],
             [
              0.1111111111111111,
              "#46039f"
             ],
             [
              0.2222222222222222,
              "#7201a8"
             ],
             [
              0.3333333333333333,
              "#9c179e"
             ],
             [
              0.4444444444444444,
              "#bd3786"
             ],
             [
              0.5555555555555556,
              "#d8576b"
             ],
             [
              0.6666666666666666,
              "#ed7953"
             ],
             [
              0.7777777777777778,
              "#fb9f3a"
             ],
             [
              0.8888888888888888,
              "#fdca26"
             ],
             [
              1,
              "#f0f921"
             ]
            ],
            "type": "contour"
           }
          ],
          "contourcarpet": [
           {
            "colorbar": {
             "outlinewidth": 0,
             "ticks": ""
            },
            "type": "contourcarpet"
           }
          ],
          "heatmap": [
           {
            "colorbar": {
             "outlinewidth": 0,
             "ticks": ""
            },
            "colorscale": [
             [
              0,
              "#0d0887"
             ],
             [
              0.1111111111111111,
              "#46039f"
             ],
             [
              0.2222222222222222,
              "#7201a8"
             ],
             [
              0.3333333333333333,
              "#9c179e"
             ],
             [
              0.4444444444444444,
              "#bd3786"
             ],
             [
              0.5555555555555556,
              "#d8576b"
             ],
             [
              0.6666666666666666,
              "#ed7953"
             ],
             [
              0.7777777777777778,
              "#fb9f3a"
             ],
             [
              0.8888888888888888,
              "#fdca26"
             ],
             [
              1,
              "#f0f921"
             ]
            ],
            "type": "heatmap"
           }
          ],
          "heatmapgl": [
           {
            "colorbar": {
             "outlinewidth": 0,
             "ticks": ""
            },
            "colorscale": [
             [
              0,
              "#0d0887"
             ],
             [
              0.1111111111111111,
              "#46039f"
             ],
             [
              0.2222222222222222,
              "#7201a8"
             ],
             [
              0.3333333333333333,
              "#9c179e"
             ],
             [
              0.4444444444444444,
              "#bd3786"
             ],
             [
              0.5555555555555556,
              "#d8576b"
             ],
             [
              0.6666666666666666,
              "#ed7953"
             ],
             [
              0.7777777777777778,
              "#fb9f3a"
             ],
             [
              0.8888888888888888,
              "#fdca26"
             ],
             [
              1,
              "#f0f921"
             ]
            ],
            "type": "heatmapgl"
           }
          ],
          "histogram": [
           {
            "marker": {
             "pattern": {
              "fillmode": "overlay",
              "size": 10,
              "solidity": 0.2
             }
            },
            "type": "histogram"
           }
          ],
          "histogram2d": [
           {
            "colorbar": {
             "outlinewidth": 0,
             "ticks": ""
            },
            "colorscale": [
             [
              0,
              "#0d0887"
             ],
             [
              0.1111111111111111,
              "#46039f"
             ],
             [
              0.2222222222222222,
              "#7201a8"
             ],
             [
              0.3333333333333333,
              "#9c179e"
             ],
             [
              0.4444444444444444,
              "#bd3786"
             ],
             [
              0.5555555555555556,
              "#d8576b"
             ],
             [
              0.6666666666666666,
              "#ed7953"
             ],
             [
              0.7777777777777778,
              "#fb9f3a"
             ],
             [
              0.8888888888888888,
              "#fdca26"
             ],
             [
              1,
              "#f0f921"
             ]
            ],
            "type": "histogram2d"
           }
          ],
          "histogram2dcontour": [
           {
            "colorbar": {
             "outlinewidth": 0,
             "ticks": ""
            },
            "colorscale": [
             [
              0,
              "#0d0887"
             ],
             [
              0.1111111111111111,
              "#46039f"
             ],
             [
              0.2222222222222222,
              "#7201a8"
             ],
             [
              0.3333333333333333,
              "#9c179e"
             ],
             [
              0.4444444444444444,
              "#bd3786"
             ],
             [
              0.5555555555555556,
              "#d8576b"
             ],
             [
              0.6666666666666666,
              "#ed7953"
             ],
             [
              0.7777777777777778,
              "#fb9f3a"
             ],
             [
              0.8888888888888888,
              "#fdca26"
             ],
             [
              1,
              "#f0f921"
             ]
            ],
            "type": "histogram2dcontour"
           }
          ],
          "mesh3d": [
           {
            "colorbar": {
             "outlinewidth": 0,
             "ticks": ""
            },
            "type": "mesh3d"
           }
          ],
          "parcoords": [
           {
            "line": {
             "colorbar": {
              "outlinewidth": 0,
              "ticks": ""
             }
            },
            "type": "parcoords"
           }
          ],
          "pie": [
           {
            "automargin": true,
            "type": "pie"
           }
          ],
          "scatter": [
           {
            "fillpattern": {
             "fillmode": "overlay",
             "size": 10,
             "solidity": 0.2
            },
            "type": "scatter"
           }
          ],
          "scatter3d": [
           {
            "line": {
             "colorbar": {
              "outlinewidth": 0,
              "ticks": ""
             }
            },
            "marker": {
             "colorbar": {
              "outlinewidth": 0,
              "ticks": ""
             }
            },
            "type": "scatter3d"
           }
          ],
          "scattercarpet": [
           {
            "marker": {
             "colorbar": {
              "outlinewidth": 0,
              "ticks": ""
             }
            },
            "type": "scattercarpet"
           }
          ],
          "scattergeo": [
           {
            "marker": {
             "colorbar": {
              "outlinewidth": 0,
              "ticks": ""
             }
            },
            "type": "scattergeo"
           }
          ],
          "scattergl": [
           {
            "marker": {
             "colorbar": {
              "outlinewidth": 0,
              "ticks": ""
             }
            },
            "type": "scattergl"
           }
          ],
          "scattermapbox": [
           {
            "marker": {
             "colorbar": {
              "outlinewidth": 0,
              "ticks": ""
             }
            },
            "type": "scattermapbox"
           }
          ],
          "scatterpolar": [
           {
            "marker": {
             "colorbar": {
              "outlinewidth": 0,
              "ticks": ""
             }
            },
            "type": "scatterpolar"
           }
          ],
          "scatterpolargl": [
           {
            "marker": {
             "colorbar": {
              "outlinewidth": 0,
              "ticks": ""
             }
            },
            "type": "scatterpolargl"
           }
          ],
          "scatterternary": [
           {
            "marker": {
             "colorbar": {
              "outlinewidth": 0,
              "ticks": ""
             }
            },
            "type": "scatterternary"
           }
          ],
          "surface": [
           {
            "colorbar": {
             "outlinewidth": 0,
             "ticks": ""
            },
            "colorscale": [
             [
              0,
              "#0d0887"
             ],
             [
              0.1111111111111111,
              "#46039f"
             ],
             [
              0.2222222222222222,
              "#7201a8"
             ],
             [
              0.3333333333333333,
              "#9c179e"
             ],
             [
              0.4444444444444444,
              "#bd3786"
             ],
             [
              0.5555555555555556,
              "#d8576b"
             ],
             [
              0.6666666666666666,
              "#ed7953"
             ],
             [
              0.7777777777777778,
              "#fb9f3a"
             ],
             [
              0.8888888888888888,
              "#fdca26"
             ],
             [
              1,
              "#f0f921"
             ]
            ],
            "type": "surface"
           }
          ],
          "table": [
           {
            "cells": {
             "fill": {
              "color": "#EBF0F8"
             },
             "line": {
              "color": "white"
             }
            },
            "header": {
             "fill": {
              "color": "#C8D4E3"
             },
             "line": {
              "color": "white"
             }
            },
            "type": "table"
           }
          ]
         },
         "layout": {
          "annotationdefaults": {
           "arrowcolor": "#2a3f5f",
           "arrowhead": 0,
           "arrowwidth": 1
          },
          "autotypenumbers": "strict",
          "coloraxis": {
           "colorbar": {
            "outlinewidth": 0,
            "ticks": ""
           }
          },
          "colorscale": {
           "diverging": [
            [
             0,
             "#8e0152"
            ],
            [
             0.1,
             "#c51b7d"
            ],
            [
             0.2,
             "#de77ae"
            ],
            [
             0.3,
             "#f1b6da"
            ],
            [
             0.4,
             "#fde0ef"
            ],
            [
             0.5,
             "#f7f7f7"
            ],
            [
             0.6,
             "#e6f5d0"
            ],
            [
             0.7,
             "#b8e186"
            ],
            [
             0.8,
             "#7fbc41"
            ],
            [
             0.9,
             "#4d9221"
            ],
            [
             1,
             "#276419"
            ]
           ],
           "sequential": [
            [
             0,
             "#0d0887"
            ],
            [
             0.1111111111111111,
             "#46039f"
            ],
            [
             0.2222222222222222,
             "#7201a8"
            ],
            [
             0.3333333333333333,
             "#9c179e"
            ],
            [
             0.4444444444444444,
             "#bd3786"
            ],
            [
             0.5555555555555556,
             "#d8576b"
            ],
            [
             0.6666666666666666,
             "#ed7953"
            ],
            [
             0.7777777777777778,
             "#fb9f3a"
            ],
            [
             0.8888888888888888,
             "#fdca26"
            ],
            [
             1,
             "#f0f921"
            ]
           ],
           "sequentialminus": [
            [
             0,
             "#0d0887"
            ],
            [
             0.1111111111111111,
             "#46039f"
            ],
            [
             0.2222222222222222,
             "#7201a8"
            ],
            [
             0.3333333333333333,
             "#9c179e"
            ],
            [
             0.4444444444444444,
             "#bd3786"
            ],
            [
             0.5555555555555556,
             "#d8576b"
            ],
            [
             0.6666666666666666,
             "#ed7953"
            ],
            [
             0.7777777777777778,
             "#fb9f3a"
            ],
            [
             0.8888888888888888,
             "#fdca26"
            ],
            [
             1,
             "#f0f921"
            ]
           ]
          },
          "colorway": [
           "#636efa",
           "#EF553B",
           "#00cc96",
           "#ab63fa",
           "#FFA15A",
           "#19d3f3",
           "#FF6692",
           "#B6E880",
           "#FF97FF",
           "#FECB52"
          ],
          "font": {
           "color": "#2a3f5f"
          },
          "geo": {
           "bgcolor": "white",
           "lakecolor": "white",
           "landcolor": "#E5ECF6",
           "showlakes": true,
           "showland": true,
           "subunitcolor": "white"
          },
          "hoverlabel": {
           "align": "left"
          },
          "hovermode": "closest",
          "mapbox": {
           "style": "light"
          },
          "paper_bgcolor": "white",
          "plot_bgcolor": "#E5ECF6",
          "polar": {
           "angularaxis": {
            "gridcolor": "white",
            "linecolor": "white",
            "ticks": ""
           },
           "bgcolor": "#E5ECF6",
           "radialaxis": {
            "gridcolor": "white",
            "linecolor": "white",
            "ticks": ""
           }
          },
          "scene": {
           "xaxis": {
            "backgroundcolor": "#E5ECF6",
            "gridcolor": "white",
            "gridwidth": 2,
            "linecolor": "white",
            "showbackground": true,
            "ticks": "",
            "zerolinecolor": "white"
           },
           "yaxis": {
            "backgroundcolor": "#E5ECF6",
            "gridcolor": "white",
            "gridwidth": 2,
            "linecolor": "white",
            "showbackground": true,
            "ticks": "",
            "zerolinecolor": "white"
           },
           "zaxis": {
            "backgroundcolor": "#E5ECF6",
            "gridcolor": "white",
            "gridwidth": 2,
            "linecolor": "white",
            "showbackground": true,
            "ticks": "",
            "zerolinecolor": "white"
           }
          },
          "shapedefaults": {
           "line": {
            "color": "#2a3f5f"
           }
          },
          "ternary": {
           "aaxis": {
            "gridcolor": "white",
            "linecolor": "white",
            "ticks": ""
           },
           "baxis": {
            "gridcolor": "white",
            "linecolor": "white",
            "ticks": ""
           },
           "bgcolor": "#E5ECF6",
           "caxis": {
            "gridcolor": "white",
            "linecolor": "white",
            "ticks": ""
           }
          },
          "title": {
           "x": 0.05
          },
          "xaxis": {
           "automargin": true,
           "gridcolor": "white",
           "linecolor": "white",
           "ticks": "",
           "title": {
            "standoff": 15
           },
           "zerolinecolor": "white",
           "zerolinewidth": 2
          },
          "yaxis": {
           "automargin": true,
           "gridcolor": "white",
           "linecolor": "white",
           "ticks": "",
           "title": {
            "standoff": 15
           },
           "zerolinecolor": "white",
           "zerolinewidth": 2
          }
         }
        },
        "title": {
         "font": {
          "color": "#4D5663"
         }
        },
        "xaxis": {
         "anchor": "y",
         "domain": [
          0,
          0.2125
         ],
         "gridcolor": "#E1E5ED",
         "showgrid": false,
         "tickfont": {
          "color": "#4D5663"
         },
         "title": {
          "font": {
           "color": "#4D5663"
          },
          "text": ""
         },
         "zerolinecolor": "#E1E5ED"
        },
        "xaxis10": {
         "anchor": "y10",
         "domain": [
          0.2625,
          0.475
         ],
         "gridcolor": "#E1E5ED",
         "showgrid": false,
         "tickfont": {
          "color": "#4D5663"
         },
         "title": {
          "font": {
           "color": "#4D5663"
          },
          "text": ""
         },
         "zerolinecolor": "#E1E5ED"
        },
        "xaxis11": {
         "anchor": "y11",
         "domain": [
          0.525,
          0.7375
         ],
         "gridcolor": "#E1E5ED",
         "showgrid": false,
         "tickfont": {
          "color": "#4D5663"
         },
         "title": {
          "font": {
           "color": "#4D5663"
          },
          "text": ""
         },
         "zerolinecolor": "#E1E5ED"
        },
        "xaxis12": {
         "anchor": "y12",
         "domain": [
          0.7875,
          1
         ],
         "gridcolor": "#E1E5ED",
         "showgrid": false,
         "tickfont": {
          "color": "#4D5663"
         },
         "title": {
          "font": {
           "color": "#4D5663"
          },
          "text": ""
         },
         "zerolinecolor": "#E1E5ED"
        },
        "xaxis13": {
         "anchor": "y13",
         "domain": [
          0,
          0.2125
         ],
         "gridcolor": "#E1E5ED",
         "showgrid": false,
         "tickfont": {
          "color": "#4D5663"
         },
         "title": {
          "font": {
           "color": "#4D5663"
          },
          "text": ""
         },
         "zerolinecolor": "#E1E5ED"
        },
        "xaxis14": {
         "anchor": "y14",
         "domain": [
          0.2625,
          0.475
         ],
         "gridcolor": "#E1E5ED",
         "showgrid": false,
         "tickfont": {
          "color": "#4D5663"
         },
         "title": {
          "font": {
           "color": "#4D5663"
          },
          "text": ""
         },
         "zerolinecolor": "#E1E5ED"
        },
        "xaxis15": {
         "anchor": "y15",
         "domain": [
          0.525,
          0.7375
         ],
         "gridcolor": "#E1E5ED",
         "showgrid": false,
         "tickfont": {
          "color": "#4D5663"
         },
         "title": {
          "font": {
           "color": "#4D5663"
          },
          "text": ""
         },
         "zerolinecolor": "#E1E5ED"
        },
        "xaxis16": {
         "anchor": "y16",
         "domain": [
          0.7875,
          1
         ],
         "gridcolor": "#E1E5ED",
         "showgrid": false,
         "tickfont": {
          "color": "#4D5663"
         },
         "title": {
          "font": {
           "color": "#4D5663"
          },
          "text": ""
         },
         "zerolinecolor": "#E1E5ED"
        },
        "xaxis2": {
         "anchor": "y2",
         "domain": [
          0.2625,
          0.475
         ],
         "gridcolor": "#E1E5ED",
         "showgrid": false,
         "tickfont": {
          "color": "#4D5663"
         },
         "title": {
          "font": {
           "color": "#4D5663"
          },
          "text": ""
         },
         "zerolinecolor": "#E1E5ED"
        },
        "xaxis3": {
         "anchor": "y3",
         "domain": [
          0.525,
          0.7375
         ],
         "gridcolor": "#E1E5ED",
         "showgrid": false,
         "tickfont": {
          "color": "#4D5663"
         },
         "title": {
          "font": {
           "color": "#4D5663"
          },
          "text": ""
         },
         "zerolinecolor": "#E1E5ED"
        },
        "xaxis4": {
         "anchor": "y4",
         "domain": [
          0.7875,
          1
         ],
         "gridcolor": "#E1E5ED",
         "showgrid": false,
         "tickfont": {
          "color": "#4D5663"
         },
         "title": {
          "font": {
           "color": "#4D5663"
          },
          "text": ""
         },
         "zerolinecolor": "#E1E5ED"
        },
        "xaxis5": {
         "anchor": "y5",
         "domain": [
          0,
          0.2125
         ],
         "gridcolor": "#E1E5ED",
         "showgrid": false,
         "tickfont": {
          "color": "#4D5663"
         },
         "title": {
          "font": {
           "color": "#4D5663"
          },
          "text": ""
         },
         "zerolinecolor": "#E1E5ED"
        },
        "xaxis6": {
         "anchor": "y6",
         "domain": [
          0.2625,
          0.475
         ],
         "gridcolor": "#E1E5ED",
         "showgrid": false,
         "tickfont": {
          "color": "#4D5663"
         },
         "title": {
          "font": {
           "color": "#4D5663"
          },
          "text": ""
         },
         "zerolinecolor": "#E1E5ED"
        },
        "xaxis7": {
         "anchor": "y7",
         "domain": [
          0.525,
          0.7375
         ],
         "gridcolor": "#E1E5ED",
         "showgrid": false,
         "tickfont": {
          "color": "#4D5663"
         },
         "title": {
          "font": {
           "color": "#4D5663"
          },
          "text": ""
         },
         "zerolinecolor": "#E1E5ED"
        },
        "xaxis8": {
         "anchor": "y8",
         "domain": [
          0.7875,
          1
         ],
         "gridcolor": "#E1E5ED",
         "showgrid": false,
         "tickfont": {
          "color": "#4D5663"
         },
         "title": {
          "font": {
           "color": "#4D5663"
          },
          "text": ""
         },
         "zerolinecolor": "#E1E5ED"
        },
        "xaxis9": {
         "anchor": "y9",
         "domain": [
          0,
          0.2125
         ],
         "gridcolor": "#E1E5ED",
         "showgrid": false,
         "tickfont": {
          "color": "#4D5663"
         },
         "title": {
          "font": {
           "color": "#4D5663"
          },
          "text": ""
         },
         "zerolinecolor": "#E1E5ED"
        },
        "yaxis": {
         "anchor": "x",
         "domain": [
          0.8025,
          1
         ],
         "gridcolor": "#E1E5ED",
         "showgrid": false,
         "tickfont": {
          "color": "#4D5663"
         },
         "title": {
          "font": {
           "color": "#4D5663"
          },
          "text": ""
         },
         "zerolinecolor": "#E1E5ED"
        },
        "yaxis10": {
         "anchor": "x10",
         "domain": [
          0.2675,
          0.465
         ],
         "gridcolor": "#E1E5ED",
         "showgrid": false,
         "tickfont": {
          "color": "#4D5663"
         },
         "title": {
          "font": {
           "color": "#4D5663"
          },
          "text": ""
         },
         "zerolinecolor": "#E1E5ED"
        },
        "yaxis11": {
         "anchor": "x11",
         "domain": [
          0.2675,
          0.465
         ],
         "gridcolor": "#E1E5ED",
         "showgrid": false,
         "tickfont": {
          "color": "#4D5663"
         },
         "title": {
          "font": {
           "color": "#4D5663"
          },
          "text": ""
         },
         "zerolinecolor": "#E1E5ED"
        },
        "yaxis12": {
         "anchor": "x12",
         "domain": [
          0.2675,
          0.465
         ],
         "gridcolor": "#E1E5ED",
         "showgrid": false,
         "tickfont": {
          "color": "#4D5663"
         },
         "title": {
          "font": {
           "color": "#4D5663"
          },
          "text": ""
         },
         "zerolinecolor": "#E1E5ED"
        },
        "yaxis13": {
         "anchor": "x13",
         "domain": [
          0,
          0.1975
         ],
         "gridcolor": "#E1E5ED",
         "showgrid": false,
         "tickfont": {
          "color": "#4D5663"
         },
         "title": {
          "font": {
           "color": "#4D5663"
          },
          "text": ""
         },
         "zerolinecolor": "#E1E5ED"
        },
        "yaxis14": {
         "anchor": "x14",
         "domain": [
          0,
          0.1975
         ],
         "gridcolor": "#E1E5ED",
         "showgrid": false,
         "tickfont": {
          "color": "#4D5663"
         },
         "title": {
          "font": {
           "color": "#4D5663"
          },
          "text": ""
         },
         "zerolinecolor": "#E1E5ED"
        },
        "yaxis15": {
         "anchor": "x15",
         "domain": [
          0,
          0.1975
         ],
         "gridcolor": "#E1E5ED",
         "showgrid": false,
         "tickfont": {
          "color": "#4D5663"
         },
         "title": {
          "font": {
           "color": "#4D5663"
          },
          "text": ""
         },
         "zerolinecolor": "#E1E5ED"
        },
        "yaxis16": {
         "anchor": "x16",
         "domain": [
          0,
          0.1975
         ],
         "gridcolor": "#E1E5ED",
         "showgrid": false,
         "tickfont": {
          "color": "#4D5663"
         },
         "title": {
          "font": {
           "color": "#4D5663"
          },
          "text": ""
         },
         "zerolinecolor": "#E1E5ED"
        },
        "yaxis2": {
         "anchor": "x2",
         "domain": [
          0.8025,
          1
         ],
         "gridcolor": "#E1E5ED",
         "showgrid": false,
         "tickfont": {
          "color": "#4D5663"
         },
         "title": {
          "font": {
           "color": "#4D5663"
          },
          "text": ""
         },
         "zerolinecolor": "#E1E5ED"
        },
        "yaxis3": {
         "anchor": "x3",
         "domain": [
          0.8025,
          1
         ],
         "gridcolor": "#E1E5ED",
         "showgrid": false,
         "tickfont": {
          "color": "#4D5663"
         },
         "title": {
          "font": {
           "color": "#4D5663"
          },
          "text": ""
         },
         "zerolinecolor": "#E1E5ED"
        },
        "yaxis4": {
         "anchor": "x4",
         "domain": [
          0.8025,
          1
         ],
         "gridcolor": "#E1E5ED",
         "showgrid": false,
         "tickfont": {
          "color": "#4D5663"
         },
         "title": {
          "font": {
           "color": "#4D5663"
          },
          "text": ""
         },
         "zerolinecolor": "#E1E5ED"
        },
        "yaxis5": {
         "anchor": "x5",
         "domain": [
          0.535,
          0.7325
         ],
         "gridcolor": "#E1E5ED",
         "showgrid": false,
         "tickfont": {
          "color": "#4D5663"
         },
         "title": {
          "font": {
           "color": "#4D5663"
          },
          "text": ""
         },
         "zerolinecolor": "#E1E5ED"
        },
        "yaxis6": {
         "anchor": "x6",
         "domain": [
          0.535,
          0.7325
         ],
         "gridcolor": "#E1E5ED",
         "showgrid": false,
         "tickfont": {
          "color": "#4D5663"
         },
         "title": {
          "font": {
           "color": "#4D5663"
          },
          "text": ""
         },
         "zerolinecolor": "#E1E5ED"
        },
        "yaxis7": {
         "anchor": "x7",
         "domain": [
          0.535,
          0.7325
         ],
         "gridcolor": "#E1E5ED",
         "showgrid": false,
         "tickfont": {
          "color": "#4D5663"
         },
         "title": {
          "font": {
           "color": "#4D5663"
          },
          "text": ""
         },
         "zerolinecolor": "#E1E5ED"
        },
        "yaxis8": {
         "anchor": "x8",
         "domain": [
          0.535,
          0.7325
         ],
         "gridcolor": "#E1E5ED",
         "showgrid": false,
         "tickfont": {
          "color": "#4D5663"
         },
         "title": {
          "font": {
           "color": "#4D5663"
          },
          "text": ""
         },
         "zerolinecolor": "#E1E5ED"
        },
        "yaxis9": {
         "anchor": "x9",
         "domain": [
          0.2675,
          0.465
         ],
         "gridcolor": "#E1E5ED",
         "showgrid": false,
         "tickfont": {
          "color": "#4D5663"
         },
         "title": {
          "font": {
           "color": "#4D5663"
          },
          "text": ""
         },
         "zerolinecolor": "#E1E5ED"
        }
       }
      },
      "text/html": [
       "<div>                            <div id=\"75349350-5889-4cbe-8205-45e7ab824f69\" class=\"plotly-graph-div\" style=\"height:525px; width:100%;\"></div>            <script type=\"text/javascript\">                require([\"plotly\"], function(Plotly) {                    window.PLOTLYENV=window.PLOTLYENV || {};\n",
       "                    window.PLOTLYENV.BASE_URL='https://plot.ly';                                    if (document.getElementById(\"75349350-5889-4cbe-8205-45e7ab824f69\")) {                    Plotly.newPlot(                        \"75349350-5889-4cbe-8205-45e7ab824f69\",                        [{\"histfunc\":\"count\",\"histnorm\":\"\",\"marker\":{\"color\":\"rgba(255, 153, 51, 1.0)\",\"line\":{\"color\":\"#4D5663\",\"width\":1.3}},\"name\":\"A\",\"nbinsx\":10,\"opacity\":0.8,\"orientation\":\"v\",\"x\":[1.1808861104858086,-1.009315475834072,2.1010267597285734,-1.2761110614656328,2.1355984367483503,0.45187550757489103,0.35575837216877865,-0.33192853903028824,0.16555430091279025,2.0939392840659474,3.3046262093131764,0.8016652198144762,-0.08064663403209753,-0.2894576343328641,-0.6353852627420068,0.06915412092097081,0.972353162345244,-0.4226617370851711,0.44457415032163833,1.9306320625284974,0.862768413234945,-0.07436503288404975,-1.3075425798831994,0.07488233835490188,-0.5383693570233857,-1.150895491288997,-0.644601767843179,-0.3003701225679646,-0.6768652099919864,0.21410544574864887,0.5950296396184611,0.26973044921773104,-0.7010536597606614,-1.3488991119769904,0.5735052483541746,0.116911756060154,-1.384243153289476,-1.5122147482705393,-2.0490427795777326,-0.47086463185893823,-1.7115532738390293,-0.41926538769302296,0.6342347447608379,1.0524544462265217,0.27116119274636,-0.6327759017672793,-0.2381293131326908,-1.560007071354141,0.3564002971081718,-0.7431653691129735,0.021248317242468076,-0.6171074244097834,-0.7287550072634262,1.1115975878346898,-0.0264973903468035,-0.39998035014100297,0.17090679907552722,0.7704465470894409,1.3645508989608082,0.2736827452554336,0.9458706409895032,-2.039392752696324,0.05308215087500142,-1.4223150595751306,-0.32401077448582954,-1.4858113454908572,-1.3260796336088796,1.2980796587223302,0.7718502322874692,0.4027364328411132,-0.12487684581340935,-0.3734360479494493,-0.004287553825357087,-0.6221945153849893,0.18712560869775033,-0.8542025277225092,0.2605274316144155,0.8065865657559427,0.8892694273074893,-0.11438673646857235,-0.4124256111912983,0.362764158444993,0.17788406981146257,0.25232389432641744,-0.7612788204072456,0.5135316958636523,1.76093782929227,-0.23332353476080336,-0.963431849581975,0.4370139219460403,-1.5530042663990145,0.01358618685162266,1.1281240398709063,-0.41511661847317877,0.2844084545138961,0.07062579562964151,0.77115342742805,-1.2748891258557924,0.7651414902457511,1.5399719990359306],\"xaxis\":\"x\",\"yaxis\":\"y\",\"type\":\"histogram\"},{\"line\":{\"color\":\"rgba(128, 128, 128, 1.0)\",\"dash\":\"solid\",\"shape\":\"linear\",\"width\":1.3},\"marker\":{\"size\":2,\"symbol\":\"circle\"},\"mode\":\"markers\",\"name\":\"A\",\"text\":\"\",\"x\":[1.8869774144646363,-0.15178939659604912,0.49273651175711186,-1.323250063279204,-1.3096082803841553,-1.3849349027148277,1.156638863289787,-0.9517605210106179,0.4107021866605751,0.03405599860229291,2.082439060515147,-0.6632141972130775,0.5541718312078655,0.19367068612461416,2.260149093720149,-1.2259061103880828,-0.7895331423494181,0.7662518068681965,1.0247551473290297,1.6578485874276878,0.3833380944296906,0.9354852173085542,1.201005381289398,1.9991827012969507,-0.6687087204962803,-0.2889780327683993,-1.1867862695251132,0.21882396000194415,1.2349522356979719,-2.2700863402085885,0.21154465034024256,-2.0375384753026133,-0.27323895036263013,-0.5022346822859977,1.3981296300065187,-0.7808568466240103,0.07384353772811302,0.8108562614778606,0.26004090339418573,-1.537016362845774,-0.08338367129457505,-0.2142211275967988,-0.9378209276170207,-0.6815547301708351,-0.8552378052823102,-0.1484952070387059,-1.4145757942280957,-0.366902467981607,0.9217146167090984,1.3107705120296753,-0.7798058588406078,0.6927152044770846,0.27715215900653895,-0.6773501227910225,-0.39772212572225923,-0.9327902138961053,-1.5359943716946074,0.05265840173276143,-0.49077067967105015,0.46340928236261036,-2.2641201459935885,-0.39308652349632045,1.072805319475322,-0.7246309842420298,-1.7363183613206394,1.8964187758108288,-0.6087390744568856,-2.70414795296228,-1.65510169490042,0.6659266357370712,0.21563454907328639,0.9058385938958805,0.5298879363128568,2.2882030650566865,-0.3654187398433885,-0.8223437056703111,-1.1960008750849571,0.998214927884022,-0.8224011627610441,-0.6283770556295083,-0.4566048300151653,-0.1673684778572825,1.2086066242166869,1.271826220581654,0.8480941150195749,0.40288423807506885,0.029759689383405466,-0.5287908721090397,-0.6426181955756219,-1.2020398873408829,-0.902931701935573,0.7725336591758999,-1.0785659218318133,0.6226481271010155,1.731907502841091,-0.9405026151070189,-0.3371830830297367,-0.19216251774875798,0.3868122511782008,0.37115889539592906],\"xaxis\":\"x2\",\"y\":[1.1808861104858086,-1.009315475834072,2.1010267597285734,-1.2761110614656328,2.1355984367483503,0.45187550757489103,0.35575837216877865,-0.33192853903028824,0.16555430091279025,2.0939392840659474,3.3046262093131764,0.8016652198144762,-0.08064663403209753,-0.2894576343328641,-0.6353852627420068,0.06915412092097081,0.972353162345244,-0.4226617370851711,0.44457415032163833,1.9306320625284974,0.862768413234945,-0.07436503288404975,-1.3075425798831994,0.07488233835490188,-0.5383693570233857,-1.150895491288997,-0.644601767843179,-0.3003701225679646,-0.6768652099919864,0.21410544574864887,0.5950296396184611,0.26973044921773104,-0.7010536597606614,-1.3488991119769904,0.5735052483541746,0.116911756060154,-1.384243153289476,-1.5122147482705393,-2.0490427795777326,-0.47086463185893823,-1.7115532738390293,-0.41926538769302296,0.6342347447608379,1.0524544462265217,0.27116119274636,-0.6327759017672793,-0.2381293131326908,-1.560007071354141,0.3564002971081718,-0.7431653691129735,0.021248317242468076,-0.6171074244097834,-0.7287550072634262,1.1115975878346898,-0.0264973903468035,-0.39998035014100297,0.17090679907552722,0.7704465470894409,1.3645508989608082,0.2736827452554336,0.9458706409895032,-2.039392752696324,0.05308215087500142,-1.4223150595751306,-0.32401077448582954,-1.4858113454908572,-1.3260796336088796,1.2980796587223302,0.7718502322874692,0.4027364328411132,-0.12487684581340935,-0.3734360479494493,-0.004287553825357087,-0.6221945153849893,0.18712560869775033,-0.8542025277225092,0.2605274316144155,0.8065865657559427,0.8892694273074893,-0.11438673646857235,-0.4124256111912983,0.362764158444993,0.17788406981146257,0.25232389432641744,-0.7612788204072456,0.5135316958636523,1.76093782929227,-0.23332353476080336,-0.963431849581975,0.4370139219460403,-1.5530042663990145,0.01358618685162266,1.1281240398709063,-0.41511661847317877,0.2844084545138961,0.07062579562964151,0.77115342742805,-1.2748891258557924,0.7651414902457511,1.5399719990359306],\"yaxis\":\"y2\",\"type\":\"scatter\"},{\"line\":{\"color\":\"rgba(128, 128, 128, 1.0)\",\"dash\":\"solid\",\"shape\":\"linear\",\"width\":1.3},\"marker\":{\"size\":2,\"symbol\":\"circle\"},\"mode\":\"markers\",\"name\":\"A\",\"text\":\"\",\"x\":[0.11188606649864456,1.7384324435143512,0.7411783758165015,-1.134095288548804,-0.13978384630778978,0.45966943166620244,0.26208060757254736,-1.5750049328830449,-0.6873202542711845,1.229722054790922,-0.3589095067650245,-0.3036513793617774,0.030964419656719068,0.32952058361271086,-0.74180912679076,0.4129505422640841,0.25136825144020564,-0.1892431255482168,-0.8385645582584667,-0.7244996453511477,1.3842433824495262,0.8145838377017431,1.2057246266423924,-0.11377891471384399,-1.301995696305911,-0.12408305144141546,0.7972087763890217,-0.3298086170526748,-1.7337299706648197,1.8775348535262644,1.1781034811155568,-1.7494345037785481,0.2550145380827633,-1.025057129671358,-0.8307196830358982,1.093544626869134,-0.5217359278699902,-1.0686475237170552,0.8346540684791645,-0.43526467711297295,0.016804925831642222,-0.6746869155107326,-0.47577923773771547,0.6086333158571583,0.39569125694490775,0.3385377346583987,-0.39816391427088854,0.9144302212751345,-0.49487396712516185,-0.7204383730392193,-0.25002946200764264,-1.2923272733883895,0.13452716606098336,0.21239343020783746,0.40880729368726326,-0.6647111367078352,-0.573897092303272,0.08071802410485815,-1.1784561153808597,-1.4039073083889357,-0.9824550831272723,-1.1104512311858905,-0.0675388891499401,1.5896302972777647,-0.9674835668415881,2.105269613749711,0.19327098942325086,-0.6532753378806604,0.4925071970006506,-0.24483409011284854,-0.8062795787140231,-0.29748689619101754,-0.8692195205472738,1.8698985774106767,-0.34001311363803577,-0.2530795103767499,0.5215287563606393,0.5531903613871533,0.9493002206147947,0.5858860866488199,1.6645290391869938,1.3086798998198044,-0.7123947909279804,-1.9441280838596608,-0.17426003420455827,-0.19787798400913428,-0.5393386456031131,-0.3595785651388336,-0.6483160628789227,1.5102643471308423,0.7295689328149944,1.8322379618323328,0.2146047463183736,2.014848773552964,-0.4341850197495636,-0.6941338402393462,0.4275854395338668,0.03522318096973601,-0.6904890822679948,-0.870310904162906],\"xaxis\":\"x3\",\"y\":[1.1808861104858086,-1.009315475834072,2.1010267597285734,-1.2761110614656328,2.1355984367483503,0.45187550757489103,0.35575837216877865,-0.33192853903028824,0.16555430091279025,2.0939392840659474,3.3046262093131764,0.8016652198144762,-0.08064663403209753,-0.2894576343328641,-0.6353852627420068,0.06915412092097081,0.972353162345244,-0.4226617370851711,0.44457415032163833,1.9306320625284974,0.862768413234945,-0.07436503288404975,-1.3075425798831994,0.07488233835490188,-0.5383693570233857,-1.150895491288997,-0.644601767843179,-0.3003701225679646,-0.6768652099919864,0.21410544574864887,0.5950296396184611,0.26973044921773104,-0.7010536597606614,-1.3488991119769904,0.5735052483541746,0.116911756060154,-1.384243153289476,-1.5122147482705393,-2.0490427795777326,-0.47086463185893823,-1.7115532738390293,-0.41926538769302296,0.6342347447608379,1.0524544462265217,0.27116119274636,-0.6327759017672793,-0.2381293131326908,-1.560007071354141,0.3564002971081718,-0.7431653691129735,0.021248317242468076,-0.6171074244097834,-0.7287550072634262,1.1115975878346898,-0.0264973903468035,-0.39998035014100297,0.17090679907552722,0.7704465470894409,1.3645508989608082,0.2736827452554336,0.9458706409895032,-2.039392752696324,0.05308215087500142,-1.4223150595751306,-0.32401077448582954,-1.4858113454908572,-1.3260796336088796,1.2980796587223302,0.7718502322874692,0.4027364328411132,-0.12487684581340935,-0.3734360479494493,-0.004287553825357087,-0.6221945153849893,0.18712560869775033,-0.8542025277225092,0.2605274316144155,0.8065865657559427,0.8892694273074893,-0.11438673646857235,-0.4124256111912983,0.362764158444993,0.17788406981146257,0.25232389432641744,-0.7612788204072456,0.5135316958636523,1.76093782929227,-0.23332353476080336,-0.963431849581975,0.4370139219460403,-1.5530042663990145,0.01358618685162266,1.1281240398709063,-0.41511661847317877,0.2844084545138961,0.07062579562964151,0.77115342742805,-1.2748891258557924,0.7651414902457511,1.5399719990359306],\"yaxis\":\"y3\",\"type\":\"scatter\"},{\"line\":{\"color\":\"rgba(128, 128, 128, 1.0)\",\"dash\":\"solid\",\"shape\":\"linear\",\"width\":1.3},\"marker\":{\"size\":2,\"symbol\":\"circle\"},\"mode\":\"markers\",\"name\":\"A\",\"text\":\"\",\"x\":[0.1685619554964778,-0.7609713134670092,-0.1466291331614804,-0.17895122979561642,0.7103539681639598,0.13613499440340865,-0.7900812551010931,-2.1094858303536745,0.8282184367124654,-0.1667964143098475,0.2329432156428893,0.3883465602934885,-1.0570794346727133,0.6038165115527561,0.22446091159813772,1.5903436762468897,1.1057501702113481,-0.0459004078076437,-2.6688849913407404,-1.6284289534076863,-1.4382209345617447,-1.1065887166962687,-1.0543488375800996,-0.9803331317572557,-0.1269174708958654,-0.014895192809223396,1.3861535293001108,-0.5965642668884196,-0.8200078845696744,0.5411127966578304,0.009367283932259633,0.7811046363388392,-0.5757711561487673,0.18631716453602434,1.31206986719528,1.639772636147107,0.052072269921768596,0.0622396876165819,0.8393371720057833,0.9376379312812728,-0.08537153787936122,0.22527849967135527,-0.7108608218906617,1.0090577578693813,0.07871380364730061,0.8959713114573067,0.4804707958371496,1.3076685758953284,0.8841176853412923,-1.262565894253411,-0.6294736082052231,-0.25670734117002647,1.6679991572837634,0.7965976101721943,-1.1516641384680215,1.587013396990483,-0.13937771647758937,-1.381540318280786,0.9454369560727496,-0.030341796327105226,0.6317697074786647,-0.5542059267250673,-0.15011765676895186,0.07535310303914053,0.813300008357076,-0.1481891191612101,1.2736588787640575,-1.887827003992407,1.26173935652071,0.9375533288617565,0.6678368508309261,-0.6233544862394212,-0.5664886241981897,1.9163796399082142,0.596173384002522,0.276139877578304,-0.4316942967573185,0.030156655493353425,0.5256703255952115,-1.0250935604230056,-0.872799244717213,0.2918088653854339,-0.35071954690697527,0.8526336802569473,0.8770460259892877,1.986194606036595,0.3343071442662588,-0.5315121792270513,-0.5505079792326428,0.35284647133767666,-1.360312751804368,0.9100973405782463,0.28661857724025086,1.4362653862009387,0.6854020354942629,1.9451401087928437,-0.49015836446964395,0.9427821631400048,0.31591243519429074,-0.1061078372545824],\"xaxis\":\"x4\",\"y\":[1.1808861104858086,-1.009315475834072,2.1010267597285734,-1.2761110614656328,2.1355984367483503,0.45187550757489103,0.35575837216877865,-0.33192853903028824,0.16555430091279025,2.0939392840659474,3.3046262093131764,0.8016652198144762,-0.08064663403209753,-0.2894576343328641,-0.6353852627420068,0.06915412092097081,0.972353162345244,-0.4226617370851711,0.44457415032163833,1.9306320625284974,0.862768413234945,-0.07436503288404975,-1.3075425798831994,0.07488233835490188,-0.5383693570233857,-1.150895491288997,-0.644601767843179,-0.3003701225679646,-0.6768652099919864,0.21410544574864887,0.5950296396184611,0.26973044921773104,-0.7010536597606614,-1.3488991119769904,0.5735052483541746,0.116911756060154,-1.384243153289476,-1.5122147482705393,-2.0490427795777326,-0.47086463185893823,-1.7115532738390293,-0.41926538769302296,0.6342347447608379,1.0524544462265217,0.27116119274636,-0.6327759017672793,-0.2381293131326908,-1.560007071354141,0.3564002971081718,-0.7431653691129735,0.021248317242468076,-0.6171074244097834,-0.7287550072634262,1.1115975878346898,-0.0264973903468035,-0.39998035014100297,0.17090679907552722,0.7704465470894409,1.3645508989608082,0.2736827452554336,0.9458706409895032,-2.039392752696324,0.05308215087500142,-1.4223150595751306,-0.32401077448582954,-1.4858113454908572,-1.3260796336088796,1.2980796587223302,0.7718502322874692,0.4027364328411132,-0.12487684581340935,-0.3734360479494493,-0.004287553825357087,-0.6221945153849893,0.18712560869775033,-0.8542025277225092,0.2605274316144155,0.8065865657559427,0.8892694273074893,-0.11438673646857235,-0.4124256111912983,0.362764158444993,0.17788406981146257,0.25232389432641744,-0.7612788204072456,0.5135316958636523,1.76093782929227,-0.23332353476080336,-0.963431849581975,0.4370139219460403,-1.5530042663990145,0.01358618685162266,1.1281240398709063,-0.41511661847317877,0.2844084545138961,0.07062579562964151,0.77115342742805,-1.2748891258557924,0.7651414902457511,1.5399719990359306],\"yaxis\":\"y4\",\"type\":\"scatter\"},{\"line\":{\"color\":\"rgba(128, 128, 128, 1.0)\",\"dash\":\"solid\",\"shape\":\"linear\",\"width\":1.3},\"marker\":{\"size\":2,\"symbol\":\"circle\"},\"mode\":\"markers\",\"name\":\"B\",\"text\":\"\",\"x\":[1.1808861104858086,-1.009315475834072,2.1010267597285734,-1.2761110614656328,2.1355984367483503,0.45187550757489103,0.35575837216877865,-0.33192853903028824,0.16555430091279025,2.0939392840659474,3.3046262093131764,0.8016652198144762,-0.08064663403209753,-0.2894576343328641,-0.6353852627420068,0.06915412092097081,0.972353162345244,-0.4226617370851711,0.44457415032163833,1.9306320625284974,0.862768413234945,-0.07436503288404975,-1.3075425798831994,0.07488233835490188,-0.5383693570233857,-1.150895491288997,-0.644601767843179,-0.3003701225679646,-0.6768652099919864,0.21410544574864887,0.5950296396184611,0.26973044921773104,-0.7010536597606614,-1.3488991119769904,0.5735052483541746,0.116911756060154,-1.384243153289476,-1.5122147482705393,-2.0490427795777326,-0.47086463185893823,-1.7115532738390293,-0.41926538769302296,0.6342347447608379,1.0524544462265217,0.27116119274636,-0.6327759017672793,-0.2381293131326908,-1.560007071354141,0.3564002971081718,-0.7431653691129735,0.021248317242468076,-0.6171074244097834,-0.7287550072634262,1.1115975878346898,-0.0264973903468035,-0.39998035014100297,0.17090679907552722,0.7704465470894409,1.3645508989608082,0.2736827452554336,0.9458706409895032,-2.039392752696324,0.05308215087500142,-1.4223150595751306,-0.32401077448582954,-1.4858113454908572,-1.3260796336088796,1.2980796587223302,0.7718502322874692,0.4027364328411132,-0.12487684581340935,-0.3734360479494493,-0.004287553825357087,-0.6221945153849893,0.18712560869775033,-0.8542025277225092,0.2605274316144155,0.8065865657559427,0.8892694273074893,-0.11438673646857235,-0.4124256111912983,0.362764158444993,0.17788406981146257,0.25232389432641744,-0.7612788204072456,0.5135316958636523,1.76093782929227,-0.23332353476080336,-0.963431849581975,0.4370139219460403,-1.5530042663990145,0.01358618685162266,1.1281240398709063,-0.41511661847317877,0.2844084545138961,0.07062579562964151,0.77115342742805,-1.2748891258557924,0.7651414902457511,1.5399719990359306],\"xaxis\":\"x5\",\"y\":[1.8869774144646363,-0.15178939659604912,0.49273651175711186,-1.323250063279204,-1.3096082803841553,-1.3849349027148277,1.156638863289787,-0.9517605210106179,0.4107021866605751,0.03405599860229291,2.082439060515147,-0.6632141972130775,0.5541718312078655,0.19367068612461416,2.260149093720149,-1.2259061103880828,-0.7895331423494181,0.7662518068681965,1.0247551473290297,1.6578485874276878,0.3833380944296906,0.9354852173085542,1.201005381289398,1.9991827012969507,-0.6687087204962803,-0.2889780327683993,-1.1867862695251132,0.21882396000194415,1.2349522356979719,-2.2700863402085885,0.21154465034024256,-2.0375384753026133,-0.27323895036263013,-0.5022346822859977,1.3981296300065187,-0.7808568466240103,0.07384353772811302,0.8108562614778606,0.26004090339418573,-1.537016362845774,-0.08338367129457505,-0.2142211275967988,-0.9378209276170207,-0.6815547301708351,-0.8552378052823102,-0.1484952070387059,-1.4145757942280957,-0.366902467981607,0.9217146167090984,1.3107705120296753,-0.7798058588406078,0.6927152044770846,0.27715215900653895,-0.6773501227910225,-0.39772212572225923,-0.9327902138961053,-1.5359943716946074,0.05265840173276143,-0.49077067967105015,0.46340928236261036,-2.2641201459935885,-0.39308652349632045,1.072805319475322,-0.7246309842420298,-1.7363183613206394,1.8964187758108288,-0.6087390744568856,-2.70414795296228,-1.65510169490042,0.6659266357370712,0.21563454907328639,0.9058385938958805,0.5298879363128568,2.2882030650566865,-0.3654187398433885,-0.8223437056703111,-1.1960008750849571,0.998214927884022,-0.8224011627610441,-0.6283770556295083,-0.4566048300151653,-0.1673684778572825,1.2086066242166869,1.271826220581654,0.8480941150195749,0.40288423807506885,0.029759689383405466,-0.5287908721090397,-0.6426181955756219,-1.2020398873408829,-0.902931701935573,0.7725336591758999,-1.0785659218318133,0.6226481271010155,1.731907502841091,-0.9405026151070189,-0.3371830830297367,-0.19216251774875798,0.3868122511782008,0.37115889539592906],\"yaxis\":\"y5\",\"type\":\"scatter\"},{\"histfunc\":\"count\",\"histnorm\":\"\",\"marker\":{\"color\":\"rgba(55, 128, 191, 1.0)\",\"line\":{\"color\":\"#4D5663\",\"width\":1.3}},\"name\":\"B\",\"nbinsx\":10,\"opacity\":0.8,\"orientation\":\"v\",\"x\":[1.8869774144646363,-0.15178939659604912,0.49273651175711186,-1.323250063279204,-1.3096082803841553,-1.3849349027148277,1.156638863289787,-0.9517605210106179,0.4107021866605751,0.03405599860229291,2.082439060515147,-0.6632141972130775,0.5541718312078655,0.19367068612461416,2.260149093720149,-1.2259061103880828,-0.7895331423494181,0.7662518068681965,1.0247551473290297,1.6578485874276878,0.3833380944296906,0.9354852173085542,1.201005381289398,1.9991827012969507,-0.6687087204962803,-0.2889780327683993,-1.1867862695251132,0.21882396000194415,1.2349522356979719,-2.2700863402085885,0.21154465034024256,-2.0375384753026133,-0.27323895036263013,-0.5022346822859977,1.3981296300065187,-0.7808568466240103,0.07384353772811302,0.8108562614778606,0.26004090339418573,-1.537016362845774,-0.08338367129457505,-0.2142211275967988,-0.9378209276170207,-0.6815547301708351,-0.8552378052823102,-0.1484952070387059,-1.4145757942280957,-0.366902467981607,0.9217146167090984,1.3107705120296753,-0.7798058588406078,0.6927152044770846,0.27715215900653895,-0.6773501227910225,-0.39772212572225923,-0.9327902138961053,-1.5359943716946074,0.05265840173276143,-0.49077067967105015,0.46340928236261036,-2.2641201459935885,-0.39308652349632045,1.072805319475322,-0.7246309842420298,-1.7363183613206394,1.8964187758108288,-0.6087390744568856,-2.70414795296228,-1.65510169490042,0.6659266357370712,0.21563454907328639,0.9058385938958805,0.5298879363128568,2.2882030650566865,-0.3654187398433885,-0.8223437056703111,-1.1960008750849571,0.998214927884022,-0.8224011627610441,-0.6283770556295083,-0.4566048300151653,-0.1673684778572825,1.2086066242166869,1.271826220581654,0.8480941150195749,0.40288423807506885,0.029759689383405466,-0.5287908721090397,-0.6426181955756219,-1.2020398873408829,-0.902931701935573,0.7725336591758999,-1.0785659218318133,0.6226481271010155,1.731907502841091,-0.9405026151070189,-0.3371830830297367,-0.19216251774875798,0.3868122511782008,0.37115889539592906],\"xaxis\":\"x6\",\"yaxis\":\"y6\",\"type\":\"histogram\"},{\"line\":{\"color\":\"rgba(128, 128, 128, 1.0)\",\"dash\":\"solid\",\"shape\":\"linear\",\"width\":1.3},\"marker\":{\"size\":2,\"symbol\":\"circle\"},\"mode\":\"markers\",\"name\":\"B\",\"text\":\"\",\"x\":[0.11188606649864456,1.7384324435143512,0.7411783758165015,-1.134095288548804,-0.13978384630778978,0.45966943166620244,0.26208060757254736,-1.5750049328830449,-0.6873202542711845,1.229722054790922,-0.3589095067650245,-0.3036513793617774,0.030964419656719068,0.32952058361271086,-0.74180912679076,0.4129505422640841,0.25136825144020564,-0.1892431255482168,-0.8385645582584667,-0.7244996453511477,1.3842433824495262,0.8145838377017431,1.2057246266423924,-0.11377891471384399,-1.301995696305911,-0.12408305144141546,0.7972087763890217,-0.3298086170526748,-1.7337299706648197,1.8775348535262644,1.1781034811155568,-1.7494345037785481,0.2550145380827633,-1.025057129671358,-0.8307196830358982,1.093544626869134,-0.5217359278699902,-1.0686475237170552,0.8346540684791645,-0.43526467711297295,0.016804925831642222,-0.6746869155107326,-0.47577923773771547,0.6086333158571583,0.39569125694490775,0.3385377346583987,-0.39816391427088854,0.9144302212751345,-0.49487396712516185,-0.7204383730392193,-0.25002946200764264,-1.2923272733883895,0.13452716606098336,0.21239343020783746,0.40880729368726326,-0.6647111367078352,-0.573897092303272,0.08071802410485815,-1.1784561153808597,-1.4039073083889357,-0.9824550831272723,-1.1104512311858905,-0.0675388891499401,1.5896302972777647,-0.9674835668415881,2.105269613749711,0.19327098942325086,-0.6532753378806604,0.4925071970006506,-0.24483409011284854,-0.8062795787140231,-0.29748689619101754,-0.8692195205472738,1.8698985774106767,-0.34001311363803577,-0.2530795103767499,0.5215287563606393,0.5531903613871533,0.9493002206147947,0.5858860866488199,1.6645290391869938,1.3086798998198044,-0.7123947909279804,-1.9441280838596608,-0.17426003420455827,-0.19787798400913428,-0.5393386456031131,-0.3595785651388336,-0.6483160628789227,1.5102643471308423,0.7295689328149944,1.8322379618323328,0.2146047463183736,2.014848773552964,-0.4341850197495636,-0.6941338402393462,0.4275854395338668,0.03522318096973601,-0.6904890822679948,-0.870310904162906],\"xaxis\":\"x7\",\"y\":[1.8869774144646363,-0.15178939659604912,0.49273651175711186,-1.323250063279204,-1.3096082803841553,-1.3849349027148277,1.156638863289787,-0.9517605210106179,0.4107021866605751,0.03405599860229291,2.082439060515147,-0.6632141972130775,0.5541718312078655,0.19367068612461416,2.260149093720149,-1.2259061103880828,-0.7895331423494181,0.7662518068681965,1.0247551473290297,1.6578485874276878,0.3833380944296906,0.9354852173085542,1.201005381289398,1.9991827012969507,-0.6687087204962803,-0.2889780327683993,-1.1867862695251132,0.21882396000194415,1.2349522356979719,-2.2700863402085885,0.21154465034024256,-2.0375384753026133,-0.27323895036263013,-0.5022346822859977,1.3981296300065187,-0.7808568466240103,0.07384353772811302,0.8108562614778606,0.26004090339418573,-1.537016362845774,-0.08338367129457505,-0.2142211275967988,-0.9378209276170207,-0.6815547301708351,-0.8552378052823102,-0.1484952070387059,-1.4145757942280957,-0.366902467981607,0.9217146167090984,1.3107705120296753,-0.7798058588406078,0.6927152044770846,0.27715215900653895,-0.6773501227910225,-0.39772212572225923,-0.9327902138961053,-1.5359943716946074,0.05265840173276143,-0.49077067967105015,0.46340928236261036,-2.2641201459935885,-0.39308652349632045,1.072805319475322,-0.7246309842420298,-1.7363183613206394,1.8964187758108288,-0.6087390744568856,-2.70414795296228,-1.65510169490042,0.6659266357370712,0.21563454907328639,0.9058385938958805,0.5298879363128568,2.2882030650566865,-0.3654187398433885,-0.8223437056703111,-1.1960008750849571,0.998214927884022,-0.8224011627610441,-0.6283770556295083,-0.4566048300151653,-0.1673684778572825,1.2086066242166869,1.271826220581654,0.8480941150195749,0.40288423807506885,0.029759689383405466,-0.5287908721090397,-0.6426181955756219,-1.2020398873408829,-0.902931701935573,0.7725336591758999,-1.0785659218318133,0.6226481271010155,1.731907502841091,-0.9405026151070189,-0.3371830830297367,-0.19216251774875798,0.3868122511782008,0.37115889539592906],\"yaxis\":\"y7\",\"type\":\"scatter\"},{\"line\":{\"color\":\"rgba(128, 128, 128, 1.0)\",\"dash\":\"solid\",\"shape\":\"linear\",\"width\":1.3},\"marker\":{\"size\":2,\"symbol\":\"circle\"},\"mode\":\"markers\",\"name\":\"B\",\"text\":\"\",\"x\":[0.1685619554964778,-0.7609713134670092,-0.1466291331614804,-0.17895122979561642,0.7103539681639598,0.13613499440340865,-0.7900812551010931,-2.1094858303536745,0.8282184367124654,-0.1667964143098475,0.2329432156428893,0.3883465602934885,-1.0570794346727133,0.6038165115527561,0.22446091159813772,1.5903436762468897,1.1057501702113481,-0.0459004078076437,-2.6688849913407404,-1.6284289534076863,-1.4382209345617447,-1.1065887166962687,-1.0543488375800996,-0.9803331317572557,-0.1269174708958654,-0.014895192809223396,1.3861535293001108,-0.5965642668884196,-0.8200078845696744,0.5411127966578304,0.009367283932259633,0.7811046363388392,-0.5757711561487673,0.18631716453602434,1.31206986719528,1.639772636147107,0.052072269921768596,0.0622396876165819,0.8393371720057833,0.9376379312812728,-0.08537153787936122,0.22527849967135527,-0.7108608218906617,1.0090577578693813,0.07871380364730061,0.8959713114573067,0.4804707958371496,1.3076685758953284,0.8841176853412923,-1.262565894253411,-0.6294736082052231,-0.25670734117002647,1.6679991572837634,0.7965976101721943,-1.1516641384680215,1.587013396990483,-0.13937771647758937,-1.381540318280786,0.9454369560727496,-0.030341796327105226,0.6317697074786647,-0.5542059267250673,-0.15011765676895186,0.07535310303914053,0.813300008357076,-0.1481891191612101,1.2736588787640575,-1.887827003992407,1.26173935652071,0.9375533288617565,0.6678368508309261,-0.6233544862394212,-0.5664886241981897,1.9163796399082142,0.596173384002522,0.276139877578304,-0.4316942967573185,0.030156655493353425,0.5256703255952115,-1.0250935604230056,-0.872799244717213,0.2918088653854339,-0.35071954690697527,0.8526336802569473,0.8770460259892877,1.986194606036595,0.3343071442662588,-0.5315121792270513,-0.5505079792326428,0.35284647133767666,-1.360312751804368,0.9100973405782463,0.28661857724025086,1.4362653862009387,0.6854020354942629,1.9451401087928437,-0.49015836446964395,0.9427821631400048,0.31591243519429074,-0.1061078372545824],\"xaxis\":\"x8\",\"y\":[1.8869774144646363,-0.15178939659604912,0.49273651175711186,-1.323250063279204,-1.3096082803841553,-1.3849349027148277,1.156638863289787,-0.9517605210106179,0.4107021866605751,0.03405599860229291,2.082439060515147,-0.6632141972130775,0.5541718312078655,0.19367068612461416,2.260149093720149,-1.2259061103880828,-0.7895331423494181,0.7662518068681965,1.0247551473290297,1.6578485874276878,0.3833380944296906,0.9354852173085542,1.201005381289398,1.9991827012969507,-0.6687087204962803,-0.2889780327683993,-1.1867862695251132,0.21882396000194415,1.2349522356979719,-2.2700863402085885,0.21154465034024256,-2.0375384753026133,-0.27323895036263013,-0.5022346822859977,1.3981296300065187,-0.7808568466240103,0.07384353772811302,0.8108562614778606,0.26004090339418573,-1.537016362845774,-0.08338367129457505,-0.2142211275967988,-0.9378209276170207,-0.6815547301708351,-0.8552378052823102,-0.1484952070387059,-1.4145757942280957,-0.366902467981607,0.9217146167090984,1.3107705120296753,-0.7798058588406078,0.6927152044770846,0.27715215900653895,-0.6773501227910225,-0.39772212572225923,-0.9327902138961053,-1.5359943716946074,0.05265840173276143,-0.49077067967105015,0.46340928236261036,-2.2641201459935885,-0.39308652349632045,1.072805319475322,-0.7246309842420298,-1.7363183613206394,1.8964187758108288,-0.6087390744568856,-2.70414795296228,-1.65510169490042,0.6659266357370712,0.21563454907328639,0.9058385938958805,0.5298879363128568,2.2882030650566865,-0.3654187398433885,-0.8223437056703111,-1.1960008750849571,0.998214927884022,-0.8224011627610441,-0.6283770556295083,-0.4566048300151653,-0.1673684778572825,1.2086066242166869,1.271826220581654,0.8480941150195749,0.40288423807506885,0.029759689383405466,-0.5287908721090397,-0.6426181955756219,-1.2020398873408829,-0.902931701935573,0.7725336591758999,-1.0785659218318133,0.6226481271010155,1.731907502841091,-0.9405026151070189,-0.3371830830297367,-0.19216251774875798,0.3868122511782008,0.37115889539592906],\"yaxis\":\"y8\",\"type\":\"scatter\"},{\"line\":{\"color\":\"rgba(128, 128, 128, 1.0)\",\"dash\":\"solid\",\"shape\":\"linear\",\"width\":1.3},\"marker\":{\"size\":2,\"symbol\":\"circle\"},\"mode\":\"markers\",\"name\":\"C\",\"text\":\"\",\"x\":[1.1808861104858086,-1.009315475834072,2.1010267597285734,-1.2761110614656328,2.1355984367483503,0.45187550757489103,0.35575837216877865,-0.33192853903028824,0.16555430091279025,2.0939392840659474,3.3046262093131764,0.8016652198144762,-0.08064663403209753,-0.2894576343328641,-0.6353852627420068,0.06915412092097081,0.972353162345244,-0.4226617370851711,0.44457415032163833,1.9306320625284974,0.862768413234945,-0.07436503288404975,-1.3075425798831994,0.07488233835490188,-0.5383693570233857,-1.150895491288997,-0.644601767843179,-0.3003701225679646,-0.6768652099919864,0.21410544574864887,0.5950296396184611,0.26973044921773104,-0.7010536597606614,-1.3488991119769904,0.5735052483541746,0.116911756060154,-1.384243153289476,-1.5122147482705393,-2.0490427795777326,-0.47086463185893823,-1.7115532738390293,-0.41926538769302296,0.6342347447608379,1.0524544462265217,0.27116119274636,-0.6327759017672793,-0.2381293131326908,-1.560007071354141,0.3564002971081718,-0.7431653691129735,0.021248317242468076,-0.6171074244097834,-0.7287550072634262,1.1115975878346898,-0.0264973903468035,-0.39998035014100297,0.17090679907552722,0.7704465470894409,1.3645508989608082,0.2736827452554336,0.9458706409895032,-2.039392752696324,0.05308215087500142,-1.4223150595751306,-0.32401077448582954,-1.4858113454908572,-1.3260796336088796,1.2980796587223302,0.7718502322874692,0.4027364328411132,-0.12487684581340935,-0.3734360479494493,-0.004287553825357087,-0.6221945153849893,0.18712560869775033,-0.8542025277225092,0.2605274316144155,0.8065865657559427,0.8892694273074893,-0.11438673646857235,-0.4124256111912983,0.362764158444993,0.17788406981146257,0.25232389432641744,-0.7612788204072456,0.5135316958636523,1.76093782929227,-0.23332353476080336,-0.963431849581975,0.4370139219460403,-1.5530042663990145,0.01358618685162266,1.1281240398709063,-0.41511661847317877,0.2844084545138961,0.07062579562964151,0.77115342742805,-1.2748891258557924,0.7651414902457511,1.5399719990359306],\"xaxis\":\"x9\",\"y\":[0.11188606649864456,1.7384324435143512,0.7411783758165015,-1.134095288548804,-0.13978384630778978,0.45966943166620244,0.26208060757254736,-1.5750049328830449,-0.6873202542711845,1.229722054790922,-0.3589095067650245,-0.3036513793617774,0.030964419656719068,0.32952058361271086,-0.74180912679076,0.4129505422640841,0.25136825144020564,-0.1892431255482168,-0.8385645582584667,-0.7244996453511477,1.3842433824495262,0.8145838377017431,1.2057246266423924,-0.11377891471384399,-1.301995696305911,-0.12408305144141546,0.7972087763890217,-0.3298086170526748,-1.7337299706648197,1.8775348535262644,1.1781034811155568,-1.7494345037785481,0.2550145380827633,-1.025057129671358,-0.8307196830358982,1.093544626869134,-0.5217359278699902,-1.0686475237170552,0.8346540684791645,-0.43526467711297295,0.016804925831642222,-0.6746869155107326,-0.47577923773771547,0.6086333158571583,0.39569125694490775,0.3385377346583987,-0.39816391427088854,0.9144302212751345,-0.49487396712516185,-0.7204383730392193,-0.25002946200764264,-1.2923272733883895,0.13452716606098336,0.21239343020783746,0.40880729368726326,-0.6647111367078352,-0.573897092303272,0.08071802410485815,-1.1784561153808597,-1.4039073083889357,-0.9824550831272723,-1.1104512311858905,-0.0675388891499401,1.5896302972777647,-0.9674835668415881,2.105269613749711,0.19327098942325086,-0.6532753378806604,0.4925071970006506,-0.24483409011284854,-0.8062795787140231,-0.29748689619101754,-0.8692195205472738,1.8698985774106767,-0.34001311363803577,-0.2530795103767499,0.5215287563606393,0.5531903613871533,0.9493002206147947,0.5858860866488199,1.6645290391869938,1.3086798998198044,-0.7123947909279804,-1.9441280838596608,-0.17426003420455827,-0.19787798400913428,-0.5393386456031131,-0.3595785651388336,-0.6483160628789227,1.5102643471308423,0.7295689328149944,1.8322379618323328,0.2146047463183736,2.014848773552964,-0.4341850197495636,-0.6941338402393462,0.4275854395338668,0.03522318096973601,-0.6904890822679948,-0.870310904162906],\"yaxis\":\"y9\",\"type\":\"scatter\"},{\"line\":{\"color\":\"rgba(128, 128, 128, 1.0)\",\"dash\":\"solid\",\"shape\":\"linear\",\"width\":1.3},\"marker\":{\"size\":2,\"symbol\":\"circle\"},\"mode\":\"markers\",\"name\":\"C\",\"text\":\"\",\"x\":[1.8869774144646363,-0.15178939659604912,0.49273651175711186,-1.323250063279204,-1.3096082803841553,-1.3849349027148277,1.156638863289787,-0.9517605210106179,0.4107021866605751,0.03405599860229291,2.082439060515147,-0.6632141972130775,0.5541718312078655,0.19367068612461416,2.260149093720149,-1.2259061103880828,-0.7895331423494181,0.7662518068681965,1.0247551473290297,1.6578485874276878,0.3833380944296906,0.9354852173085542,1.201005381289398,1.9991827012969507,-0.6687087204962803,-0.2889780327683993,-1.1867862695251132,0.21882396000194415,1.2349522356979719,-2.2700863402085885,0.21154465034024256,-2.0375384753026133,-0.27323895036263013,-0.5022346822859977,1.3981296300065187,-0.7808568466240103,0.07384353772811302,0.8108562614778606,0.26004090339418573,-1.537016362845774,-0.08338367129457505,-0.2142211275967988,-0.9378209276170207,-0.6815547301708351,-0.8552378052823102,-0.1484952070387059,-1.4145757942280957,-0.366902467981607,0.9217146167090984,1.3107705120296753,-0.7798058588406078,0.6927152044770846,0.27715215900653895,-0.6773501227910225,-0.39772212572225923,-0.9327902138961053,-1.5359943716946074,0.05265840173276143,-0.49077067967105015,0.46340928236261036,-2.2641201459935885,-0.39308652349632045,1.072805319475322,-0.7246309842420298,-1.7363183613206394,1.8964187758108288,-0.6087390744568856,-2.70414795296228,-1.65510169490042,0.6659266357370712,0.21563454907328639,0.9058385938958805,0.5298879363128568,2.2882030650566865,-0.3654187398433885,-0.8223437056703111,-1.1960008750849571,0.998214927884022,-0.8224011627610441,-0.6283770556295083,-0.4566048300151653,-0.1673684778572825,1.2086066242166869,1.271826220581654,0.8480941150195749,0.40288423807506885,0.029759689383405466,-0.5287908721090397,-0.6426181955756219,-1.2020398873408829,-0.902931701935573,0.7725336591758999,-1.0785659218318133,0.6226481271010155,1.731907502841091,-0.9405026151070189,-0.3371830830297367,-0.19216251774875798,0.3868122511782008,0.37115889539592906],\"xaxis\":\"x10\",\"y\":[0.11188606649864456,1.7384324435143512,0.7411783758165015,-1.134095288548804,-0.13978384630778978,0.45966943166620244,0.26208060757254736,-1.5750049328830449,-0.6873202542711845,1.229722054790922,-0.3589095067650245,-0.3036513793617774,0.030964419656719068,0.32952058361271086,-0.74180912679076,0.4129505422640841,0.25136825144020564,-0.1892431255482168,-0.8385645582584667,-0.7244996453511477,1.3842433824495262,0.8145838377017431,1.2057246266423924,-0.11377891471384399,-1.301995696305911,-0.12408305144141546,0.7972087763890217,-0.3298086170526748,-1.7337299706648197,1.8775348535262644,1.1781034811155568,-1.7494345037785481,0.2550145380827633,-1.025057129671358,-0.8307196830358982,1.093544626869134,-0.5217359278699902,-1.0686475237170552,0.8346540684791645,-0.43526467711297295,0.016804925831642222,-0.6746869155107326,-0.47577923773771547,0.6086333158571583,0.39569125694490775,0.3385377346583987,-0.39816391427088854,0.9144302212751345,-0.49487396712516185,-0.7204383730392193,-0.25002946200764264,-1.2923272733883895,0.13452716606098336,0.21239343020783746,0.40880729368726326,-0.6647111367078352,-0.573897092303272,0.08071802410485815,-1.1784561153808597,-1.4039073083889357,-0.9824550831272723,-1.1104512311858905,-0.0675388891499401,1.5896302972777647,-0.9674835668415881,2.105269613749711,0.19327098942325086,-0.6532753378806604,0.4925071970006506,-0.24483409011284854,-0.8062795787140231,-0.29748689619101754,-0.8692195205472738,1.8698985774106767,-0.34001311363803577,-0.2530795103767499,0.5215287563606393,0.5531903613871533,0.9493002206147947,0.5858860866488199,1.6645290391869938,1.3086798998198044,-0.7123947909279804,-1.9441280838596608,-0.17426003420455827,-0.19787798400913428,-0.5393386456031131,-0.3595785651388336,-0.6483160628789227,1.5102643471308423,0.7295689328149944,1.8322379618323328,0.2146047463183736,2.014848773552964,-0.4341850197495636,-0.6941338402393462,0.4275854395338668,0.03522318096973601,-0.6904890822679948,-0.870310904162906],\"yaxis\":\"y10\",\"type\":\"scatter\"},{\"histfunc\":\"count\",\"histnorm\":\"\",\"marker\":{\"color\":\"rgba(50, 171, 96, 1.0)\",\"line\":{\"color\":\"#4D5663\",\"width\":1.3}},\"name\":\"C\",\"nbinsx\":10,\"opacity\":0.8,\"orientation\":\"v\",\"x\":[0.11188606649864456,1.7384324435143512,0.7411783758165015,-1.134095288548804,-0.13978384630778978,0.45966943166620244,0.26208060757254736,-1.5750049328830449,-0.6873202542711845,1.229722054790922,-0.3589095067650245,-0.3036513793617774,0.030964419656719068,0.32952058361271086,-0.74180912679076,0.4129505422640841,0.25136825144020564,-0.1892431255482168,-0.8385645582584667,-0.7244996453511477,1.3842433824495262,0.8145838377017431,1.2057246266423924,-0.11377891471384399,-1.301995696305911,-0.12408305144141546,0.7972087763890217,-0.3298086170526748,-1.7337299706648197,1.8775348535262644,1.1781034811155568,-1.7494345037785481,0.2550145380827633,-1.025057129671358,-0.8307196830358982,1.093544626869134,-0.5217359278699902,-1.0686475237170552,0.8346540684791645,-0.43526467711297295,0.016804925831642222,-0.6746869155107326,-0.47577923773771547,0.6086333158571583,0.39569125694490775,0.3385377346583987,-0.39816391427088854,0.9144302212751345,-0.49487396712516185,-0.7204383730392193,-0.25002946200764264,-1.2923272733883895,0.13452716606098336,0.21239343020783746,0.40880729368726326,-0.6647111367078352,-0.573897092303272,0.08071802410485815,-1.1784561153808597,-1.4039073083889357,-0.9824550831272723,-1.1104512311858905,-0.0675388891499401,1.5896302972777647,-0.9674835668415881,2.105269613749711,0.19327098942325086,-0.6532753378806604,0.4925071970006506,-0.24483409011284854,-0.8062795787140231,-0.29748689619101754,-0.8692195205472738,1.8698985774106767,-0.34001311363803577,-0.2530795103767499,0.5215287563606393,0.5531903613871533,0.9493002206147947,0.5858860866488199,1.6645290391869938,1.3086798998198044,-0.7123947909279804,-1.9441280838596608,-0.17426003420455827,-0.19787798400913428,-0.5393386456031131,-0.3595785651388336,-0.6483160628789227,1.5102643471308423,0.7295689328149944,1.8322379618323328,0.2146047463183736,2.014848773552964,-0.4341850197495636,-0.6941338402393462,0.4275854395338668,0.03522318096973601,-0.6904890822679948,-0.870310904162906],\"xaxis\":\"x11\",\"yaxis\":\"y11\",\"type\":\"histogram\"},{\"line\":{\"color\":\"rgba(128, 128, 128, 1.0)\",\"dash\":\"solid\",\"shape\":\"linear\",\"width\":1.3},\"marker\":{\"size\":2,\"symbol\":\"circle\"},\"mode\":\"markers\",\"name\":\"C\",\"text\":\"\",\"x\":[0.1685619554964778,-0.7609713134670092,-0.1466291331614804,-0.17895122979561642,0.7103539681639598,0.13613499440340865,-0.7900812551010931,-2.1094858303536745,0.8282184367124654,-0.1667964143098475,0.2329432156428893,0.3883465602934885,-1.0570794346727133,0.6038165115527561,0.22446091159813772,1.5903436762468897,1.1057501702113481,-0.0459004078076437,-2.6688849913407404,-1.6284289534076863,-1.4382209345617447,-1.1065887166962687,-1.0543488375800996,-0.9803331317572557,-0.1269174708958654,-0.014895192809223396,1.3861535293001108,-0.5965642668884196,-0.8200078845696744,0.5411127966578304,0.009367283932259633,0.7811046363388392,-0.5757711561487673,0.18631716453602434,1.31206986719528,1.639772636147107,0.052072269921768596,0.0622396876165819,0.8393371720057833,0.9376379312812728,-0.08537153787936122,0.22527849967135527,-0.7108608218906617,1.0090577578693813,0.07871380364730061,0.8959713114573067,0.4804707958371496,1.3076685758953284,0.8841176853412923,-1.262565894253411,-0.6294736082052231,-0.25670734117002647,1.6679991572837634,0.7965976101721943,-1.1516641384680215,1.587013396990483,-0.13937771647758937,-1.381540318280786,0.9454369560727496,-0.030341796327105226,0.6317697074786647,-0.5542059267250673,-0.15011765676895186,0.07535310303914053,0.813300008357076,-0.1481891191612101,1.2736588787640575,-1.887827003992407,1.26173935652071,0.9375533288617565,0.6678368508309261,-0.6233544862394212,-0.5664886241981897,1.9163796399082142,0.596173384002522,0.276139877578304,-0.4316942967573185,0.030156655493353425,0.5256703255952115,-1.0250935604230056,-0.872799244717213,0.2918088653854339,-0.35071954690697527,0.8526336802569473,0.8770460259892877,1.986194606036595,0.3343071442662588,-0.5315121792270513,-0.5505079792326428,0.35284647133767666,-1.360312751804368,0.9100973405782463,0.28661857724025086,1.4362653862009387,0.6854020354942629,1.9451401087928437,-0.49015836446964395,0.9427821631400048,0.31591243519429074,-0.1061078372545824],\"xaxis\":\"x12\",\"y\":[0.11188606649864456,1.7384324435143512,0.7411783758165015,-1.134095288548804,-0.13978384630778978,0.45966943166620244,0.26208060757254736,-1.5750049328830449,-0.6873202542711845,1.229722054790922,-0.3589095067650245,-0.3036513793617774,0.030964419656719068,0.32952058361271086,-0.74180912679076,0.4129505422640841,0.25136825144020564,-0.1892431255482168,-0.8385645582584667,-0.7244996453511477,1.3842433824495262,0.8145838377017431,1.2057246266423924,-0.11377891471384399,-1.301995696305911,-0.12408305144141546,0.7972087763890217,-0.3298086170526748,-1.7337299706648197,1.8775348535262644,1.1781034811155568,-1.7494345037785481,0.2550145380827633,-1.025057129671358,-0.8307196830358982,1.093544626869134,-0.5217359278699902,-1.0686475237170552,0.8346540684791645,-0.43526467711297295,0.016804925831642222,-0.6746869155107326,-0.47577923773771547,0.6086333158571583,0.39569125694490775,0.3385377346583987,-0.39816391427088854,0.9144302212751345,-0.49487396712516185,-0.7204383730392193,-0.25002946200764264,-1.2923272733883895,0.13452716606098336,0.21239343020783746,0.40880729368726326,-0.6647111367078352,-0.573897092303272,0.08071802410485815,-1.1784561153808597,-1.4039073083889357,-0.9824550831272723,-1.1104512311858905,-0.0675388891499401,1.5896302972777647,-0.9674835668415881,2.105269613749711,0.19327098942325086,-0.6532753378806604,0.4925071970006506,-0.24483409011284854,-0.8062795787140231,-0.29748689619101754,-0.8692195205472738,1.8698985774106767,-0.34001311363803577,-0.2530795103767499,0.5215287563606393,0.5531903613871533,0.9493002206147947,0.5858860866488199,1.6645290391869938,1.3086798998198044,-0.7123947909279804,-1.9441280838596608,-0.17426003420455827,-0.19787798400913428,-0.5393386456031131,-0.3595785651388336,-0.6483160628789227,1.5102643471308423,0.7295689328149944,1.8322379618323328,0.2146047463183736,2.014848773552964,-0.4341850197495636,-0.6941338402393462,0.4275854395338668,0.03522318096973601,-0.6904890822679948,-0.870310904162906],\"yaxis\":\"y12\",\"type\":\"scatter\"},{\"line\":{\"color\":\"rgba(128, 128, 128, 1.0)\",\"dash\":\"solid\",\"shape\":\"linear\",\"width\":1.3},\"marker\":{\"size\":2,\"symbol\":\"circle\"},\"mode\":\"markers\",\"name\":\"D\",\"text\":\"\",\"x\":[1.1808861104858086,-1.009315475834072,2.1010267597285734,-1.2761110614656328,2.1355984367483503,0.45187550757489103,0.35575837216877865,-0.33192853903028824,0.16555430091279025,2.0939392840659474,3.3046262093131764,0.8016652198144762,-0.08064663403209753,-0.2894576343328641,-0.6353852627420068,0.06915412092097081,0.972353162345244,-0.4226617370851711,0.44457415032163833,1.9306320625284974,0.862768413234945,-0.07436503288404975,-1.3075425798831994,0.07488233835490188,-0.5383693570233857,-1.150895491288997,-0.644601767843179,-0.3003701225679646,-0.6768652099919864,0.21410544574864887,0.5950296396184611,0.26973044921773104,-0.7010536597606614,-1.3488991119769904,0.5735052483541746,0.116911756060154,-1.384243153289476,-1.5122147482705393,-2.0490427795777326,-0.47086463185893823,-1.7115532738390293,-0.41926538769302296,0.6342347447608379,1.0524544462265217,0.27116119274636,-0.6327759017672793,-0.2381293131326908,-1.560007071354141,0.3564002971081718,-0.7431653691129735,0.021248317242468076,-0.6171074244097834,-0.7287550072634262,1.1115975878346898,-0.0264973903468035,-0.39998035014100297,0.17090679907552722,0.7704465470894409,1.3645508989608082,0.2736827452554336,0.9458706409895032,-2.039392752696324,0.05308215087500142,-1.4223150595751306,-0.32401077448582954,-1.4858113454908572,-1.3260796336088796,1.2980796587223302,0.7718502322874692,0.4027364328411132,-0.12487684581340935,-0.3734360479494493,-0.004287553825357087,-0.6221945153849893,0.18712560869775033,-0.8542025277225092,0.2605274316144155,0.8065865657559427,0.8892694273074893,-0.11438673646857235,-0.4124256111912983,0.362764158444993,0.17788406981146257,0.25232389432641744,-0.7612788204072456,0.5135316958636523,1.76093782929227,-0.23332353476080336,-0.963431849581975,0.4370139219460403,-1.5530042663990145,0.01358618685162266,1.1281240398709063,-0.41511661847317877,0.2844084545138961,0.07062579562964151,0.77115342742805,-1.2748891258557924,0.7651414902457511,1.5399719990359306],\"xaxis\":\"x13\",\"y\":[0.1685619554964778,-0.7609713134670092,-0.1466291331614804,-0.17895122979561642,0.7103539681639598,0.13613499440340865,-0.7900812551010931,-2.1094858303536745,0.8282184367124654,-0.1667964143098475,0.2329432156428893,0.3883465602934885,-1.0570794346727133,0.6038165115527561,0.22446091159813772,1.5903436762468897,1.1057501702113481,-0.0459004078076437,-2.6688849913407404,-1.6284289534076863,-1.4382209345617447,-1.1065887166962687,-1.0543488375800996,-0.9803331317572557,-0.1269174708958654,-0.014895192809223396,1.3861535293001108,-0.5965642668884196,-0.8200078845696744,0.5411127966578304,0.009367283932259633,0.7811046363388392,-0.5757711561487673,0.18631716453602434,1.31206986719528,1.639772636147107,0.052072269921768596,0.0622396876165819,0.8393371720057833,0.9376379312812728,-0.08537153787936122,0.22527849967135527,-0.7108608218906617,1.0090577578693813,0.07871380364730061,0.8959713114573067,0.4804707958371496,1.3076685758953284,0.8841176853412923,-1.262565894253411,-0.6294736082052231,-0.25670734117002647,1.6679991572837634,0.7965976101721943,-1.1516641384680215,1.587013396990483,-0.13937771647758937,-1.381540318280786,0.9454369560727496,-0.030341796327105226,0.6317697074786647,-0.5542059267250673,-0.15011765676895186,0.07535310303914053,0.813300008357076,-0.1481891191612101,1.2736588787640575,-1.887827003992407,1.26173935652071,0.9375533288617565,0.6678368508309261,-0.6233544862394212,-0.5664886241981897,1.9163796399082142,0.596173384002522,0.276139877578304,-0.4316942967573185,0.030156655493353425,0.5256703255952115,-1.0250935604230056,-0.872799244717213,0.2918088653854339,-0.35071954690697527,0.8526336802569473,0.8770460259892877,1.986194606036595,0.3343071442662588,-0.5315121792270513,-0.5505079792326428,0.35284647133767666,-1.360312751804368,0.9100973405782463,0.28661857724025086,1.4362653862009387,0.6854020354942629,1.9451401087928437,-0.49015836446964395,0.9427821631400048,0.31591243519429074,-0.1061078372545824],\"yaxis\":\"y13\",\"type\":\"scatter\"},{\"line\":{\"color\":\"rgba(128, 128, 128, 1.0)\",\"dash\":\"solid\",\"shape\":\"linear\",\"width\":1.3},\"marker\":{\"size\":2,\"symbol\":\"circle\"},\"mode\":\"markers\",\"name\":\"D\",\"text\":\"\",\"x\":[1.8869774144646363,-0.15178939659604912,0.49273651175711186,-1.323250063279204,-1.3096082803841553,-1.3849349027148277,1.156638863289787,-0.9517605210106179,0.4107021866605751,0.03405599860229291,2.082439060515147,-0.6632141972130775,0.5541718312078655,0.19367068612461416,2.260149093720149,-1.2259061103880828,-0.7895331423494181,0.7662518068681965,1.0247551473290297,1.6578485874276878,0.3833380944296906,0.9354852173085542,1.201005381289398,1.9991827012969507,-0.6687087204962803,-0.2889780327683993,-1.1867862695251132,0.21882396000194415,1.2349522356979719,-2.2700863402085885,0.21154465034024256,-2.0375384753026133,-0.27323895036263013,-0.5022346822859977,1.3981296300065187,-0.7808568466240103,0.07384353772811302,0.8108562614778606,0.26004090339418573,-1.537016362845774,-0.08338367129457505,-0.2142211275967988,-0.9378209276170207,-0.6815547301708351,-0.8552378052823102,-0.1484952070387059,-1.4145757942280957,-0.366902467981607,0.9217146167090984,1.3107705120296753,-0.7798058588406078,0.6927152044770846,0.27715215900653895,-0.6773501227910225,-0.39772212572225923,-0.9327902138961053,-1.5359943716946074,0.05265840173276143,-0.49077067967105015,0.46340928236261036,-2.2641201459935885,-0.39308652349632045,1.072805319475322,-0.7246309842420298,-1.7363183613206394,1.8964187758108288,-0.6087390744568856,-2.70414795296228,-1.65510169490042,0.6659266357370712,0.21563454907328639,0.9058385938958805,0.5298879363128568,2.2882030650566865,-0.3654187398433885,-0.8223437056703111,-1.1960008750849571,0.998214927884022,-0.8224011627610441,-0.6283770556295083,-0.4566048300151653,-0.1673684778572825,1.2086066242166869,1.271826220581654,0.8480941150195749,0.40288423807506885,0.029759689383405466,-0.5287908721090397,-0.6426181955756219,-1.2020398873408829,-0.902931701935573,0.7725336591758999,-1.0785659218318133,0.6226481271010155,1.731907502841091,-0.9405026151070189,-0.3371830830297367,-0.19216251774875798,0.3868122511782008,0.37115889539592906],\"xaxis\":\"x14\",\"y\":[0.1685619554964778,-0.7609713134670092,-0.1466291331614804,-0.17895122979561642,0.7103539681639598,0.13613499440340865,-0.7900812551010931,-2.1094858303536745,0.8282184367124654,-0.1667964143098475,0.2329432156428893,0.3883465602934885,-1.0570794346727133,0.6038165115527561,0.22446091159813772,1.5903436762468897,1.1057501702113481,-0.0459004078076437,-2.6688849913407404,-1.6284289534076863,-1.4382209345617447,-1.1065887166962687,-1.0543488375800996,-0.9803331317572557,-0.1269174708958654,-0.014895192809223396,1.3861535293001108,-0.5965642668884196,-0.8200078845696744,0.5411127966578304,0.009367283932259633,0.7811046363388392,-0.5757711561487673,0.18631716453602434,1.31206986719528,1.639772636147107,0.052072269921768596,0.0622396876165819,0.8393371720057833,0.9376379312812728,-0.08537153787936122,0.22527849967135527,-0.7108608218906617,1.0090577578693813,0.07871380364730061,0.8959713114573067,0.4804707958371496,1.3076685758953284,0.8841176853412923,-1.262565894253411,-0.6294736082052231,-0.25670734117002647,1.6679991572837634,0.7965976101721943,-1.1516641384680215,1.587013396990483,-0.13937771647758937,-1.381540318280786,0.9454369560727496,-0.030341796327105226,0.6317697074786647,-0.5542059267250673,-0.15011765676895186,0.07535310303914053,0.813300008357076,-0.1481891191612101,1.2736588787640575,-1.887827003992407,1.26173935652071,0.9375533288617565,0.6678368508309261,-0.6233544862394212,-0.5664886241981897,1.9163796399082142,0.596173384002522,0.276139877578304,-0.4316942967573185,0.030156655493353425,0.5256703255952115,-1.0250935604230056,-0.872799244717213,0.2918088653854339,-0.35071954690697527,0.8526336802569473,0.8770460259892877,1.986194606036595,0.3343071442662588,-0.5315121792270513,-0.5505079792326428,0.35284647133767666,-1.360312751804368,0.9100973405782463,0.28661857724025086,1.4362653862009387,0.6854020354942629,1.9451401087928437,-0.49015836446964395,0.9427821631400048,0.31591243519429074,-0.1061078372545824],\"yaxis\":\"y14\",\"type\":\"scatter\"},{\"line\":{\"color\":\"rgba(128, 128, 128, 1.0)\",\"dash\":\"solid\",\"shape\":\"linear\",\"width\":1.3},\"marker\":{\"size\":2,\"symbol\":\"circle\"},\"mode\":\"markers\",\"name\":\"D\",\"text\":\"\",\"x\":[0.11188606649864456,1.7384324435143512,0.7411783758165015,-1.134095288548804,-0.13978384630778978,0.45966943166620244,0.26208060757254736,-1.5750049328830449,-0.6873202542711845,1.229722054790922,-0.3589095067650245,-0.3036513793617774,0.030964419656719068,0.32952058361271086,-0.74180912679076,0.4129505422640841,0.25136825144020564,-0.1892431255482168,-0.8385645582584667,-0.7244996453511477,1.3842433824495262,0.8145838377017431,1.2057246266423924,-0.11377891471384399,-1.301995696305911,-0.12408305144141546,0.7972087763890217,-0.3298086170526748,-1.7337299706648197,1.8775348535262644,1.1781034811155568,-1.7494345037785481,0.2550145380827633,-1.025057129671358,-0.8307196830358982,1.093544626869134,-0.5217359278699902,-1.0686475237170552,0.8346540684791645,-0.43526467711297295,0.016804925831642222,-0.6746869155107326,-0.47577923773771547,0.6086333158571583,0.39569125694490775,0.3385377346583987,-0.39816391427088854,0.9144302212751345,-0.49487396712516185,-0.7204383730392193,-0.25002946200764264,-1.2923272733883895,0.13452716606098336,0.21239343020783746,0.40880729368726326,-0.6647111367078352,-0.573897092303272,0.08071802410485815,-1.1784561153808597,-1.4039073083889357,-0.9824550831272723,-1.1104512311858905,-0.0675388891499401,1.5896302972777647,-0.9674835668415881,2.105269613749711,0.19327098942325086,-0.6532753378806604,0.4925071970006506,-0.24483409011284854,-0.8062795787140231,-0.29748689619101754,-0.8692195205472738,1.8698985774106767,-0.34001311363803577,-0.2530795103767499,0.5215287563606393,0.5531903613871533,0.9493002206147947,0.5858860866488199,1.6645290391869938,1.3086798998198044,-0.7123947909279804,-1.9441280838596608,-0.17426003420455827,-0.19787798400913428,-0.5393386456031131,-0.3595785651388336,-0.6483160628789227,1.5102643471308423,0.7295689328149944,1.8322379618323328,0.2146047463183736,2.014848773552964,-0.4341850197495636,-0.6941338402393462,0.4275854395338668,0.03522318096973601,-0.6904890822679948,-0.870310904162906],\"xaxis\":\"x15\",\"y\":[0.1685619554964778,-0.7609713134670092,-0.1466291331614804,-0.17895122979561642,0.7103539681639598,0.13613499440340865,-0.7900812551010931,-2.1094858303536745,0.8282184367124654,-0.1667964143098475,0.2329432156428893,0.3883465602934885,-1.0570794346727133,0.6038165115527561,0.22446091159813772,1.5903436762468897,1.1057501702113481,-0.0459004078076437,-2.6688849913407404,-1.6284289534076863,-1.4382209345617447,-1.1065887166962687,-1.0543488375800996,-0.9803331317572557,-0.1269174708958654,-0.014895192809223396,1.3861535293001108,-0.5965642668884196,-0.8200078845696744,0.5411127966578304,0.009367283932259633,0.7811046363388392,-0.5757711561487673,0.18631716453602434,1.31206986719528,1.639772636147107,0.052072269921768596,0.0622396876165819,0.8393371720057833,0.9376379312812728,-0.08537153787936122,0.22527849967135527,-0.7108608218906617,1.0090577578693813,0.07871380364730061,0.8959713114573067,0.4804707958371496,1.3076685758953284,0.8841176853412923,-1.262565894253411,-0.6294736082052231,-0.25670734117002647,1.6679991572837634,0.7965976101721943,-1.1516641384680215,1.587013396990483,-0.13937771647758937,-1.381540318280786,0.9454369560727496,-0.030341796327105226,0.6317697074786647,-0.5542059267250673,-0.15011765676895186,0.07535310303914053,0.813300008357076,-0.1481891191612101,1.2736588787640575,-1.887827003992407,1.26173935652071,0.9375533288617565,0.6678368508309261,-0.6233544862394212,-0.5664886241981897,1.9163796399082142,0.596173384002522,0.276139877578304,-0.4316942967573185,0.030156655493353425,0.5256703255952115,-1.0250935604230056,-0.872799244717213,0.2918088653854339,-0.35071954690697527,0.8526336802569473,0.8770460259892877,1.986194606036595,0.3343071442662588,-0.5315121792270513,-0.5505079792326428,0.35284647133767666,-1.360312751804368,0.9100973405782463,0.28661857724025086,1.4362653862009387,0.6854020354942629,1.9451401087928437,-0.49015836446964395,0.9427821631400048,0.31591243519429074,-0.1061078372545824],\"yaxis\":\"y15\",\"type\":\"scatter\"},{\"histfunc\":\"count\",\"histnorm\":\"\",\"marker\":{\"color\":\"rgba(128, 0, 128, 1.0)\",\"line\":{\"color\":\"#4D5663\",\"width\":1.3}},\"name\":\"D\",\"nbinsx\":10,\"opacity\":0.8,\"orientation\":\"v\",\"x\":[0.1685619554964778,-0.7609713134670092,-0.1466291331614804,-0.17895122979561642,0.7103539681639598,0.13613499440340865,-0.7900812551010931,-2.1094858303536745,0.8282184367124654,-0.1667964143098475,0.2329432156428893,0.3883465602934885,-1.0570794346727133,0.6038165115527561,0.22446091159813772,1.5903436762468897,1.1057501702113481,-0.0459004078076437,-2.6688849913407404,-1.6284289534076863,-1.4382209345617447,-1.1065887166962687,-1.0543488375800996,-0.9803331317572557,-0.1269174708958654,-0.014895192809223396,1.3861535293001108,-0.5965642668884196,-0.8200078845696744,0.5411127966578304,0.009367283932259633,0.7811046363388392,-0.5757711561487673,0.18631716453602434,1.31206986719528,1.639772636147107,0.052072269921768596,0.0622396876165819,0.8393371720057833,0.9376379312812728,-0.08537153787936122,0.22527849967135527,-0.7108608218906617,1.0090577578693813,0.07871380364730061,0.8959713114573067,0.4804707958371496,1.3076685758953284,0.8841176853412923,-1.262565894253411,-0.6294736082052231,-0.25670734117002647,1.6679991572837634,0.7965976101721943,-1.1516641384680215,1.587013396990483,-0.13937771647758937,-1.381540318280786,0.9454369560727496,-0.030341796327105226,0.6317697074786647,-0.5542059267250673,-0.15011765676895186,0.07535310303914053,0.813300008357076,-0.1481891191612101,1.2736588787640575,-1.887827003992407,1.26173935652071,0.9375533288617565,0.6678368508309261,-0.6233544862394212,-0.5664886241981897,1.9163796399082142,0.596173384002522,0.276139877578304,-0.4316942967573185,0.030156655493353425,0.5256703255952115,-1.0250935604230056,-0.872799244717213,0.2918088653854339,-0.35071954690697527,0.8526336802569473,0.8770460259892877,1.986194606036595,0.3343071442662588,-0.5315121792270513,-0.5505079792326428,0.35284647133767666,-1.360312751804368,0.9100973405782463,0.28661857724025086,1.4362653862009387,0.6854020354942629,1.9451401087928437,-0.49015836446964395,0.9427821631400048,0.31591243519429074,-0.1061078372545824],\"xaxis\":\"x16\",\"yaxis\":\"y16\",\"type\":\"histogram\"}],                        {\"bargap\":0.02,\"legend\":{\"bgcolor\":\"#F5F6F9\",\"font\":{\"color\":\"#4D5663\"}},\"paper_bgcolor\":\"#F5F6F9\",\"plot_bgcolor\":\"#F5F6F9\",\"showlegend\":false,\"template\":{\"data\":{\"barpolar\":[{\"marker\":{\"line\":{\"color\":\"#E5ECF6\",\"width\":0.5},\"pattern\":{\"fillmode\":\"overlay\",\"size\":10,\"solidity\":0.2}},\"type\":\"barpolar\"}],\"bar\":[{\"error_x\":{\"color\":\"#2a3f5f\"},\"error_y\":{\"color\":\"#2a3f5f\"},\"marker\":{\"line\":{\"color\":\"#E5ECF6\",\"width\":0.5},\"pattern\":{\"fillmode\":\"overlay\",\"size\":10,\"solidity\":0.2}},\"type\":\"bar\"}],\"carpet\":[{\"aaxis\":{\"endlinecolor\":\"#2a3f5f\",\"gridcolor\":\"white\",\"linecolor\":\"white\",\"minorgridcolor\":\"white\",\"startlinecolor\":\"#2a3f5f\"},\"baxis\":{\"endlinecolor\":\"#2a3f5f\",\"gridcolor\":\"white\",\"linecolor\":\"white\",\"minorgridcolor\":\"white\",\"startlinecolor\":\"#2a3f5f\"},\"type\":\"carpet\"}],\"choropleth\":[{\"colorbar\":{\"outlinewidth\":0,\"ticks\":\"\"},\"type\":\"choropleth\"}],\"contourcarpet\":[{\"colorbar\":{\"outlinewidth\":0,\"ticks\":\"\"},\"type\":\"contourcarpet\"}],\"contour\":[{\"colorbar\":{\"outlinewidth\":0,\"ticks\":\"\"},\"colorscale\":[[0.0,\"#0d0887\"],[0.1111111111111111,\"#46039f\"],[0.2222222222222222,\"#7201a8\"],[0.3333333333333333,\"#9c179e\"],[0.4444444444444444,\"#bd3786\"],[0.5555555555555556,\"#d8576b\"],[0.6666666666666666,\"#ed7953\"],[0.7777777777777778,\"#fb9f3a\"],[0.8888888888888888,\"#fdca26\"],[1.0,\"#f0f921\"]],\"type\":\"contour\"}],\"heatmapgl\":[{\"colorbar\":{\"outlinewidth\":0,\"ticks\":\"\"},\"colorscale\":[[0.0,\"#0d0887\"],[0.1111111111111111,\"#46039f\"],[0.2222222222222222,\"#7201a8\"],[0.3333333333333333,\"#9c179e\"],[0.4444444444444444,\"#bd3786\"],[0.5555555555555556,\"#d8576b\"],[0.6666666666666666,\"#ed7953\"],[0.7777777777777778,\"#fb9f3a\"],[0.8888888888888888,\"#fdca26\"],[1.0,\"#f0f921\"]],\"type\":\"heatmapgl\"}],\"heatmap\":[{\"colorbar\":{\"outlinewidth\":0,\"ticks\":\"\"},\"colorscale\":[[0.0,\"#0d0887\"],[0.1111111111111111,\"#46039f\"],[0.2222222222222222,\"#7201a8\"],[0.3333333333333333,\"#9c179e\"],[0.4444444444444444,\"#bd3786\"],[0.5555555555555556,\"#d8576b\"],[0.6666666666666666,\"#ed7953\"],[0.7777777777777778,\"#fb9f3a\"],[0.8888888888888888,\"#fdca26\"],[1.0,\"#f0f921\"]],\"type\":\"heatmap\"}],\"histogram2dcontour\":[{\"colorbar\":{\"outlinewidth\":0,\"ticks\":\"\"},\"colorscale\":[[0.0,\"#0d0887\"],[0.1111111111111111,\"#46039f\"],[0.2222222222222222,\"#7201a8\"],[0.3333333333333333,\"#9c179e\"],[0.4444444444444444,\"#bd3786\"],[0.5555555555555556,\"#d8576b\"],[0.6666666666666666,\"#ed7953\"],[0.7777777777777778,\"#fb9f3a\"],[0.8888888888888888,\"#fdca26\"],[1.0,\"#f0f921\"]],\"type\":\"histogram2dcontour\"}],\"histogram2d\":[{\"colorbar\":{\"outlinewidth\":0,\"ticks\":\"\"},\"colorscale\":[[0.0,\"#0d0887\"],[0.1111111111111111,\"#46039f\"],[0.2222222222222222,\"#7201a8\"],[0.3333333333333333,\"#9c179e\"],[0.4444444444444444,\"#bd3786\"],[0.5555555555555556,\"#d8576b\"],[0.6666666666666666,\"#ed7953\"],[0.7777777777777778,\"#fb9f3a\"],[0.8888888888888888,\"#fdca26\"],[1.0,\"#f0f921\"]],\"type\":\"histogram2d\"}],\"histogram\":[{\"marker\":{\"pattern\":{\"fillmode\":\"overlay\",\"size\":10,\"solidity\":0.2}},\"type\":\"histogram\"}],\"mesh3d\":[{\"colorbar\":{\"outlinewidth\":0,\"ticks\":\"\"},\"type\":\"mesh3d\"}],\"parcoords\":[{\"line\":{\"colorbar\":{\"outlinewidth\":0,\"ticks\":\"\"}},\"type\":\"parcoords\"}],\"pie\":[{\"automargin\":true,\"type\":\"pie\"}],\"scatter3d\":[{\"line\":{\"colorbar\":{\"outlinewidth\":0,\"ticks\":\"\"}},\"marker\":{\"colorbar\":{\"outlinewidth\":0,\"ticks\":\"\"}},\"type\":\"scatter3d\"}],\"scattercarpet\":[{\"marker\":{\"colorbar\":{\"outlinewidth\":0,\"ticks\":\"\"}},\"type\":\"scattercarpet\"}],\"scattergeo\":[{\"marker\":{\"colorbar\":{\"outlinewidth\":0,\"ticks\":\"\"}},\"type\":\"scattergeo\"}],\"scattergl\":[{\"marker\":{\"colorbar\":{\"outlinewidth\":0,\"ticks\":\"\"}},\"type\":\"scattergl\"}],\"scattermapbox\":[{\"marker\":{\"colorbar\":{\"outlinewidth\":0,\"ticks\":\"\"}},\"type\":\"scattermapbox\"}],\"scatterpolargl\":[{\"marker\":{\"colorbar\":{\"outlinewidth\":0,\"ticks\":\"\"}},\"type\":\"scatterpolargl\"}],\"scatterpolar\":[{\"marker\":{\"colorbar\":{\"outlinewidth\":0,\"ticks\":\"\"}},\"type\":\"scatterpolar\"}],\"scatter\":[{\"fillpattern\":{\"fillmode\":\"overlay\",\"size\":10,\"solidity\":0.2},\"type\":\"scatter\"}],\"scatterternary\":[{\"marker\":{\"colorbar\":{\"outlinewidth\":0,\"ticks\":\"\"}},\"type\":\"scatterternary\"}],\"surface\":[{\"colorbar\":{\"outlinewidth\":0,\"ticks\":\"\"},\"colorscale\":[[0.0,\"#0d0887\"],[0.1111111111111111,\"#46039f\"],[0.2222222222222222,\"#7201a8\"],[0.3333333333333333,\"#9c179e\"],[0.4444444444444444,\"#bd3786\"],[0.5555555555555556,\"#d8576b\"],[0.6666666666666666,\"#ed7953\"],[0.7777777777777778,\"#fb9f3a\"],[0.8888888888888888,\"#fdca26\"],[1.0,\"#f0f921\"]],\"type\":\"surface\"}],\"table\":[{\"cells\":{\"fill\":{\"color\":\"#EBF0F8\"},\"line\":{\"color\":\"white\"}},\"header\":{\"fill\":{\"color\":\"#C8D4E3\"},\"line\":{\"color\":\"white\"}},\"type\":\"table\"}]},\"layout\":{\"annotationdefaults\":{\"arrowcolor\":\"#2a3f5f\",\"arrowhead\":0,\"arrowwidth\":1},\"autotypenumbers\":\"strict\",\"coloraxis\":{\"colorbar\":{\"outlinewidth\":0,\"ticks\":\"\"}},\"colorscale\":{\"diverging\":[[0,\"#8e0152\"],[0.1,\"#c51b7d\"],[0.2,\"#de77ae\"],[0.3,\"#f1b6da\"],[0.4,\"#fde0ef\"],[0.5,\"#f7f7f7\"],[0.6,\"#e6f5d0\"],[0.7,\"#b8e186\"],[0.8,\"#7fbc41\"],[0.9,\"#4d9221\"],[1,\"#276419\"]],\"sequential\":[[0.0,\"#0d0887\"],[0.1111111111111111,\"#46039f\"],[0.2222222222222222,\"#7201a8\"],[0.3333333333333333,\"#9c179e\"],[0.4444444444444444,\"#bd3786\"],[0.5555555555555556,\"#d8576b\"],[0.6666666666666666,\"#ed7953\"],[0.7777777777777778,\"#fb9f3a\"],[0.8888888888888888,\"#fdca26\"],[1.0,\"#f0f921\"]],\"sequentialminus\":[[0.0,\"#0d0887\"],[0.1111111111111111,\"#46039f\"],[0.2222222222222222,\"#7201a8\"],[0.3333333333333333,\"#9c179e\"],[0.4444444444444444,\"#bd3786\"],[0.5555555555555556,\"#d8576b\"],[0.6666666666666666,\"#ed7953\"],[0.7777777777777778,\"#fb9f3a\"],[0.8888888888888888,\"#fdca26\"],[1.0,\"#f0f921\"]]},\"colorway\":[\"#636efa\",\"#EF553B\",\"#00cc96\",\"#ab63fa\",\"#FFA15A\",\"#19d3f3\",\"#FF6692\",\"#B6E880\",\"#FF97FF\",\"#FECB52\"],\"font\":{\"color\":\"#2a3f5f\"},\"geo\":{\"bgcolor\":\"white\",\"lakecolor\":\"white\",\"landcolor\":\"#E5ECF6\",\"showlakes\":true,\"showland\":true,\"subunitcolor\":\"white\"},\"hoverlabel\":{\"align\":\"left\"},\"hovermode\":\"closest\",\"mapbox\":{\"style\":\"light\"},\"paper_bgcolor\":\"white\",\"plot_bgcolor\":\"#E5ECF6\",\"polar\":{\"angularaxis\":{\"gridcolor\":\"white\",\"linecolor\":\"white\",\"ticks\":\"\"},\"bgcolor\":\"#E5ECF6\",\"radialaxis\":{\"gridcolor\":\"white\",\"linecolor\":\"white\",\"ticks\":\"\"}},\"scene\":{\"xaxis\":{\"backgroundcolor\":\"#E5ECF6\",\"gridcolor\":\"white\",\"gridwidth\":2,\"linecolor\":\"white\",\"showbackground\":true,\"ticks\":\"\",\"zerolinecolor\":\"white\"},\"yaxis\":{\"backgroundcolor\":\"#E5ECF6\",\"gridcolor\":\"white\",\"gridwidth\":2,\"linecolor\":\"white\",\"showbackground\":true,\"ticks\":\"\",\"zerolinecolor\":\"white\"},\"zaxis\":{\"backgroundcolor\":\"#E5ECF6\",\"gridcolor\":\"white\",\"gridwidth\":2,\"linecolor\":\"white\",\"showbackground\":true,\"ticks\":\"\",\"zerolinecolor\":\"white\"}},\"shapedefaults\":{\"line\":{\"color\":\"#2a3f5f\"}},\"ternary\":{\"aaxis\":{\"gridcolor\":\"white\",\"linecolor\":\"white\",\"ticks\":\"\"},\"baxis\":{\"gridcolor\":\"white\",\"linecolor\":\"white\",\"ticks\":\"\"},\"bgcolor\":\"#E5ECF6\",\"caxis\":{\"gridcolor\":\"white\",\"linecolor\":\"white\",\"ticks\":\"\"}},\"title\":{\"x\":0.05},\"xaxis\":{\"automargin\":true,\"gridcolor\":\"white\",\"linecolor\":\"white\",\"ticks\":\"\",\"title\":{\"standoff\":15},\"zerolinecolor\":\"white\",\"zerolinewidth\":2},\"yaxis\":{\"automargin\":true,\"gridcolor\":\"white\",\"linecolor\":\"white\",\"ticks\":\"\",\"title\":{\"standoff\":15},\"zerolinecolor\":\"white\",\"zerolinewidth\":2}}},\"title\":{\"font\":{\"color\":\"#4D5663\"}},\"xaxis\":{\"anchor\":\"y\",\"domain\":[0.0,0.2125],\"gridcolor\":\"#E1E5ED\",\"showgrid\":false,\"tickfont\":{\"color\":\"#4D5663\"},\"title\":{\"font\":{\"color\":\"#4D5663\"},\"text\":\"\"},\"zerolinecolor\":\"#E1E5ED\"},\"yaxis\":{\"anchor\":\"x\",\"domain\":[0.8025,1.0],\"gridcolor\":\"#E1E5ED\",\"showgrid\":false,\"tickfont\":{\"color\":\"#4D5663\"},\"title\":{\"font\":{\"color\":\"#4D5663\"},\"text\":\"\"},\"zerolinecolor\":\"#E1E5ED\"},\"xaxis2\":{\"anchor\":\"y2\",\"domain\":[0.2625,0.475],\"gridcolor\":\"#E1E5ED\",\"showgrid\":false,\"tickfont\":{\"color\":\"#4D5663\"},\"title\":{\"font\":{\"color\":\"#4D5663\"},\"text\":\"\"},\"zerolinecolor\":\"#E1E5ED\"},\"yaxis2\":{\"anchor\":\"x2\",\"domain\":[0.8025,1.0],\"gridcolor\":\"#E1E5ED\",\"showgrid\":false,\"tickfont\":{\"color\":\"#4D5663\"},\"title\":{\"font\":{\"color\":\"#4D5663\"},\"text\":\"\"},\"zerolinecolor\":\"#E1E5ED\"},\"xaxis3\":{\"anchor\":\"y3\",\"domain\":[0.525,0.7375],\"gridcolor\":\"#E1E5ED\",\"showgrid\":false,\"tickfont\":{\"color\":\"#4D5663\"},\"title\":{\"font\":{\"color\":\"#4D5663\"},\"text\":\"\"},\"zerolinecolor\":\"#E1E5ED\"},\"yaxis3\":{\"anchor\":\"x3\",\"domain\":[0.8025,1.0],\"gridcolor\":\"#E1E5ED\",\"showgrid\":false,\"tickfont\":{\"color\":\"#4D5663\"},\"title\":{\"font\":{\"color\":\"#4D5663\"},\"text\":\"\"},\"zerolinecolor\":\"#E1E5ED\"},\"xaxis4\":{\"anchor\":\"y4\",\"domain\":[0.7875,1.0],\"gridcolor\":\"#E1E5ED\",\"showgrid\":false,\"tickfont\":{\"color\":\"#4D5663\"},\"title\":{\"font\":{\"color\":\"#4D5663\"},\"text\":\"\"},\"zerolinecolor\":\"#E1E5ED\"},\"yaxis4\":{\"anchor\":\"x4\",\"domain\":[0.8025,1.0],\"gridcolor\":\"#E1E5ED\",\"showgrid\":false,\"tickfont\":{\"color\":\"#4D5663\"},\"title\":{\"font\":{\"color\":\"#4D5663\"},\"text\":\"\"},\"zerolinecolor\":\"#E1E5ED\"},\"xaxis5\":{\"anchor\":\"y5\",\"domain\":[0.0,0.2125],\"gridcolor\":\"#E1E5ED\",\"showgrid\":false,\"tickfont\":{\"color\":\"#4D5663\"},\"title\":{\"font\":{\"color\":\"#4D5663\"},\"text\":\"\"},\"zerolinecolor\":\"#E1E5ED\"},\"yaxis5\":{\"anchor\":\"x5\",\"domain\":[0.535,0.7325],\"gridcolor\":\"#E1E5ED\",\"showgrid\":false,\"tickfont\":{\"color\":\"#4D5663\"},\"title\":{\"font\":{\"color\":\"#4D5663\"},\"text\":\"\"},\"zerolinecolor\":\"#E1E5ED\"},\"xaxis6\":{\"anchor\":\"y6\",\"domain\":[0.2625,0.475],\"gridcolor\":\"#E1E5ED\",\"showgrid\":false,\"tickfont\":{\"color\":\"#4D5663\"},\"title\":{\"font\":{\"color\":\"#4D5663\"},\"text\":\"\"},\"zerolinecolor\":\"#E1E5ED\"},\"yaxis6\":{\"anchor\":\"x6\",\"domain\":[0.535,0.7325],\"gridcolor\":\"#E1E5ED\",\"showgrid\":false,\"tickfont\":{\"color\":\"#4D5663\"},\"title\":{\"font\":{\"color\":\"#4D5663\"},\"text\":\"\"},\"zerolinecolor\":\"#E1E5ED\"},\"xaxis7\":{\"anchor\":\"y7\",\"domain\":[0.525,0.7375],\"gridcolor\":\"#E1E5ED\",\"showgrid\":false,\"tickfont\":{\"color\":\"#4D5663\"},\"title\":{\"font\":{\"color\":\"#4D5663\"},\"text\":\"\"},\"zerolinecolor\":\"#E1E5ED\"},\"yaxis7\":{\"anchor\":\"x7\",\"domain\":[0.535,0.7325],\"gridcolor\":\"#E1E5ED\",\"showgrid\":false,\"tickfont\":{\"color\":\"#4D5663\"},\"title\":{\"font\":{\"color\":\"#4D5663\"},\"text\":\"\"},\"zerolinecolor\":\"#E1E5ED\"},\"xaxis8\":{\"anchor\":\"y8\",\"domain\":[0.7875,1.0],\"gridcolor\":\"#E1E5ED\",\"showgrid\":false,\"tickfont\":{\"color\":\"#4D5663\"},\"title\":{\"font\":{\"color\":\"#4D5663\"},\"text\":\"\"},\"zerolinecolor\":\"#E1E5ED\"},\"yaxis8\":{\"anchor\":\"x8\",\"domain\":[0.535,0.7325],\"gridcolor\":\"#E1E5ED\",\"showgrid\":false,\"tickfont\":{\"color\":\"#4D5663\"},\"title\":{\"font\":{\"color\":\"#4D5663\"},\"text\":\"\"},\"zerolinecolor\":\"#E1E5ED\"},\"xaxis9\":{\"anchor\":\"y9\",\"domain\":[0.0,0.2125],\"gridcolor\":\"#E1E5ED\",\"showgrid\":false,\"tickfont\":{\"color\":\"#4D5663\"},\"title\":{\"font\":{\"color\":\"#4D5663\"},\"text\":\"\"},\"zerolinecolor\":\"#E1E5ED\"},\"yaxis9\":{\"anchor\":\"x9\",\"domain\":[0.2675,0.465],\"gridcolor\":\"#E1E5ED\",\"showgrid\":false,\"tickfont\":{\"color\":\"#4D5663\"},\"title\":{\"font\":{\"color\":\"#4D5663\"},\"text\":\"\"},\"zerolinecolor\":\"#E1E5ED\"},\"xaxis10\":{\"anchor\":\"y10\",\"domain\":[0.2625,0.475],\"gridcolor\":\"#E1E5ED\",\"showgrid\":false,\"tickfont\":{\"color\":\"#4D5663\"},\"title\":{\"font\":{\"color\":\"#4D5663\"},\"text\":\"\"},\"zerolinecolor\":\"#E1E5ED\"},\"yaxis10\":{\"anchor\":\"x10\",\"domain\":[0.2675,0.465],\"gridcolor\":\"#E1E5ED\",\"showgrid\":false,\"tickfont\":{\"color\":\"#4D5663\"},\"title\":{\"font\":{\"color\":\"#4D5663\"},\"text\":\"\"},\"zerolinecolor\":\"#E1E5ED\"},\"xaxis11\":{\"anchor\":\"y11\",\"domain\":[0.525,0.7375],\"gridcolor\":\"#E1E5ED\",\"showgrid\":false,\"tickfont\":{\"color\":\"#4D5663\"},\"title\":{\"font\":{\"color\":\"#4D5663\"},\"text\":\"\"},\"zerolinecolor\":\"#E1E5ED\"},\"yaxis11\":{\"anchor\":\"x11\",\"domain\":[0.2675,0.465],\"gridcolor\":\"#E1E5ED\",\"showgrid\":false,\"tickfont\":{\"color\":\"#4D5663\"},\"title\":{\"font\":{\"color\":\"#4D5663\"},\"text\":\"\"},\"zerolinecolor\":\"#E1E5ED\"},\"xaxis12\":{\"anchor\":\"y12\",\"domain\":[0.7875,1.0],\"gridcolor\":\"#E1E5ED\",\"showgrid\":false,\"tickfont\":{\"color\":\"#4D5663\"},\"title\":{\"font\":{\"color\":\"#4D5663\"},\"text\":\"\"},\"zerolinecolor\":\"#E1E5ED\"},\"yaxis12\":{\"anchor\":\"x12\",\"domain\":[0.2675,0.465],\"gridcolor\":\"#E1E5ED\",\"showgrid\":false,\"tickfont\":{\"color\":\"#4D5663\"},\"title\":{\"font\":{\"color\":\"#4D5663\"},\"text\":\"\"},\"zerolinecolor\":\"#E1E5ED\"},\"xaxis13\":{\"anchor\":\"y13\",\"domain\":[0.0,0.2125],\"gridcolor\":\"#E1E5ED\",\"showgrid\":false,\"tickfont\":{\"color\":\"#4D5663\"},\"title\":{\"font\":{\"color\":\"#4D5663\"},\"text\":\"\"},\"zerolinecolor\":\"#E1E5ED\"},\"yaxis13\":{\"anchor\":\"x13\",\"domain\":[0.0,0.1975],\"gridcolor\":\"#E1E5ED\",\"showgrid\":false,\"tickfont\":{\"color\":\"#4D5663\"},\"title\":{\"font\":{\"color\":\"#4D5663\"},\"text\":\"\"},\"zerolinecolor\":\"#E1E5ED\"},\"xaxis14\":{\"anchor\":\"y14\",\"domain\":[0.2625,0.475],\"gridcolor\":\"#E1E5ED\",\"showgrid\":false,\"tickfont\":{\"color\":\"#4D5663\"},\"title\":{\"font\":{\"color\":\"#4D5663\"},\"text\":\"\"},\"zerolinecolor\":\"#E1E5ED\"},\"yaxis14\":{\"anchor\":\"x14\",\"domain\":[0.0,0.1975],\"gridcolor\":\"#E1E5ED\",\"showgrid\":false,\"tickfont\":{\"color\":\"#4D5663\"},\"title\":{\"font\":{\"color\":\"#4D5663\"},\"text\":\"\"},\"zerolinecolor\":\"#E1E5ED\"},\"xaxis15\":{\"anchor\":\"y15\",\"domain\":[0.525,0.7375],\"gridcolor\":\"#E1E5ED\",\"showgrid\":false,\"tickfont\":{\"color\":\"#4D5663\"},\"title\":{\"font\":{\"color\":\"#4D5663\"},\"text\":\"\"},\"zerolinecolor\":\"#E1E5ED\"},\"yaxis15\":{\"anchor\":\"x15\",\"domain\":[0.0,0.1975],\"gridcolor\":\"#E1E5ED\",\"showgrid\":false,\"tickfont\":{\"color\":\"#4D5663\"},\"title\":{\"font\":{\"color\":\"#4D5663\"},\"text\":\"\"},\"zerolinecolor\":\"#E1E5ED\"},\"xaxis16\":{\"anchor\":\"y16\",\"domain\":[0.7875,1.0],\"gridcolor\":\"#E1E5ED\",\"showgrid\":false,\"tickfont\":{\"color\":\"#4D5663\"},\"title\":{\"font\":{\"color\":\"#4D5663\"},\"text\":\"\"},\"zerolinecolor\":\"#E1E5ED\"},\"yaxis16\":{\"anchor\":\"x16\",\"domain\":[0.0,0.1975],\"gridcolor\":\"#E1E5ED\",\"showgrid\":false,\"tickfont\":{\"color\":\"#4D5663\"},\"title\":{\"font\":{\"color\":\"#4D5663\"},\"text\":\"\"},\"zerolinecolor\":\"#E1E5ED\"}},                        {\"showLink\": true, \"linkText\": \"Export to plot.ly\", \"plotlyServerURL\": \"https://plot.ly\", \"responsive\": true}                    ).then(function(){\n",
       "                            \n",
       "var gd = document.getElementById('75349350-5889-4cbe-8205-45e7ab824f69');\n",
       "var x = new MutationObserver(function (mutations, observer) {{\n",
       "        var display = window.getComputedStyle(gd).display;\n",
       "        if (!display || display === 'none') {{\n",
       "            console.log([gd, 'removed!']);\n",
       "            Plotly.purge(gd);\n",
       "            observer.disconnect();\n",
       "        }}\n",
       "}});\n",
       "\n",
       "// Listen for the removal of the full notebook cells\n",
       "var notebookContainer = gd.closest('#notebook-container');\n",
       "if (notebookContainer) {{\n",
       "    x.observe(notebookContainer, {childList: true});\n",
       "}}\n",
       "\n",
       "// Listen for the clearing of the current output cell\n",
       "var outputEl = gd.closest('.output');\n",
       "if (outputEl) {{\n",
       "    x.observe(outputEl, {childList: true});\n",
       "}}\n",
       "\n",
       "                        })                };                });            </script>        </div>"
      ]
     },
     "metadata": {},
     "output_type": "display_data"
    }
   ],
   "source": [
    "df.scatter_matrix()"
   ]
  },
  {
   "cell_type": "markdown",
   "metadata": {
    "collapsed": true
   },
   "source": [
    "# Great Job!"
   ]
  }
 ],
 "metadata": {
  "kernelspec": {
   "display_name": "Python 3.10.7 64-bit",
   "language": "python",
   "name": "python3"
  },
  "language_info": {
   "codemirror_mode": {
    "name": "ipython",
    "version": 3
   },
   "file_extension": ".py",
   "mimetype": "text/x-python",
   "name": "python",
   "nbconvert_exporter": "python",
   "pygments_lexer": "ipython3",
   "version": "3.10.7"
  },
  "vscode": {
   "interpreter": {
    "hash": "fccb755f49fdd8173894c7559b3a441e59c26b9308f6b957edc25f04ac445eda"
   }
  }
 },
 "nbformat": 4,
 "nbformat_minor": 0
}
